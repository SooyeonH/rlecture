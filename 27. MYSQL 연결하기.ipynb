{
 "cells": [
  {
   "cell_type": "markdown",
   "id": "af15d2ea",
   "metadata": {},
   "source": [
    "- Database Name :RSQL\n",
    "- Table Name : score\n",
    "- id,korean,english,mathematics\n",
    "\n",
    "- Anaconda Navigator\n",
    "- rJava, RMySQL 설치하기"
   ]
  },
  {
   "cell_type": "code",
   "execution_count": 1,
   "id": "c33b1505",
   "metadata": {},
   "outputs": [
    {
     "name": "stderr",
     "output_type": "stream",
     "text": [
      "Loading required package: DBI\n"
     ]
    }
   ],
   "source": [
    "library(RMySQL)"
   ]
  },
  {
   "cell_type": "code",
   "execution_count": 2,
   "id": "c12ae252",
   "metadata": {},
   "outputs": [],
   "source": [
    "# DB Connection\n",
    "\n",
    "conn <- dbConnect(MySQL(),\n",
    "                  dbname='RSQL',\n",
    "                  user ='root',\n",
    "                  password='qwer1234',\n",
    "                  host=\"127.0.0.1\"\n",
    ")"
   ]
  },
  {
   "cell_type": "code",
   "execution_count": 3,
   "id": "2d76f2d1",
   "metadata": {},
   "outputs": [
    {
     "data": {
      "text/html": [
       "'score'"
      ],
      "text/latex": [
       "'score'"
      ],
      "text/markdown": [
       "'score'"
      ],
      "text/plain": [
       "[1] \"score\""
      ]
     },
     "metadata": {},
     "output_type": "display_data"
    }
   ],
   "source": [
    "# 테이블 목록\n",
    "dbListTables(conn)"
   ]
  },
  {
   "cell_type": "code",
   "execution_count": 4,
   "id": "358224e0",
   "metadata": {},
   "outputs": [
    {
     "data": {
      "text/html": [
       "<ol class=list-inline>\n",
       "\t<li>'id'</li>\n",
       "\t<li>'korean'</li>\n",
       "\t<li>'english'</li>\n",
       "\t<li>'mathematics'</li>\n",
       "</ol>\n"
      ],
      "text/latex": [
       "\\begin{enumerate*}\n",
       "\\item 'id'\n",
       "\\item 'korean'\n",
       "\\item 'english'\n",
       "\\item 'mathematics'\n",
       "\\end{enumerate*}\n"
      ],
      "text/markdown": [
       "1. 'id'\n",
       "2. 'korean'\n",
       "3. 'english'\n",
       "4. 'mathematics'\n",
       "\n",
       "\n"
      ],
      "text/plain": [
       "[1] \"id\"          \"korean\"      \"english\"     \"mathematics\""
      ]
     },
     "metadata": {},
     "output_type": "display_data"
    }
   ],
   "source": [
    "# 테이블의 컬럼 목록\n",
    "dbListFields(conn,'score')"
   ]
  },
  {
   "cell_type": "code",
   "execution_count": 5,
   "id": "4bd3ca20",
   "metadata": {},
   "outputs": [
    {
     "data": {
      "text/html": [
       "<table>\n",
       "<thead><tr><th scope=col>count(*)</th></tr></thead>\n",
       "<tbody>\n",
       "\t<tr><td>10</td></tr>\n",
       "</tbody>\n",
       "</table>\n"
      ],
      "text/latex": [
       "\\begin{tabular}{r|l}\n",
       " count(*)\\\\\n",
       "\\hline\n",
       "\t 10\\\\\n",
       "\\end{tabular}\n"
      ],
      "text/markdown": [
       "\n",
       "| count(*) |\n",
       "|---|\n",
       "| 10 |\n",
       "\n"
      ],
      "text/plain": [
       "  count(*)\n",
       "1 10      "
      ]
     },
     "metadata": {},
     "output_type": "display_data"
    }
   ],
   "source": [
    "# Select\n",
    "dbGetQuery(conn,'select count(*)from score')"
   ]
  },
  {
   "cell_type": "code",
   "execution_count": 6,
   "id": "0ca8b204",
   "metadata": {},
   "outputs": [
    {
     "data": {
      "text/html": [
       "<table>\n",
       "<thead><tr><th scope=col>id</th><th scope=col>korean</th><th scope=col>english</th><th scope=col>mathematics</th></tr></thead>\n",
       "<tbody>\n",
       "\t<tr><td> 1 </td><td> 90</td><td> 80</td><td> 70</td></tr>\n",
       "\t<tr><td> 2 </td><td> 90</td><td> 88</td><td> 70</td></tr>\n",
       "\t<tr><td> 3 </td><td> 90</td><td> 89</td><td> 70</td></tr>\n",
       "\t<tr><td> 4 </td><td> 90</td><td> 87</td><td> 70</td></tr>\n",
       "\t<tr><td> 5 </td><td> 90</td><td> 60</td><td> 70</td></tr>\n",
       "\t<tr><td> 6 </td><td>100</td><td>100</td><td>100</td></tr>\n",
       "\t<tr><td> 7 </td><td>100</td><td>100</td><td>100</td></tr>\n",
       "\t<tr><td> 8 </td><td>100</td><td>100</td><td>100</td></tr>\n",
       "\t<tr><td> 9 </td><td>100</td><td>100</td><td>100</td></tr>\n",
       "\t<tr><td>10 </td><td>100</td><td>100</td><td>100</td></tr>\n",
       "</tbody>\n",
       "</table>\n"
      ],
      "text/latex": [
       "\\begin{tabular}{r|llll}\n",
       " id & korean & english & mathematics\\\\\n",
       "\\hline\n",
       "\t  1  &  90 &  80 &  70\\\\\n",
       "\t  2  &  90 &  88 &  70\\\\\n",
       "\t  3  &  90 &  89 &  70\\\\\n",
       "\t  4  &  90 &  87 &  70\\\\\n",
       "\t  5  &  90 &  60 &  70\\\\\n",
       "\t  6  & 100 & 100 & 100\\\\\n",
       "\t  7  & 100 & 100 & 100\\\\\n",
       "\t  8  & 100 & 100 & 100\\\\\n",
       "\t  9  & 100 & 100 & 100\\\\\n",
       "\t 10  & 100 & 100 & 100\\\\\n",
       "\\end{tabular}\n"
      ],
      "text/markdown": [
       "\n",
       "| id | korean | english | mathematics |\n",
       "|---|---|---|---|\n",
       "|  1  |  90 |  80 |  70 |\n",
       "|  2  |  90 |  88 |  70 |\n",
       "|  3  |  90 |  89 |  70 |\n",
       "|  4  |  90 |  87 |  70 |\n",
       "|  5  |  90 |  60 |  70 |\n",
       "|  6  | 100 | 100 | 100 |\n",
       "|  7  | 100 | 100 | 100 |\n",
       "|  8  | 100 | 100 | 100 |\n",
       "|  9  | 100 | 100 | 100 |\n",
       "| 10  | 100 | 100 | 100 |\n",
       "\n"
      ],
      "text/plain": [
       "   id korean english mathematics\n",
       "1   1  90     80      70        \n",
       "2   2  90     88      70        \n",
       "3   3  90     89      70        \n",
       "4   4  90     87      70        \n",
       "5   5  90     60      70        \n",
       "6   6 100    100     100        \n",
       "7   7 100    100     100        \n",
       "8   8 100    100     100        \n",
       "9   9 100    100     100        \n",
       "10 10 100    100     100        "
      ]
     },
     "metadata": {},
     "output_type": "display_data"
    }
   ],
   "source": [
    "dbGetQuery(conn,'select * from score')"
   ]
  },
  {
   "cell_type": "code",
   "execution_count": 7,
   "id": "ab5aa114",
   "metadata": {},
   "outputs": [
    {
     "data": {
      "text/plain": [
       "<MySQLResult:1,0,4>"
      ]
     },
     "metadata": {},
     "output_type": "display_data"
    },
    {
     "data": {
      "text/html": [
       "<table>\n",
       "<thead><tr><th scope=col>id</th><th scope=col>korean</th><th scope=col>english</th><th scope=col>mathematics</th></tr></thead>\n",
       "<tbody>\n",
       "\t<tr><td> 1 </td><td> 90</td><td> 80</td><td> 70</td></tr>\n",
       "\t<tr><td> 2 </td><td> 90</td><td> 88</td><td> 70</td></tr>\n",
       "\t<tr><td> 3 </td><td> 90</td><td> 89</td><td> 70</td></tr>\n",
       "\t<tr><td> 4 </td><td> 90</td><td> 87</td><td> 70</td></tr>\n",
       "\t<tr><td> 5 </td><td> 90</td><td> 60</td><td> 70</td></tr>\n",
       "\t<tr><td> 6 </td><td>100</td><td>100</td><td>100</td></tr>\n",
       "\t<tr><td> 7 </td><td>100</td><td>100</td><td>100</td></tr>\n",
       "\t<tr><td> 8 </td><td>100</td><td>100</td><td>100</td></tr>\n",
       "\t<tr><td> 9 </td><td>100</td><td>100</td><td>100</td></tr>\n",
       "\t<tr><td>10 </td><td>100</td><td>100</td><td>100</td></tr>\n",
       "\t<tr><td> 1 </td><td>100</td><td>100</td><td>100</td></tr>\n",
       "</tbody>\n",
       "</table>\n"
      ],
      "text/latex": [
       "\\begin{tabular}{r|llll}\n",
       " id & korean & english & mathematics\\\\\n",
       "\\hline\n",
       "\t  1  &  90 &  80 &  70\\\\\n",
       "\t  2  &  90 &  88 &  70\\\\\n",
       "\t  3  &  90 &  89 &  70\\\\\n",
       "\t  4  &  90 &  87 &  70\\\\\n",
       "\t  5  &  90 &  60 &  70\\\\\n",
       "\t  6  & 100 & 100 & 100\\\\\n",
       "\t  7  & 100 & 100 & 100\\\\\n",
       "\t  8  & 100 & 100 & 100\\\\\n",
       "\t  9  & 100 & 100 & 100\\\\\n",
       "\t 10  & 100 & 100 & 100\\\\\n",
       "\t  1  & 100 & 100 & 100\\\\\n",
       "\\end{tabular}\n"
      ],
      "text/markdown": [
       "\n",
       "| id | korean | english | mathematics |\n",
       "|---|---|---|---|\n",
       "|  1  |  90 |  80 |  70 |\n",
       "|  2  |  90 |  88 |  70 |\n",
       "|  3  |  90 |  89 |  70 |\n",
       "|  4  |  90 |  87 |  70 |\n",
       "|  5  |  90 |  60 |  70 |\n",
       "|  6  | 100 | 100 | 100 |\n",
       "|  7  | 100 | 100 | 100 |\n",
       "|  8  | 100 | 100 | 100 |\n",
       "|  9  | 100 | 100 | 100 |\n",
       "| 10  | 100 | 100 | 100 |\n",
       "|  1  | 100 | 100 | 100 |\n",
       "\n"
      ],
      "text/plain": [
       "   id korean english mathematics\n",
       "1   1  90     80      70        \n",
       "2   2  90     88      70        \n",
       "3   3  90     89      70        \n",
       "4   4  90     87      70        \n",
       "5   5  90     60      70        \n",
       "6   6 100    100     100        \n",
       "7   7 100    100     100        \n",
       "8   8 100    100     100        \n",
       "9   9 100    100     100        \n",
       "10 10 100    100     100        \n",
       "11  1 100    100     100        "
      ]
     },
     "metadata": {},
     "output_type": "display_data"
    }
   ],
   "source": [
    "# insert\n",
    "dbSendQuery(conn, 'insert into score values(1,100,100,100)')\n",
    "result = dbGetQuery(conn,'select * from score')\n",
    "result\n"
   ]
  },
  {
   "cell_type": "code",
   "execution_count": 8,
   "id": "d50a26bc",
   "metadata": {},
   "outputs": [
    {
     "data": {
      "text/plain": [
       "<MySQLResult:1376030512,0,6>"
      ]
     },
     "metadata": {},
     "output_type": "display_data"
    },
    {
     "data": {
      "text/html": [
       "<table>\n",
       "<thead><tr><th scope=col>id</th><th scope=col>korean</th><th scope=col>english</th><th scope=col>mathematics</th></tr></thead>\n",
       "<tbody>\n",
       "\t<tr><td> 1 </td><td> 90</td><td> 80</td><td> 70</td></tr>\n",
       "\t<tr><td> 2 </td><td> 90</td><td> 88</td><td> 70</td></tr>\n",
       "\t<tr><td> 3 </td><td> 90</td><td> 89</td><td> 70</td></tr>\n",
       "\t<tr><td> 4 </td><td> 90</td><td> 87</td><td> 70</td></tr>\n",
       "\t<tr><td> 5 </td><td> 90</td><td> 60</td><td> 70</td></tr>\n",
       "\t<tr><td> 6 </td><td>100</td><td>100</td><td>100</td></tr>\n",
       "\t<tr><td> 7 </td><td>100</td><td>100</td><td>100</td></tr>\n",
       "\t<tr><td> 8 </td><td>100</td><td>100</td><td>100</td></tr>\n",
       "\t<tr><td> 9 </td><td>100</td><td>100</td><td>100</td></tr>\n",
       "\t<tr><td>10 </td><td>100</td><td>100</td><td>100</td></tr>\n",
       "\t<tr><td> 1 </td><td>100</td><td>100</td><td>100</td></tr>\n",
       "\t<tr><td> 2 </td><td> 90</td><td> 90</td><td> 90</td></tr>\n",
       "</tbody>\n",
       "</table>\n"
      ],
      "text/latex": [
       "\\begin{tabular}{r|llll}\n",
       " id & korean & english & mathematics\\\\\n",
       "\\hline\n",
       "\t  1  &  90 &  80 &  70\\\\\n",
       "\t  2  &  90 &  88 &  70\\\\\n",
       "\t  3  &  90 &  89 &  70\\\\\n",
       "\t  4  &  90 &  87 &  70\\\\\n",
       "\t  5  &  90 &  60 &  70\\\\\n",
       "\t  6  & 100 & 100 & 100\\\\\n",
       "\t  7  & 100 & 100 & 100\\\\\n",
       "\t  8  & 100 & 100 & 100\\\\\n",
       "\t  9  & 100 & 100 & 100\\\\\n",
       "\t 10  & 100 & 100 & 100\\\\\n",
       "\t  1  & 100 & 100 & 100\\\\\n",
       "\t  2  &  90 &  90 &  90\\\\\n",
       "\\end{tabular}\n"
      ],
      "text/markdown": [
       "\n",
       "| id | korean | english | mathematics |\n",
       "|---|---|---|---|\n",
       "|  1  |  90 |  80 |  70 |\n",
       "|  2  |  90 |  88 |  70 |\n",
       "|  3  |  90 |  89 |  70 |\n",
       "|  4  |  90 |  87 |  70 |\n",
       "|  5  |  90 |  60 |  70 |\n",
       "|  6  | 100 | 100 | 100 |\n",
       "|  7  | 100 | 100 | 100 |\n",
       "|  8  | 100 | 100 | 100 |\n",
       "|  9  | 100 | 100 | 100 |\n",
       "| 10  | 100 | 100 | 100 |\n",
       "|  1  | 100 | 100 | 100 |\n",
       "|  2  |  90 |  90 |  90 |\n",
       "\n"
      ],
      "text/plain": [
       "   id korean english mathematics\n",
       "1   1  90     80      70        \n",
       "2   2  90     88      70        \n",
       "3   3  90     89      70        \n",
       "4   4  90     87      70        \n",
       "5   5  90     60      70        \n",
       "6   6 100    100     100        \n",
       "7   7 100    100     100        \n",
       "8   8 100    100     100        \n",
       "9   9 100    100     100        \n",
       "10 10 100    100     100        \n",
       "11  1 100    100     100        \n",
       "12  2  90     90      90        "
      ]
     },
     "metadata": {},
     "output_type": "display_data"
    }
   ],
   "source": [
    "dbSendQuery(conn, 'insert into score values(2,90,90,90)')\n",
    "result = dbGetQuery(conn,'select * from score')\n",
    "result"
   ]
  },
  {
   "cell_type": "code",
   "execution_count": 9,
   "id": "045dca76",
   "metadata": {},
   "outputs": [
    {
     "data": {
      "text/plain": [
       "<MySQLResult:1375817088,0,8>"
      ]
     },
     "metadata": {},
     "output_type": "display_data"
    },
    {
     "data": {
      "text/html": [
       "<table>\n",
       "<thead><tr><th scope=col>id</th><th scope=col>korean</th><th scope=col>english</th><th scope=col>mathematics</th></tr></thead>\n",
       "<tbody>\n",
       "\t<tr><td> 1 </td><td> 90</td><td> 80</td><td> 70</td></tr>\n",
       "\t<tr><td> 2 </td><td> 90</td><td> 80</td><td> 70</td></tr>\n",
       "\t<tr><td> 3 </td><td> 90</td><td> 89</td><td> 70</td></tr>\n",
       "\t<tr><td> 4 </td><td> 90</td><td> 87</td><td> 70</td></tr>\n",
       "\t<tr><td> 5 </td><td> 90</td><td> 60</td><td> 70</td></tr>\n",
       "\t<tr><td> 6 </td><td>100</td><td>100</td><td>100</td></tr>\n",
       "\t<tr><td> 7 </td><td>100</td><td>100</td><td>100</td></tr>\n",
       "\t<tr><td> 8 </td><td>100</td><td>100</td><td>100</td></tr>\n",
       "\t<tr><td> 9 </td><td>100</td><td>100</td><td>100</td></tr>\n",
       "\t<tr><td>10 </td><td>100</td><td>100</td><td>100</td></tr>\n",
       "\t<tr><td> 1 </td><td>100</td><td>100</td><td>100</td></tr>\n",
       "\t<tr><td> 2 </td><td> 90</td><td> 80</td><td> 70</td></tr>\n",
       "</tbody>\n",
       "</table>\n"
      ],
      "text/latex": [
       "\\begin{tabular}{r|llll}\n",
       " id & korean & english & mathematics\\\\\n",
       "\\hline\n",
       "\t  1  &  90 &  80 &  70\\\\\n",
       "\t  2  &  90 &  80 &  70\\\\\n",
       "\t  3  &  90 &  89 &  70\\\\\n",
       "\t  4  &  90 &  87 &  70\\\\\n",
       "\t  5  &  90 &  60 &  70\\\\\n",
       "\t  6  & 100 & 100 & 100\\\\\n",
       "\t  7  & 100 & 100 & 100\\\\\n",
       "\t  8  & 100 & 100 & 100\\\\\n",
       "\t  9  & 100 & 100 & 100\\\\\n",
       "\t 10  & 100 & 100 & 100\\\\\n",
       "\t  1  & 100 & 100 & 100\\\\\n",
       "\t  2  &  90 &  80 &  70\\\\\n",
       "\\end{tabular}\n"
      ],
      "text/markdown": [
       "\n",
       "| id | korean | english | mathematics |\n",
       "|---|---|---|---|\n",
       "|  1  |  90 |  80 |  70 |\n",
       "|  2  |  90 |  80 |  70 |\n",
       "|  3  |  90 |  89 |  70 |\n",
       "|  4  |  90 |  87 |  70 |\n",
       "|  5  |  90 |  60 |  70 |\n",
       "|  6  | 100 | 100 | 100 |\n",
       "|  7  | 100 | 100 | 100 |\n",
       "|  8  | 100 | 100 | 100 |\n",
       "|  9  | 100 | 100 | 100 |\n",
       "| 10  | 100 | 100 | 100 |\n",
       "|  1  | 100 | 100 | 100 |\n",
       "|  2  |  90 |  80 |  70 |\n",
       "\n"
      ],
      "text/plain": [
       "   id korean english mathematics\n",
       "1   1  90     80      70        \n",
       "2   2  90     80      70        \n",
       "3   3  90     89      70        \n",
       "4   4  90     87      70        \n",
       "5   5  90     60      70        \n",
       "6   6 100    100     100        \n",
       "7   7 100    100     100        \n",
       "8   8 100    100     100        \n",
       "9   9 100    100     100        \n",
       "10 10 100    100     100        \n",
       "11  1 100    100     100        \n",
       "12  2  90     80      70        "
      ]
     },
     "metadata": {},
     "output_type": "display_data"
    }
   ],
   "source": [
    "#Update\n",
    "\n",
    "dbSendQuery(conn, 'update score set korean=90, english=80, mathematics=70 where id=2')\n",
    "result = dbGetQuery(conn,'select * from score')\n",
    "result"
   ]
  },
  {
   "cell_type": "code",
   "execution_count": 10,
   "id": "15a74f16",
   "metadata": {},
   "outputs": [
    {
     "data": {
      "text/plain": [
       "<MySQLResult:1469371920,0,10>"
      ]
     },
     "metadata": {},
     "output_type": "display_data"
    },
    {
     "data": {
      "text/html": [
       "<table>\n",
       "<thead><tr><th scope=col>id</th><th scope=col>korean</th><th scope=col>english</th><th scope=col>mathematics</th></tr></thead>\n",
       "<tbody>\n",
       "</tbody>\n",
       "</table>\n"
      ],
      "text/latex": [
       "\\begin{tabular}{r|llll}\n",
       " id & korean & english & mathematics\\\\\n",
       "\\hline\n",
       "\\end{tabular}\n"
      ],
      "text/markdown": [
       "\n",
       "| id | korean | english | mathematics |\n",
       "|---|---|---|---|\n",
       "\n"
      ],
      "text/plain": [
       "     id korean english mathematics"
      ]
     },
     "metadata": {},
     "output_type": "display_data"
    }
   ],
   "source": [
    "#Delete\n",
    "\n",
    "dbSendQuery(conn, 'delete from score')\n",
    "result = dbGetQuery(conn,'select * from score')\n",
    "result"
   ]
  },
  {
   "cell_type": "markdown",
   "id": "ae85e262",
   "metadata": {},
   "source": [
    "### MySQL 에 아래 두줄 적고 실행해야 외부 파일 추가 가능 !!!!!!!!!!!!!\n",
    "SHOW VARIABLES LIKE 'local_infile';   \n",
    "SET GLOBAL local_infile = 1;"
   ]
  },
  {
   "cell_type": "code",
   "execution_count": 11,
   "id": "057d1ddc",
   "metadata": {},
   "outputs": [
    {
     "data": {
      "text/html": [
       "<table>\n",
       "<thead><tr><th scope=col>id</th><th scope=col>korean</th><th scope=col>english</th><th scope=col>mathematics</th></tr></thead>\n",
       "<tbody>\n",
       "\t<tr><td> 1 </td><td> 90</td><td> 80</td><td> 70</td></tr>\n",
       "\t<tr><td> 2 </td><td> 90</td><td> 88</td><td> 70</td></tr>\n",
       "\t<tr><td> 3 </td><td> 90</td><td> 89</td><td> 70</td></tr>\n",
       "\t<tr><td> 4 </td><td> 90</td><td> 87</td><td> 70</td></tr>\n",
       "\t<tr><td> 5 </td><td> 90</td><td> 60</td><td> 70</td></tr>\n",
       "\t<tr><td> 6 </td><td>100</td><td>100</td><td>100</td></tr>\n",
       "\t<tr><td> 7 </td><td>100</td><td>100</td><td>100</td></tr>\n",
       "\t<tr><td> 8 </td><td>100</td><td>100</td><td>100</td></tr>\n",
       "\t<tr><td> 9 </td><td>100</td><td>100</td><td>100</td></tr>\n",
       "\t<tr><td>10 </td><td>100</td><td>100</td><td>100</td></tr>\n",
       "</tbody>\n",
       "</table>\n"
      ],
      "text/latex": [
       "\\begin{tabular}{r|llll}\n",
       " id & korean & english & mathematics\\\\\n",
       "\\hline\n",
       "\t  1  &  90 &  80 &  70\\\\\n",
       "\t  2  &  90 &  88 &  70\\\\\n",
       "\t  3  &  90 &  89 &  70\\\\\n",
       "\t  4  &  90 &  87 &  70\\\\\n",
       "\t  5  &  90 &  60 &  70\\\\\n",
       "\t  6  & 100 & 100 & 100\\\\\n",
       "\t  7  & 100 & 100 & 100\\\\\n",
       "\t  8  & 100 & 100 & 100\\\\\n",
       "\t  9  & 100 & 100 & 100\\\\\n",
       "\t 10  & 100 & 100 & 100\\\\\n",
       "\\end{tabular}\n"
      ],
      "text/markdown": [
       "\n",
       "| id | korean | english | mathematics |\n",
       "|---|---|---|---|\n",
       "|  1  |  90 |  80 |  70 |\n",
       "|  2  |  90 |  88 |  70 |\n",
       "|  3  |  90 |  89 |  70 |\n",
       "|  4  |  90 |  87 |  70 |\n",
       "|  5  |  90 |  60 |  70 |\n",
       "|  6  | 100 | 100 | 100 |\n",
       "|  7  | 100 | 100 | 100 |\n",
       "|  8  | 100 | 100 | 100 |\n",
       "|  9  | 100 | 100 | 100 |\n",
       "| 10  | 100 | 100 | 100 |\n",
       "\n"
      ],
      "text/plain": [
       "   id korean english mathematics\n",
       "1   1  90     80      70        \n",
       "2   2  90     88      70        \n",
       "3   3  90     89      70        \n",
       "4   4  90     87      70        \n",
       "5   5  90     60      70        \n",
       "6   6 100    100     100        \n",
       "7   7 100    100     100        \n",
       "8   8 100    100     100        \n",
       "9   9 100    100     100        \n",
       "10 10 100    100     100        "
      ]
     },
     "metadata": {},
     "output_type": "display_data"
    }
   ],
   "source": [
    "# csv file을 읽어서 MYSQL에 넣기\n",
    "\n",
    "data <- read.csv(\"../Data//score.csv\", header=F)\n",
    "colnames(data) <- c('id','korean','english','mathematics')\n",
    "data"
   ]
  },
  {
   "cell_type": "code",
   "execution_count": 12,
   "id": "6585250c",
   "metadata": {},
   "outputs": [
    {
     "data": {
      "text/html": [
       "TRUE"
      ],
      "text/latex": [
       "TRUE"
      ],
      "text/markdown": [
       "TRUE"
      ],
      "text/plain": [
       "[1] TRUE"
      ]
     },
     "metadata": {},
     "output_type": "display_data"
    }
   ],
   "source": [
    "dbWriteTable(conn,\"score\",data,overwrite=T,row.names=F) #append=T"
   ]
  },
  {
   "cell_type": "code",
   "execution_count": 13,
   "id": "fe0afec5",
   "metadata": {},
   "outputs": [
    {
     "data": {
      "text/html": [
       "<table>\n",
       "<thead><tr><th scope=col>id</th><th scope=col>korean</th><th scope=col>english</th><th scope=col>mathematics</th></tr></thead>\n",
       "<tbody>\n",
       "\t<tr><td> 1 </td><td> 90</td><td> 80</td><td> 70</td></tr>\n",
       "\t<tr><td> 2 </td><td> 90</td><td> 88</td><td> 70</td></tr>\n",
       "\t<tr><td> 3 </td><td> 90</td><td> 89</td><td> 70</td></tr>\n",
       "\t<tr><td> 4 </td><td> 90</td><td> 87</td><td> 70</td></tr>\n",
       "\t<tr><td> 5 </td><td> 90</td><td> 60</td><td> 70</td></tr>\n",
       "\t<tr><td> 6 </td><td>100</td><td>100</td><td>100</td></tr>\n",
       "\t<tr><td> 7 </td><td>100</td><td>100</td><td>100</td></tr>\n",
       "\t<tr><td> 8 </td><td>100</td><td>100</td><td>100</td></tr>\n",
       "\t<tr><td> 9 </td><td>100</td><td>100</td><td>100</td></tr>\n",
       "\t<tr><td>10 </td><td>100</td><td>100</td><td>100</td></tr>\n",
       "</tbody>\n",
       "</table>\n"
      ],
      "text/latex": [
       "\\begin{tabular}{r|llll}\n",
       " id & korean & english & mathematics\\\\\n",
       "\\hline\n",
       "\t  1  &  90 &  80 &  70\\\\\n",
       "\t  2  &  90 &  88 &  70\\\\\n",
       "\t  3  &  90 &  89 &  70\\\\\n",
       "\t  4  &  90 &  87 &  70\\\\\n",
       "\t  5  &  90 &  60 &  70\\\\\n",
       "\t  6  & 100 & 100 & 100\\\\\n",
       "\t  7  & 100 & 100 & 100\\\\\n",
       "\t  8  & 100 & 100 & 100\\\\\n",
       "\t  9  & 100 & 100 & 100\\\\\n",
       "\t 10  & 100 & 100 & 100\\\\\n",
       "\\end{tabular}\n"
      ],
      "text/markdown": [
       "\n",
       "| id | korean | english | mathematics |\n",
       "|---|---|---|---|\n",
       "|  1  |  90 |  80 |  70 |\n",
       "|  2  |  90 |  88 |  70 |\n",
       "|  3  |  90 |  89 |  70 |\n",
       "|  4  |  90 |  87 |  70 |\n",
       "|  5  |  90 |  60 |  70 |\n",
       "|  6  | 100 | 100 | 100 |\n",
       "|  7  | 100 | 100 | 100 |\n",
       "|  8  | 100 | 100 | 100 |\n",
       "|  9  | 100 | 100 | 100 |\n",
       "| 10  | 100 | 100 | 100 |\n",
       "\n"
      ],
      "text/plain": [
       "   id korean english mathematics\n",
       "1   1  90     80      70        \n",
       "2   2  90     88      70        \n",
       "3   3  90     89      70        \n",
       "4   4  90     87      70        \n",
       "5   5  90     60      70        \n",
       "6   6 100    100     100        \n",
       "7   7 100    100     100        \n",
       "8   8 100    100     100        \n",
       "9   9 100    100     100        \n",
       "10 10 100    100     100        "
      ]
     },
     "metadata": {},
     "output_type": "display_data"
    }
   ],
   "source": [
    "result = dbGetQuery(conn,'select * from score')\n",
    "result"
   ]
  },
  {
   "cell_type": "code",
   "execution_count": 14,
   "id": "8428215f",
   "metadata": {},
   "outputs": [
    {
     "name": "stdout",
     "output_type": "stream",
     "text": [
      "'data.frame':\t10 obs. of  4 variables:\n",
      " $ id         : num  1 2 3 4 5 6 7 8 9 10\n",
      " $ korean     : num  90 90 90 90 90 100 100 100 100 100\n",
      " $ english    : num  80 88 89 87 60 100 100 100 100 100\n",
      " $ mathematics: num  70 70 70 70 70 100 100 100 100 100\n"
     ]
    }
   ],
   "source": [
    "str(result)"
   ]
  },
  {
   "cell_type": "code",
   "execution_count": 15,
   "id": "0da43262",
   "metadata": {},
   "outputs": [
    {
     "data": {
      "text/html": [
       "<table>\n",
       "<thead><tr><th scope=col>id</th><th scope=col>korean</th><th scope=col>english</th><th scope=col>mathematics</th></tr></thead>\n",
       "<tbody>\n",
       "\t<tr><td>11</td><td>90</td><td>80</td><td>70</td></tr>\n",
       "\t<tr><td>12</td><td>90</td><td>88</td><td>70</td></tr>\n",
       "</tbody>\n",
       "</table>\n"
      ],
      "text/latex": [
       "\\begin{tabular}{r|llll}\n",
       " id & korean & english & mathematics\\\\\n",
       "\\hline\n",
       "\t 11 & 90 & 80 & 70\\\\\n",
       "\t 12 & 90 & 88 & 70\\\\\n",
       "\\end{tabular}\n"
      ],
      "text/markdown": [
       "\n",
       "| id | korean | english | mathematics |\n",
       "|---|---|---|---|\n",
       "| 11 | 90 | 80 | 70 |\n",
       "| 12 | 90 | 88 | 70 |\n",
       "\n"
      ],
      "text/plain": [
       "  id korean english mathematics\n",
       "1 11 90     80      70         \n",
       "2 12 90     88      70         "
      ]
     },
     "metadata": {},
     "output_type": "display_data"
    }
   ],
   "source": [
    "data2 <- read.csv(\"../Data/score2.csv\", header=F)\n",
    "colnames(data2) <- c('id','korean','english','mathematics')\n",
    "data2"
   ]
  },
  {
   "cell_type": "code",
   "execution_count": 16,
   "id": "8fb603de",
   "metadata": {},
   "outputs": [
    {
     "data": {
      "text/html": [
       "TRUE"
      ],
      "text/latex": [
       "TRUE"
      ],
      "text/markdown": [
       "TRUE"
      ],
      "text/plain": [
       "[1] TRUE"
      ]
     },
     "metadata": {},
     "output_type": "display_data"
    }
   ],
   "source": [
    "dbWriteTable(conn,\"score\",data2,overwrite=F,row.names=F,append=T) #append=T 추가한다는 의미"
   ]
  },
  {
   "cell_type": "code",
   "execution_count": 17,
   "id": "bcc1050c",
   "metadata": {},
   "outputs": [
    {
     "data": {
      "text/html": [
       "<table>\n",
       "<thead><tr><th scope=col>id</th><th scope=col>korean</th><th scope=col>english</th><th scope=col>mathematics</th></tr></thead>\n",
       "<tbody>\n",
       "\t<tr><td> 1 </td><td> 90</td><td> 80</td><td> 70</td></tr>\n",
       "\t<tr><td> 2 </td><td> 90</td><td> 88</td><td> 70</td></tr>\n",
       "\t<tr><td> 3 </td><td> 90</td><td> 89</td><td> 70</td></tr>\n",
       "\t<tr><td> 4 </td><td> 90</td><td> 87</td><td> 70</td></tr>\n",
       "\t<tr><td> 5 </td><td> 90</td><td> 60</td><td> 70</td></tr>\n",
       "\t<tr><td> 6 </td><td>100</td><td>100</td><td>100</td></tr>\n",
       "\t<tr><td> 7 </td><td>100</td><td>100</td><td>100</td></tr>\n",
       "\t<tr><td> 8 </td><td>100</td><td>100</td><td>100</td></tr>\n",
       "\t<tr><td> 9 </td><td>100</td><td>100</td><td>100</td></tr>\n",
       "\t<tr><td>10 </td><td>100</td><td>100</td><td>100</td></tr>\n",
       "\t<tr><td>11 </td><td> 90</td><td> 80</td><td> 70</td></tr>\n",
       "\t<tr><td>12 </td><td> 90</td><td> 88</td><td> 70</td></tr>\n",
       "</tbody>\n",
       "</table>\n"
      ],
      "text/latex": [
       "\\begin{tabular}{r|llll}\n",
       " id & korean & english & mathematics\\\\\n",
       "\\hline\n",
       "\t  1  &  90 &  80 &  70\\\\\n",
       "\t  2  &  90 &  88 &  70\\\\\n",
       "\t  3  &  90 &  89 &  70\\\\\n",
       "\t  4  &  90 &  87 &  70\\\\\n",
       "\t  5  &  90 &  60 &  70\\\\\n",
       "\t  6  & 100 & 100 & 100\\\\\n",
       "\t  7  & 100 & 100 & 100\\\\\n",
       "\t  8  & 100 & 100 & 100\\\\\n",
       "\t  9  & 100 & 100 & 100\\\\\n",
       "\t 10  & 100 & 100 & 100\\\\\n",
       "\t 11  &  90 &  80 &  70\\\\\n",
       "\t 12  &  90 &  88 &  70\\\\\n",
       "\\end{tabular}\n"
      ],
      "text/markdown": [
       "\n",
       "| id | korean | english | mathematics |\n",
       "|---|---|---|---|\n",
       "|  1  |  90 |  80 |  70 |\n",
       "|  2  |  90 |  88 |  70 |\n",
       "|  3  |  90 |  89 |  70 |\n",
       "|  4  |  90 |  87 |  70 |\n",
       "|  5  |  90 |  60 |  70 |\n",
       "|  6  | 100 | 100 | 100 |\n",
       "|  7  | 100 | 100 | 100 |\n",
       "|  8  | 100 | 100 | 100 |\n",
       "|  9  | 100 | 100 | 100 |\n",
       "| 10  | 100 | 100 | 100 |\n",
       "| 11  |  90 |  80 |  70 |\n",
       "| 12  |  90 |  88 |  70 |\n",
       "\n"
      ],
      "text/plain": [
       "   id korean english mathematics\n",
       "1   1  90     80      70        \n",
       "2   2  90     88      70        \n",
       "3   3  90     89      70        \n",
       "4   4  90     87      70        \n",
       "5   5  90     60      70        \n",
       "6   6 100    100     100        \n",
       "7   7 100    100     100        \n",
       "8   8 100    100     100        \n",
       "9   9 100    100     100        \n",
       "10 10 100    100     100        \n",
       "11 11  90     80      70        \n",
       "12 12  90     88      70        "
      ]
     },
     "metadata": {},
     "output_type": "display_data"
    }
   ],
   "source": [
    "result = dbGetQuery(conn,'select * from score')\n",
    "result"
   ]
  },
  {
   "cell_type": "code",
   "execution_count": 18,
   "id": "0b741075",
   "metadata": {},
   "outputs": [
    {
     "data": {
      "text/html": [
       "TRUE"
      ],
      "text/latex": [
       "TRUE"
      ],
      "text/markdown": [
       "TRUE"
      ],
      "text/plain": [
       "[1] TRUE"
      ]
     },
     "metadata": {},
     "output_type": "display_data"
    }
   ],
   "source": [
    "# Disconnect (연결 끊는 거)\n",
    "dbDisconnect(conn)"
   ]
  },
  {
   "cell_type": "code",
   "execution_count": null,
   "id": "d51e33f4",
   "metadata": {},
   "outputs": [],
   "source": []
  }
 ],
 "metadata": {
  "kernelspec": {
   "display_name": "R",
   "language": "R",
   "name": "ir"
  },
  "language_info": {
   "codemirror_mode": "r",
   "file_extension": ".r",
   "mimetype": "text/x-r-source",
   "name": "R",
   "pygments_lexer": "r",
   "version": "3.6.1"
  }
 },
 "nbformat": 4,
 "nbformat_minor": 5
}
