{
 "cells": [
  {
   "cell_type": "code",
   "execution_count": 1,
   "id": "6a5cde90",
   "metadata": {},
   "outputs": [],
   "source": [
    "# Anacondat Navigator 에서 e1071 설치"
   ]
  },
  {
   "cell_type": "code",
   "execution_count": 2,
   "id": "bf95072d",
   "metadata": {},
   "outputs": [
    {
     "name": "stderr",
     "output_type": "stream",
     "text": [
      "Loading required package: lattice\n",
      "Loading required package: ggplot2\n",
      "Registered S3 methods overwritten by 'ggplot2':\n",
      "  method         from \n",
      "  [.quosures     rlang\n",
      "  c.quosures     rlang\n",
      "  print.quosures rlang\n"
     ]
    }
   ],
   "source": [
    "library(e1071)\n",
    "library(caret)\n"
   ]
  },
  {
   "cell_type": "code",
   "execution_count": 3,
   "id": "87e18c4e",
   "metadata": {},
   "outputs": [],
   "source": [
    "# sampling, 학습용, 검증용 만들기\n",
    "iris$Sepal.Length<- scale(iris$Sepal.Length)\n",
    "iris$Sepal.Width<- scale(iris$Sepal.Width)\n",
    "iris$Petal.Length<- scale(iris$Petal.Length)\n",
    "iris$Petal.Width<- scale(iris$Petal.Width)\n",
    "\n",
    "# sampling (데이터가 많으면 p=0.8 써주면 좋음 대부분 0.7 0.75 0.8 많이 씀)\n",
    "# 검증\n",
    "set.seed(1234)\n",
    "samp <- createDataPartition(iris$Species, p=0.7, list=F)\n",
    "\n",
    "#학습용 데이터 만들기\n",
    "data.tr <-iris[samp,]\n",
    "\n",
    "# 검증용 데이터 만들기\n",
    "data.test <-iris[-samp,]"
   ]
  },
  {
   "cell_type": "code",
   "execution_count": 4,
   "id": "0362b79b",
   "metadata": {},
   "outputs": [
    {
     "data": {
      "text/plain": [
       "   Sepal.Length.V1       Sepal.Width.V1      Petal.Length.V1   \n",
       " Min.   :-1.8637803   Min.   :-2.4258204   Min.   :-1.5623422  \n",
       " 1st Qu.:-0.8976739   1st Qu.:-0.5903951   1st Qu.:-1.2224563  \n",
       " Median :-0.0523308   Median :-0.1315388   Median : 0.3353541  \n",
       " Mean   : 0.0000000   Mean   : 0.0000000   Mean   : 0.0000000  \n",
       " 3rd Qu.: 0.6722490   3rd Qu.: 0.5567457   3rd Qu.: 0.7602115  \n",
       " Max.   : 2.4836986   Max.   : 3.0804554   Max.   : 1.7798692  \n",
       "    Petal.Width.V1          Species  \n",
       " Min.   :-1.4422448   setosa    :50  \n",
       " 1st Qu.:-1.1798595   versicolor:50  \n",
       " Median : 0.1320673   virginica :50  \n",
       " Mean   : 0.0000000                  \n",
       " 3rd Qu.: 0.7880307                  \n",
       " Max.   : 1.7063794                  "
      ]
     },
     "metadata": {},
     "output_type": "display_data"
    }
   ],
   "source": [
    "summary(iris)"
   ]
  },
  {
   "cell_type": "code",
   "execution_count": 5,
   "id": "ca5023ba",
   "metadata": {},
   "outputs": [],
   "source": [
    "# 문제와 정답 만들기 \n",
    "x <- subset(data.test, select=-Species)\n",
    "y <- data.test$Species"
   ]
  },
  {
   "cell_type": "code",
   "execution_count": 6,
   "id": "f4723a2d",
   "metadata": {},
   "outputs": [],
   "source": [
    "# 학습시키기\n",
    "model.svm <- svm(Species~.,data=data.tr)"
   ]
  },
  {
   "cell_type": "code",
   "execution_count": 7,
   "id": "201ed0a3",
   "metadata": {},
   "outputs": [
    {
     "data": {
      "text/html": [
       "<dl class=dl-horizontal>\n",
       "\t<dt>1</dt>\n",
       "\t\t<dd>setosa</dd>\n",
       "\t<dt>7</dt>\n",
       "\t\t<dd>setosa</dd>\n",
       "\t<dt>10</dt>\n",
       "\t\t<dd>setosa</dd>\n",
       "\t<dt>11</dt>\n",
       "\t\t<dd>setosa</dd>\n",
       "\t<dt>13</dt>\n",
       "\t\t<dd>setosa</dd>\n",
       "\t<dt>17</dt>\n",
       "\t\t<dd>setosa</dd>\n",
       "</dl>\n",
       "\n",
       "<details>\n",
       "\t<summary style=display:list-item;cursor:pointer>\n",
       "\t\t<strong>Levels</strong>:\n",
       "\t</summary>\n",
       "\t<ol class=list-inline>\n",
       "\t\t<li>'setosa'</li>\n",
       "\t\t<li>'versicolor'</li>\n",
       "\t\t<li>'virginica'</li>\n",
       "\t</ol>\n",
       "</details>"
      ],
      "text/latex": [
       "\\begin{description*}\n",
       "\\item[1] setosa\n",
       "\\item[7] setosa\n",
       "\\item[10] setosa\n",
       "\\item[11] setosa\n",
       "\\item[13] setosa\n",
       "\\item[17] setosa\n",
       "\\end{description*}\n",
       "\n",
       "\\emph{Levels}: \\begin{enumerate*}\n",
       "\\item 'setosa'\n",
       "\\item 'versicolor'\n",
       "\\item 'virginica'\n",
       "\\end{enumerate*}\n"
      ],
      "text/markdown": [
       "1\n",
       ":   setosa7\n",
       ":   setosa10\n",
       ":   setosa11\n",
       ":   setosa13\n",
       ":   setosa17\n",
       ":   setosa\n",
       "\n",
       "\n",
       "**Levels**: 1. 'setosa'\n",
       "2. 'versicolor'\n",
       "3. 'virginica'\n",
       "\n",
       "\n"
      ],
      "text/plain": [
       "     1      7     10     11     13     17 \n",
       "setosa setosa setosa setosa setosa setosa \n",
       "Levels: setosa versicolor virginica"
      ]
     },
     "metadata": {},
     "output_type": "display_data"
    }
   ],
   "source": [
    "# 검증\n",
    "pred <- predict(model.svm,x, type=\"class\") # class : 분류된것(객관식) , raw: 주관식\n",
    "head(pred)"
   ]
  },
  {
   "cell_type": "code",
   "execution_count": 8,
   "id": "0fb64033",
   "metadata": {},
   "outputs": [
    {
     "data": {
      "text/html": [
       "0.933333333333333"
      ],
      "text/latex": [
       "0.933333333333333"
      ],
      "text/markdown": [
       "0.933333333333333"
      ],
      "text/plain": [
       "[1] 0.9333333"
      ]
     },
     "metadata": {},
     "output_type": "display_data"
    },
    {
     "data": {
      "text/plain": [
       "            y\n",
       "pred         setosa versicolor virginica\n",
       "  setosa         15          0         0\n",
       "  versicolor      0         13         1\n",
       "  virginica       0          2        14"
      ]
     },
     "metadata": {},
     "output_type": "display_data"
    }
   ],
   "source": [
    "# 예측율 및 오분류표\n",
    "mean(pred==y)\n",
    "table(pred,y)"
   ]
  },
  {
   "cell_type": "code",
   "execution_count": null,
   "id": "428a1d90",
   "metadata": {},
   "outputs": [],
   "source": []
  },
  {
   "cell_type": "code",
   "execution_count": null,
   "id": "789b845c",
   "metadata": {},
   "outputs": [],
   "source": []
  }
 ],
 "metadata": {
  "kernelspec": {
   "display_name": "R",
   "language": "R",
   "name": "ir"
  },
  "language_info": {
   "codemirror_mode": "r",
   "file_extension": ".r",
   "mimetype": "text/x-r-source",
   "name": "R",
   "pygments_lexer": "r",
   "version": "3.6.1"
  }
 },
 "nbformat": 4,
 "nbformat_minor": 5
}
