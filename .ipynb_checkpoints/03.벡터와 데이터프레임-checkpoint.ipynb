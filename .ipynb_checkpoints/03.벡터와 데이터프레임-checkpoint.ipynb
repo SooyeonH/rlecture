{
 "cells": [
  {
   "cell_type": "code",
   "execution_count": 3,
   "metadata": {
    "vscode": {
     "languageId": "r"
    }
   },
   "outputs": [
    {
     "name": "stdout",
     "output_type": "stream",
     "text": [
      " [1] \"red\"  \"blue\" \"red\"  \"blue\" \"red\"  \"blue\" \"red\"  \"blue\" \"red\"  \"blue\"\n",
      "[11] \"red\"  \"blue\" \"red\"  \"blue\" \"red\"  \"blue\" \"red\"  \"blue\" \"red\"  \"blue\"\n",
      "[21] \"red\"  \"blue\" \"red\"  \"blue\" \"red\"  \"blue\" \"red\"  \"blue\" \"red\"  \"blue\"\n",
      "[31] \"red\"  \"blue\" \"red\"  \"blue\" \"red\"  \"blue\" \"red\"  \"blue\" \"red\"  \"blue\"\n"
     ]
    }
   ],
   "source": [
    "#red 라는 글자와 blue 라는 글자를 20개 만들기\n",
    "\n",
    "print(rep(c(\"red\",\"blue\"),20))"
   ]
  },
  {
   "cell_type": "code",
   "execution_count": 6,
   "metadata": {
    "vscode": {
     "languageId": "r"
    }
   },
   "outputs": [
    {
     "name": "stdout",
     "output_type": "stream",
     "text": [
      " [1]  1  3  5  1  2  3  4  5  6  7  8  9 10  1  3  5  7  9  1  2  3  1  2  3\n"
     ]
    }
   ],
   "source": [
    "print(c(seq(1,5,2),1:10,seq(1,10,2),rep(1:3,2)))"
   ]
  },
  {
   "cell_type": "code",
   "execution_count": 13,
   "metadata": {
    "vscode": {
     "languageId": "r"
    }
   },
   "outputs": [
    {
     "data": {
      "text/html": [
       "<table>\n",
       "<thead><tr><th scope=col>Sepal.Length</th><th scope=col>Sepal.Width</th><th scope=col>Petal.Length</th><th scope=col>Petal.Width</th><th scope=col>Species</th></tr></thead>\n",
       "<tbody>\n",
       "\t<tr><td>5.1   </td><td>3.5   </td><td>1.4   </td><td>0.2   </td><td>setosa</td></tr>\n",
       "\t<tr><td>4.9   </td><td>3.0   </td><td>1.4   </td><td>0.2   </td><td>setosa</td></tr>\n",
       "\t<tr><td>4.7   </td><td>3.2   </td><td>1.3   </td><td>0.2   </td><td>setosa</td></tr>\n",
       "\t<tr><td>4.6   </td><td>3.1   </td><td>1.5   </td><td>0.2   </td><td>setosa</td></tr>\n",
       "\t<tr><td>5.0   </td><td>3.6   </td><td>1.4   </td><td>0.2   </td><td>setosa</td></tr>\n",
       "</tbody>\n",
       "</table>\n"
      ],
      "text/latex": [
       "\\begin{tabular}{r|lllll}\n",
       " Sepal.Length & Sepal.Width & Petal.Length & Petal.Width & Species\\\\\n",
       "\\hline\n",
       "\t 5.1    & 3.5    & 1.4    & 0.2    & setosa\\\\\n",
       "\t 4.9    & 3.0    & 1.4    & 0.2    & setosa\\\\\n",
       "\t 4.7    & 3.2    & 1.3    & 0.2    & setosa\\\\\n",
       "\t 4.6    & 3.1    & 1.5    & 0.2    & setosa\\\\\n",
       "\t 5.0    & 3.6    & 1.4    & 0.2    & setosa\\\\\n",
       "\\end{tabular}\n"
      ],
      "text/markdown": [
       "\n",
       "| Sepal.Length | Sepal.Width | Petal.Length | Petal.Width | Species |\n",
       "|---|---|---|---|---|\n",
       "| 5.1    | 3.5    | 1.4    | 0.2    | setosa |\n",
       "| 4.9    | 3.0    | 1.4    | 0.2    | setosa |\n",
       "| 4.7    | 3.2    | 1.3    | 0.2    | setosa |\n",
       "| 4.6    | 3.1    | 1.5    | 0.2    | setosa |\n",
       "| 5.0    | 3.6    | 1.4    | 0.2    | setosa |\n",
       "\n"
      ],
      "text/plain": [
       "  Sepal.Length Sepal.Width Petal.Length Petal.Width Species\n",
       "1 5.1          3.5         1.4          0.2         setosa \n",
       "2 4.9          3.0         1.4          0.2         setosa \n",
       "3 4.7          3.2         1.3          0.2         setosa \n",
       "4 4.6          3.1         1.5          0.2         setosa \n",
       "5 5.0          3.6         1.4          0.2         setosa "
      ]
     },
     "metadata": {},
     "output_type": "display_data"
    }
   ],
   "source": [
    "# iris의 1~5번째 줄의 데이터만 추출해서 변수 (데이터프레임) 만들기\n",
    "\n",
    "head(iris,5)\n",
    "irisHead <- iris[1:5,]\n"
   ]
  },
  {
   "cell_type": "code",
   "execution_count": 15,
   "metadata": {
    "vscode": {
     "languageId": "r"
    }
   },
   "outputs": [
    {
     "data": {
      "text/html": [
       "<table>\n",
       "<thead><tr><th></th><th scope=col>1</th><th scope=col>2</th><th scope=col>3</th><th scope=col>4</th><th scope=col>5</th></tr></thead>\n",
       "<tbody>\n",
       "\t<tr><th scope=row>Sepal.Length</th><td>5.1   </td><td>4.9   </td><td>4.7   </td><td>4.6   </td><td>5.0   </td></tr>\n",
       "\t<tr><th scope=row>Sepal.Width</th><td>3.5   </td><td>3.0   </td><td>3.2   </td><td>3.1   </td><td>3.6   </td></tr>\n",
       "\t<tr><th scope=row>Petal.Length</th><td>1.4   </td><td>1.4   </td><td>1.3   </td><td>1.5   </td><td>1.4   </td></tr>\n",
       "\t<tr><th scope=row>Petal.Width</th><td>0.2   </td><td>0.2   </td><td>0.2   </td><td>0.2   </td><td>0.2   </td></tr>\n",
       "\t<tr><th scope=row>Species</th><td>setosa</td><td>setosa</td><td>setosa</td><td>setosa</td><td>setosa</td></tr>\n",
       "</tbody>\n",
       "</table>\n"
      ],
      "text/latex": [
       "\\begin{tabular}{r|lllll}\n",
       "  & 1 & 2 & 3 & 4 & 5\\\\\n",
       "\\hline\n",
       "\tSepal.Length & 5.1    & 4.9    & 4.7    & 4.6    & 5.0   \\\\\n",
       "\tSepal.Width & 3.5    & 3.0    & 3.2    & 3.1    & 3.6   \\\\\n",
       "\tPetal.Length & 1.4    & 1.4    & 1.3    & 1.5    & 1.4   \\\\\n",
       "\tPetal.Width & 0.2    & 0.2    & 0.2    & 0.2    & 0.2   \\\\\n",
       "\tSpecies & setosa & setosa & setosa & setosa & setosa\\\\\n",
       "\\end{tabular}\n"
      ],
      "text/markdown": [
       "\n",
       "| <!--/--> | 1 | 2 | 3 | 4 | 5 |\n",
       "|---|---|---|---|---|---|\n",
       "| Sepal.Length | 5.1    | 4.9    | 4.7    | 4.6    | 5.0    |\n",
       "| Sepal.Width | 3.5    | 3.0    | 3.2    | 3.1    | 3.6    |\n",
       "| Petal.Length | 1.4    | 1.4    | 1.3    | 1.5    | 1.4    |\n",
       "| Petal.Width | 0.2    | 0.2    | 0.2    | 0.2    | 0.2    |\n",
       "| Species | setosa | setosa | setosa | setosa | setosa |\n",
       "\n"
      ],
      "text/plain": [
       "             1      2      3      4      5     \n",
       "Sepal.Length 5.1    4.9    4.7    4.6    5.0   \n",
       "Sepal.Width  3.5    3.0    3.2    3.1    3.6   \n",
       "Petal.Length 1.4    1.4    1.3    1.5    1.4   \n",
       "Petal.Width  0.2    0.2    0.2    0.2    0.2   \n",
       "Species      setosa setosa setosa setosa setosa"
      ]
     },
     "metadata": {},
     "output_type": "display_data"
    }
   ],
   "source": [
    "# 행과 열을 뒤집는다.\n",
    "\n",
    "t(irisHead)"
   ]
  },
  {
   "cell_type": "code",
   "execution_count": 29,
   "metadata": {
    "vscode": {
     "languageId": "r"
    }
   },
   "outputs": [
    {
     "data": {
      "text/html": [
       "<table>\n",
       "<thead><tr><th></th><th scope=col>Sepal.Length</th><th scope=col>Sepal.Width</th><th scope=col>Petal.Length</th><th scope=col>Petal.Width</th><th scope=col>Species</th></tr></thead>\n",
       "<tbody>\n",
       "\t<tr><th scope=row>10</th><td>4.9       </td><td>3.1       </td><td>1.5       </td><td>0.1       </td><td>setosa    </td></tr>\n",
       "\t<tr><th scope=row>20</th><td>5.1       </td><td>3.8       </td><td>1.5       </td><td>0.3       </td><td>setosa    </td></tr>\n",
       "\t<tr><th scope=row>30</th><td>4.7       </td><td>3.2       </td><td>1.6       </td><td>0.2       </td><td>setosa    </td></tr>\n",
       "\t<tr><th scope=row>40</th><td>5.1       </td><td>3.4       </td><td>1.5       </td><td>0.2       </td><td>setosa    </td></tr>\n",
       "\t<tr><th scope=row>50</th><td>5.0       </td><td>3.3       </td><td>1.4       </td><td>0.2       </td><td>setosa    </td></tr>\n",
       "\t<tr><th scope=row>60</th><td>5.2       </td><td>2.7       </td><td>3.9       </td><td>1.4       </td><td>versicolor</td></tr>\n",
       "\t<tr><th scope=row>70</th><td>5.6       </td><td>2.5       </td><td>3.9       </td><td>1.1       </td><td>versicolor</td></tr>\n",
       "\t<tr><th scope=row>80</th><td>5.7       </td><td>2.6       </td><td>3.5       </td><td>1.0       </td><td>versicolor</td></tr>\n",
       "\t<tr><th scope=row>90</th><td>5.5       </td><td>2.5       </td><td>4.0       </td><td>1.3       </td><td>versicolor</td></tr>\n",
       "\t<tr><th scope=row>100</th><td>5.7       </td><td>2.8       </td><td>4.1       </td><td>1.3       </td><td>versicolor</td></tr>\n",
       "\t<tr><th scope=row>110</th><td>7.2       </td><td>3.6       </td><td>6.1       </td><td>2.5       </td><td>virginica </td></tr>\n",
       "\t<tr><th scope=row>120</th><td>6.0       </td><td>2.2       </td><td>5.0       </td><td>1.5       </td><td>virginica </td></tr>\n",
       "\t<tr><th scope=row>130</th><td>7.2       </td><td>3.0       </td><td>5.8       </td><td>1.6       </td><td>virginica </td></tr>\n",
       "\t<tr><th scope=row>140</th><td>6.9       </td><td>3.1       </td><td>5.4       </td><td>2.1       </td><td>virginica </td></tr>\n",
       "\t<tr><th scope=row>150</th><td>5.9       </td><td>3.0       </td><td>5.1       </td><td>1.8       </td><td>virginica </td></tr>\n",
       "</tbody>\n",
       "</table>\n"
      ],
      "text/latex": [
       "\\begin{tabular}{r|lllll}\n",
       "  & Sepal.Length & Sepal.Width & Petal.Length & Petal.Width & Species\\\\\n",
       "\\hline\n",
       "\t10 & 4.9        & 3.1        & 1.5        & 0.1        & setosa    \\\\\n",
       "\t20 & 5.1        & 3.8        & 1.5        & 0.3        & setosa    \\\\\n",
       "\t30 & 4.7        & 3.2        & 1.6        & 0.2        & setosa    \\\\\n",
       "\t40 & 5.1        & 3.4        & 1.5        & 0.2        & setosa    \\\\\n",
       "\t50 & 5.0        & 3.3        & 1.4        & 0.2        & setosa    \\\\\n",
       "\t60 & 5.2        & 2.7        & 3.9        & 1.4        & versicolor\\\\\n",
       "\t70 & 5.6        & 2.5        & 3.9        & 1.1        & versicolor\\\\\n",
       "\t80 & 5.7        & 2.6        & 3.5        & 1.0        & versicolor\\\\\n",
       "\t90 & 5.5        & 2.5        & 4.0        & 1.3        & versicolor\\\\\n",
       "\t100 & 5.7        & 2.8        & 4.1        & 1.3        & versicolor\\\\\n",
       "\t110 & 7.2        & 3.6        & 6.1        & 2.5        & virginica \\\\\n",
       "\t120 & 6.0        & 2.2        & 5.0        & 1.5        & virginica \\\\\n",
       "\t130 & 7.2        & 3.0        & 5.8        & 1.6        & virginica \\\\\n",
       "\t140 & 6.9        & 3.1        & 5.4        & 2.1        & virginica \\\\\n",
       "\t150 & 5.9        & 3.0        & 5.1        & 1.8        & virginica \\\\\n",
       "\\end{tabular}\n"
      ],
      "text/markdown": [
       "\n",
       "| <!--/--> | Sepal.Length | Sepal.Width | Petal.Length | Petal.Width | Species |\n",
       "|---|---|---|---|---|---|\n",
       "| 10 | 4.9        | 3.1        | 1.5        | 0.1        | setosa     |\n",
       "| 20 | 5.1        | 3.8        | 1.5        | 0.3        | setosa     |\n",
       "| 30 | 4.7        | 3.2        | 1.6        | 0.2        | setosa     |\n",
       "| 40 | 5.1        | 3.4        | 1.5        | 0.2        | setosa     |\n",
       "| 50 | 5.0        | 3.3        | 1.4        | 0.2        | setosa     |\n",
       "| 60 | 5.2        | 2.7        | 3.9        | 1.4        | versicolor |\n",
       "| 70 | 5.6        | 2.5        | 3.9        | 1.1        | versicolor |\n",
       "| 80 | 5.7        | 2.6        | 3.5        | 1.0        | versicolor |\n",
       "| 90 | 5.5        | 2.5        | 4.0        | 1.3        | versicolor |\n",
       "| 100 | 5.7        | 2.8        | 4.1        | 1.3        | versicolor |\n",
       "| 110 | 7.2        | 3.6        | 6.1        | 2.5        | virginica  |\n",
       "| 120 | 6.0        | 2.2        | 5.0        | 1.5        | virginica  |\n",
       "| 130 | 7.2        | 3.0        | 5.8        | 1.6        | virginica  |\n",
       "| 140 | 6.9        | 3.1        | 5.4        | 2.1        | virginica  |\n",
       "| 150 | 5.9        | 3.0        | 5.1        | 1.8        | virginica  |\n",
       "\n"
      ],
      "text/plain": [
       "    Sepal.Length Sepal.Width Petal.Length Petal.Width Species   \n",
       "10  4.9          3.1         1.5          0.1         setosa    \n",
       "20  5.1          3.8         1.5          0.3         setosa    \n",
       "30  4.7          3.2         1.6          0.2         setosa    \n",
       "40  5.1          3.4         1.5          0.2         setosa    \n",
       "50  5.0          3.3         1.4          0.2         setosa    \n",
       "60  5.2          2.7         3.9          1.4         versicolor\n",
       "70  5.6          2.5         3.9          1.1         versicolor\n",
       "80  5.7          2.6         3.5          1.0         versicolor\n",
       "90  5.5          2.5         4.0          1.3         versicolor\n",
       "100 5.7          2.8         4.1          1.3         versicolor\n",
       "110 7.2          3.6         6.1          2.5         virginica \n",
       "120 6.0          2.2         5.0          1.5         virginica \n",
       "130 7.2          3.0         5.8          1.6         virginica \n",
       "140 6.9          3.1         5.4          2.1         virginica \n",
       "150 5.9          3.0         5.1          1.8         virginica "
      ]
     },
     "metadata": {},
     "output_type": "display_data"
    }
   ],
   "source": [
    "#iris 에서 150 개 데이터중 10부터 10씩 15개 샘플링\n",
    "\n",
    "iris[seq(10,150,10),]"
   ]
  },
  {
   "cell_type": "code",
   "execution_count": 30,
   "metadata": {
    "vscode": {
     "languageId": "r"
    }
   },
   "outputs": [
    {
     "data": {
      "text/html": [
       "150"
      ],
      "text/latex": [
       "150"
      ],
      "text/markdown": [
       "150"
      ],
      "text/plain": [
       "[1] 150"
      ]
     },
     "metadata": {},
     "output_type": "display_data"
    }
   ],
   "source": [
    "length(iris$Sepal.Length)"
   ]
  },
  {
   "cell_type": "code",
   "execution_count": 31,
   "metadata": {
    "vscode": {
     "languageId": "r"
    }
   },
   "outputs": [
    {
     "data": {
      "text/html": [
       "5"
      ],
      "text/latex": [
       "5"
      ],
      "text/markdown": [
       "5"
      ],
      "text/plain": [
       "[1] 5"
      ]
     },
     "metadata": {},
     "output_type": "display_data"
    }
   ],
   "source": [
    "length(iris) #column개수 "
   ]
  },
  {
   "cell_type": "code",
   "execution_count": 33,
   "metadata": {
    "vscode": {
     "languageId": "r"
    }
   },
   "outputs": [
    {
     "data": {
      "text/html": [
       "150"
      ],
      "text/latex": [
       "150"
      ],
      "text/markdown": [
       "150"
      ],
      "text/plain": [
       "[1] 150"
      ]
     },
     "metadata": {},
     "output_type": "display_data"
    },
    {
     "data": {
      "text/html": [
       "5"
      ],
      "text/latex": [
       "5"
      ],
      "text/markdown": [
       "5"
      ],
      "text/plain": [
       "[1] 5"
      ]
     },
     "metadata": {},
     "output_type": "display_data"
    }
   ],
   "source": [
    "nrow(iris) \n",
    "ncol(iris)"
   ]
  },
  {
   "cell_type": "code",
   "execution_count": 39,
   "metadata": {
    "vscode": {
     "languageId": "r"
    }
   },
   "outputs": [
    {
     "data": {
      "text/html": [
       "7.9"
      ],
      "text/latex": [
       "7.9"
      ],
      "text/markdown": [
       "7.9"
      ],
      "text/plain": [
       "[1] 7.9"
      ]
     },
     "metadata": {},
     "output_type": "display_data"
    },
    {
     "data": {
      "text/html": [
       "4.3"
      ],
      "text/latex": [
       "4.3"
      ],
      "text/markdown": [
       "4.3"
      ],
      "text/plain": [
       "[1] 4.3"
      ]
     },
     "metadata": {},
     "output_type": "display_data"
    },
    {
     "data": {
      "text/html": [
       "3.6"
      ],
      "text/latex": [
       "3.6"
      ],
      "text/markdown": [
       "3.6"
      ],
      "text/plain": [
       "[1] 3.6"
      ]
     },
     "metadata": {},
     "output_type": "display_data"
    },
    {
     "data": {
      "text/html": [
       "5.84333333333333"
      ],
      "text/latex": [
       "5.84333333333333"
      ],
      "text/markdown": [
       "5.84333333333333"
      ],
      "text/plain": [
       "[1] 5.843333"
      ]
     },
     "metadata": {},
     "output_type": "display_data"
    },
    {
     "data": {
      "text/html": [
       "FALSE"
      ],
      "text/latex": [
       "FALSE"
      ],
      "text/markdown": [
       "FALSE"
      ],
      "text/plain": [
       "[1] FALSE"
      ]
     },
     "metadata": {},
     "output_type": "display_data"
    }
   ],
   "source": [
    "# iris의 Sepal.Length의 최댓값과 최솟값의 차이가 평균보다 큰지 확인\n",
    "\n",
    "max(iris$Sepal.Length)\n",
    "min(iris$Sepal.Length)\n",
    "max(iris$Sepal.Length)-min(iris$Sepal.Length)\n",
    "mean(iris$Sepal.Length)\n",
    "max(iris$Sepal.Length)-min(iris$Sepal.Length)>mean(iris$Sepal.Length)"
   ]
  },
  {
   "cell_type": "code",
   "execution_count": 43,
   "metadata": {
    "vscode": {
     "languageId": "r"
    }
   },
   "outputs": [
    {
     "data": {
      "text/html": [
       "<table>\n",
       "<thead><tr><th scope=col>Sepal.Length</th><th scope=col>Sepal.Width</th></tr></thead>\n",
       "<tbody>\n",
       "\t<tr><td>5.1</td><td>3.5</td></tr>\n",
       "\t<tr><td>4.9</td><td>3.0</td></tr>\n",
       "\t<tr><td>4.7</td><td>3.2</td></tr>\n",
       "\t<tr><td>4.6</td><td>3.1</td></tr>\n",
       "\t<tr><td>5.0</td><td>3.6</td></tr>\n",
       "\t<tr><td>5.4</td><td>3.9</td></tr>\n",
       "\t<tr><td>4.6</td><td>3.4</td></tr>\n",
       "\t<tr><td>5.0</td><td>3.4</td></tr>\n",
       "\t<tr><td>4.4</td><td>2.9</td></tr>\n",
       "\t<tr><td>4.9</td><td>3.1</td></tr>\n",
       "</tbody>\n",
       "</table>\n"
      ],
      "text/latex": [
       "\\begin{tabular}{r|ll}\n",
       " Sepal.Length & Sepal.Width\\\\\n",
       "\\hline\n",
       "\t 5.1 & 3.5\\\\\n",
       "\t 4.9 & 3.0\\\\\n",
       "\t 4.7 & 3.2\\\\\n",
       "\t 4.6 & 3.1\\\\\n",
       "\t 5.0 & 3.6\\\\\n",
       "\t 5.4 & 3.9\\\\\n",
       "\t 4.6 & 3.4\\\\\n",
       "\t 5.0 & 3.4\\\\\n",
       "\t 4.4 & 2.9\\\\\n",
       "\t 4.9 & 3.1\\\\\n",
       "\\end{tabular}\n"
      ],
      "text/markdown": [
       "\n",
       "| Sepal.Length | Sepal.Width |\n",
       "|---|---|\n",
       "| 5.1 | 3.5 |\n",
       "| 4.9 | 3.0 |\n",
       "| 4.7 | 3.2 |\n",
       "| 4.6 | 3.1 |\n",
       "| 5.0 | 3.6 |\n",
       "| 5.4 | 3.9 |\n",
       "| 4.6 | 3.4 |\n",
       "| 5.0 | 3.4 |\n",
       "| 4.4 | 2.9 |\n",
       "| 4.9 | 3.1 |\n",
       "\n"
      ],
      "text/plain": [
       "   Sepal.Length Sepal.Width\n",
       "1  5.1          3.5        \n",
       "2  4.9          3.0        \n",
       "3  4.7          3.2        \n",
       "4  4.6          3.1        \n",
       "5  5.0          3.6        \n",
       "6  5.4          3.9        \n",
       "7  4.6          3.4        \n",
       "8  5.0          3.4        \n",
       "9  4.4          2.9        \n",
       "10 4.9          3.1        "
      ]
     },
     "metadata": {},
     "output_type": "display_data"
    },
    {
     "data": {
      "text/html": [
       "<table>\n",
       "<thead><tr><th scope=col>Sepal.Length</th><th scope=col>Sepal.Width</th></tr></thead>\n",
       "<tbody>\n",
       "\t<tr><td>5.1</td><td>3.5</td></tr>\n",
       "\t<tr><td>4.9</td><td>3.0</td></tr>\n",
       "\t<tr><td>4.7</td><td>3.2</td></tr>\n",
       "\t<tr><td>4.6</td><td>3.1</td></tr>\n",
       "\t<tr><td>5.0</td><td>3.6</td></tr>\n",
       "\t<tr><td>5.4</td><td>3.9</td></tr>\n",
       "\t<tr><td>4.6</td><td>3.4</td></tr>\n",
       "\t<tr><td>5.0</td><td>3.4</td></tr>\n",
       "\t<tr><td>4.4</td><td>2.9</td></tr>\n",
       "\t<tr><td>4.9</td><td>3.1</td></tr>\n",
       "</tbody>\n",
       "</table>\n"
      ],
      "text/latex": [
       "\\begin{tabular}{r|ll}\n",
       " Sepal.Length & Sepal.Width\\\\\n",
       "\\hline\n",
       "\t 5.1 & 3.5\\\\\n",
       "\t 4.9 & 3.0\\\\\n",
       "\t 4.7 & 3.2\\\\\n",
       "\t 4.6 & 3.1\\\\\n",
       "\t 5.0 & 3.6\\\\\n",
       "\t 5.4 & 3.9\\\\\n",
       "\t 4.6 & 3.4\\\\\n",
       "\t 5.0 & 3.4\\\\\n",
       "\t 4.4 & 2.9\\\\\n",
       "\t 4.9 & 3.1\\\\\n",
       "\\end{tabular}\n"
      ],
      "text/markdown": [
       "\n",
       "| Sepal.Length | Sepal.Width |\n",
       "|---|---|\n",
       "| 5.1 | 3.5 |\n",
       "| 4.9 | 3.0 |\n",
       "| 4.7 | 3.2 |\n",
       "| 4.6 | 3.1 |\n",
       "| 5.0 | 3.6 |\n",
       "| 5.4 | 3.9 |\n",
       "| 4.6 | 3.4 |\n",
       "| 5.0 | 3.4 |\n",
       "| 4.4 | 2.9 |\n",
       "| 4.9 | 3.1 |\n",
       "\n"
      ],
      "text/plain": [
       "   Sepal.Length Sepal.Width\n",
       "1  5.1          3.5        \n",
       "2  4.9          3.0        \n",
       "3  4.7          3.2        \n",
       "4  4.6          3.1        \n",
       "5  5.0          3.6        \n",
       "6  5.4          3.9        \n",
       "7  4.6          3.4        \n",
       "8  5.0          3.4        \n",
       "9  4.4          2.9        \n",
       "10 4.9          3.1        "
      ]
     },
     "metadata": {},
     "output_type": "display_data"
    }
   ],
   "source": [
    "# iris에서 1~10까지의 데이터중 Sepal.Length와 Sepal.Width 만 출력\n",
    "\n",
    "iris[1:10,1:2]\n",
    "iris[1:10,c(\"Sepal.Length\",\"Sepal.Width\")]"
   ]
  },
  {
   "cell_type": "code",
   "execution_count": 48,
   "metadata": {
    "vscode": {
     "languageId": "r"
    }
   },
   "outputs": [
    {
     "name": "stdout",
     "output_type": "stream",
     "text": [
      "  Sepal.Length Sepal.Width Petal.Length Petal.Width Species\n",
      "1          5.1         3.5          1.4         0.2  setosa\n",
      "2          4.9         3.0          1.4         0.2  setosa\n",
      "3          4.7         3.2          1.3         0.2  setosa\n",
      "4          4.6         3.1          1.5         0.2  setosa\n",
      "5          5.0         3.6          1.4         0.2  setosa\n",
      "6          5.4         3.9          1.7         0.4  setosa\n"
     ]
    },
    {
     "data": {
      "text/html": [
       "<table>\n",
       "<thead><tr><th></th><th scope=col>Sepal.Length</th><th scope=col>Sepal.Width</th><th scope=col>Petal.Length</th><th scope=col>Petal.Width</th><th scope=col>Species</th></tr></thead>\n",
       "<tbody>\n",
       "\t<tr><th scope=row>145</th><td>6.7      </td><td>3.3      </td><td>5.7      </td><td>2.5      </td><td>virginica</td></tr>\n",
       "\t<tr><th scope=row>146</th><td>6.7      </td><td>3.0      </td><td>5.2      </td><td>2.3      </td><td>virginica</td></tr>\n",
       "\t<tr><th scope=row>147</th><td>6.3      </td><td>2.5      </td><td>5.0      </td><td>1.9      </td><td>virginica</td></tr>\n",
       "\t<tr><th scope=row>148</th><td>6.5      </td><td>3.0      </td><td>5.2      </td><td>2.0      </td><td>virginica</td></tr>\n",
       "\t<tr><th scope=row>149</th><td>6.2      </td><td>3.4      </td><td>5.4      </td><td>2.3      </td><td>virginica</td></tr>\n",
       "\t<tr><th scope=row>150</th><td>5.9      </td><td>3.0      </td><td>5.1      </td><td>1.8      </td><td>virginica</td></tr>\n",
       "</tbody>\n",
       "</table>\n"
      ],
      "text/latex": [
       "\\begin{tabular}{r|lllll}\n",
       "  & Sepal.Length & Sepal.Width & Petal.Length & Petal.Width & Species\\\\\n",
       "\\hline\n",
       "\t145 & 6.7       & 3.3       & 5.7       & 2.5       & virginica\\\\\n",
       "\t146 & 6.7       & 3.0       & 5.2       & 2.3       & virginica\\\\\n",
       "\t147 & 6.3       & 2.5       & 5.0       & 1.9       & virginica\\\\\n",
       "\t148 & 6.5       & 3.0       & 5.2       & 2.0       & virginica\\\\\n",
       "\t149 & 6.2       & 3.4       & 5.4       & 2.3       & virginica\\\\\n",
       "\t150 & 5.9       & 3.0       & 5.1       & 1.8       & virginica\\\\\n",
       "\\end{tabular}\n"
      ],
      "text/markdown": [
       "\n",
       "| <!--/--> | Sepal.Length | Sepal.Width | Petal.Length | Petal.Width | Species |\n",
       "|---|---|---|---|---|---|\n",
       "| 145 | 6.7       | 3.3       | 5.7       | 2.5       | virginica |\n",
       "| 146 | 6.7       | 3.0       | 5.2       | 2.3       | virginica |\n",
       "| 147 | 6.3       | 2.5       | 5.0       | 1.9       | virginica |\n",
       "| 148 | 6.5       | 3.0       | 5.2       | 2.0       | virginica |\n",
       "| 149 | 6.2       | 3.4       | 5.4       | 2.3       | virginica |\n",
       "| 150 | 5.9       | 3.0       | 5.1       | 1.8       | virginica |\n",
       "\n"
      ],
      "text/plain": [
       "    Sepal.Length Sepal.Width Petal.Length Petal.Width Species  \n",
       "145 6.7          3.3         5.7          2.5         virginica\n",
       "146 6.7          3.0         5.2          2.3         virginica\n",
       "147 6.3          2.5         5.0          1.9         virginica\n",
       "148 6.5          3.0         5.2          2.0         virginica\n",
       "149 6.2          3.4         5.4          2.3         virginica\n",
       "150 5.9          3.0         5.1          1.8         virginica"
      ]
     },
     "metadata": {},
     "output_type": "display_data"
    },
    {
     "name": "stdout",
     "output_type": "stream",
     "text": [
      "'data.frame':\t150 obs. of  5 variables:\n",
      " $ Sepal.Length: num  5.1 4.9 4.7 4.6 5 5.4 4.6 5 4.4 4.9 ...\n",
      " $ Sepal.Width : num  3.5 3 3.2 3.1 3.6 3.9 3.4 3.4 2.9 3.1 ...\n",
      " $ Petal.Length: num  1.4 1.4 1.3 1.5 1.4 1.7 1.4 1.5 1.4 1.5 ...\n",
      " $ Petal.Width : num  0.2 0.2 0.2 0.2 0.2 0.4 0.3 0.2 0.2 0.1 ...\n",
      " $ Species     : Factor w/ 3 levels \"setosa\",\"versicolor\",..: 1 1 1 1 1 1 1 1 1 1 ...\n"
     ]
    }
   ],
   "source": [
    "print(head(iris))\n",
    "tail(iris)\n",
    "str(iris)"
   ]
  },
  {
   "cell_type": "code",
   "execution_count": 52,
   "metadata": {
    "vscode": {
     "languageId": "r"
    }
   },
   "outputs": [
    {
     "data": {
      "text/plain": [
       "  Sepal.Length    Sepal.Width     Petal.Length    Petal.Width   \n",
       " Min.   :4.300   Min.   :2.000   Min.   :1.000   Min.   :0.100  \n",
       " 1st Qu.:5.100   1st Qu.:2.800   1st Qu.:1.600   1st Qu.:0.300  \n",
       " Median :5.800   Median :3.000   Median :4.350   Median :1.300  \n",
       " Mean   :5.843   Mean   :3.057   Mean   :3.758   Mean   :1.199  \n",
       " 3rd Qu.:6.400   3rd Qu.:3.300   3rd Qu.:5.100   3rd Qu.:1.800  \n",
       " Max.   :7.900   Max.   :4.400   Max.   :6.900   Max.   :2.500  \n",
       "       Species  \n",
       " setosa    :50  \n",
       " versicolor:50  \n",
       " virginica :50  \n",
       "                \n",
       "                \n",
       "                "
      ]
     },
     "metadata": {},
     "output_type": "display_data"
    }
   ],
   "source": [
    "summary(iris)\n"
   ]
  },
  {
   "cell_type": "code",
   "execution_count": 53,
   "metadata": {
    "vscode": {
     "languageId": "r"
    }
   },
   "outputs": [
    {
     "name": "stdout",
     "output_type": "stream",
     "text": [
      "  [1] \"setosa\"     \"setosa\"     \"setosa\"     \"setosa\"     \"setosa\"    \n",
      "  [6] \"setosa\"     \"setosa\"     \"setosa\"     \"setosa\"     \"setosa\"    \n",
      " [11] \"setosa\"     \"setosa\"     \"setosa\"     \"setosa\"     \"setosa\"    \n",
      " [16] \"setosa\"     \"setosa\"     \"setosa\"     \"setosa\"     \"setosa\"    \n",
      " [21] \"setosa\"     \"setosa\"     \"setosa\"     \"setosa\"     \"setosa\"    \n",
      " [26] \"setosa\"     \"setosa\"     \"setosa\"     \"setosa\"     \"setosa\"    \n",
      " [31] \"setosa\"     \"setosa\"     \"setosa\"     \"setosa\"     \"setosa\"    \n",
      " [36] \"setosa\"     \"setosa\"     \"setosa\"     \"setosa\"     \"setosa\"    \n",
      " [41] \"setosa\"     \"setosa\"     \"setosa\"     \"setosa\"     \"setosa\"    \n",
      " [46] \"setosa\"     \"setosa\"     \"setosa\"     \"setosa\"     \"setosa\"    \n",
      " [51] \"versicolor\" \"versicolor\" \"versicolor\" \"versicolor\" \"versicolor\"\n",
      " [56] \"versicolor\" \"versicolor\" \"versicolor\" \"versicolor\" \"versicolor\"\n",
      " [61] \"versicolor\" \"versicolor\" \"versicolor\" \"versicolor\" \"versicolor\"\n",
      " [66] \"versicolor\" \"versicolor\" \"versicolor\" \"versicolor\" \"versicolor\"\n",
      " [71] \"versicolor\" \"versicolor\" \"versicolor\" \"versicolor\" \"versicolor\"\n",
      " [76] \"versicolor\" \"versicolor\" \"versicolor\" \"versicolor\" \"versicolor\"\n",
      " [81] \"versicolor\" \"versicolor\" \"versicolor\" \"versicolor\" \"versicolor\"\n",
      " [86] \"versicolor\" \"versicolor\" \"versicolor\" \"versicolor\" \"versicolor\"\n",
      " [91] \"versicolor\" \"versicolor\" \"versicolor\" \"versicolor\" \"versicolor\"\n",
      " [96] \"versicolor\" \"versicolor\" \"versicolor\" \"versicolor\" \"versicolor\"\n",
      "[101] \"virginica\"  \"virginica\"  \"virginica\"  \"virginica\"  \"virginica\" \n",
      "[106] \"virginica\"  \"virginica\"  \"virginica\"  \"virginica\"  \"virginica\" \n",
      "[111] \"virginica\"  \"virginica\"  \"virginica\"  \"virginica\"  \"virginica\" \n",
      "[116] \"virginica\"  \"virginica\"  \"virginica\"  \"virginica\"  \"virginica\" \n",
      "[121] \"virginica\"  \"virginica\"  \"virginica\"  \"virginica\"  \"virginica\" \n",
      "[126] \"virginica\"  \"virginica\"  \"virginica\"  \"virginica\"  \"virginica\" \n",
      "[131] \"virginica\"  \"virginica\"  \"virginica\"  \"virginica\"  \"virginica\" \n",
      "[136] \"virginica\"  \"virginica\"  \"virginica\"  \"virginica\"  \"virginica\" \n",
      "[141] \"virginica\"  \"virginica\"  \"virginica\"  \"virginica\"  \"virginica\" \n",
      "[146] \"virginica\"  \"virginica\"  \"virginica\"  \"virginica\"  \"virginica\" \n",
      "  [1] 1 1 1 1 1 1 1 1 1 1 1 1 1 1 1 1 1 1 1 1 1 1 1 1 1 1 1 1 1 1 1 1 1 1 1 1 1\n",
      " [38] 1 1 1 1 1 1 1 1 1 1 1 1 1 2 2 2 2 2 2 2 2 2 2 2 2 2 2 2 2 2 2 2 2 2 2 2 2\n",
      " [75] 2 2 2 2 2 2 2 2 2 2 2 2 2 2 2 2 2 2 2 2 2 2 2 2 2 2 3 3 3 3 3 3 3 3 3 3 3\n",
      "[112] 3 3 3 3 3 3 3 3 3 3 3 3 3 3 3 3 3 3 3 3 3 3 3 3 3 3 3 3 3 3 3 3 3 3 3 3 3\n",
      "[149] 3 3\n"
     ]
    }
   ],
   "source": [
    "# factor Type 인 Species에서 문자와 숫자로 각각 가져오기\n",
    "\n",
    "print(as.character(iris$Species))\n",
    "print(as.numeric(iris$Species))"
   ]
  },
  {
   "cell_type": "markdown",
   "metadata": {},
   "source": [
    "---\n",
    "# 벡터 계산\n"
   ]
  },
  {
   "cell_type": "code",
   "execution_count": 55,
   "metadata": {
    "vscode": {
     "languageId": "r"
    }
   },
   "outputs": [
    {
     "name": "stdout",
     "output_type": "stream",
     "text": [
      "[1]  4  7 10 13 16\n"
     ]
    }
   ],
   "source": [
    "x <- c(3,6,9,12,15)\n",
    "print(x+1)"
   ]
  },
  {
   "cell_type": "code",
   "execution_count": 56,
   "metadata": {
    "vscode": {
     "languageId": "r"
    }
   },
   "outputs": [
    {
     "name": "stdout",
     "output_type": "stream",
     "text": [
      "[1]  4  8 12 16 20\n"
     ]
    }
   ],
   "source": [
    "print(x+1:5) #length를 확인하고 동일할 경우에만 계산하기!"
   ]
  },
  {
   "cell_type": "code",
   "execution_count": 58,
   "metadata": {
    "vscode": {
     "languageId": "r"
    }
   },
   "outputs": [
    {
     "data": {
      "text/html": [
       "<ol class=list-inline>\n",
       "\t<li>3</li>\n",
       "\t<li>5</li>\n",
       "\t<li>6</li>\n",
       "\t<li>12</li>\n",
       "\t<li>15</li>\n",
       "\t<li>1</li>\n",
       "\t<li>2</li>\n",
       "\t<li>3</li>\n",
       "\t<li>4</li>\n",
       "\t<li>5</li>\n",
       "</ol>\n"
      ],
      "text/latex": [
       "\\begin{enumerate*}\n",
       "\\item 3\n",
       "\\item 5\n",
       "\\item 6\n",
       "\\item 12\n",
       "\\item 15\n",
       "\\item 1\n",
       "\\item 2\n",
       "\\item 3\n",
       "\\item 4\n",
       "\\item 5\n",
       "\\end{enumerate*}\n"
      ],
      "text/markdown": [
       "1. 3\n",
       "2. 5\n",
       "3. 6\n",
       "4. 12\n",
       "5. 15\n",
       "6. 1\n",
       "7. 2\n",
       "8. 3\n",
       "9. 4\n",
       "10. 5\n",
       "\n",
       "\n"
      ],
      "text/plain": [
       " [1]  3  5  6 12 15  1  2  3  4  5"
      ]
     },
     "metadata": {},
     "output_type": "display_data"
    }
   ],
   "source": [
    "# 벡터 합치기\n",
    "\n",
    "x <- c(3,5,6,12,15)\n",
    "y <- 1:5\n",
    "append(x,y)"
   ]
  },
  {
   "cell_type": "code",
   "execution_count": 61,
   "metadata": {
    "vscode": {
     "languageId": "r"
    }
   },
   "outputs": [
    {
     "data": {
      "text/html": [
       "300"
      ],
      "text/latex": [
       "300"
      ],
      "text/markdown": [
       "300"
      ],
      "text/plain": [
       "[1] 300"
      ]
     },
     "metadata": {},
     "output_type": "display_data"
    }
   ],
   "source": [
    "length(append(iris$Sepal.Length,iris$Sepal.Width))"
   ]
  },
  {
   "cell_type": "code",
   "execution_count": 63,
   "metadata": {
    "vscode": {
     "languageId": "r"
    }
   },
   "outputs": [
    {
     "data": {
      "text/html": [
       "300"
      ],
      "text/latex": [
       "300"
      ],
      "text/markdown": [
       "300"
      ],
      "text/plain": [
       "[1] 300"
      ]
     },
     "metadata": {},
     "output_type": "display_data"
    }
   ],
   "source": [
    "length(c(iris$Sepal.Length,iris$Sepal.Width))"
   ]
  },
  {
   "cell_type": "code",
   "execution_count": 70,
   "metadata": {
    "vscode": {
     "languageId": "r"
    }
   },
   "outputs": [
    {
     "data": {
      "text/html": [
       "150"
      ],
      "text/latex": [
       "150"
      ],
      "text/markdown": [
       "150"
      ],
      "text/plain": [
       "[1] 150"
      ]
     },
     "metadata": {},
     "output_type": "display_data"
    },
    {
     "data": {
      "text/html": [
       "35"
      ],
      "text/latex": [
       "35"
      ],
      "text/markdown": [
       "35"
      ],
      "text/plain": [
       "[1] 35"
      ]
     },
     "metadata": {},
     "output_type": "display_data"
    },
    {
     "data": {
      "text/html": [
       "23.3"
      ],
      "text/latex": [
       "23.3"
      ],
      "text/markdown": [
       "23.3"
      ],
      "text/plain": [
       "[1] 23.3"
      ]
     },
     "metadata": {},
     "output_type": "display_data"
    }
   ],
   "source": [
    "# iris의 Sepal.Length 의 중복되지 않은 갯수의 percent 구하기\n",
    "\n",
    "length(iris$Sepal.Length)\n",
    "length(unique(iris$Sepal.Length))\n",
    "round(length(unique(iris$Sepal.Length))/length(iris$Sepal.Length)*100,1)\n"
   ]
  },
  {
   "cell_type": "code",
   "execution_count": 73,
   "metadata": {
    "vscode": {
     "languageId": "r"
    }
   },
   "outputs": [
    {
     "data": {
      "text/html": [
       "76.7"
      ],
      "text/latex": [
       "76.7"
      ],
      "text/markdown": [
       "76.7"
      ],
      "text/plain": [
       "[1] 76.7"
      ]
     },
     "metadata": {},
     "output_type": "display_data"
    },
    {
     "data": {
      "text/html": [
       "76.7"
      ],
      "text/latex": [
       "76.7"
      ],
      "text/markdown": [
       "76.7"
      ],
      "text/plain": [
       "[1] 76.7"
      ]
     },
     "metadata": {},
     "output_type": "display_data"
    }
   ],
   "source": [
    "# iris의 Sepal.Length의 중복된 갯수의 percent 구하기\n",
    "100-round(length(unique(iris$Sepal.Length))/length(iris$Sepal.Length)*100,1)\n",
    "\n",
    "round((length(iris$Sepal.Length)-length(unique(iris$Sepal.Length)))/length(iris$Sepal.Length)*100,1)"
   ]
  },
  {
   "cell_type": "markdown",
   "metadata": {},
   "source": [
    "# 문자열 관련 함수 \n"
   ]
  },
  {
   "cell_type": "code",
   "execution_count": 78,
   "metadata": {
    "vscode": {
     "languageId": "r"
    }
   },
   "outputs": [
    {
     "name": "stdout",
     "output_type": "stream",
     "text": [
      "[1] \"a\" \"b\" \"c\" \"d\" \"e\"\n",
      "[1] \"a\" \"b\"\n"
     ]
    },
    {
     "data": {
      "text/html": [
       "'a b'"
      ],
      "text/latex": [
       "'a b'"
      ],
      "text/markdown": [
       "'a b'"
      ],
      "text/plain": [
       "[1] \"a b\""
      ]
     },
     "metadata": {},
     "output_type": "display_data"
    }
   ],
   "source": [
    "x <- c('a','b','c','d','e')\n",
    "print(x)\n",
    "print(x[1:2])\n",
    "paste(x[1],x[2])"
   ]
  },
  {
   "cell_type": "code",
   "execution_count": 80,
   "metadata": {
    "vscode": {
     "languageId": "r"
    }
   },
   "outputs": [
    {
     "data": {
      "text/html": [
       "'Hello World!'"
      ],
      "text/latex": [
       "'Hello World!'"
      ],
      "text/markdown": [
       "'Hello World!'"
      ],
      "text/plain": [
       "[1] \"Hello World!\""
      ]
     },
     "metadata": {},
     "output_type": "display_data"
    }
   ],
   "source": [
    "paste(\"Hello\",\"World!\") #알아서 한칸씩 띄고 붙여줌\n"
   ]
  },
  {
   "cell_type": "code",
   "execution_count": 85,
   "metadata": {
    "vscode": {
     "languageId": "r"
    }
   },
   "outputs": [
    {
     "data": {
      "text/html": [
       "'setosa : versicolor : virginica'"
      ],
      "text/latex": [
       "'setosa : versicolor : virginica'"
      ],
      "text/markdown": [
       "'setosa : versicolor : virginica'"
      ],
      "text/plain": [
       "[1] \"setosa : versicolor : virginica\""
      ]
     },
     "metadata": {},
     "output_type": "display_data"
    }
   ],
   "source": [
    "# iris의 1, 51, 101번의 Species만 한꺼번에 출력하기\n",
    "paste(iris$Species[1],\":\",iris$Species[51],\":\",iris$Species[101])"
   ]
  },
  {
   "cell_type": "code",
   "execution_count": 87,
   "metadata": {
    "vscode": {
     "languageId": "r"
    }
   },
   "outputs": [
    {
     "name": "stdout",
     "output_type": "stream",
     "text": [
      "Hello \n",
      " World!"
     ]
    }
   ],
   "source": [
    "# 문자열 출력\n",
    "\n",
    "cat(\"Hello\",\"\\n\", \"World!\")"
   ]
  },
  {
   "cell_type": "code",
   "execution_count": 97,
   "metadata": {
    "vscode": {
     "languageId": "r"
    }
   },
   "outputs": [
    {
     "name": "stdout",
     "output_type": "stream",
     "text": [
      "Hello \n",
      "World!"
     ]
    }
   ],
   "source": [
    "#Hello \n",
    "#World! 이렇게 출력되게\n",
    "\n",
    "cat(\"Hello\\nWorld!\") #콤마가 텝 기능을 함 "
   ]
  },
  {
   "cell_type": "code",
   "execution_count": 98,
   "metadata": {
    "vscode": {
     "languageId": "r"
    }
   },
   "outputs": [
    {
     "name": "stdout",
     "output_type": "stream",
     "text": [
      "90\t80\t70"
     ]
    }
   ],
   "source": [
    "cat(\"90\\t80\\t70\")"
   ]
  },
  {
   "cell_type": "code",
   "execution_count": 1,
   "metadata": {
    "vscode": {
     "languageId": "r"
    }
   },
   "outputs": [
    {
     "data": {
      "text/html": [
       "'010-1111-2222'"
      ],
      "text/latex": [
       "'010-1111-2222'"
      ],
      "text/markdown": [
       "'010-1111-2222'"
      ],
      "text/plain": [
       "[1] \"010-1111-2222\""
      ]
     },
     "metadata": {},
     "output_type": "display_data"
    },
    {
     "data": {
      "text/html": [
       "'character'"
      ],
      "text/latex": [
       "'character'"
      ],
      "text/markdown": [
       "'character'"
      ],
      "text/plain": [
       "[1] \"character\""
      ]
     },
     "metadata": {},
     "output_type": "display_data"
    }
   ],
   "source": [
    "paste(\"010\",\"1111\",\"2222\",sep=\"-\") #separation 의 기본값은 한칸 띄는 것\n",
    "\n"
   ]
  },
  {
   "cell_type": "markdown",
   "metadata": {},
   "source": [
    "# 문자열 추출하기 "
   ]
  },
  {
   "cell_type": "code",
   "execution_count": 102,
   "metadata": {
    "vscode": {
     "languageId": "r"
    }
   },
   "outputs": [
    {
     "data": {
      "text/html": [
       "'bcde'"
      ],
      "text/latex": [
       "'bcde'"
      ],
      "text/markdown": [
       "'bcde'"
      ],
      "text/plain": [
       "[1] \"bcde\""
      ]
     },
     "metadata": {},
     "output_type": "display_data"
    },
    {
     "data": {
      "text/html": [
       "'가나다'"
      ],
      "text/latex": [
       "'가나다'"
      ],
      "text/markdown": [
       "'가나다'"
      ],
      "text/plain": [
       "[1] \"가나다\""
      ]
     },
     "metadata": {},
     "output_type": "display_data"
    }
   ],
   "source": [
    "str01 <- \"abcdefghijklmn\"\n",
    "substring(str01,2,5)\n",
    "str02 <- \"가나다라마바사\"\n",
    "substring(str02,1,3)"
   ]
  },
  {
   "cell_type": "code",
   "execution_count": 119,
   "metadata": {
    "vscode": {
     "languageId": "r"
    }
   },
   "outputs": [
    {
     "name": "stdout",
     "output_type": "stream",
     "text": [
      "[1]  6.463973 15.977798  8.770562 17.777331 18.868878\n"
     ]
    },
    {
     "data": {
      "text/html": [
       "<ol class=list-inline>\n",
       "\t<li>TRUE</li>\n",
       "\t<li>FALSE</li>\n",
       "\t<li>FALSE</li>\n",
       "\t<li>FALSE</li>\n",
       "\t<li>FALSE</li>\n",
       "</ol>\n"
      ],
      "text/latex": [
       "\\begin{enumerate*}\n",
       "\\item TRUE\n",
       "\\item FALSE\n",
       "\\item FALSE\n",
       "\\item FALSE\n",
       "\\item FALSE\n",
       "\\end{enumerate*}\n"
      ],
      "text/markdown": [
       "1. TRUE\n",
       "2. FALSE\n",
       "3. FALSE\n",
       "4. FALSE\n",
       "5. FALSE\n",
       "\n",
       "\n"
      ],
      "text/plain": [
       "[1]  TRUE FALSE FALSE FALSE FALSE"
      ]
     },
     "metadata": {},
     "output_type": "display_data"
    },
    {
     "data": {
      "text/html": [
       "1"
      ],
      "text/latex": [
       "1"
      ],
      "text/markdown": [
       "1"
      ],
      "text/plain": [
       "[1] 1"
      ]
     },
     "metadata": {},
     "output_type": "display_data"
    }
   ],
   "source": [
    "# Ex : 출력되는 x중 4와 7사이에 있는 것은 몇개인가\n",
    "set.seed(123)\n",
    "x <- runif(5,1,20)\n",
    "print(x)\n",
    "\n",
    "x>4 & x<7\n",
    "\n",
    "sum(x>4 & x<7)"
   ]
  },
  {
   "cell_type": "markdown",
   "metadata": {},
   "source": [
    "# 행렬 (Matrix)"
   ]
  },
  {
   "cell_type": "code",
   "execution_count": 120,
   "metadata": {
    "vscode": {
     "languageId": "r"
    }
   },
   "outputs": [],
   "source": [
    "# 행렬 : 2차원 자료를 저장하는 자료형 \n",
    "# 행렬은 데이터 형태가 모두 일치 되어야 구성\n",
    "\n",
    "#Vector로 행렬 만들기\n",
    "vec1 <-c(1,2,3)\n",
    "vec2 <-c(4,5,6)\n",
    "vec3 <-c(7,8,9)"
   ]
  },
  {
   "cell_type": "code",
   "execution_count": 158,
   "metadata": {
    "vscode": {
     "languageId": "r"
    }
   },
   "outputs": [],
   "source": [
    "# 행으로 붙이기 :rbind (row binding)\n",
    "mat1 <- rbind(vec1,vec2,vec3)"
   ]
  },
  {
   "cell_type": "code",
   "execution_count": 123,
   "metadata": {
    "vscode": {
     "languageId": "r"
    }
   },
   "outputs": [],
   "source": [
    "# 열로 붙이기 :cbind (column binding)\n",
    "mat2 <- cbind(vec1,vec2,vec3)"
   ]
  },
  {
   "cell_type": "code",
   "execution_count": 135,
   "metadata": {
    "vscode": {
     "languageId": "r"
    }
   },
   "outputs": [
    {
     "name": "stdout",
     "output_type": "stream",
     "text": [
      "[1] 2 2 2 2 2 2\n"
     ]
    },
    {
     "data": {
      "text/html": [
       "<table>\n",
       "<thead><tr><th scope=col>Sepal.Length</th><th scope=col>Sepal.Width</th><th scope=col>Petal.Length</th><th scope=col>Petal.Width</th><th scope=col>Species</th><th scope=col>abc</th></tr></thead>\n",
       "<tbody>\n",
       "\t<tr><td>5.1   </td><td>3.5   </td><td>1.4   </td><td>0.2   </td><td>setosa</td><td>2     </td></tr>\n",
       "\t<tr><td>4.9   </td><td>3     </td><td>1.4   </td><td>0.2   </td><td>setosa</td><td>2     </td></tr>\n",
       "\t<tr><td>4.7   </td><td>3.2   </td><td>1.3   </td><td>0.2   </td><td>setosa</td><td>2     </td></tr>\n",
       "\t<tr><td>4.6   </td><td>3.1   </td><td>1.5   </td><td>0.2   </td><td>setosa</td><td>2     </td></tr>\n",
       "\t<tr><td>5     </td><td>3.6   </td><td>1.4   </td><td>0.2   </td><td>setosa</td><td>2     </td></tr>\n",
       "\t<tr><td>1     </td><td>1     </td><td>1     </td><td>1     </td><td>setosa</td><td>2     </td></tr>\n",
       "</tbody>\n",
       "</table>\n"
      ],
      "text/latex": [
       "\\begin{tabular}{r|llllll}\n",
       " Sepal.Length & Sepal.Width & Petal.Length & Petal.Width & Species & abc\\\\\n",
       "\\hline\n",
       "\t 5.1    & 3.5    & 1.4    & 0.2    & setosa & 2     \\\\\n",
       "\t 4.9    & 3      & 1.4    & 0.2    & setosa & 2     \\\\\n",
       "\t 4.7    & 3.2    & 1.3    & 0.2    & setosa & 2     \\\\\n",
       "\t 4.6    & 3.1    & 1.5    & 0.2    & setosa & 2     \\\\\n",
       "\t 5      & 3.6    & 1.4    & 0.2    & setosa & 2     \\\\\n",
       "\t 1      & 1      & 1      & 1      & setosa & 2     \\\\\n",
       "\\end{tabular}\n"
      ],
      "text/markdown": [
       "\n",
       "| Sepal.Length | Sepal.Width | Petal.Length | Petal.Width | Species | abc |\n",
       "|---|---|---|---|---|---|\n",
       "| 5.1    | 3.5    | 1.4    | 0.2    | setosa | 2      |\n",
       "| 4.9    | 3      | 1.4    | 0.2    | setosa | 2      |\n",
       "| 4.7    | 3.2    | 1.3    | 0.2    | setosa | 2      |\n",
       "| 4.6    | 3.1    | 1.5    | 0.2    | setosa | 2      |\n",
       "| 5      | 3.6    | 1.4    | 0.2    | setosa | 2      |\n",
       "| 1      | 1      | 1      | 1      | setosa | 2      |\n",
       "\n"
      ],
      "text/plain": [
       "  Sepal.Length Sepal.Width Petal.Length Petal.Width Species abc\n",
       "1 5.1          3.5         1.4          0.2         setosa  2  \n",
       "2 4.9          3           1.4          0.2         setosa  2  \n",
       "3 4.7          3.2         1.3          0.2         setosa  2  \n",
       "4 4.6          3.1         1.5          0.2         setosa  2  \n",
       "5 5            3.6         1.4          0.2         setosa  2  \n",
       "6 1            1           1            1           setosa  2  "
      ]
     },
     "metadata": {},
     "output_type": "display_data"
    },
    {
     "data": {
      "text/html": [
       "<table>\n",
       "<thead><tr><th scope=col>Sepal.Length</th><th scope=col>Sepal.Width</th><th scope=col>Petal.Length</th><th scope=col>Petal.Width</th><th scope=col>Species</th><th scope=col>abc</th></tr></thead>\n",
       "<tbody>\n",
       "\t<tr><td>5.1   </td><td>3.5   </td><td>1.4   </td><td>0.2   </td><td>setosa</td><td>2     </td></tr>\n",
       "\t<tr><td>4.9   </td><td>3     </td><td>1.4   </td><td>0.2   </td><td>setosa</td><td>2     </td></tr>\n",
       "\t<tr><td>4.7   </td><td>3.2   </td><td>1.3   </td><td>0.2   </td><td>setosa</td><td>2     </td></tr>\n",
       "\t<tr><td>4.6   </td><td>3.1   </td><td>1.5   </td><td>0.2   </td><td>setosa</td><td>2     </td></tr>\n",
       "\t<tr><td>5     </td><td>3.6   </td><td>1.4   </td><td>0.2   </td><td>setosa</td><td>2     </td></tr>\n",
       "\t<tr><td>1     </td><td>1     </td><td>1     </td><td>1     </td><td>setosa</td><td>2     </td></tr>\n",
       "</tbody>\n",
       "</table>\n"
      ],
      "text/latex": [
       "\\begin{tabular}{r|llllll}\n",
       " Sepal.Length & Sepal.Width & Petal.Length & Petal.Width & Species & abc\\\\\n",
       "\\hline\n",
       "\t 5.1    & 3.5    & 1.4    & 0.2    & setosa & 2     \\\\\n",
       "\t 4.9    & 3      & 1.4    & 0.2    & setosa & 2     \\\\\n",
       "\t 4.7    & 3.2    & 1.3    & 0.2    & setosa & 2     \\\\\n",
       "\t 4.6    & 3.1    & 1.5    & 0.2    & setosa & 2     \\\\\n",
       "\t 5      & 3.6    & 1.4    & 0.2    & setosa & 2     \\\\\n",
       "\t 1      & 1      & 1      & 1      & setosa & 2     \\\\\n",
       "\\end{tabular}\n"
      ],
      "text/markdown": [
       "\n",
       "| Sepal.Length | Sepal.Width | Petal.Length | Petal.Width | Species | abc |\n",
       "|---|---|---|---|---|---|\n",
       "| 5.1    | 3.5    | 1.4    | 0.2    | setosa | 2      |\n",
       "| 4.9    | 3      | 1.4    | 0.2    | setosa | 2      |\n",
       "| 4.7    | 3.2    | 1.3    | 0.2    | setosa | 2      |\n",
       "| 4.6    | 3.1    | 1.5    | 0.2    | setosa | 2      |\n",
       "| 5      | 3.6    | 1.4    | 0.2    | setosa | 2      |\n",
       "| 1      | 1      | 1      | 1      | setosa | 2      |\n",
       "\n"
      ],
      "text/plain": [
       "  Sepal.Length Sepal.Width Petal.Length Petal.Width Species abc\n",
       "1 5.1          3.5         1.4          0.2         setosa  2  \n",
       "2 4.9          3           1.4          0.2         setosa  2  \n",
       "3 4.7          3.2         1.3          0.2         setosa  2  \n",
       "4 4.6          3.1         1.5          0.2         setosa  2  \n",
       "5 5            3.6         1.4          0.2         setosa  2  \n",
       "6 1            1           1            1           setosa  2  "
      ]
     },
     "metadata": {},
     "output_type": "display_data"
    }
   ],
   "source": [
    "# iris의 1~5번 데이터만 추출하여 irisHead 라는 변수에 넣기\n",
    "irisHead <- head(iris,5)\n",
    "\n",
    "# irisHead에 새로운 데이터 1,1,1,1,setosa 추가하기 \n",
    "irisHead <- rbind(irisHead,c(1,1,1,1,\"setosa\"))\n",
    "\n",
    "#irisHead 에 abc라는 컬럼과 2,2,2,2,2,2 의 데이터 추가하기\n",
    "abc <- rep(2,6)\n",
    "print(abc)\n",
    "cbind(irisHead,abc)\n",
    "\n",
    "cbind(irisHead,abc=rep(2,6)) #한번에 적어줄수있음 "
   ]
  },
  {
   "cell_type": "code",
   "execution_count": 139,
   "metadata": {
    "vscode": {
     "languageId": "r"
    }
   },
   "outputs": [],
   "source": [
    "irisHead <-cbind(irisHead,abc=rep(2,6))"
   ]
  },
  {
   "cell_type": "code",
   "execution_count": 140,
   "metadata": {
    "vscode": {
     "languageId": "r"
    }
   },
   "outputs": [
    {
     "data": {
      "text/html": [
       "<table>\n",
       "<thead><tr><th scope=col>Sepal.Length</th><th scope=col>Sepal.Width</th><th scope=col>Petal.Length</th><th scope=col>Petal.Width</th><th scope=col>Species</th><th scope=col>abc</th><th scope=col>abc</th></tr></thead>\n",
       "<tbody>\n",
       "\t<tr><td>5.1   </td><td>3.5   </td><td>1.4   </td><td>0.2   </td><td>setosa</td><td>2     </td><td>2     </td></tr>\n",
       "\t<tr><td>4.9   </td><td>3     </td><td>1.4   </td><td>0.2   </td><td>setosa</td><td>2     </td><td>2     </td></tr>\n",
       "\t<tr><td>4.7   </td><td>3.2   </td><td>1.3   </td><td>0.2   </td><td>setosa</td><td>2     </td><td>2     </td></tr>\n",
       "\t<tr><td>4.6   </td><td>3.1   </td><td>1.5   </td><td>0.2   </td><td>setosa</td><td>2     </td><td>2     </td></tr>\n",
       "\t<tr><td>5     </td><td>3.6   </td><td>1.4   </td><td>0.2   </td><td>setosa</td><td>2     </td><td>2     </td></tr>\n",
       "\t<tr><td>1     </td><td>1     </td><td>1     </td><td>1     </td><td>setosa</td><td>2     </td><td>2     </td></tr>\n",
       "</tbody>\n",
       "</table>\n"
      ],
      "text/latex": [
       "\\begin{tabular}{r|lllllll}\n",
       " Sepal.Length & Sepal.Width & Petal.Length & Petal.Width & Species & abc & abc\\\\\n",
       "\\hline\n",
       "\t 5.1    & 3.5    & 1.4    & 0.2    & setosa & 2      & 2     \\\\\n",
       "\t 4.9    & 3      & 1.4    & 0.2    & setosa & 2      & 2     \\\\\n",
       "\t 4.7    & 3.2    & 1.3    & 0.2    & setosa & 2      & 2     \\\\\n",
       "\t 4.6    & 3.1    & 1.5    & 0.2    & setosa & 2      & 2     \\\\\n",
       "\t 5      & 3.6    & 1.4    & 0.2    & setosa & 2      & 2     \\\\\n",
       "\t 1      & 1      & 1      & 1      & setosa & 2      & 2     \\\\\n",
       "\\end{tabular}\n"
      ],
      "text/markdown": [
       "\n",
       "| Sepal.Length | Sepal.Width | Petal.Length | Petal.Width | Species | abc | abc |\n",
       "|---|---|---|---|---|---|---|\n",
       "| 5.1    | 3.5    | 1.4    | 0.2    | setosa | 2      | 2      |\n",
       "| 4.9    | 3      | 1.4    | 0.2    | setosa | 2      | 2      |\n",
       "| 4.7    | 3.2    | 1.3    | 0.2    | setosa | 2      | 2      |\n",
       "| 4.6    | 3.1    | 1.5    | 0.2    | setosa | 2      | 2      |\n",
       "| 5      | 3.6    | 1.4    | 0.2    | setosa | 2      | 2      |\n",
       "| 1      | 1      | 1      | 1      | setosa | 2      | 2      |\n",
       "\n"
      ],
      "text/plain": [
       "  Sepal.Length Sepal.Width Petal.Length Petal.Width Species abc abc\n",
       "1 5.1          3.5         1.4          0.2         setosa  2   2  \n",
       "2 4.9          3           1.4          0.2         setosa  2   2  \n",
       "3 4.7          3.2         1.3          0.2         setosa  2   2  \n",
       "4 4.6          3.1         1.5          0.2         setosa  2   2  \n",
       "5 5            3.6         1.4          0.2         setosa  2   2  \n",
       "6 1            1           1            1           setosa  2   2  "
      ]
     },
     "metadata": {},
     "output_type": "display_data"
    }
   ],
   "source": [
    "irisHead"
   ]
  },
  {
   "cell_type": "code",
   "execution_count": 148,
   "metadata": {
    "vscode": {
     "languageId": "r"
    }
   },
   "outputs": [
    {
     "data": {
      "text/html": [
       "<table>\n",
       "<thead><tr><th scope=col>Sepal.Length</th><th scope=col>Sepal.Width</th><th scope=col>Petal.Length</th><th scope=col>Petal.Width</th><th scope=col>Species</th></tr></thead>\n",
       "<tbody>\n",
       "\t<tr><td>5.1   </td><td>3.5   </td><td>1.4   </td><td>0.2   </td><td>setosa</td></tr>\n",
       "\t<tr><td>4.9   </td><td>3.0   </td><td>1.4   </td><td>0.2   </td><td>setosa</td></tr>\n",
       "\t<tr><td>4.7   </td><td>3.2   </td><td>1.3   </td><td>0.2   </td><td>setosa</td></tr>\n",
       "\t<tr><td>4.6   </td><td>3.1   </td><td>1.5   </td><td>0.2   </td><td>setosa</td></tr>\n",
       "\t<tr><td>5.0   </td><td>3.6   </td><td>1.4   </td><td>0.2   </td><td>setosa</td></tr>\n",
       "</tbody>\n",
       "</table>\n"
      ],
      "text/latex": [
       "\\begin{tabular}{r|lllll}\n",
       " Sepal.Length & Sepal.Width & Petal.Length & Petal.Width & Species\\\\\n",
       "\\hline\n",
       "\t 5.1    & 3.5    & 1.4    & 0.2    & setosa\\\\\n",
       "\t 4.9    & 3.0    & 1.4    & 0.2    & setosa\\\\\n",
       "\t 4.7    & 3.2    & 1.3    & 0.2    & setosa\\\\\n",
       "\t 4.6    & 3.1    & 1.5    & 0.2    & setosa\\\\\n",
       "\t 5.0    & 3.6    & 1.4    & 0.2    & setosa\\\\\n",
       "\\end{tabular}\n"
      ],
      "text/markdown": [
       "\n",
       "| Sepal.Length | Sepal.Width | Petal.Length | Petal.Width | Species |\n",
       "|---|---|---|---|---|\n",
       "| 5.1    | 3.5    | 1.4    | 0.2    | setosa |\n",
       "| 4.9    | 3.0    | 1.4    | 0.2    | setosa |\n",
       "| 4.7    | 3.2    | 1.3    | 0.2    | setosa |\n",
       "| 4.6    | 3.1    | 1.5    | 0.2    | setosa |\n",
       "| 5.0    | 3.6    | 1.4    | 0.2    | setosa |\n",
       "\n"
      ],
      "text/plain": [
       "  Sepal.Length Sepal.Width Petal.Length Petal.Width Species\n",
       "1 5.1          3.5         1.4          0.2         setosa \n",
       "2 4.9          3.0         1.4          0.2         setosa \n",
       "3 4.7          3.2         1.3          0.2         setosa \n",
       "4 4.6          3.1         1.5          0.2         setosa \n",
       "5 5.0          3.6         1.4          0.2         setosa "
      ]
     },
     "metadata": {},
     "output_type": "display_data"
    }
   ],
   "source": [
    "# iris의 1~5번 데이터만 추출하여 irisHead라는 데이터 셋 만들기\n",
    "\n",
    "irisHead=iris[1:5,]\n",
    "irisHead"
   ]
  },
  {
   "cell_type": "code",
   "execution_count": 149,
   "metadata": {
    "vscode": {
     "languageId": "r"
    }
   },
   "outputs": [
    {
     "data": {
      "text/html": [
       "<ol class=list-inline>\n",
       "\t<li>6.5</li>\n",
       "\t<li>6.3</li>\n",
       "\t<li>6</li>\n",
       "\t<li>6.1</li>\n",
       "\t<li>6.4</li>\n",
       "</ol>\n"
      ],
      "text/latex": [
       "\\begin{enumerate*}\n",
       "\\item 6.5\n",
       "\\item 6.3\n",
       "\\item 6\n",
       "\\item 6.1\n",
       "\\item 6.4\n",
       "\\end{enumerate*}\n"
      ],
      "text/markdown": [
       "1. 6.5\n",
       "2. 6.3\n",
       "3. 6\n",
       "4. 6.1\n",
       "5. 6.4\n",
       "\n",
       "\n"
      ],
      "text/plain": [
       "[1] 6.5 6.3 6.0 6.1 6.4"
      ]
     },
     "metadata": {},
     "output_type": "display_data"
    }
   ],
   "source": [
    "irisHead$Sepal.Length + irisHead$Petal.Length\n",
    "#irisHead <- cbind(irisHead,Length=irisHead$Sepal.Length + irisHead$Petal.Length)\n",
    "#아래처럼 적어야 아무리 많이 실행해도 데이터가 계속 추가되는 일이 없음!\n",
    "irisHead$Length <-irisHead$Sepal.Length + irisHead$Petal.Length"
   ]
  },
  {
   "cell_type": "code",
   "execution_count": 150,
   "metadata": {
    "vscode": {
     "languageId": "r"
    }
   },
   "outputs": [
    {
     "data": {
      "text/html": [
       "<table>\n",
       "<thead><tr><th scope=col>Sepal.Length</th><th scope=col>Sepal.Width</th><th scope=col>Petal.Length</th><th scope=col>Petal.Width</th><th scope=col>Species</th><th scope=col>Length</th></tr></thead>\n",
       "<tbody>\n",
       "\t<tr><td>5.1   </td><td>3.5   </td><td>1.4   </td><td>0.2   </td><td>setosa</td><td>6.5   </td></tr>\n",
       "\t<tr><td>4.9   </td><td>3.0   </td><td>1.4   </td><td>0.2   </td><td>setosa</td><td>6.3   </td></tr>\n",
       "\t<tr><td>4.7   </td><td>3.2   </td><td>1.3   </td><td>0.2   </td><td>setosa</td><td>6.0   </td></tr>\n",
       "\t<tr><td>4.6   </td><td>3.1   </td><td>1.5   </td><td>0.2   </td><td>setosa</td><td>6.1   </td></tr>\n",
       "\t<tr><td>5.0   </td><td>3.6   </td><td>1.4   </td><td>0.2   </td><td>setosa</td><td>6.4   </td></tr>\n",
       "</tbody>\n",
       "</table>\n"
      ],
      "text/latex": [
       "\\begin{tabular}{r|llllll}\n",
       " Sepal.Length & Sepal.Width & Petal.Length & Petal.Width & Species & Length\\\\\n",
       "\\hline\n",
       "\t 5.1    & 3.5    & 1.4    & 0.2    & setosa & 6.5   \\\\\n",
       "\t 4.9    & 3.0    & 1.4    & 0.2    & setosa & 6.3   \\\\\n",
       "\t 4.7    & 3.2    & 1.3    & 0.2    & setosa & 6.0   \\\\\n",
       "\t 4.6    & 3.1    & 1.5    & 0.2    & setosa & 6.1   \\\\\n",
       "\t 5.0    & 3.6    & 1.4    & 0.2    & setosa & 6.4   \\\\\n",
       "\\end{tabular}\n"
      ],
      "text/markdown": [
       "\n",
       "| Sepal.Length | Sepal.Width | Petal.Length | Petal.Width | Species | Length |\n",
       "|---|---|---|---|---|---|\n",
       "| 5.1    | 3.5    | 1.4    | 0.2    | setosa | 6.5    |\n",
       "| 4.9    | 3.0    | 1.4    | 0.2    | setosa | 6.3    |\n",
       "| 4.7    | 3.2    | 1.3    | 0.2    | setosa | 6.0    |\n",
       "| 4.6    | 3.1    | 1.5    | 0.2    | setosa | 6.1    |\n",
       "| 5.0    | 3.6    | 1.4    | 0.2    | setosa | 6.4    |\n",
       "\n"
      ],
      "text/plain": [
       "  Sepal.Length Sepal.Width Petal.Length Petal.Width Species Length\n",
       "1 5.1          3.5         1.4          0.2         setosa  6.5   \n",
       "2 4.9          3.0         1.4          0.2         setosa  6.3   \n",
       "3 4.7          3.2         1.3          0.2         setosa  6.0   \n",
       "4 4.6          3.1         1.5          0.2         setosa  6.1   \n",
       "5 5.0          3.6         1.4          0.2         setosa  6.4   "
      ]
     },
     "metadata": {},
     "output_type": "display_data"
    }
   ],
   "source": [
    "irisHead"
   ]
  },
  {
   "cell_type": "code",
   "execution_count": 155,
   "metadata": {
    "vscode": {
     "languageId": "r"
    }
   },
   "outputs": [
    {
     "data": {
      "text/html": [
       "'matrix'"
      ],
      "text/latex": [
       "'matrix'"
      ],
      "text/markdown": [
       "'matrix'"
      ],
      "text/plain": [
       "[1] \"matrix\""
      ]
     },
     "metadata": {},
     "output_type": "display_data"
    }
   ],
   "source": [
    "# iris에서 Sepal.Length 와 Sepal.Width 만 추출하여 irisM이라는 데이터프레임 만들기\n",
    "\n",
    "sl <-iris$Sepal.Length\n",
    "sw <- iris$Sepal.Width\n",
    "\n",
    "irisM <- cbind(sl,sw)\n",
    "class(irisM)\n"
   ]
  },
  {
   "cell_type": "code",
   "execution_count": 156,
   "metadata": {
    "vscode": {
     "languageId": "r"
    }
   },
   "outputs": [
    {
     "data": {
      "text/html": [
       "'data.frame'"
      ],
      "text/latex": [
       "'data.frame'"
      ],
      "text/markdown": [
       "'data.frame'"
      ],
      "text/plain": [
       "[1] \"data.frame\""
      ]
     },
     "metadata": {},
     "output_type": "display_data"
    },
    {
     "data": {
      "text/html": [
       "<table>\n",
       "<thead><tr><th scope=col>sl</th><th scope=col>sw</th></tr></thead>\n",
       "<tbody>\n",
       "\t<tr><td>5.1</td><td>3.5</td></tr>\n",
       "\t<tr><td>4.9</td><td>3.0</td></tr>\n",
       "\t<tr><td>4.7</td><td>3.2</td></tr>\n",
       "\t<tr><td>4.6</td><td>3.1</td></tr>\n",
       "\t<tr><td>5.0</td><td>3.6</td></tr>\n",
       "\t<tr><td>5.4</td><td>3.9</td></tr>\n",
       "\t<tr><td>4.6</td><td>3.4</td></tr>\n",
       "\t<tr><td>5.0</td><td>3.4</td></tr>\n",
       "\t<tr><td>4.4</td><td>2.9</td></tr>\n",
       "\t<tr><td>4.9</td><td>3.1</td></tr>\n",
       "\t<tr><td>5.4</td><td>3.7</td></tr>\n",
       "\t<tr><td>4.8</td><td>3.4</td></tr>\n",
       "\t<tr><td>4.8</td><td>3.0</td></tr>\n",
       "\t<tr><td>4.3</td><td>3.0</td></tr>\n",
       "\t<tr><td>5.8</td><td>4.0</td></tr>\n",
       "\t<tr><td>5.7</td><td>4.4</td></tr>\n",
       "\t<tr><td>5.4</td><td>3.9</td></tr>\n",
       "\t<tr><td>5.1</td><td>3.5</td></tr>\n",
       "\t<tr><td>5.7</td><td>3.8</td></tr>\n",
       "\t<tr><td>5.1</td><td>3.8</td></tr>\n",
       "\t<tr><td>5.4</td><td>3.4</td></tr>\n",
       "\t<tr><td>5.1</td><td>3.7</td></tr>\n",
       "\t<tr><td>4.6</td><td>3.6</td></tr>\n",
       "\t<tr><td>5.1</td><td>3.3</td></tr>\n",
       "\t<tr><td>4.8</td><td>3.4</td></tr>\n",
       "\t<tr><td>5.0</td><td>3.0</td></tr>\n",
       "\t<tr><td>5.0</td><td>3.4</td></tr>\n",
       "\t<tr><td>5.2</td><td>3.5</td></tr>\n",
       "\t<tr><td>5.2</td><td>3.4</td></tr>\n",
       "\t<tr><td>4.7</td><td>3.2</td></tr>\n",
       "\t<tr><td>...</td><td>...</td></tr>\n",
       "\t<tr><td>6.9</td><td>3.2</td></tr>\n",
       "\t<tr><td>5.6</td><td>2.8</td></tr>\n",
       "\t<tr><td>7.7</td><td>2.8</td></tr>\n",
       "\t<tr><td>6.3</td><td>2.7</td></tr>\n",
       "\t<tr><td>6.7</td><td>3.3</td></tr>\n",
       "\t<tr><td>7.2</td><td>3.2</td></tr>\n",
       "\t<tr><td>6.2</td><td>2.8</td></tr>\n",
       "\t<tr><td>6.1</td><td>3.0</td></tr>\n",
       "\t<tr><td>6.4</td><td>2.8</td></tr>\n",
       "\t<tr><td>7.2</td><td>3.0</td></tr>\n",
       "\t<tr><td>7.4</td><td>2.8</td></tr>\n",
       "\t<tr><td>7.9</td><td>3.8</td></tr>\n",
       "\t<tr><td>6.4</td><td>2.8</td></tr>\n",
       "\t<tr><td>6.3</td><td>2.8</td></tr>\n",
       "\t<tr><td>6.1</td><td>2.6</td></tr>\n",
       "\t<tr><td>7.7</td><td>3.0</td></tr>\n",
       "\t<tr><td>6.3</td><td>3.4</td></tr>\n",
       "\t<tr><td>6.4</td><td>3.1</td></tr>\n",
       "\t<tr><td>6.0</td><td>3.0</td></tr>\n",
       "\t<tr><td>6.9</td><td>3.1</td></tr>\n",
       "\t<tr><td>6.7</td><td>3.1</td></tr>\n",
       "\t<tr><td>6.9</td><td>3.1</td></tr>\n",
       "\t<tr><td>5.8</td><td>2.7</td></tr>\n",
       "\t<tr><td>6.8</td><td>3.2</td></tr>\n",
       "\t<tr><td>6.7</td><td>3.3</td></tr>\n",
       "\t<tr><td>6.7</td><td>3.0</td></tr>\n",
       "\t<tr><td>6.3</td><td>2.5</td></tr>\n",
       "\t<tr><td>6.5</td><td>3.0</td></tr>\n",
       "\t<tr><td>6.2</td><td>3.4</td></tr>\n",
       "\t<tr><td>5.9</td><td>3.0</td></tr>\n",
       "</tbody>\n",
       "</table>\n"
      ],
      "text/latex": [
       "\\begin{tabular}{r|ll}\n",
       " sl & sw\\\\\n",
       "\\hline\n",
       "\t 5.1 & 3.5\\\\\n",
       "\t 4.9 & 3.0\\\\\n",
       "\t 4.7 & 3.2\\\\\n",
       "\t 4.6 & 3.1\\\\\n",
       "\t 5.0 & 3.6\\\\\n",
       "\t 5.4 & 3.9\\\\\n",
       "\t 4.6 & 3.4\\\\\n",
       "\t 5.0 & 3.4\\\\\n",
       "\t 4.4 & 2.9\\\\\n",
       "\t 4.9 & 3.1\\\\\n",
       "\t 5.4 & 3.7\\\\\n",
       "\t 4.8 & 3.4\\\\\n",
       "\t 4.8 & 3.0\\\\\n",
       "\t 4.3 & 3.0\\\\\n",
       "\t 5.8 & 4.0\\\\\n",
       "\t 5.7 & 4.4\\\\\n",
       "\t 5.4 & 3.9\\\\\n",
       "\t 5.1 & 3.5\\\\\n",
       "\t 5.7 & 3.8\\\\\n",
       "\t 5.1 & 3.8\\\\\n",
       "\t 5.4 & 3.4\\\\\n",
       "\t 5.1 & 3.7\\\\\n",
       "\t 4.6 & 3.6\\\\\n",
       "\t 5.1 & 3.3\\\\\n",
       "\t 4.8 & 3.4\\\\\n",
       "\t 5.0 & 3.0\\\\\n",
       "\t 5.0 & 3.4\\\\\n",
       "\t 5.2 & 3.5\\\\\n",
       "\t 5.2 & 3.4\\\\\n",
       "\t 4.7 & 3.2\\\\\n",
       "\t ... & ...\\\\\n",
       "\t 6.9 & 3.2\\\\\n",
       "\t 5.6 & 2.8\\\\\n",
       "\t 7.7 & 2.8\\\\\n",
       "\t 6.3 & 2.7\\\\\n",
       "\t 6.7 & 3.3\\\\\n",
       "\t 7.2 & 3.2\\\\\n",
       "\t 6.2 & 2.8\\\\\n",
       "\t 6.1 & 3.0\\\\\n",
       "\t 6.4 & 2.8\\\\\n",
       "\t 7.2 & 3.0\\\\\n",
       "\t 7.4 & 2.8\\\\\n",
       "\t 7.9 & 3.8\\\\\n",
       "\t 6.4 & 2.8\\\\\n",
       "\t 6.3 & 2.8\\\\\n",
       "\t 6.1 & 2.6\\\\\n",
       "\t 7.7 & 3.0\\\\\n",
       "\t 6.3 & 3.4\\\\\n",
       "\t 6.4 & 3.1\\\\\n",
       "\t 6.0 & 3.0\\\\\n",
       "\t 6.9 & 3.1\\\\\n",
       "\t 6.7 & 3.1\\\\\n",
       "\t 6.9 & 3.1\\\\\n",
       "\t 5.8 & 2.7\\\\\n",
       "\t 6.8 & 3.2\\\\\n",
       "\t 6.7 & 3.3\\\\\n",
       "\t 6.7 & 3.0\\\\\n",
       "\t 6.3 & 2.5\\\\\n",
       "\t 6.5 & 3.0\\\\\n",
       "\t 6.2 & 3.4\\\\\n",
       "\t 5.9 & 3.0\\\\\n",
       "\\end{tabular}\n"
      ],
      "text/markdown": [
       "\n",
       "| sl | sw |\n",
       "|---|---|\n",
       "| 5.1 | 3.5 |\n",
       "| 4.9 | 3.0 |\n",
       "| 4.7 | 3.2 |\n",
       "| 4.6 | 3.1 |\n",
       "| 5.0 | 3.6 |\n",
       "| 5.4 | 3.9 |\n",
       "| 4.6 | 3.4 |\n",
       "| 5.0 | 3.4 |\n",
       "| 4.4 | 2.9 |\n",
       "| 4.9 | 3.1 |\n",
       "| 5.4 | 3.7 |\n",
       "| 4.8 | 3.4 |\n",
       "| 4.8 | 3.0 |\n",
       "| 4.3 | 3.0 |\n",
       "| 5.8 | 4.0 |\n",
       "| 5.7 | 4.4 |\n",
       "| 5.4 | 3.9 |\n",
       "| 5.1 | 3.5 |\n",
       "| 5.7 | 3.8 |\n",
       "| 5.1 | 3.8 |\n",
       "| 5.4 | 3.4 |\n",
       "| 5.1 | 3.7 |\n",
       "| 4.6 | 3.6 |\n",
       "| 5.1 | 3.3 |\n",
       "| 4.8 | 3.4 |\n",
       "| 5.0 | 3.0 |\n",
       "| 5.0 | 3.4 |\n",
       "| 5.2 | 3.5 |\n",
       "| 5.2 | 3.4 |\n",
       "| 4.7 | 3.2 |\n",
       "| ... | ... |\n",
       "| 6.9 | 3.2 |\n",
       "| 5.6 | 2.8 |\n",
       "| 7.7 | 2.8 |\n",
       "| 6.3 | 2.7 |\n",
       "| 6.7 | 3.3 |\n",
       "| 7.2 | 3.2 |\n",
       "| 6.2 | 2.8 |\n",
       "| 6.1 | 3.0 |\n",
       "| 6.4 | 2.8 |\n",
       "| 7.2 | 3.0 |\n",
       "| 7.4 | 2.8 |\n",
       "| 7.9 | 3.8 |\n",
       "| 6.4 | 2.8 |\n",
       "| 6.3 | 2.8 |\n",
       "| 6.1 | 2.6 |\n",
       "| 7.7 | 3.0 |\n",
       "| 6.3 | 3.4 |\n",
       "| 6.4 | 3.1 |\n",
       "| 6.0 | 3.0 |\n",
       "| 6.9 | 3.1 |\n",
       "| 6.7 | 3.1 |\n",
       "| 6.9 | 3.1 |\n",
       "| 5.8 | 2.7 |\n",
       "| 6.8 | 3.2 |\n",
       "| 6.7 | 3.3 |\n",
       "| 6.7 | 3.0 |\n",
       "| 6.3 | 2.5 |\n",
       "| 6.5 | 3.0 |\n",
       "| 6.2 | 3.4 |\n",
       "| 5.9 | 3.0 |\n",
       "\n"
      ],
      "text/plain": [
       "    sl  sw \n",
       "1   5.1 3.5\n",
       "2   4.9 3.0\n",
       "3   4.7 3.2\n",
       "4   4.6 3.1\n",
       "5   5.0 3.6\n",
       "6   5.4 3.9\n",
       "7   4.6 3.4\n",
       "8   5.0 3.4\n",
       "9   4.4 2.9\n",
       "10  4.9 3.1\n",
       "11  5.4 3.7\n",
       "12  4.8 3.4\n",
       "13  4.8 3.0\n",
       "14  4.3 3.0\n",
       "15  5.8 4.0\n",
       "16  5.7 4.4\n",
       "17  5.4 3.9\n",
       "18  5.1 3.5\n",
       "19  5.7 3.8\n",
       "20  5.1 3.8\n",
       "21  5.4 3.4\n",
       "22  5.1 3.7\n",
       "23  4.6 3.6\n",
       "24  5.1 3.3\n",
       "25  4.8 3.4\n",
       "26  5.0 3.0\n",
       "27  5.0 3.4\n",
       "28  5.2 3.5\n",
       "29  5.2 3.4\n",
       "30  4.7 3.2\n",
       "... ... ...\n",
       "121 6.9 3.2\n",
       "122 5.6 2.8\n",
       "123 7.7 2.8\n",
       "124 6.3 2.7\n",
       "125 6.7 3.3\n",
       "126 7.2 3.2\n",
       "127 6.2 2.8\n",
       "128 6.1 3.0\n",
       "129 6.4 2.8\n",
       "130 7.2 3.0\n",
       "131 7.4 2.8\n",
       "132 7.9 3.8\n",
       "133 6.4 2.8\n",
       "134 6.3 2.8\n",
       "135 6.1 2.6\n",
       "136 7.7 3.0\n",
       "137 6.3 3.4\n",
       "138 6.4 3.1\n",
       "139 6.0 3.0\n",
       "140 6.9 3.1\n",
       "141 6.7 3.1\n",
       "142 6.9 3.1\n",
       "143 5.8 2.7\n",
       "144 6.8 3.2\n",
       "145 6.7 3.3\n",
       "146 6.7 3.0\n",
       "147 6.3 2.5\n",
       "148 6.5 3.0\n",
       "149 6.2 3.4\n",
       "150 5.9 3.0"
      ]
     },
     "metadata": {},
     "output_type": "display_data"
    }
   ],
   "source": [
    "irisM <- as.data.frame(irisM)\n",
    "class(irisM)\n",
    "irisM"
   ]
  },
  {
   "cell_type": "code",
   "execution_count": 167,
   "metadata": {
    "vscode": {
     "languageId": "r"
    }
   },
   "outputs": [
    {
     "data": {
      "text/html": [
       "<table>\n",
       "<thead><tr><th></th><th scope=col>A</th><th scope=col>B</th><th scope=col>C</th></tr></thead>\n",
       "<tbody>\n",
       "\t<tr><th scope=row>vec1</th><td>1</td><td>2</td><td>3</td></tr>\n",
       "\t<tr><th scope=row>vec2</th><td>4</td><td>5</td><td>6</td></tr>\n",
       "\t<tr><th scope=row>vec3</th><td>7</td><td>8</td><td>9</td></tr>\n",
       "</tbody>\n",
       "</table>\n"
      ],
      "text/latex": [
       "\\begin{tabular}{r|lll}\n",
       "  & A & B & C\\\\\n",
       "\\hline\n",
       "\tvec1 & 1 & 2 & 3\\\\\n",
       "\tvec2 & 4 & 5 & 6\\\\\n",
       "\tvec3 & 7 & 8 & 9\\\\\n",
       "\\end{tabular}\n"
      ],
      "text/markdown": [
       "\n",
       "| <!--/--> | A | B | C |\n",
       "|---|---|---|---|\n",
       "| vec1 | 1 | 2 | 3 |\n",
       "| vec2 | 4 | 5 | 6 |\n",
       "| vec3 | 7 | 8 | 9 |\n",
       "\n"
      ],
      "text/plain": [
       "     A B C\n",
       "vec1 1 2 3\n",
       "vec2 4 5 6\n",
       "vec3 7 8 9"
      ]
     },
     "metadata": {},
     "output_type": "display_data"
    },
    {
     "data": {
      "text/html": [
       "<table>\n",
       "<thead><tr><th></th><th scope=col>A</th><th scope=col>B</th><th scope=col>C</th></tr></thead>\n",
       "<tbody>\n",
       "\t<tr><th scope=row>vec1</th><td>1</td><td>2</td><td>3</td></tr>\n",
       "\t<tr><th scope=row>vec2</th><td>4</td><td>5</td><td>6</td></tr>\n",
       "\t<tr><th scope=row>vec3</th><td>7</td><td>8</td><td>9</td></tr>\n",
       "</tbody>\n",
       "</table>\n"
      ],
      "text/latex": [
       "\\begin{tabular}{r|lll}\n",
       "  & A & B & C\\\\\n",
       "\\hline\n",
       "\tvec1 & 1 & 2 & 3\\\\\n",
       "\tvec2 & 4 & 5 & 6\\\\\n",
       "\tvec3 & 7 & 8 & 9\\\\\n",
       "\\end{tabular}\n"
      ],
      "text/markdown": [
       "\n",
       "| <!--/--> | A | B | C |\n",
       "|---|---|---|---|\n",
       "| vec1 | 1 | 2 | 3 |\n",
       "| vec2 | 4 | 5 | 6 |\n",
       "| vec3 | 7 | 8 | 9 |\n",
       "\n"
      ],
      "text/plain": [
       "     A B C\n",
       "vec1 1 2 3\n",
       "vec2 4 5 6\n",
       "vec3 7 8 9"
      ]
     },
     "metadata": {},
     "output_type": "display_data"
    },
    {
     "data": {
      "text/html": [
       "'matrix'"
      ],
      "text/latex": [
       "'matrix'"
      ],
      "text/markdown": [
       "'matrix'"
      ],
      "text/plain": [
       "[1] \"matrix\""
      ]
     },
     "metadata": {},
     "output_type": "display_data"
    },
    {
     "data": {
      "text/html": [
       "'data.frame'"
      ],
      "text/latex": [
       "'data.frame'"
      ],
      "text/markdown": [
       "'data.frame'"
      ],
      "text/plain": [
       "[1] \"data.frame\""
      ]
     },
     "metadata": {},
     "output_type": "display_data"
    }
   ],
   "source": [
    "# mat1의 컬럼 이름 추가\n",
    "\n",
    "mat1\n",
    "colnames(mat1) <- c('A','B','C')\n",
    "mat1\n",
    "class(mat1)\n",
    "mat1D <-as.data.frame(mat1)\n",
    "class(mat1D)"
   ]
  },
  {
   "cell_type": "code",
   "execution_count": 172,
   "metadata": {
    "vscode": {
     "languageId": "r"
    }
   },
   "outputs": [
    {
     "data": {
      "text/html": [
       "<table>\n",
       "<thead><tr><th scope=col>vec1</th><th scope=col>vec2</th><th scope=col>vec3</th></tr></thead>\n",
       "<tbody>\n",
       "\t<tr><td>1</td><td>4</td><td>7</td></tr>\n",
       "\t<tr><td>2</td><td>5</td><td>8</td></tr>\n",
       "\t<tr><td>3</td><td>6</td><td>9</td></tr>\n",
       "</tbody>\n",
       "</table>\n"
      ],
      "text/latex": [
       "\\begin{tabular}{r|lll}\n",
       " vec1 & vec2 & vec3\\\\\n",
       "\\hline\n",
       "\t 1 & 4 & 7\\\\\n",
       "\t 2 & 5 & 8\\\\\n",
       "\t 3 & 6 & 9\\\\\n",
       "\\end{tabular}\n"
      ],
      "text/markdown": [
       "\n",
       "| vec1 | vec2 | vec3 |\n",
       "|---|---|---|\n",
       "| 1 | 4 | 7 |\n",
       "| 2 | 5 | 8 |\n",
       "| 3 | 6 | 9 |\n",
       "\n"
      ],
      "text/plain": [
       "  vec1 vec2 vec3\n",
       "1 1    4    7   \n",
       "2 2    5    8   \n",
       "3 3    6    9   "
      ]
     },
     "metadata": {},
     "output_type": "display_data"
    },
    {
     "name": "stdout",
     "output_type": "stream",
     "text": [
      "  vec1 vec2 vec3\n",
      "1    1    4    7\n",
      "2    2    5    8\n",
      "3    3    6    9\n"
     ]
    },
    {
     "data": {
      "text/html": [
       "'data.frame'"
      ],
      "text/latex": [
       "'data.frame'"
      ],
      "text/markdown": [
       "'data.frame'"
      ],
      "text/plain": [
       "[1] \"data.frame\""
      ]
     },
     "metadata": {},
     "output_type": "display_data"
    }
   ],
   "source": [
    "# mat2에 로우이름 추가 하기\n",
    "\n",
    "mat2\n",
    "rownames(mat2) <- 1:3\n",
    "\n",
    "print(mat2)\n",
    "mat2D <- as.data.frame(mat2)\n",
    "class(mat2D)"
   ]
  },
  {
   "cell_type": "code",
   "execution_count": 184,
   "metadata": {
    "vscode": {
     "languageId": "r"
    }
   },
   "outputs": [
    {
     "data": {
      "text/html": [
       "<table>\n",
       "<thead><tr><th></th><th scope=col>A</th><th scope=col>B</th><th scope=col>C</th></tr></thead>\n",
       "<tbody>\n",
       "\t<tr><th scope=row>vec1</th><td>1</td><td>2</td><td>3</td></tr>\n",
       "\t<tr><th scope=row>vec2</th><td>4</td><td>5</td><td>6</td></tr>\n",
       "\t<tr><th scope=row>vec3</th><td>7</td><td>8</td><td>9</td></tr>\n",
       "</tbody>\n",
       "</table>\n"
      ],
      "text/latex": [
       "\\begin{tabular}{r|lll}\n",
       "  & A & B & C\\\\\n",
       "\\hline\n",
       "\tvec1 & 1 & 2 & 3\\\\\n",
       "\tvec2 & 4 & 5 & 6\\\\\n",
       "\tvec3 & 7 & 8 & 9\\\\\n",
       "\\end{tabular}\n"
      ],
      "text/markdown": [
       "\n",
       "| <!--/--> | A | B | C |\n",
       "|---|---|---|---|\n",
       "| vec1 | 1 | 2 | 3 |\n",
       "| vec2 | 4 | 5 | 6 |\n",
       "| vec3 | 7 | 8 | 9 |\n",
       "\n"
      ],
      "text/plain": [
       "     A B C\n",
       "vec1 1 2 3\n",
       "vec2 4 5 6\n",
       "vec3 7 8 9"
      ]
     },
     "metadata": {},
     "output_type": "display_data"
    },
    {
     "data": {
      "text/html": [
       "<table>\n",
       "<thead><tr><th></th><th scope=col>A</th><th scope=col>B</th><th scope=col>C</th></tr></thead>\n",
       "<tbody>\n",
       "\t<tr><th scope=row>vec1</th><td>1</td><td>2</td><td>3</td></tr>\n",
       "\t<tr><th scope=row>vec2</th><td>4</td><td>5</td><td>6</td></tr>\n",
       "\t<tr><th scope=row>vec3</th><td>7</td><td>8</td><td>9</td></tr>\n",
       "\t<tr><th scope=row>1</th><td>1</td><td>4</td><td>7</td></tr>\n",
       "\t<tr><th scope=row>2</th><td>2</td><td>5</td><td>8</td></tr>\n",
       "\t<tr><th scope=row>3</th><td>3</td><td>6</td><td>9</td></tr>\n",
       "</tbody>\n",
       "</table>\n"
      ],
      "text/latex": [
       "\\begin{tabular}{r|lll}\n",
       "  & A & B & C\\\\\n",
       "\\hline\n",
       "\tvec1 & 1 & 2 & 3\\\\\n",
       "\tvec2 & 4 & 5 & 6\\\\\n",
       "\tvec3 & 7 & 8 & 9\\\\\n",
       "\t1 & 1 & 4 & 7\\\\\n",
       "\t2 & 2 & 5 & 8\\\\\n",
       "\t3 & 3 & 6 & 9\\\\\n",
       "\\end{tabular}\n"
      ],
      "text/markdown": [
       "\n",
       "| <!--/--> | A | B | C |\n",
       "|---|---|---|---|\n",
       "| vec1 | 1 | 2 | 3 |\n",
       "| vec2 | 4 | 5 | 6 |\n",
       "| vec3 | 7 | 8 | 9 |\n",
       "| 1 | 1 | 4 | 7 |\n",
       "| 2 | 2 | 5 | 8 |\n",
       "| 3 | 3 | 6 | 9 |\n",
       "\n"
      ],
      "text/plain": [
       "     A B C\n",
       "vec1 1 2 3\n",
       "vec2 4 5 6\n",
       "vec3 7 8 9\n",
       "1    1 4 7\n",
       "2    2 5 8\n",
       "3    3 6 9"
      ]
     },
     "metadata": {},
     "output_type": "display_data"
    }
   ],
   "source": [
    "# mat1D와 mat2D 를 하나의 데이터셋으로 합치기\n",
    "mat1D\n",
    "colnames(mat2D) <- colnames(mat1D)\n",
    "rbind(mat1D,mat2D)"
   ]
  },
  {
   "cell_type": "markdown",
   "metadata": {},
   "source": [
    "---\n",
    "# DataFrame\n",
    "- 다양한 자료형으로 구성된 2차원 형태의 데이터 구조"
   ]
  },
  {
   "cell_type": "code",
   "execution_count": 10,
   "metadata": {
    "vscode": {
     "languageId": "r"
    }
   },
   "outputs": [],
   "source": [
    "# 벡터로 데이터 프레임 만들기\n",
    "\n",
    "no <- 1:4\n",
    "name <-c('Apple','Banana','Peach','Berry')\n",
    "price <-c(500,400,300,200)\n",
    "qty <-c(5,2,7,9)"
   ]
  },
  {
   "cell_type": "code",
   "execution_count": 11,
   "metadata": {
    "vscode": {
     "languageId": "r"
    }
   },
   "outputs": [
    {
     "data": {
      "text/html": [
       "<table>\n",
       "<thead><tr><th scope=col>번호</th><th scope=col>상품명</th><th scope=col>금액</th><th scope=col>재고량</th></tr></thead>\n",
       "<tbody>\n",
       "\t<tr><td>1     </td><td>Apple </td><td>500   </td><td>5     </td></tr>\n",
       "\t<tr><td>2     </td><td>Banana</td><td>400   </td><td>2     </td></tr>\n",
       "\t<tr><td>3     </td><td>Peach </td><td>300   </td><td>7     </td></tr>\n",
       "\t<tr><td>4     </td><td>Berry </td><td>200   </td><td>9     </td></tr>\n",
       "</tbody>\n",
       "</table>\n"
      ],
      "text/latex": [
       "\\begin{tabular}{r|llll}\n",
       " 번호 & 상품명 & 금액 & 재고량\\\\\n",
       "\\hline\n",
       "\t 1      & Apple  & 500    & 5     \\\\\n",
       "\t 2      & Banana & 400    & 2     \\\\\n",
       "\t 3      & Peach  & 300    & 7     \\\\\n",
       "\t 4      & Berry  & 200    & 9     \\\\\n",
       "\\end{tabular}\n"
      ],
      "text/markdown": [
       "\n",
       "| 번호 | 상품명 | 금액 | 재고량 |\n",
       "|---|---|---|---|\n",
       "| 1      | Apple  | 500    | 5      |\n",
       "| 2      | Banana | 400    | 2      |\n",
       "| 3      | Peach  | 300    | 7      |\n",
       "| 4      | Berry  | 200    | 9      |\n",
       "\n"
      ],
      "text/plain": [
       "  번호 상품명 금액 재고량\n",
       "1 1    Apple  500  5     \n",
       "2 2    Banana 400  2     \n",
       "3 3    Peach  300  7     \n",
       "4 4    Berry  200  9     "
      ]
     },
     "metadata": {},
     "output_type": "display_data"
    }
   ],
   "source": [
    "fruit <-data.frame(번호=no,상품명=name,금액=price,재고량=qty, stringsAsFactors=F) \n",
    "#factor 아닌 char로 나오게 하기 위해서 써줌 factor는 숫자도 함께 포함되어 있기에 용량이 큼 그래서 굳이 안해도 되는 애들은 바꿔주는 것 \n",
    "fruit"
   ]
  },
  {
   "cell_type": "code",
   "execution_count": 12,
   "metadata": {
    "vscode": {
     "languageId": "r"
    }
   },
   "outputs": [
    {
     "name": "stdout",
     "output_type": "stream",
     "text": [
      "'data.frame':\t4 obs. of  4 variables:\n",
      " $ 번호  : int  1 2 3 4\n",
      " $ 상품명: chr  \"Apple\" \"Banana\" \"Peach\" \"Berry\"\n",
      " $ 금액  : num  500 400 300 200\n",
      " $ 재고량: num  5 2 7 9\n"
     ]
    }
   ],
   "source": [
    "str(fruit)"
   ]
  },
  {
   "cell_type": "code",
   "execution_count": 13,
   "metadata": {
    "vscode": {
     "languageId": "r"
    }
   },
   "outputs": [
    {
     "data": {
      "text/plain": [
       "      번호         상품명               금액         재고량    \n",
       " Min.   :1.00   Length:4           Min.   :200   Min.   :2.00  \n",
       " 1st Qu.:1.75   Class :character   1st Qu.:275   1st Qu.:4.25  \n",
       " Median :2.50   Mode  :character   Median :350   Median :6.00  \n",
       " Mean   :2.50                      Mean   :350   Mean   :5.75  \n",
       " 3rd Qu.:3.25                      3rd Qu.:425   3rd Qu.:7.50  \n",
       " Max.   :4.00                      Max.   :500   Max.   :9.00  "
      ]
     },
     "metadata": {},
     "output_type": "display_data"
    }
   ],
   "source": [
    "summary(fruit)"
   ]
  },
  {
   "cell_type": "code",
   "execution_count": 17,
   "metadata": {
    "vscode": {
     "languageId": "r"
    }
   },
   "outputs": [
    {
     "data": {
      "text/html": [
       "<table>\n",
       "<thead><tr><th scope=col>상품명</th><th scope=col>재고량</th></tr></thead>\n",
       "<tbody>\n",
       "\t<tr><td>Apple </td><td>5     </td></tr>\n",
       "\t<tr><td>Banana</td><td>2     </td></tr>\n",
       "\t<tr><td>Peach </td><td>7     </td></tr>\n",
       "\t<tr><td>Berry </td><td>9     </td></tr>\n",
       "</tbody>\n",
       "</table>\n"
      ],
      "text/latex": [
       "\\begin{tabular}{r|ll}\n",
       " 상품명 & 재고량\\\\\n",
       "\\hline\n",
       "\t Apple  & 5     \\\\\n",
       "\t Banana & 2     \\\\\n",
       "\t Peach  & 7     \\\\\n",
       "\t Berry  & 9     \\\\\n",
       "\\end{tabular}\n"
      ],
      "text/markdown": [
       "\n",
       "| 상품명 | 재고량 |\n",
       "|---|---|\n",
       "| Apple  | 5      |\n",
       "| Banana | 2      |\n",
       "| Peach  | 7      |\n",
       "| Berry  | 9      |\n",
       "\n"
      ],
      "text/plain": [
       "  상품명 재고량\n",
       "1 Apple  5     \n",
       "2 Banana 2     \n",
       "3 Peach  7     \n",
       "4 Berry  9     "
      ]
     },
     "metadata": {},
     "output_type": "display_data"
    }
   ],
   "source": [
    "# fruit 에서 상품명과 재고량만 보기\n",
    "\n",
    "fruit[,c(2,4)]"
   ]
  },
  {
   "cell_type": "code",
   "execution_count": 18,
   "metadata": {},
   "outputs": [
    {
     "data": {
      "text/html": [
       "<table>\n",
       "<thead><tr><th scope=col>상품명</th><th scope=col>금액</th><th scope=col>재고량</th></tr></thead>\n",
       "<tbody>\n",
       "\t<tr><td>Apple </td><td>500   </td><td>5     </td></tr>\n",
       "\t<tr><td>Banana</td><td>400   </td><td>2     </td></tr>\n",
       "\t<tr><td>Peach </td><td>300   </td><td>7     </td></tr>\n",
       "\t<tr><td>Berry </td><td>200   </td><td>9     </td></tr>\n",
       "</tbody>\n",
       "</table>\n"
      ],
      "text/latex": [
       "\\begin{tabular}{r|lll}\n",
       " 상품명 & 금액 & 재고량\\\\\n",
       "\\hline\n",
       "\t Apple  & 500    & 5     \\\\\n",
       "\t Banana & 400    & 2     \\\\\n",
       "\t Peach  & 300    & 7     \\\\\n",
       "\t Berry  & 200    & 9     \\\\\n",
       "\\end{tabular}\n"
      ],
      "text/markdown": [
       "\n",
       "| 상품명 | 금액 | 재고량 |\n",
       "|---|---|---|\n",
       "| Apple  | 500    | 5      |\n",
       "| Banana | 400    | 2      |\n",
       "| Peach  | 300    | 7      |\n",
       "| Berry  | 200    | 9      |\n",
       "\n"
      ],
      "text/plain": [
       "  상품명 금액 재고량\n",
       "1 Apple  500  5     \n",
       "2 Banana 400  2     \n",
       "3 Peach  300  7     \n",
       "4 Berry  200  9     "
      ]
     },
     "metadata": {},
     "output_type": "display_data"
    }
   ],
   "source": [
    "# fruit 에서 번호를 제외한 모든 내용보기\n",
    "fruit[,-1]"
   ]
  },
  {
   "cell_type": "code",
   "execution_count": 21,
   "metadata": {},
   "outputs": [
    {
     "data": {
      "text/html": [
       "<table>\n",
       "<thead><tr><th scope=col>번호</th><th scope=col>상품명</th><th scope=col>금액</th><th scope=col>재고량</th></tr></thead>\n",
       "<tbody>\n",
       "\t<tr><td>1     </td><td>Apple </td><td>500   </td><td>5     </td></tr>\n",
       "\t<tr><td>2     </td><td>Banana</td><td>400   </td><td>2     </td></tr>\n",
       "\t<tr><td>3     </td><td>Peach </td><td>300   </td><td>7     </td></tr>\n",
       "\t<tr><td>4     </td><td>Berry </td><td>200   </td><td>9     </td></tr>\n",
       "</tbody>\n",
       "</table>\n"
      ],
      "text/latex": [
       "\\begin{tabular}{r|llll}\n",
       " 번호 & 상품명 & 금액 & 재고량\\\\\n",
       "\\hline\n",
       "\t 1      & Apple  & 500    & 5     \\\\\n",
       "\t 2      & Banana & 400    & 2     \\\\\n",
       "\t 3      & Peach  & 300    & 7     \\\\\n",
       "\t 4      & Berry  & 200    & 9     \\\\\n",
       "\\end{tabular}\n"
      ],
      "text/markdown": [
       "\n",
       "| 번호 | 상품명 | 금액 | 재고량 |\n",
       "|---|---|---|---|\n",
       "| 1      | Apple  | 500    | 5      |\n",
       "| 2      | Banana | 400    | 2      |\n",
       "| 3      | Peach  | 300    | 7      |\n",
       "| 4      | Berry  | 200    | 9      |\n",
       "\n"
      ],
      "text/plain": [
       "  번호 상품명 금액 재고량\n",
       "1 1    Apple  500  5     \n",
       "2 2    Banana 400  2     \n",
       "3 3    Peach  300  7     \n",
       "4 4    Berry  200  9     "
      ]
     },
     "metadata": {},
     "output_type": "display_data"
    },
    {
     "data": {
      "text/html": [
       "<table>\n",
       "<thead><tr><th></th><th scope=col>상품명</th><th scope=col>금액</th><th scope=col>재고량</th></tr></thead>\n",
       "<tbody>\n",
       "\t<tr><th scope=row>1</th><td>Apple</td><td>500  </td><td>5    </td></tr>\n",
       "\t<tr><th scope=row>3</th><td>Peach</td><td>300  </td><td>7    </td></tr>\n",
       "</tbody>\n",
       "</table>\n"
      ],
      "text/latex": [
       "\\begin{tabular}{r|lll}\n",
       "  & 상품명 & 금액 & 재고량\\\\\n",
       "\\hline\n",
       "\t1 & Apple & 500   & 5    \\\\\n",
       "\t3 & Peach & 300   & 7    \\\\\n",
       "\\end{tabular}\n"
      ],
      "text/markdown": [
       "\n",
       "| <!--/--> | 상품명 | 금액 | 재고량 |\n",
       "|---|---|---|---|\n",
       "| 1 | Apple | 500   | 5     |\n",
       "| 3 | Peach | 300   | 7     |\n",
       "\n"
      ],
      "text/plain": [
       "  상품명 금액 재고량\n",
       "1 Apple  500  5     \n",
       "3 Peach  300  7     "
      ]
     },
     "metadata": {},
     "output_type": "display_data"
    }
   ],
   "source": [
    "#fruit에서 2,4번째 행을 제외한 상품명, 금액, 재고량만 출력하기\n",
    "\n",
    "fruit\n",
    "fruit[-c(2,4),2:4]"
   ]
  },
  {
   "cell_type": "code",
   "execution_count": 26,
   "metadata": {},
   "outputs": [
    {
     "data": {
      "text/html": [
       "<table>\n",
       "<thead><tr><th scope=col>번호</th><th scope=col>상품명</th><th scope=col>금액</th><th scope=col>재고량</th><th scope=col>재고금액</th></tr></thead>\n",
       "<tbody>\n",
       "\t<tr><td>1     </td><td>Apple </td><td>500   </td><td>5     </td><td>2500  </td></tr>\n",
       "\t<tr><td>2     </td><td>Banana</td><td>400   </td><td>2     </td><td> 800  </td></tr>\n",
       "\t<tr><td>3     </td><td>Peach </td><td>300   </td><td>7     </td><td>2100  </td></tr>\n",
       "\t<tr><td>4     </td><td>Berry </td><td>200   </td><td>9     </td><td>1800  </td></tr>\n",
       "</tbody>\n",
       "</table>\n"
      ],
      "text/latex": [
       "\\begin{tabular}{r|lllll}\n",
       " 번호 & 상품명 & 금액 & 재고량 & 재고금액\\\\\n",
       "\\hline\n",
       "\t 1      & Apple  & 500    & 5      & 2500  \\\\\n",
       "\t 2      & Banana & 400    & 2      &  800  \\\\\n",
       "\t 3      & Peach  & 300    & 7      & 2100  \\\\\n",
       "\t 4      & Berry  & 200    & 9      & 1800  \\\\\n",
       "\\end{tabular}\n"
      ],
      "text/markdown": [
       "\n",
       "| 번호 | 상품명 | 금액 | 재고량 | 재고금액 |\n",
       "|---|---|---|---|---|\n",
       "| 1      | Apple  | 500    | 5      | 2500   |\n",
       "| 2      | Banana | 400    | 2      |  800   |\n",
       "| 3      | Peach  | 300    | 7      | 2100   |\n",
       "| 4      | Berry  | 200    | 9      | 1800   |\n",
       "\n"
      ],
      "text/plain": [
       "  번호 상품명 금액 재고량 재고금액\n",
       "1 1    Apple  500  5      2500    \n",
       "2 2    Banana 400  2       800    \n",
       "3 3    Peach  300  7      2100    \n",
       "4 4    Berry  200  9      1800    "
      ]
     },
     "metadata": {},
     "output_type": "display_data"
    }
   ],
   "source": [
    "#재고금액(금액*재고량) 이라는 컬럼 생성하여 fruit에 붙이기\n",
    "\n",
    "fruit$재고금액 <- fruit$금액*fruit$재고량\n",
    "fruit"
   ]
  },
  {
   "cell_type": "code",
   "execution_count": 27,
   "metadata": {},
   "outputs": [
    {
     "data": {
      "text/html": [
       "<table>\n",
       "<thead><tr><th scope=col>번호</th><th scope=col>상품명</th><th scope=col>금액</th><th scope=col>재고량</th><th scope=col>재고금액</th><th scope=col>원산지</th></tr></thead>\n",
       "<tbody>\n",
       "\t<tr><td>1     </td><td>Apple </td><td>500   </td><td>5     </td><td>2500  </td><td>한국  </td></tr>\n",
       "\t<tr><td>2     </td><td>Banana</td><td>400   </td><td>2     </td><td> 800  </td><td>태국  </td></tr>\n",
       "\t<tr><td>3     </td><td>Peach </td><td>300   </td><td>7     </td><td>2100  </td><td>한국  </td></tr>\n",
       "\t<tr><td>4     </td><td>Berry </td><td>200   </td><td>9     </td><td>1800  </td><td>중국  </td></tr>\n",
       "</tbody>\n",
       "</table>\n"
      ],
      "text/latex": [
       "\\begin{tabular}{r|llllll}\n",
       " 번호 & 상품명 & 금액 & 재고량 & 재고금액 & 원산지\\\\\n",
       "\\hline\n",
       "\t 1      & Apple  & 500    & 5      & 2500   & 한국  \\\\\n",
       "\t 2      & Banana & 400    & 2      &  800   & 태국  \\\\\n",
       "\t 3      & Peach  & 300    & 7      & 2100   & 한국  \\\\\n",
       "\t 4      & Berry  & 200    & 9      & 1800   & 중국  \\\\\n",
       "\\end{tabular}\n"
      ],
      "text/markdown": [
       "\n",
       "| 번호 | 상품명 | 금액 | 재고량 | 재고금액 | 원산지 |\n",
       "|---|---|---|---|---|---|\n",
       "| 1      | Apple  | 500    | 5      | 2500   | 한국   |\n",
       "| 2      | Banana | 400    | 2      |  800   | 태국   |\n",
       "| 3      | Peach  | 300    | 7      | 2100   | 한국   |\n",
       "| 4      | Berry  | 200    | 9      | 1800   | 중국   |\n",
       "\n"
      ],
      "text/plain": [
       "  번호 상품명 금액 재고량 재고금액 원산지\n",
       "1 1    Apple  500  5      2500     한국  \n",
       "2 2    Banana 400  2       800     태국  \n",
       "3 3    Peach  300  7      2100     한국  \n",
       "4 4    Berry  200  9      1800     중국  "
      ]
     },
     "metadata": {},
     "output_type": "display_data"
    }
   ],
   "source": [
    "fruit$원산지 <- c('한국','태국','한국','중국')\n",
    "fruit"
   ]
  },
  {
   "cell_type": "markdown",
   "metadata": {},
   "source": [
    "---\n",
    "# 외부 file 불러오기 "
   ]
  },
  {
   "cell_type": "code",
   "execution_count": 35,
   "metadata": {},
   "outputs": [
    {
     "data": {
      "text/html": [
       "<table>\n",
       "<thead><tr><th scope=col>사번</th><th scope=col>이름</th><th scope=col>급여</th></tr></thead>\n",
       "<tbody>\n",
       "\t<tr><td>101 </td><td>hong</td><td>150 </td></tr>\n",
       "\t<tr><td>201 </td><td>lee </td><td>250 </td></tr>\n",
       "\t<tr><td>301 </td><td>kim </td><td>300 </td></tr>\n",
       "</tbody>\n",
       "</table>\n"
      ],
      "text/latex": [
       "\\begin{tabular}{r|lll}\n",
       " 사번 & 이름 & 급여\\\\\n",
       "\\hline\n",
       "\t 101  & hong & 150 \\\\\n",
       "\t 201  & lee  & 250 \\\\\n",
       "\t 301  & kim  & 300 \\\\\n",
       "\\end{tabular}\n"
      ],
      "text/markdown": [
       "\n",
       "| 사번 | 이름 | 급여 |\n",
       "|---|---|---|\n",
       "| 101  | hong | 150  |\n",
       "| 201  | lee  | 250  |\n",
       "| 301  | kim  | 300  |\n",
       "\n"
      ],
      "text/plain": [
       "  사번 이름 급여\n",
       "1 101  hong 150 \n",
       "2 201  lee  250 \n",
       "3 301  kim  300 "
      ]
     },
     "metadata": {},
     "output_type": "display_data"
    }
   ],
   "source": [
    "# txt File 불러오기\n",
    "\n",
    "txtEmp <- read.table(\"../Data/emp.txt\", header = T, sep = \"/\" )\n",
    "txtEmp"
   ]
  },
  {
   "cell_type": "code",
   "execution_count": 45,
   "metadata": {},
   "outputs": [
    {
     "data": {
      "text/html": [
       "<table>\n",
       "<thead><tr><th scope=col>사번</th><th scope=col>이름</th><th scope=col>급여</th></tr></thead>\n",
       "<tbody>\n",
       "\t<tr><td>101 </td><td>hong</td><td>150 </td></tr>\n",
       "\t<tr><td>201 </td><td>lee </td><td>250 </td></tr>\n",
       "\t<tr><td>301 </td><td>kim </td><td>300 </td></tr>\n",
       "</tbody>\n",
       "</table>\n"
      ],
      "text/latex": [
       "\\begin{tabular}{r|lll}\n",
       " 사번 & 이름 & 급여\\\\\n",
       "\\hline\n",
       "\t 101  & hong & 150 \\\\\n",
       "\t 201  & lee  & 250 \\\\\n",
       "\t 301  & kim  & 300 \\\\\n",
       "\\end{tabular}\n"
      ],
      "text/markdown": [
       "\n",
       "| 사번 | 이름 | 급여 |\n",
       "|---|---|---|\n",
       "| 101  | hong | 150  |\n",
       "| 201  | lee  | 250  |\n",
       "| 301  | kim  | 300  |\n",
       "\n"
      ],
      "text/plain": [
       "  사번 이름 급여\n",
       "1 101  hong 150 \n",
       "2 201  lee  250 \n",
       "3 301  kim  300 "
      ]
     },
     "metadata": {},
     "output_type": "display_data"
    }
   ],
   "source": [
    "# 한글이 꺠질때\n",
    "\n",
    "txtEmp <- read.table(\"../Data/emp.txt\",header = T,sep = \"/\" , fileEncoding = \"utf-8\", stringsAsFactors = F)\n",
    "txtEmp"
   ]
  },
  {
   "cell_type": "code",
   "execution_count": 46,
   "metadata": {},
   "outputs": [
    {
     "name": "stdout",
     "output_type": "stream",
     "text": [
      "'data.frame':\t3 obs. of  3 variables:\n",
      " $ 사번: int  101 201 301\n",
      " $ 이름: chr  \"hong\" \"lee\" \"kim\"\n",
      " $ 급여: int  150 250 300\n"
     ]
    }
   ],
   "source": [
    "str(txtEmp)"
   ]
  },
  {
   "cell_type": "code",
   "execution_count": 54,
   "metadata": {},
   "outputs": [
    {
     "data": {
      "text/html": [
       "<table>\n",
       "<thead><tr><th scope=col>사번</th><th scope=col>이름</th><th scope=col>급여</th></tr></thead>\n",
       "<tbody>\n",
       "\t<tr><td>101   </td><td>홍길동</td><td>150   </td></tr>\n",
       "\t<tr><td>102   </td><td>이순신</td><td>450   </td></tr>\n",
       "\t<tr><td>103   </td><td>강감찬</td><td>500   </td></tr>\n",
       "\t<tr><td>104   </td><td>유관순</td><td>350   </td></tr>\n",
       "\t<tr><td>105   </td><td>김유신</td><td>400   </td></tr>\n",
       "</tbody>\n",
       "</table>\n"
      ],
      "text/latex": [
       "\\begin{tabular}{r|lll}\n",
       " 사번 & 이름 & 급여\\\\\n",
       "\\hline\n",
       "\t 101    & 홍길동 & 150   \\\\\n",
       "\t 102    & 이순신 & 450   \\\\\n",
       "\t 103    & 강감찬 & 500   \\\\\n",
       "\t 104    & 유관순 & 350   \\\\\n",
       "\t 105    & 김유신 & 400   \\\\\n",
       "\\end{tabular}\n"
      ],
      "text/markdown": [
       "\n",
       "| 사번 | 이름 | 급여 |\n",
       "|---|---|---|\n",
       "| 101    | 홍길동 | 150    |\n",
       "| 102    | 이순신 | 450    |\n",
       "| 103    | 강감찬 | 500    |\n",
       "| 104    | 유관순 | 350    |\n",
       "| 105    | 김유신 | 400    |\n",
       "\n"
      ],
      "text/plain": [
       "  사번 이름   급여\n",
       "1 101  홍길동 150 \n",
       "2 102  이순신 450 \n",
       "3 103  강감찬 500 \n",
       "4 104  유관순 350 \n",
       "5 105  김유신 400 "
      ]
     },
     "metadata": {},
     "output_type": "display_data"
    }
   ],
   "source": [
    "# csv(Comma Separated Value) 콤마로 구분된 데이터\n",
    " csvEmp <- read.csv(\"../Data/emp2.csv\", header=F, stringsAsFactors = F)\n",
    "\n",
    "#사번, 이름, 급여로 컬럼 변경하기\n",
    "\n",
    "colnames(csvEmp) <- c('사번', '이름', '급여')\n",
    "csvEmp"
   ]
  },
  {
   "cell_type": "code",
   "execution_count": 55,
   "metadata": {},
   "outputs": [
    {
     "name": "stdout",
     "output_type": "stream",
     "text": [
      "'data.frame':\t5 obs. of  3 variables:\n",
      " $ 사번: int  101 102 103 104 105\n",
      " $ 이름: chr  \"홍길동\" \"이순신\" \"강감찬\" \"유관순\" ...\n",
      " $ 급여: int  150 450 500 350 400\n"
     ]
    }
   ],
   "source": [
    "str(csvEmp)"
   ]
  },
  {
   "cell_type": "code",
   "execution_count": 1,
   "metadata": {},
   "outputs": [
    {
     "ename": "ERROR",
     "evalue": "Error in eval(expr, envir, enclos): 객체 'csvEmp'를 찾을 수 없습니다\n",
     "output_type": "error",
     "traceback": [
      "Error in eval(expr, envir, enclos): 객체 'csvEmp'를 찾을 수 없습니다\nTraceback:\n"
     ]
    }
   ],
   "source": [
    "class(csvEmp)"
   ]
  },
  {
   "cell_type": "code",
   "execution_count": 15,
   "metadata": {},
   "outputs": [
    {
     "data": {
      "text/html": [
       "'data.frame'"
      ],
      "text/latex": [
       "'data.frame'"
      ],
      "text/markdown": [
       "'data.frame'"
      ],
      "text/plain": [
       "[1] \"data.frame\""
      ]
     },
     "metadata": {},
     "output_type": "display_data"
    },
    {
     "data": {
      "text/html": [
       "<table>\n",
       "<thead><tr><th scope=col>x</th><th scope=col>y</th><th scope=col>z</th></tr></thead>\n",
       "<tbody>\n",
       "\t<tr><td>1 </td><td> 2</td><td>a </td></tr>\n",
       "\t<tr><td>2 </td><td> 4</td><td>b </td></tr>\n",
       "\t<tr><td>3 </td><td> 6</td><td>c </td></tr>\n",
       "\t<tr><td>4 </td><td> 8</td><td>d </td></tr>\n",
       "\t<tr><td>5 </td><td>10</td><td>e </td></tr>\n",
       "</tbody>\n",
       "</table>\n"
      ],
      "text/latex": [
       "\\begin{tabular}{r|lll}\n",
       " x & y & z\\\\\n",
       "\\hline\n",
       "\t 1  &  2 & a \\\\\n",
       "\t 2  &  4 & b \\\\\n",
       "\t 3  &  6 & c \\\\\n",
       "\t 4  &  8 & d \\\\\n",
       "\t 5  & 10 & e \\\\\n",
       "\\end{tabular}\n"
      ],
      "text/markdown": [
       "\n",
       "| x | y | z |\n",
       "|---|---|---|\n",
       "| 1  |  2 | a  |\n",
       "| 2  |  4 | b  |\n",
       "| 3  |  6 | c  |\n",
       "| 4  |  8 | d  |\n",
       "| 5  | 10 | e  |\n",
       "\n"
      ],
      "text/plain": [
       "  x y  z\n",
       "1 1  2 a\n",
       "2 2  4 b\n",
       "3 3  6 c\n",
       "4 4  8 d\n",
       "5 5 10 e"
      ]
     },
     "metadata": {},
     "output_type": "display_data"
    },
    {
     "name": "stdout",
     "output_type": "stream",
     "text": [
      "'data.frame':\t5 obs. of  3 variables:\n",
      " $ x: int  1 2 3 4 5\n",
      " $ y: num  2 4 6 8 10\n",
      " $ z: Factor w/ 5 levels \"a\",\"b\",\"c\",\"d\",..: 1 2 3 4 5\n"
     ]
    }
   ],
   "source": [
    "df <- data.frame(x=c(1:5),y=seq(2,10,2),z=c('a','b','c','d','e'))\n",
    "class(df)\n",
    "df\n",
    "str(df)"
   ]
  },
  {
   "cell_type": "code",
   "execution_count": 11,
   "metadata": {},
   "outputs": [
    {
     "name": "stdout",
     "output_type": "stream",
     "text": [
      "x컬럼의 합계는 15 이고 y컬럼의 합계는 30 입니다"
     ]
    }
   ],
   "source": [
    "# x컬럼의 합계는 15이고 y컬럼의 합계는30 입니다\n",
    "\n",
    "cat('x컬럼의 합계는',sum(df$x),'이고 y컬럼의 합계는', sum(df$y),'입니다')"
   ]
  },
  {
   "cell_type": "markdown",
   "metadata": {},
   "source": [
    "### 함수를 부르는 함수"
   ]
  },
  {
   "cell_type": "code",
   "execution_count": 20,
   "metadata": {},
   "outputs": [
    {
     "data": {
      "text/html": [
       "<dl class=dl-horizontal>\n",
       "\t<dt>x</dt>\n",
       "\t\t<dd>15</dd>\n",
       "\t<dt>y</dt>\n",
       "\t\t<dd>30</dd>\n",
       "</dl>\n"
      ],
      "text/latex": [
       "\\begin{description*}\n",
       "\\item[x] 15\n",
       "\\item[y] 30\n",
       "\\end{description*}\n"
      ],
      "text/markdown": [
       "x\n",
       ":   15y\n",
       ":   30\n",
       "\n"
      ],
      "text/plain": [
       " x  y \n",
       "15 30 "
      ]
     },
     "metadata": {},
     "output_type": "display_data"
    },
    {
     "data": {
      "text/html": [
       "<dl class=dl-horizontal>\n",
       "\t<dt>x</dt>\n",
       "\t\t<dd>3</dd>\n",
       "\t<dt>y</dt>\n",
       "\t\t<dd>6</dd>\n",
       "</dl>\n"
      ],
      "text/latex": [
       "\\begin{description*}\n",
       "\\item[x] 3\n",
       "\\item[y] 6\n",
       "\\end{description*}\n"
      ],
      "text/markdown": [
       "x\n",
       ":   3y\n",
       ":   6\n",
       "\n"
      ],
      "text/plain": [
       "x y \n",
       "3 6 "
      ]
     },
     "metadata": {},
     "output_type": "display_data"
    },
    {
     "data": {
      "text/html": [
       "<dl class=dl-horizontal>\n",
       "\t<dt>x</dt>\n",
       "\t\t<dd>1.58113883008419</dd>\n",
       "\t<dt>y</dt>\n",
       "\t\t<dd>3.16227766016838</dd>\n",
       "</dl>\n"
      ],
      "text/latex": [
       "\\begin{description*}\n",
       "\\item[x] 1.58113883008419\n",
       "\\item[y] 3.16227766016838\n",
       "\\end{description*}\n"
      ],
      "text/markdown": [
       "x\n",
       ":   1.58113883008419y\n",
       ":   3.16227766016838\n",
       "\n"
      ],
      "text/plain": [
       "       x        y \n",
       "1.581139 3.162278 "
      ]
     },
     "metadata": {},
     "output_type": "display_data"
    }
   ],
   "source": [
    "# 데이터 프레임에 함수 적용 (열방향)\n",
    "apply(df[,1:2], 2, sum)\n",
    "apply(df[,1:2], 2, mean)\n",
    "apply(df[,1:2], 2, sd)"
   ]
  },
  {
   "cell_type": "code",
   "execution_count": 22,
   "metadata": {},
   "outputs": [
    {
     "data": {
      "text/html": [
       "<ol class=list-inline>\n",
       "\t<li>3</li>\n",
       "\t<li>6</li>\n",
       "\t<li>9</li>\n",
       "\t<li>12</li>\n",
       "\t<li>15</li>\n",
       "</ol>\n"
      ],
      "text/latex": [
       "\\begin{enumerate*}\n",
       "\\item 3\n",
       "\\item 6\n",
       "\\item 9\n",
       "\\item 12\n",
       "\\item 15\n",
       "\\end{enumerate*}\n"
      ],
      "text/markdown": [
       "1. 3\n",
       "2. 6\n",
       "3. 9\n",
       "4. 12\n",
       "5. 15\n",
       "\n",
       "\n"
      ],
      "text/plain": [
       "[1]  3  6  9 12 15"
      ]
     },
     "metadata": {},
     "output_type": "display_data"
    },
    {
     "data": {
      "text/html": [
       "<ol class=list-inline>\n",
       "\t<li>1.5</li>\n",
       "\t<li>3</li>\n",
       "\t<li>4.5</li>\n",
       "\t<li>6</li>\n",
       "\t<li>7.5</li>\n",
       "</ol>\n"
      ],
      "text/latex": [
       "\\begin{enumerate*}\n",
       "\\item 1.5\n",
       "\\item 3\n",
       "\\item 4.5\n",
       "\\item 6\n",
       "\\item 7.5\n",
       "\\end{enumerate*}\n"
      ],
      "text/markdown": [
       "1. 1.5\n",
       "2. 3\n",
       "3. 4.5\n",
       "4. 6\n",
       "5. 7.5\n",
       "\n",
       "\n"
      ],
      "text/plain": [
       "[1] 1.5 3.0 4.5 6.0 7.5"
      ]
     },
     "metadata": {},
     "output_type": "display_data"
    },
    {
     "data": {
      "text/html": [
       "<ol class=list-inline>\n",
       "\t<li>0.707106781186548</li>\n",
       "\t<li>1.4142135623731</li>\n",
       "\t<li>2.12132034355964</li>\n",
       "\t<li>2.82842712474619</li>\n",
       "\t<li>3.53553390593274</li>\n",
       "</ol>\n"
      ],
      "text/latex": [
       "\\begin{enumerate*}\n",
       "\\item 0.707106781186548\n",
       "\\item 1.4142135623731\n",
       "\\item 2.12132034355964\n",
       "\\item 2.82842712474619\n",
       "\\item 3.53553390593274\n",
       "\\end{enumerate*}\n"
      ],
      "text/markdown": [
       "1. 0.707106781186548\n",
       "2. 1.4142135623731\n",
       "3. 2.12132034355964\n",
       "4. 2.82842712474619\n",
       "5. 3.53553390593274\n",
       "\n",
       "\n"
      ],
      "text/plain": [
       "[1] 0.7071068 1.4142136 2.1213203 2.8284271 3.5355339"
      ]
     },
     "metadata": {},
     "output_type": "display_data"
    }
   ],
   "source": [
    "#데이터 프레임에 함수 적용 (행방향)\n",
    "apply(df[,1:2],1,sum)\n",
    "apply(df[,1:2],1,mean)\n",
    "apply(df[,1:2],1,sd)"
   ]
  },
  {
   "cell_type": "code",
   "execution_count": 25,
   "metadata": {},
   "outputs": [
    {
     "data": {
      "text/html": [
       "<table>\n",
       "<thead><tr><th scope=col>x</th><th scope=col>y</th><th scope=col>z</th></tr></thead>\n",
       "<tbody>\n",
       "\t<tr><td>1 </td><td> 2</td><td>a </td></tr>\n",
       "\t<tr><td>2 </td><td> 4</td><td>b </td></tr>\n",
       "\t<tr><td>3 </td><td> 6</td><td>c </td></tr>\n",
       "\t<tr><td>4 </td><td> 8</td><td>d </td></tr>\n",
       "\t<tr><td>5 </td><td>10</td><td>e </td></tr>\n",
       "</tbody>\n",
       "</table>\n"
      ],
      "text/latex": [
       "\\begin{tabular}{r|lll}\n",
       " x & y & z\\\\\n",
       "\\hline\n",
       "\t 1  &  2 & a \\\\\n",
       "\t 2  &  4 & b \\\\\n",
       "\t 3  &  6 & c \\\\\n",
       "\t 4  &  8 & d \\\\\n",
       "\t 5  & 10 & e \\\\\n",
       "\\end{tabular}\n"
      ],
      "text/markdown": [
       "\n",
       "| x | y | z |\n",
       "|---|---|---|\n",
       "| 1  |  2 | a  |\n",
       "| 2  |  4 | b  |\n",
       "| 3  |  6 | c  |\n",
       "| 4  |  8 | d  |\n",
       "| 5  | 10 | e  |\n",
       "\n"
      ],
      "text/plain": [
       "  x y  z\n",
       "1 1  2 a\n",
       "2 2  4 b\n",
       "3 3  6 c\n",
       "4 4  8 d\n",
       "5 5 10 e"
      ]
     },
     "metadata": {},
     "output_type": "display_data"
    },
    {
     "data": {
      "text/html": [
       "<ol class=list-inline>\n",
       "\t<li>3</li>\n",
       "\t<li>6</li>\n",
       "\t<li>9</li>\n",
       "\t<li>12</li>\n",
       "\t<li>15</li>\n",
       "</ol>\n"
      ],
      "text/latex": [
       "\\begin{enumerate*}\n",
       "\\item 3\n",
       "\\item 6\n",
       "\\item 9\n",
       "\\item 12\n",
       "\\item 15\n",
       "\\end{enumerate*}\n"
      ],
      "text/markdown": [
       "1. 3\n",
       "2. 6\n",
       "3. 9\n",
       "4. 12\n",
       "5. 15\n",
       "\n",
       "\n"
      ],
      "text/plain": [
       "[1]  3  6  9 12 15"
      ]
     },
     "metadata": {},
     "output_type": "display_data"
    },
    {
     "data": {
      "text/html": [
       "<table>\n",
       "<thead><tr><th scope=col>x</th><th scope=col>y</th><th scope=col>z</th><th scope=col>Hap</th></tr></thead>\n",
       "<tbody>\n",
       "\t<tr><td>1 </td><td> 2</td><td>a </td><td> 3</td></tr>\n",
       "\t<tr><td>2 </td><td> 4</td><td>b </td><td> 6</td></tr>\n",
       "\t<tr><td>3 </td><td> 6</td><td>c </td><td> 9</td></tr>\n",
       "\t<tr><td>4 </td><td> 8</td><td>d </td><td>12</td></tr>\n",
       "\t<tr><td>5 </td><td>10</td><td>e </td><td>15</td></tr>\n",
       "</tbody>\n",
       "</table>\n"
      ],
      "text/latex": [
       "\\begin{tabular}{r|llll}\n",
       " x & y & z & Hap\\\\\n",
       "\\hline\n",
       "\t 1  &  2 & a  &  3\\\\\n",
       "\t 2  &  4 & b  &  6\\\\\n",
       "\t 3  &  6 & c  &  9\\\\\n",
       "\t 4  &  8 & d  & 12\\\\\n",
       "\t 5  & 10 & e  & 15\\\\\n",
       "\\end{tabular}\n"
      ],
      "text/markdown": [
       "\n",
       "| x | y | z | Hap |\n",
       "|---|---|---|---|\n",
       "| 1  |  2 | a  |  3 |\n",
       "| 2  |  4 | b  |  6 |\n",
       "| 3  |  6 | c  |  9 |\n",
       "| 4  |  8 | d  | 12 |\n",
       "| 5  | 10 | e  | 15 |\n",
       "\n"
      ],
      "text/plain": [
       "  x y  z Hap\n",
       "1 1  2 a  3 \n",
       "2 2  4 b  6 \n",
       "3 3  6 c  9 \n",
       "4 4  8 d 12 \n",
       "5 5 10 e 15 "
      ]
     },
     "metadata": {},
     "output_type": "display_data"
    }
   ],
   "source": [
    "# df에 Hap 이라는 컬럼을 만들어서 행방향에 합계 구하기\n",
    "df\n",
    "apply(df[,1:2],1,sum)\n",
    "df$Hap = apply(df[,1:2],1,sum)\n",
    "df"
   ]
  },
  {
   "cell_type": "code",
   "execution_count": 28,
   "metadata": {},
   "outputs": [
    {
     "data": {
      "text/html": [
       "<table>\n",
       "<thead><tr><th scope=col>x</th><th scope=col>y</th><th scope=col>z</th><th scope=col>Hap</th></tr></thead>\n",
       "<tbody>\n",
       "\t<tr><td>1 </td><td> 2</td><td>a </td><td> 3</td></tr>\n",
       "\t<tr><td>2 </td><td> 4</td><td>b </td><td> 6</td></tr>\n",
       "\t<tr><td>3 </td><td> 6</td><td>c </td><td> 9</td></tr>\n",
       "\t<tr><td>4 </td><td> 8</td><td>d </td><td>12</td></tr>\n",
       "\t<tr><td>5 </td><td>10</td><td>e </td><td>15</td></tr>\n",
       "</tbody>\n",
       "</table>\n"
      ],
      "text/latex": [
       "\\begin{tabular}{r|llll}\n",
       " x & y & z & Hap\\\\\n",
       "\\hline\n",
       "\t 1  &  2 & a  &  3\\\\\n",
       "\t 2  &  4 & b  &  6\\\\\n",
       "\t 3  &  6 & c  &  9\\\\\n",
       "\t 4  &  8 & d  & 12\\\\\n",
       "\t 5  & 10 & e  & 15\\\\\n",
       "\\end{tabular}\n"
      ],
      "text/markdown": [
       "\n",
       "| x | y | z | Hap |\n",
       "|---|---|---|---|\n",
       "| 1  |  2 | a  |  3 |\n",
       "| 2  |  4 | b  |  6 |\n",
       "| 3  |  6 | c  |  9 |\n",
       "| 4  |  8 | d  | 12 |\n",
       "| 5  | 10 | e  | 15 |\n",
       "\n"
      ],
      "text/plain": [
       "  x y  z Hap\n",
       "1 1  2 a  3 \n",
       "2 2  4 b  6 \n",
       "3 3  6 c  9 \n",
       "4 4  8 d 12 \n",
       "5 5 10 e 15 "
      ]
     },
     "metadata": {},
     "output_type": "display_data"
    },
    {
     "data": {
      "text/html": [
       "<table>\n",
       "<thead><tr><th></th><th scope=col>x</th><th scope=col>y</th><th scope=col>z</th><th scope=col>Hap</th></tr></thead>\n",
       "<tbody>\n",
       "\t<tr><th scope=row>3</th><td>3 </td><td> 6</td><td>c </td><td> 9</td></tr>\n",
       "\t<tr><th scope=row>4</th><td>4 </td><td> 8</td><td>d </td><td>12</td></tr>\n",
       "\t<tr><th scope=row>5</th><td>5 </td><td>10</td><td>e </td><td>15</td></tr>\n",
       "</tbody>\n",
       "</table>\n"
      ],
      "text/latex": [
       "\\begin{tabular}{r|llll}\n",
       "  & x & y & z & Hap\\\\\n",
       "\\hline\n",
       "\t3 & 3  &  6 & c  &  9\\\\\n",
       "\t4 & 4  &  8 & d  & 12\\\\\n",
       "\t5 & 5  & 10 & e  & 15\\\\\n",
       "\\end{tabular}\n"
      ],
      "text/markdown": [
       "\n",
       "| <!--/--> | x | y | z | Hap |\n",
       "|---|---|---|---|---|\n",
       "| 3 | 3  |  6 | c  |  9 |\n",
       "| 4 | 4  |  8 | d  | 12 |\n",
       "| 5 | 5  | 10 | e  | 15 |\n",
       "\n"
      ],
      "text/plain": [
       "  x y  z Hap\n",
       "3 3  6 c  9 \n",
       "4 4  8 d 12 \n",
       "5 5 10 e 15 "
      ]
     },
     "metadata": {},
     "output_type": "display_data"
    },
    {
     "data": {
      "text/html": [
       "<table>\n",
       "<thead><tr><th></th><th scope=col>x</th><th scope=col>y</th><th scope=col>z</th><th scope=col>Hap</th></tr></thead>\n",
       "<tbody>\n",
       "\t<tr><th scope=row>4</th><td>4 </td><td> 8</td><td>d </td><td>12</td></tr>\n",
       "\t<tr><th scope=row>5</th><td>5 </td><td>10</td><td>e </td><td>15</td></tr>\n",
       "</tbody>\n",
       "</table>\n"
      ],
      "text/latex": [
       "\\begin{tabular}{r|llll}\n",
       "  & x & y & z & Hap\\\\\n",
       "\\hline\n",
       "\t4 & 4  &  8 & d  & 12\\\\\n",
       "\t5 & 5  & 10 & e  & 15\\\\\n",
       "\\end{tabular}\n"
      ],
      "text/markdown": [
       "\n",
       "| <!--/--> | x | y | z | Hap |\n",
       "|---|---|---|---|---|\n",
       "| 4 | 4  |  8 | d  | 12 |\n",
       "| 5 | 5  | 10 | e  | 15 |\n",
       "\n"
      ],
      "text/plain": [
       "  x y  z Hap\n",
       "4 4  8 d 12 \n",
       "5 5 10 e 15 "
      ]
     },
     "metadata": {},
     "output_type": "display_data"
    }
   ],
   "source": [
    "#부분집합\n",
    "df\n",
    "subset(df,x>=3)\n",
    "subset(df,x>=3 & y>=8)"
   ]
  },
  {
   "cell_type": "code",
   "execution_count": 36,
   "metadata": {},
   "outputs": [
    {
     "data": {
      "text/html": [
       "<table>\n",
       "<thead><tr><th scope=col>x</th><th scope=col>y</th><th scope=col>z</th><th scope=col>Hap</th></tr></thead>\n",
       "<tbody>\n",
       "\t<tr><td>1 </td><td> 2</td><td>a </td><td> 3</td></tr>\n",
       "\t<tr><td>2 </td><td> 4</td><td>b </td><td> 6</td></tr>\n",
       "\t<tr><td>3 </td><td> 6</td><td>c </td><td> 9</td></tr>\n",
       "\t<tr><td>4 </td><td> 8</td><td>d </td><td>12</td></tr>\n",
       "\t<tr><td>5 </td><td>10</td><td>e </td><td>15</td></tr>\n",
       "</tbody>\n",
       "</table>\n"
      ],
      "text/latex": [
       "\\begin{tabular}{r|llll}\n",
       " x & y & z & Hap\\\\\n",
       "\\hline\n",
       "\t 1  &  2 & a  &  3\\\\\n",
       "\t 2  &  4 & b  &  6\\\\\n",
       "\t 3  &  6 & c  &  9\\\\\n",
       "\t 4  &  8 & d  & 12\\\\\n",
       "\t 5  & 10 & e  & 15\\\\\n",
       "\\end{tabular}\n"
      ],
      "text/markdown": [
       "\n",
       "| x | y | z | Hap |\n",
       "|---|---|---|---|\n",
       "| 1  |  2 | a  |  3 |\n",
       "| 2  |  4 | b  |  6 |\n",
       "| 3  |  6 | c  |  9 |\n",
       "| 4  |  8 | d  | 12 |\n",
       "| 5  | 10 | e  | 15 |\n",
       "\n"
      ],
      "text/plain": [
       "  x y  z Hap\n",
       "1 1  2 a  3 \n",
       "2 2  4 b  6 \n",
       "3 3  6 c  9 \n",
       "4 4  8 d 12 \n",
       "5 5 10 e 15 "
      ]
     },
     "metadata": {},
     "output_type": "display_data"
    },
    {
     "data": {
      "text/html": [
       "<table>\n",
       "<thead><tr><th></th><th scope=col>x</th><th scope=col>y</th></tr></thead>\n",
       "<tbody>\n",
       "\t<tr><th scope=row>4</th><td>4 </td><td> 8</td></tr>\n",
       "\t<tr><th scope=row>5</th><td>5 </td><td>10</td></tr>\n",
       "</tbody>\n",
       "</table>\n"
      ],
      "text/latex": [
       "\\begin{tabular}{r|ll}\n",
       "  & x & y\\\\\n",
       "\\hline\n",
       "\t4 & 4  &  8\\\\\n",
       "\t5 & 5  & 10\\\\\n",
       "\\end{tabular}\n"
      ],
      "text/markdown": [
       "\n",
       "| <!--/--> | x | y |\n",
       "|---|---|---|\n",
       "| 4 | 4  |  8 |\n",
       "| 5 | 5  | 10 |\n",
       "\n"
      ],
      "text/plain": [
       "  x y \n",
       "4 4  8\n",
       "5 5 10"
      ]
     },
     "metadata": {},
     "output_type": "display_data"
    },
    {
     "data": {
      "text/html": [
       "<dl class=dl-horizontal>\n",
       "\t<dt>x</dt>\n",
       "\t\t<dd>9</dd>\n",
       "\t<dt>y</dt>\n",
       "\t\t<dd>18</dd>\n",
       "</dl>\n"
      ],
      "text/latex": [
       "\\begin{description*}\n",
       "\\item[x] 9\n",
       "\\item[y] 18\n",
       "\\end{description*}\n"
      ],
      "text/markdown": [
       "x\n",
       ":   9y\n",
       ":   18\n",
       "\n"
      ],
      "text/plain": [
       " x  y \n",
       " 9 18 "
      ]
     },
     "metadata": {},
     "output_type": "display_data"
    }
   ],
   "source": [
    "# 4번행과 5번행의 x컬럼과 y컬럼의 합계를 구하기\n",
    "df\n",
    "subset(df)[4:5,1:2]\n",
    "apply(subset(df)[4:5,1:2],2,sum)"
   ]
  },
  {
   "cell_type": "markdown",
   "metadata": {},
   "source": [
    "---\n",
    "### 두개 이상의 데이터 프레임 병합하기 "
   ]
  },
  {
   "cell_type": "code",
   "execution_count": 40,
   "metadata": {},
   "outputs": [
    {
     "data": {
      "text/html": [
       "<table>\n",
       "<thead><tr><th scope=col>id</th><th scope=col>height</th></tr></thead>\n",
       "<tbody>\n",
       "\t<tr><td>1  </td><td>160</td></tr>\n",
       "\t<tr><td>2  </td><td>170</td></tr>\n",
       "\t<tr><td>3  </td><td>180</td></tr>\n",
       "</tbody>\n",
       "</table>\n"
      ],
      "text/latex": [
       "\\begin{tabular}{r|ll}\n",
       " id & height\\\\\n",
       "\\hline\n",
       "\t 1   & 160\\\\\n",
       "\t 2   & 170\\\\\n",
       "\t 3   & 180\\\\\n",
       "\\end{tabular}\n"
      ],
      "text/markdown": [
       "\n",
       "| id | height |\n",
       "|---|---|\n",
       "| 1   | 160 |\n",
       "| 2   | 170 |\n",
       "| 3   | 180 |\n",
       "\n"
      ],
      "text/plain": [
       "  id height\n",
       "1 1  160   \n",
       "2 2  170   \n",
       "3 3  180   "
      ]
     },
     "metadata": {},
     "output_type": "display_data"
    },
    {
     "data": {
      "text/html": [
       "<table>\n",
       "<thead><tr><th scope=col>id</th><th scope=col>weight</th></tr></thead>\n",
       "<tbody>\n",
       "\t<tr><td>2 </td><td>70</td></tr>\n",
       "\t<tr><td>1 </td><td>60</td></tr>\n",
       "\t<tr><td>3 </td><td>80</td></tr>\n",
       "</tbody>\n",
       "</table>\n"
      ],
      "text/latex": [
       "\\begin{tabular}{r|ll}\n",
       " id & weight\\\\\n",
       "\\hline\n",
       "\t 2  & 70\\\\\n",
       "\t 1  & 60\\\\\n",
       "\t 3  & 80\\\\\n",
       "\\end{tabular}\n"
      ],
      "text/markdown": [
       "\n",
       "| id | weight |\n",
       "|---|---|\n",
       "| 2  | 70 |\n",
       "| 1  | 60 |\n",
       "| 3  | 80 |\n",
       "\n"
      ],
      "text/plain": [
       "  id weight\n",
       "1 2  70    \n",
       "2 1  60    \n",
       "3 3  80    "
      ]
     },
     "metadata": {},
     "output_type": "display_data"
    }
   ],
   "source": [
    "#case 1 : key값이 되는 컬럼이 동일하고, data의 갯수도 동일한 경우 \n",
    "\n",
    "height <- data.frame(id=c(1:3),height =c(160,170,180))\n",
    "weight <- data.frame(id=c(2,1,3),weight =c(70,60,80))\n",
    "\n",
    "height\n",
    "weight\n",
    "\n"
   ]
  },
  {
   "cell_type": "code",
   "execution_count": 41,
   "metadata": {},
   "outputs": [
    {
     "data": {
      "text/html": [
       "<table>\n",
       "<thead><tr><th scope=col>id</th><th scope=col>height</th><th scope=col>weight</th></tr></thead>\n",
       "<tbody>\n",
       "\t<tr><td>1  </td><td>160</td><td>60 </td></tr>\n",
       "\t<tr><td>2  </td><td>170</td><td>70 </td></tr>\n",
       "\t<tr><td>3  </td><td>180</td><td>80 </td></tr>\n",
       "</tbody>\n",
       "</table>\n"
      ],
      "text/latex": [
       "\\begin{tabular}{r|lll}\n",
       " id & height & weight\\\\\n",
       "\\hline\n",
       "\t 1   & 160 & 60 \\\\\n",
       "\t 2   & 170 & 70 \\\\\n",
       "\t 3   & 180 & 80 \\\\\n",
       "\\end{tabular}\n"
      ],
      "text/markdown": [
       "\n",
       "| id | height | weight |\n",
       "|---|---|---|\n",
       "| 1   | 160 | 60  |\n",
       "| 2   | 170 | 70  |\n",
       "| 3   | 180 | 80  |\n",
       "\n"
      ],
      "text/plain": [
       "  id height weight\n",
       "1 1  160    60    \n",
       "2 2  170    70    \n",
       "3 3  180    80    "
      ]
     },
     "metadata": {},
     "output_type": "display_data"
    }
   ],
   "source": [
    "merge(height,weight)  #알아서 key 값으로 맞춰줌 "
   ]
  },
  {
   "cell_type": "code",
   "execution_count": 42,
   "metadata": {},
   "outputs": [
    {
     "data": {
      "text/html": [
       "<table>\n",
       "<thead><tr><th scope=col>id</th><th scope=col>height</th></tr></thead>\n",
       "<tbody>\n",
       "\t<tr><td>1  </td><td>160</td></tr>\n",
       "\t<tr><td>2  </td><td>170</td></tr>\n",
       "\t<tr><td>3  </td><td>180</td></tr>\n",
       "</tbody>\n",
       "</table>\n"
      ],
      "text/latex": [
       "\\begin{tabular}{r|ll}\n",
       " id & height\\\\\n",
       "\\hline\n",
       "\t 1   & 160\\\\\n",
       "\t 2   & 170\\\\\n",
       "\t 3   & 180\\\\\n",
       "\\end{tabular}\n"
      ],
      "text/markdown": [
       "\n",
       "| id | height |\n",
       "|---|---|\n",
       "| 1   | 160 |\n",
       "| 2   | 170 |\n",
       "| 3   | 180 |\n",
       "\n"
      ],
      "text/plain": [
       "  id height\n",
       "1 1  160   \n",
       "2 2  170   \n",
       "3 3  180   "
      ]
     },
     "metadata": {},
     "output_type": "display_data"
    },
    {
     "data": {
      "text/html": [
       "<table>\n",
       "<thead><tr><th scope=col>ad</th><th scope=col>weight</th></tr></thead>\n",
       "<tbody>\n",
       "\t<tr><td>2 </td><td>70</td></tr>\n",
       "\t<tr><td>1 </td><td>60</td></tr>\n",
       "</tbody>\n",
       "</table>\n"
      ],
      "text/latex": [
       "\\begin{tabular}{r|ll}\n",
       " ad & weight\\\\\n",
       "\\hline\n",
       "\t 2  & 70\\\\\n",
       "\t 1  & 60\\\\\n",
       "\\end{tabular}\n"
      ],
      "text/markdown": [
       "\n",
       "| ad | weight |\n",
       "|---|---|\n",
       "| 2  | 70 |\n",
       "| 1  | 60 |\n",
       "\n"
      ],
      "text/plain": [
       "  ad weight\n",
       "1 2  70    \n",
       "2 1  60    "
      ]
     },
     "metadata": {},
     "output_type": "display_data"
    }
   ],
   "source": [
    "#case 2 : key값이 되는 컬럼이 동일하지 않고 , 각각의 data 갯수도 다를 경우\n",
    "\n",
    "height <- data.frame(id=1:3, height=c(160,170,180)) ; height\n",
    "weight <- data.frame(ad=c(2,1), weight=c(70,60)); weight"
   ]
  },
  {
   "cell_type": "code",
   "execution_count": 43,
   "metadata": {},
   "outputs": [
    {
     "data": {
      "text/html": [
       "<table>\n",
       "<thead><tr><th scope=col>id</th><th scope=col>height</th><th scope=col>ad</th><th scope=col>weight</th></tr></thead>\n",
       "<tbody>\n",
       "\t<tr><td>1  </td><td>160</td><td>2  </td><td>70 </td></tr>\n",
       "\t<tr><td>2  </td><td>170</td><td>2  </td><td>70 </td></tr>\n",
       "\t<tr><td>3  </td><td>180</td><td>2  </td><td>70 </td></tr>\n",
       "\t<tr><td>1  </td><td>160</td><td>1  </td><td>60 </td></tr>\n",
       "\t<tr><td>2  </td><td>170</td><td>1  </td><td>60 </td></tr>\n",
       "\t<tr><td>3  </td><td>180</td><td>1  </td><td>60 </td></tr>\n",
       "</tbody>\n",
       "</table>\n"
      ],
      "text/latex": [
       "\\begin{tabular}{r|llll}\n",
       " id & height & ad & weight\\\\\n",
       "\\hline\n",
       "\t 1   & 160 & 2   & 70 \\\\\n",
       "\t 2   & 170 & 2   & 70 \\\\\n",
       "\t 3   & 180 & 2   & 70 \\\\\n",
       "\t 1   & 160 & 1   & 60 \\\\\n",
       "\t 2   & 170 & 1   & 60 \\\\\n",
       "\t 3   & 180 & 1   & 60 \\\\\n",
       "\\end{tabular}\n"
      ],
      "text/markdown": [
       "\n",
       "| id | height | ad | weight |\n",
       "|---|---|---|---|\n",
       "| 1   | 160 | 2   | 70  |\n",
       "| 2   | 170 | 2   | 70  |\n",
       "| 3   | 180 | 2   | 70  |\n",
       "| 1   | 160 | 1   | 60  |\n",
       "| 2   | 170 | 1   | 60  |\n",
       "| 3   | 180 | 1   | 60  |\n",
       "\n"
      ],
      "text/plain": [
       "  id height ad weight\n",
       "1 1  160    2  70    \n",
       "2 2  170    2  70    \n",
       "3 3  180    2  70    \n",
       "4 1  160    1  60    \n",
       "5 2  170    1  60    \n",
       "6 3  180    1  60    "
      ]
     },
     "metadata": {},
     "output_type": "display_data"
    }
   ],
   "source": [
    "merge(height,weight)"
   ]
  },
  {
   "cell_type": "code",
   "execution_count": 44,
   "metadata": {},
   "outputs": [
    {
     "data": {
      "text/html": [
       "<table>\n",
       "<thead><tr><th scope=col>id</th><th scope=col>height</th><th scope=col>weight</th></tr></thead>\n",
       "<tbody>\n",
       "\t<tr><td>1  </td><td>160</td><td>60 </td></tr>\n",
       "\t<tr><td>2  </td><td>170</td><td>70 </td></tr>\n",
       "</tbody>\n",
       "</table>\n"
      ],
      "text/latex": [
       "\\begin{tabular}{r|lll}\n",
       " id & height & weight\\\\\n",
       "\\hline\n",
       "\t 1   & 160 & 60 \\\\\n",
       "\t 2   & 170 & 70 \\\\\n",
       "\\end{tabular}\n"
      ],
      "text/markdown": [
       "\n",
       "| id | height | weight |\n",
       "|---|---|---|\n",
       "| 1   | 160 | 60  |\n",
       "| 2   | 170 | 70  |\n",
       "\n"
      ],
      "text/plain": [
       "  id height weight\n",
       "1 1  160    60    \n",
       "2 2  170    70    "
      ]
     },
     "metadata": {},
     "output_type": "display_data"
    }
   ],
   "source": [
    "# key를 정의하기 : data가 적은쪽의 기준으로 merge 한다 (교집합)\n",
    "\n",
    "merge(x=height, y=weight, by.x='id', by.y='ad')"
   ]
  },
  {
   "cell_type": "code",
   "execution_count": 45,
   "metadata": {},
   "outputs": [
    {
     "data": {
      "text/html": [
       "<table>\n",
       "<thead><tr><th scope=col>id</th><th scope=col>height</th><th scope=col>weight</th></tr></thead>\n",
       "<tbody>\n",
       "\t<tr><td>1  </td><td>160</td><td>60 </td></tr>\n",
       "\t<tr><td>2  </td><td>170</td><td>70 </td></tr>\n",
       "\t<tr><td>3  </td><td>180</td><td>NA </td></tr>\n",
       "</tbody>\n",
       "</table>\n"
      ],
      "text/latex": [
       "\\begin{tabular}{r|lll}\n",
       " id & height & weight\\\\\n",
       "\\hline\n",
       "\t 1   & 160 & 60 \\\\\n",
       "\t 2   & 170 & 70 \\\\\n",
       "\t 3   & 180 & NA \\\\\n",
       "\\end{tabular}\n"
      ],
      "text/markdown": [
       "\n",
       "| id | height | weight |\n",
       "|---|---|---|\n",
       "| 1   | 160 | 60  |\n",
       "| 2   | 170 | 70  |\n",
       "| 3   | 180 | NA  |\n",
       "\n"
      ],
      "text/plain": [
       "  id height weight\n",
       "1 1  160    60    \n",
       "2 2  170    70    \n",
       "3 3  180    NA    "
      ]
     },
     "metadata": {},
     "output_type": "display_data"
    }
   ],
   "source": [
    "#data가 많은쪽 기준은로 merge (합집합)\n",
    "\n",
    "merge(x=height, y=weight, by.x='id', by.y='ad',all.x=T) #x를 다보여주겠다 "
   ]
  },
  {
   "cell_type": "markdown",
   "metadata": {},
   "source": [
    "### 행렬 함수로 행렬 만들기"
   ]
  },
  {
   "cell_type": "code",
   "execution_count": 48,
   "metadata": {},
   "outputs": [
    {
     "data": {
      "text/html": [
       "<table>\n",
       "<tbody>\n",
       "\t<tr><td> 1</td></tr>\n",
       "\t<tr><td> 2</td></tr>\n",
       "\t<tr><td> 3</td></tr>\n",
       "\t<tr><td> 4</td></tr>\n",
       "\t<tr><td> 5</td></tr>\n",
       "\t<tr><td> 6</td></tr>\n",
       "\t<tr><td> 7</td></tr>\n",
       "\t<tr><td> 8</td></tr>\n",
       "\t<tr><td> 9</td></tr>\n",
       "\t<tr><td>10</td></tr>\n",
       "</tbody>\n",
       "</table>\n"
      ],
      "text/latex": [
       "\\begin{tabular}{l}\n",
       "\t  1\\\\\n",
       "\t  2\\\\\n",
       "\t  3\\\\\n",
       "\t  4\\\\\n",
       "\t  5\\\\\n",
       "\t  6\\\\\n",
       "\t  7\\\\\n",
       "\t  8\\\\\n",
       "\t  9\\\\\n",
       "\t 10\\\\\n",
       "\\end{tabular}\n"
      ],
      "text/markdown": [
       "\n",
       "|  1 |\n",
       "|  2 |\n",
       "|  3 |\n",
       "|  4 |\n",
       "|  5 |\n",
       "|  6 |\n",
       "|  7 |\n",
       "|  8 |\n",
       "|  9 |\n",
       "| 10 |\n",
       "\n"
      ],
      "text/plain": [
       "      [,1]\n",
       " [1,]  1  \n",
       " [2,]  2  \n",
       " [3,]  3  \n",
       " [4,]  4  \n",
       " [5,]  5  \n",
       " [6,]  6  \n",
       " [7,]  7  \n",
       " [8,]  8  \n",
       " [9,]  9  \n",
       "[10,] 10  "
      ]
     },
     "metadata": {},
     "output_type": "display_data"
    }
   ],
   "source": [
    "matrix(1:10)"
   ]
  },
  {
   "cell_type": "code",
   "execution_count": 49,
   "metadata": {},
   "outputs": [
    {
     "data": {
      "text/html": [
       "<table>\n",
       "<tbody>\n",
       "\t<tr><td>1 </td><td>3 </td><td>5 </td><td>7 </td><td> 9</td></tr>\n",
       "\t<tr><td>2 </td><td>4 </td><td>6 </td><td>8 </td><td>10</td></tr>\n",
       "</tbody>\n",
       "</table>\n"
      ],
      "text/latex": [
       "\\begin{tabular}{lllll}\n",
       "\t 1  & 3  & 5  & 7  &  9\\\\\n",
       "\t 2  & 4  & 6  & 8  & 10\\\\\n",
       "\\end{tabular}\n"
      ],
      "text/markdown": [
       "\n",
       "| 1  | 3  | 5  | 7  |  9 |\n",
       "| 2  | 4  | 6  | 8  | 10 |\n",
       "\n"
      ],
      "text/plain": [
       "     [,1] [,2] [,3] [,4] [,5]\n",
       "[1,] 1    3    5    7     9  \n",
       "[2,] 2    4    6    8    10  "
      ]
     },
     "metadata": {},
     "output_type": "display_data"
    }
   ],
   "source": [
    "matrix(1:10,nrow=2)"
   ]
  },
  {
   "cell_type": "code",
   "execution_count": 52,
   "metadata": {},
   "outputs": [
    {
     "name": "stderr",
     "output_type": "stream",
     "text": [
      "Warning message in matrix(1:10, nrow = 3):\n",
      "“데이터의 길이[10]가 행의 개수[3]의 배수가 되지 않습니다”"
     ]
    },
    {
     "data": {
      "text/html": [
       "<table>\n",
       "<tbody>\n",
       "\t<tr><td>1 </td><td>4 </td><td>7 </td><td>10</td></tr>\n",
       "\t<tr><td>2 </td><td>5 </td><td>8 </td><td> 1</td></tr>\n",
       "\t<tr><td>3 </td><td>6 </td><td>9 </td><td> 2</td></tr>\n",
       "</tbody>\n",
       "</table>\n"
      ],
      "text/latex": [
       "\\begin{tabular}{llll}\n",
       "\t 1  & 4  & 7  & 10\\\\\n",
       "\t 2  & 5  & 8  &  1\\\\\n",
       "\t 3  & 6  & 9  &  2\\\\\n",
       "\\end{tabular}\n"
      ],
      "text/markdown": [
       "\n",
       "| 1  | 4  | 7  | 10 |\n",
       "| 2  | 5  | 8  |  1 |\n",
       "| 3  | 6  | 9  |  2 |\n",
       "\n"
      ],
      "text/plain": [
       "     [,1] [,2] [,3] [,4]\n",
       "[1,] 1    4    7    10  \n",
       "[2,] 2    5    8     1  \n",
       "[3,] 3    6    9     2  "
      ]
     },
     "metadata": {},
     "output_type": "display_data"
    },
    {
     "name": "stderr",
     "output_type": "stream",
     "text": [
      "Warning message in matrix(1:10, nrow = 3, ncol = 3):\n",
      "“데이터의 길이[10]가 행의 개수[3]의 배수가 되지 않습니다”"
     ]
    },
    {
     "data": {
      "text/html": [
       "<table>\n",
       "<tbody>\n",
       "\t<tr><td>1</td><td>4</td><td>7</td></tr>\n",
       "\t<tr><td>2</td><td>5</td><td>8</td></tr>\n",
       "\t<tr><td>3</td><td>6</td><td>9</td></tr>\n",
       "</tbody>\n",
       "</table>\n"
      ],
      "text/latex": [
       "\\begin{tabular}{lll}\n",
       "\t 1 & 4 & 7\\\\\n",
       "\t 2 & 5 & 8\\\\\n",
       "\t 3 & 6 & 9\\\\\n",
       "\\end{tabular}\n"
      ],
      "text/markdown": [
       "\n",
       "| 1 | 4 | 7 |\n",
       "| 2 | 5 | 8 |\n",
       "| 3 | 6 | 9 |\n",
       "\n"
      ],
      "text/plain": [
       "     [,1] [,2] [,3]\n",
       "[1,] 1    4    7   \n",
       "[2,] 2    5    8   \n",
       "[3,] 3    6    9   "
      ]
     },
     "metadata": {},
     "output_type": "display_data"
    }
   ],
   "source": [
    "matrix(1:10,nrow=3)  #벡터가 반복되어서 나옴 \n",
    "matrix(1:10,nrow=3,ncol=3) #하나가 소실됨 "
   ]
  },
  {
   "cell_type": "markdown",
   "metadata": {},
   "source": [
    "### List\n",
    "- Type이 다른 자료구조로 생성이 가능하다.\n",
    "- key와 value값으로 구성된다."
   ]
  },
  {
   "cell_type": "code",
   "execution_count": 58,
   "metadata": {},
   "outputs": [
    {
     "data": {
      "text/html": [
       "<dl>\n",
       "\t<dt>$name</dt>\n",
       "\t\t<dd>'홍길동'</dd>\n",
       "\t<dt>$address</dt>\n",
       "\t\t<dd>'서울'</dd>\n",
       "\t<dt>$tel</dt>\n",
       "\t\t<dd>'010-1111-2222'</dd>\n",
       "\t<dt>$pay</dt>\n",
       "\t\t<dd>300</dd>\n",
       "</dl>\n"
      ],
      "text/latex": [
       "\\begin{description}\n",
       "\\item[\\$name] '홍길동'\n",
       "\\item[\\$address] '서울'\n",
       "\\item[\\$tel] '010-1111-2222'\n",
       "\\item[\\$pay] 300\n",
       "\\end{description}\n"
      ],
      "text/markdown": [
       "$name\n",
       ":   '홍길동'\n",
       "$address\n",
       ":   '서울'\n",
       "$tel\n",
       ":   '010-1111-2222'\n",
       "$pay\n",
       ":   300\n",
       "\n",
       "\n"
      ],
      "text/plain": [
       "$name\n",
       "[1] \"홍길동\"\n",
       "\n",
       "$address\n",
       "[1] \"서울\"\n",
       "\n",
       "$tel\n",
       "[1] \"010-1111-2222\"\n",
       "\n",
       "$pay\n",
       "[1] 300\n"
      ]
     },
     "metadata": {},
     "output_type": "display_data"
    }
   ],
   "source": [
    "member <- list(name='홍길동', address='서울', tel='010-1111-2222', pay=300)\n",
    "member"
   ]
  },
  {
   "cell_type": "code",
   "execution_count": 59,
   "metadata": {},
   "outputs": [
    {
     "data": {
      "text/html": [
       "'홍길동'"
      ],
      "text/latex": [
       "'홍길동'"
      ],
      "text/markdown": [
       "'홍길동'"
      ],
      "text/plain": [
       "[1] \"홍길동\""
      ]
     },
     "metadata": {},
     "output_type": "display_data"
    }
   ],
   "source": [
    "member$name"
   ]
  },
  {
   "cell_type": "code",
   "execution_count": 60,
   "metadata": {},
   "outputs": [
    {
     "data": {
      "text/html": [
       "<dl>\n",
       "\t<dt>$name</dt>\n",
       "\t\t<dd>'홍길동'</dd>\n",
       "\t<dt>$address</dt>\n",
       "\t\t<dd>'서울'</dd>\n",
       "\t<dt>$tel</dt>\n",
       "\t\t<dd>'010-1111-2222'</dd>\n",
       "\t<dt>$pay</dt>\n",
       "\t\t<dd>300</dd>\n",
       "\t<dt>$birth</dt>\n",
       "\t\t<dd>'1988-08-08'</dd>\n",
       "</dl>\n"
      ],
      "text/latex": [
       "\\begin{description}\n",
       "\\item[\\$name] '홍길동'\n",
       "\\item[\\$address] '서울'\n",
       "\\item[\\$tel] '010-1111-2222'\n",
       "\\item[\\$pay] 300\n",
       "\\item[\\$birth] '1988-08-08'\n",
       "\\end{description}\n"
      ],
      "text/markdown": [
       "$name\n",
       ":   '홍길동'\n",
       "$address\n",
       ":   '서울'\n",
       "$tel\n",
       ":   '010-1111-2222'\n",
       "$pay\n",
       ":   300\n",
       "$birth\n",
       ":   '1988-08-08'\n",
       "\n",
       "\n"
      ],
      "text/plain": [
       "$name\n",
       "[1] \"홍길동\"\n",
       "\n",
       "$address\n",
       "[1] \"서울\"\n",
       "\n",
       "$tel\n",
       "[1] \"010-1111-2222\"\n",
       "\n",
       "$pay\n",
       "[1] 300\n",
       "\n",
       "$birth\n",
       "[1] \"1988-08-08\"\n"
      ]
     },
     "metadata": {},
     "output_type": "display_data"
    }
   ],
   "source": [
    "member$birth <- '1988-08-08'\n",
    "member\n"
   ]
  },
  {
   "cell_type": "markdown",
   "metadata": {},
   "source": [
    "---\n",
    "# 문자열 처리\n",
    "수집한 데이터의 필요한 문자열을 자르고, 교체하고, 추출하는 작업\n",
    "\n",
    "### stringr package사용\n",
    "- str_length() : 문자열 길이\n",
    "- str_c() : 문자열 연결\n",
    "- str_sub() : 범위에 해당하는 문자열 생성\n",
    "- str_split() : 구분자를 기준으로 문자열을 분리하여 부분 생성\n",
    "- str_replace() : 문자열에서 기존 문자열을 특정 문자열로 변환 / str_replace_all()\n",
    "- str_extract() : 문자열에서 특정 문자열 패턴의 첫번째 문자열 추출 / str_extract_all()\n",
    "- str_locate() : 문자열에서 특정 문자열 패턴의 첫번째 위치 추출 / str_locate_all()"
   ]
  },
  {
   "cell_type": "code",
   "execution_count": 64,
   "metadata": {},
   "outputs": [],
   "source": [
    "# 패키지 불러오기\n",
    "\n",
    "library(stringr)"
   ]
  },
  {
   "cell_type": "code",
   "execution_count": 67,
   "metadata": {},
   "outputs": [],
   "source": [
    "string <- \"hongkildong105yoube1002kwanwoo25장비2005\""
   ]
  },
  {
   "cell_type": "code",
   "execution_count": 68,
   "metadata": {},
   "outputs": [
    {
     "data": {
      "text/html": [
       "<ol>\n",
       "\t<li><ol class=list-inline>\n",
       "\t<li>'hon'</li>\n",
       "\t<li>'gki'</li>\n",
       "\t<li>'ldo'</li>\n",
       "\t<li>'you'</li>\n",
       "\t<li>'kwa'</li>\n",
       "\t<li>'nwo'</li>\n",
       "</ol>\n",
       "</li>\n",
       "</ol>\n"
      ],
      "text/latex": [
       "\\begin{enumerate}\n",
       "\\item \\begin{enumerate*}\n",
       "\\item 'hon'\n",
       "\\item 'gki'\n",
       "\\item 'ldo'\n",
       "\\item 'you'\n",
       "\\item 'kwa'\n",
       "\\item 'nwo'\n",
       "\\end{enumerate*}\n",
       "\n",
       "\\end{enumerate}\n"
      ],
      "text/markdown": [
       "1. 1. 'hon'\n",
       "2. 'gki'\n",
       "3. 'ldo'\n",
       "4. 'you'\n",
       "5. 'kwa'\n",
       "6. 'nwo'\n",
       "\n",
       "\n",
       "\n",
       "\n",
       "\n"
      ],
      "text/plain": [
       "[[1]]\n",
       "[1] \"hon\" \"gki\" \"ldo\" \"you\" \"kwa\" \"nwo\"\n"
      ]
     },
     "metadata": {},
     "output_type": "display_data"
    }
   ],
   "source": [
    "# a-z까지의 영문자가 연속으로 3개 발견된 문자열 추출\n",
    "\n",
    "str_extract_all(string, \"[a-z]{3}\")"
   ]
  },
  {
   "cell_type": "code",
   "execution_count": 70,
   "metadata": {},
   "outputs": [
    {
     "data": {
      "text/html": [
       "<ol>\n",
       "\t<li><ol class=list-inline>\n",
       "\t<li>'hongk'</li>\n",
       "\t<li>'ildon'</li>\n",
       "\t<li>'yoube'</li>\n",
       "\t<li>'kwanw'</li>\n",
       "</ol>\n",
       "</li>\n",
       "</ol>\n"
      ],
      "text/latex": [
       "\\begin{enumerate}\n",
       "\\item \\begin{enumerate*}\n",
       "\\item 'hongk'\n",
       "\\item 'ildon'\n",
       "\\item 'yoube'\n",
       "\\item 'kwanw'\n",
       "\\end{enumerate*}\n",
       "\n",
       "\\end{enumerate}\n"
      ],
      "text/markdown": [
       "1. 1. 'hongk'\n",
       "2. 'ildon'\n",
       "3. 'yoube'\n",
       "4. 'kwanw'\n",
       "\n",
       "\n",
       "\n",
       "\n",
       "\n"
      ],
      "text/plain": [
       "[[1]]\n",
       "[1] \"hongk\" \"ildon\" \"yoube\" \"kwanw\"\n"
      ]
     },
     "metadata": {},
     "output_type": "display_data"
    }
   ],
   "source": [
    "# a-z까지의 영문자가 연속으로 3개-5개 발견된 문자열 추출\n",
    "\n",
    "str_extract_all(string, \"[a-z]{3,5}\")"
   ]
  },
  {
   "cell_type": "code",
   "execution_count": 78,
   "metadata": {},
   "outputs": [
    {
     "data": {
      "text/html": [
       "'list'"
      ],
      "text/latex": [
       "'list'"
      ],
      "text/markdown": [
       "'list'"
      ],
      "text/plain": [
       "[1] \"list\""
      ]
     },
     "metadata": {},
     "output_type": "display_data"
    },
    {
     "data": {
      "text/html": [
       "<ol class=list-inline>\n",
       "\t<li>'hongkildong'</li>\n",
       "\t<li>'yoube'</li>\n",
       "\t<li>'kwanwoo'</li>\n",
       "</ol>\n"
      ],
      "text/latex": [
       "\\begin{enumerate*}\n",
       "\\item 'hongkildong'\n",
       "\\item 'yoube'\n",
       "\\item 'kwanwoo'\n",
       "\\end{enumerate*}\n"
      ],
      "text/markdown": [
       "1. 'hongkildong'\n",
       "2. 'yoube'\n",
       "3. 'kwanwoo'\n",
       "\n",
       "\n"
      ],
      "text/plain": [
       "[1] \"hongkildong\" \"yoube\"       \"kwanwoo\"    "
      ]
     },
     "metadata": {},
     "output_type": "display_data"
    },
    {
     "data": {
      "text/html": [
       "'character'"
      ],
      "text/latex": [
       "'character'"
      ],
      "text/markdown": [
       "'character'"
      ],
      "text/plain": [
       "[1] \"character\""
      ]
     },
     "metadata": {},
     "output_type": "display_data"
    },
    {
     "data": {
      "text/html": [
       "'hongkildong'"
      ],
      "text/latex": [
       "'hongkildong'"
      ],
      "text/markdown": [
       "'hongkildong'"
      ],
      "text/plain": [
       "[1] \"hongkildong\""
      ]
     },
     "metadata": {},
     "output_type": "display_data"
    }
   ],
   "source": [
    "# a-z까지의 영문자가 연속으로 1개 이상 발견된 문자열 추출\n",
    "\n",
    "aaa <- str_extract_all(string, \"[a-z]{1,}\") #1개 이상이라는 의미 \n",
    "class(aaa)\n",
    "bbb<- unlist(aaa) #리스트 제거 \n",
    "bbb\n",
    "class(bbb) #제거하니까 일반 벡터가 돼서 하나씩 출력 가능해짐 \n",
    "bbb[1]"
   ]
  },
  {
   "cell_type": "code",
   "execution_count": 91,
   "metadata": {},
   "outputs": [
    {
     "data": {
      "text/html": [
       "'hongkildong105yoube1002kwanwoo25장비2005'"
      ],
      "text/latex": [
       "'hongkildong105yoube1002kwanwoo25장비2005'"
      ],
      "text/markdown": [
       "'hongkildong105yoube1002kwanwoo25장비2005'"
      ],
      "text/plain": [
       "[1] \"hongkildong105yoube1002kwanwoo25장비2005\""
      ]
     },
     "metadata": {},
     "output_type": "display_data"
    },
    {
     "data": {
      "text/html": [
       "'numeric'"
      ],
      "text/latex": [
       "'numeric'"
      ],
      "text/markdown": [
       "'numeric'"
      ],
      "text/plain": [
       "[1] \"numeric\""
      ]
     },
     "metadata": {},
     "output_type": "display_data"
    },
    {
     "data": {
      "text/html": [
       "3137"
      ],
      "text/latex": [
       "3137"
      ],
      "text/markdown": [
       "3137"
      ],
      "text/plain": [
       "[1] 3137"
      ]
     },
     "metadata": {},
     "output_type": "display_data"
    },
    {
     "data": {
      "text/html": [
       "'numeric'"
      ],
      "text/latex": [
       "'numeric'"
      ],
      "text/markdown": [
       "'numeric'"
      ],
      "text/plain": [
       "[1] \"numeric\""
      ]
     },
     "metadata": {},
     "output_type": "display_data"
    },
    {
     "data": {
      "text/html": [
       "3137"
      ],
      "text/latex": [
       "3137"
      ],
      "text/markdown": [
       "3137"
      ],
      "text/plain": [
       "[1] 3137"
      ]
     },
     "metadata": {},
     "output_type": "display_data"
    }
   ],
   "source": [
    "# string에서 숫자만 출력하여 합계구하기\n",
    "string\n",
    "ccc <- str_extract_all(string, \"[0-9]{1,}\")\n",
    "ddd <- unlist(ccc)\n",
    "ddd<- as.numeric(ddd)\n",
    "\n",
    "class(ddd)\n",
    "sum(ddd)\n",
    "\n",
    "sum(as.numeric(unlist( str_extract_all(string, \"[0-9]{1,}\"))))\n"
   ]
  },
  {
   "cell_type": "code",
   "execution_count": 97,
   "metadata": {},
   "outputs": [
    {
     "data": {
      "text/html": [
       "<ol>\n",
       "\t<li>'장비'</li>\n",
       "</ol>\n"
      ],
      "text/latex": [
       "\\begin{enumerate}\n",
       "\\item '장비'\n",
       "\\end{enumerate}\n"
      ],
      "text/markdown": [
       "1. '장비'\n",
       "\n",
       "\n"
      ],
      "text/plain": [
       "[[1]]\n",
       "[1] \"장비\"\n"
      ]
     },
     "metadata": {},
     "output_type": "display_data"
    }
   ],
   "source": [
    "# 한글만 추출하기\n",
    "str_extract_all(string,\"[가-힣]{1,}\")"
   ]
  },
  {
   "cell_type": "code",
   "execution_count": 98,
   "metadata": {},
   "outputs": [
    {
     "data": {
      "text/html": [
       "<ol>\n",
       "\t<li><ol class=list-inline>\n",
       "\t<li>'105'</li>\n",
       "\t<li>'1002'</li>\n",
       "\t<li>'25장비2005'</li>\n",
       "</ol>\n",
       "</li>\n",
       "</ol>\n"
      ],
      "text/latex": [
       "\\begin{enumerate}\n",
       "\\item \\begin{enumerate*}\n",
       "\\item '105'\n",
       "\\item '1002'\n",
       "\\item '25장비2005'\n",
       "\\end{enumerate*}\n",
       "\n",
       "\\end{enumerate}\n"
      ],
      "text/markdown": [
       "1. 1. '105'\n",
       "2. '1002'\n",
       "3. '25장비2005'\n",
       "\n",
       "\n",
       "\n",
       "\n",
       "\n"
      ],
      "text/plain": [
       "[[1]]\n",
       "[1] \"105\"        \"1002\"       \"25장비2005\"\n"
      ]
     },
     "metadata": {},
     "output_type": "display_data"
    }
   ],
   "source": [
    "# 영문자를 제외한 문자 출력하기\n",
    "\n",
    "str_extract_all(string,\"[^a-z]{1,}\") #^이 not"
   ]
  },
  {
   "cell_type": "code",
   "execution_count": 99,
   "metadata": {},
   "outputs": [
    {
     "data": {
      "text/html": [
       "38"
      ],
      "text/latex": [
       "38"
      ],
      "text/markdown": [
       "38"
      ],
      "text/plain": [
       "[1] 38"
      ]
     },
     "metadata": {},
     "output_type": "display_data"
    }
   ],
   "source": [
    "# 문자열 길이 구하기\n",
    "\n",
    "str_length(string)"
   ]
  },
  {
   "cell_type": "code",
   "execution_count": 100,
   "metadata": {},
   "outputs": [
    {
     "data": {
      "text/html": [
       "<table>\n",
       "<thead><tr><th scope=col>start</th><th scope=col>end</th></tr></thead>\n",
       "<tbody>\n",
       "\t<tr><td>33</td><td>34</td></tr>\n",
       "</tbody>\n",
       "</table>\n"
      ],
      "text/latex": [
       "\\begin{tabular}{ll}\n",
       " start & end\\\\\n",
       "\\hline\n",
       "\t 33 & 34\\\\\n",
       "\\end{tabular}\n"
      ],
      "text/markdown": [
       "\n",
       "| start | end |\n",
       "|---|---|\n",
       "| 33 | 34 |\n",
       "\n"
      ],
      "text/plain": [
       "     start end\n",
       "[1,] 33    34 "
      ]
     },
     "metadata": {},
     "output_type": "display_data"
    }
   ],
   "source": [
    "# 문자열 위치 구하기 \n",
    "\n",
    "str_locate(string, \"장비\")"
   ]
  },
  {
   "cell_type": "code",
   "execution_count": 106,
   "metadata": {
    "scrolled": true
   },
   "outputs": [
    {
     "data": {
      "text/html": [
       "'hongkildong105yoube1002kwanwoo25'"
      ],
      "text/latex": [
       "'hongkildong105yoube1002kwanwoo25'"
      ],
      "text/markdown": [
       "'hongkildong105yoube1002kwanwoo25'"
      ],
      "text/plain": [
       "[1] \"hongkildong105yoube1002kwanwoo25\""
      ]
     },
     "metadata": {},
     "output_type": "display_data"
    },
    {
     "data": {
      "text/html": [
       "'hongkildong105yoube1002kwanwoo25'"
      ],
      "text/latex": [
       "'hongkildong105yoube1002kwanwoo25'"
      ],
      "text/markdown": [
       "'hongkildong105yoube1002kwanwoo25'"
      ],
      "text/plain": [
       "[1] \"hongkildong105yoube1002kwanwoo25\""
      ]
     },
     "metadata": {},
     "output_type": "display_data"
    }
   ],
   "source": [
    "# 부분 문자열 추출\n",
    "\n",
    "str_sub(string,1,32)\n",
    "str_sub(string,1,str_locate(string,\"장비\")[1]-1)"
   ]
  },
  {
   "cell_type": "code",
   "execution_count": 107,
   "metadata": {},
   "outputs": [
    {
     "data": {
      "text/html": [
       "'HONGKILDONG105YOUBE1002KWANWOO25장비2005'"
      ],
      "text/latex": [
       "'HONGKILDONG105YOUBE1002KWANWOO25장비2005'"
      ],
      "text/markdown": [
       "'HONGKILDONG105YOUBE1002KWANWOO25장비2005'"
      ],
      "text/plain": [
       "[1] \"HONGKILDONG105YOUBE1002KWANWOO25장비2005\""
      ]
     },
     "metadata": {},
     "output_type": "display_data"
    }
   ],
   "source": [
    "# 대문자, 소문자 변경하기\n",
    "\n",
    "str_to_upper(string)\n",
    "str_to_lower(string)"
   ]
  },
  {
   "cell_type": "code",
   "execution_count": 113,
   "metadata": {},
   "outputs": [
    {
     "data": {
      "text/html": [
       "'홍길동35,유비45,관우25,장비20'"
      ],
      "text/latex": [
       "'홍길동35,유비45,관우25,장비20'"
      ],
      "text/markdown": [
       "'홍길동35,유비45,관우25,장비20'"
      ],
      "text/plain": [
       "[1] \"홍길동35,유비45,관우25,장비20\""
      ]
     },
     "metadata": {},
     "output_type": "display_data"
    }
   ],
   "source": [
    "# 문자열 교체하기\n",
    "\n",
    "string <- str_replace(string, \"hongkildong105\",\"홍길동35,\")\n",
    "string <- str_replace(string,\"yoube1002\",\"유비45,\")\n",
    "string <- str_replace(string,\"kwanwoo25\",\"관우25,\")\n",
    "string <- str_replace(string,\"2005\",\"20\")\n",
    "\n",
    "string"
   ]
  },
  {
   "cell_type": "code",
   "execution_count": 114,
   "metadata": {},
   "outputs": [
    {
     "data": {
      "text/html": [
       "<ol>\n",
       "\t<li><ol class=list-inline>\n",
       "\t<li>'홍길동35'</li>\n",
       "\t<li>'유비45'</li>\n",
       "\t<li>'관우25'</li>\n",
       "\t<li>'장비20'</li>\n",
       "</ol>\n",
       "</li>\n",
       "</ol>\n"
      ],
      "text/latex": [
       "\\begin{enumerate}\n",
       "\\item \\begin{enumerate*}\n",
       "\\item '홍길동35'\n",
       "\\item '유비45'\n",
       "\\item '관우25'\n",
       "\\item '장비20'\n",
       "\\end{enumerate*}\n",
       "\n",
       "\\end{enumerate}\n"
      ],
      "text/markdown": [
       "1. 1. '홍길동35'\n",
       "2. '유비45'\n",
       "3. '관우25'\n",
       "4. '장비20'\n",
       "\n",
       "\n",
       "\n",
       "\n",
       "\n"
      ],
      "text/plain": [
       "[[1]]\n",
       "[1] \"홍길동35\" \"유비45\"   \"관우25\"   \"장비20\"  \n"
      ]
     },
     "metadata": {},
     "output_type": "display_data"
    }
   ],
   "source": [
    "# 문자열 분리하기\n",
    "str_split(string,\",\")"
   ]
  },
  {
   "cell_type": "code",
   "execution_count": 131,
   "metadata": {},
   "outputs": [
    {
     "data": {
      "text/html": [
       "123456789"
      ],
      "text/latex": [
       "123456789"
      ],
      "text/markdown": [
       "123456789"
      ],
      "text/plain": [
       "[1] 123456789"
      ]
     },
     "metadata": {},
     "output_type": "display_data"
    }
   ],
   "source": [
    "# 천단위 쉼표가 들어간 문자열을 숫자로 변경하기\n",
    "\n",
    "price <- \"123,456,789\"\n",
    "\n",
    "as.numeric(str_replace_all(price,\",\",\"\"))\n"
   ]
  },
  {
   "cell_type": "code",
   "execution_count": 133,
   "metadata": {},
   "outputs": [
    {
     "data": {
      "text/html": [
       "123456789"
      ],
      "text/latex": [
       "123456789"
      ],
      "text/markdown": [
       "123456789"
      ],
      "text/plain": [
       "[1] 123456789"
      ]
     },
     "metadata": {},
     "output_type": "display_data"
    }
   ],
   "source": [
    "price <- \"123,456,789\"\n",
    "as.numeric(str_remove_all(price,\",\"))"
   ]
  },
  {
   "cell_type": "code",
   "execution_count": 138,
   "metadata": {},
   "outputs": [
    {
     "data": {
      "text/html": [
       "<ol class=list-inline>\n",
       "\t<li>1</li>\n",
       "\t<li>2</li>\n",
       "\t<li>&lt;NA&gt;</li>\n",
       "\t<li>4</li>\n",
       "</ol>\n"
      ],
      "text/latex": [
       "\\begin{enumerate*}\n",
       "\\item 1\n",
       "\\item 2\n",
       "\\item <NA>\n",
       "\\item 4\n",
       "\\end{enumerate*}\n"
      ],
      "text/markdown": [
       "1. 1\n",
       "2. 2\n",
       "3. &lt;NA&gt;\n",
       "4. 4\n",
       "\n",
       "\n"
      ],
      "text/plain": [
       "[1]  1  2 NA  4"
      ]
     },
     "metadata": {},
     "output_type": "display_data"
    },
    {
     "data": {
      "text/html": [
       "&lt;NA&gt;"
      ],
      "text/latex": [
       "<NA>"
      ],
      "text/markdown": [
       "&lt;NA&gt;"
      ],
      "text/plain": [
       "[1] NA"
      ]
     },
     "metadata": {},
     "output_type": "display_data"
    },
    {
     "data": {
      "text/html": [
       "<ol class=list-inline>\n",
       "\t<li>1</li>\n",
       "\t<li>2</li>\n",
       "\t<li>10</li>\n",
       "\t<li>4</li>\n",
       "</ol>\n"
      ],
      "text/latex": [
       "\\begin{enumerate*}\n",
       "\\item 1\n",
       "\\item 2\n",
       "\\item 10\n",
       "\\item 4\n",
       "\\end{enumerate*}\n"
      ],
      "text/markdown": [
       "1. 1\n",
       "2. 2\n",
       "3. 10\n",
       "4. 4\n",
       "\n",
       "\n"
      ],
      "text/plain": [
       "[1]  1  2 10  4"
      ]
     },
     "metadata": {},
     "output_type": "display_data"
    }
   ],
   "source": [
    "# NA를 변경하기\n",
    "\n",
    "temp <- c(1,2,NA,4)\n",
    "temp\n",
    "sum(temp)\n",
    "\n",
    "as.numeric(str_replace_na(temp,10))\n"
   ]
  },
  {
   "cell_type": "code",
   "execution_count": null,
   "metadata": {},
   "outputs": [],
   "source": []
  },
  {
   "cell_type": "code",
   "execution_count": null,
   "metadata": {},
   "outputs": [],
   "source": []
  }
 ],
 "metadata": {
  "kernelspec": {
   "display_name": "R",
   "language": "R",
   "name": "ir"
  },
  "language_info": {
   "codemirror_mode": "r",
   "file_extension": ".r",
   "mimetype": "text/x-r-source",
   "name": "R",
   "pygments_lexer": "r",
   "version": "3.6.1"
  }
 },
 "nbformat": 4,
 "nbformat_minor": 2
}
