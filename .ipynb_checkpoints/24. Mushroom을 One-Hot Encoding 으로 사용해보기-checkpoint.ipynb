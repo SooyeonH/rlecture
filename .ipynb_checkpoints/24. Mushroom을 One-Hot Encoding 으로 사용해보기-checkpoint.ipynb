{
 "cells": [
  {
   "cell_type": "markdown",
   "id": "7a782f9c",
   "metadata": {},
   "source": [
    "#Mushroom\n",
    "https://archive.ics.uci.edu/ml/datasets/Mushroom\n",
    "- 8124종류의 버섯의 특징과 독의 유무를 정리해논 데이터셋\n",
    "- 버섯 모양의 특징을 기반으로 독의 유무를 판단\n",
    "\n",
    "한 줄(row)이 버섯 한 종류\n",
    "1번째 컬럼은 독의 유무 : 독(p), 식용(e) \n",
    "2번째 컬럼은 버섯의 머리모양 : b(벨 형태),c(원뿔),x(블록),f(평평),k(혹),s(오목)\n",
    "4번째 컬럼은 버섯의 머리 색 : n(갈색), b(황갈색), c(연한갈색), g(회색)\n",
    "\n",
    "*자세한 내용은 위의 사이트에서 확인 "
   ]
  },
  {
   "cell_type": "code",
   "execution_count": 88,
   "id": "c0acdbda",
   "metadata": {},
   "outputs": [
    {
     "data": {
      "text/html": [
       "<table>\n",
       "<thead><tr><th scope=col>V1</th><th scope=col>V2</th><th scope=col>V3</th><th scope=col>V4</th><th scope=col>V5</th><th scope=col>V6</th><th scope=col>V7</th><th scope=col>V8</th><th scope=col>V9</th><th scope=col>V10</th><th scope=col>...</th><th scope=col>V13</th><th scope=col>V14</th><th scope=col>V15</th><th scope=col>V16</th><th scope=col>V18</th><th scope=col>V19</th><th scope=col>V20</th><th scope=col>V21</th><th scope=col>V22</th><th scope=col>V23</th></tr></thead>\n",
       "<tbody>\n",
       "\t<tr><td>p  </td><td>x  </td><td>s  </td><td>n  </td><td>t  </td><td>p  </td><td>f  </td><td>c  </td><td>n  </td><td>k  </td><td>...</td><td>s  </td><td>s  </td><td>w  </td><td>w  </td><td>w  </td><td>o  </td><td>p  </td><td>k  </td><td>s  </td><td>u  </td></tr>\n",
       "\t<tr><td>e  </td><td>x  </td><td>s  </td><td>y  </td><td>t  </td><td>a  </td><td>f  </td><td>c  </td><td>b  </td><td>k  </td><td>...</td><td>s  </td><td>s  </td><td>w  </td><td>w  </td><td>w  </td><td>o  </td><td>p  </td><td>n  </td><td>n  </td><td>g  </td></tr>\n",
       "\t<tr><td>e  </td><td>b  </td><td>s  </td><td>w  </td><td>t  </td><td>l  </td><td>f  </td><td>c  </td><td>b  </td><td>n  </td><td>...</td><td>s  </td><td>s  </td><td>w  </td><td>w  </td><td>w  </td><td>o  </td><td>p  </td><td>n  </td><td>n  </td><td>m  </td></tr>\n",
       "\t<tr><td>p  </td><td>x  </td><td>y  </td><td>w  </td><td>t  </td><td>p  </td><td>f  </td><td>c  </td><td>n  </td><td>n  </td><td>...</td><td>s  </td><td>s  </td><td>w  </td><td>w  </td><td>w  </td><td>o  </td><td>p  </td><td>k  </td><td>s  </td><td>u  </td></tr>\n",
       "\t<tr><td>e  </td><td>x  </td><td>s  </td><td>g  </td><td>f  </td><td>n  </td><td>f  </td><td>w  </td><td>b  </td><td>k  </td><td>...</td><td>s  </td><td>s  </td><td>w  </td><td>w  </td><td>w  </td><td>o  </td><td>e  </td><td>n  </td><td>a  </td><td>g  </td></tr>\n",
       "\t<tr><td>e  </td><td>x  </td><td>y  </td><td>y  </td><td>t  </td><td>a  </td><td>f  </td><td>c  </td><td>b  </td><td>n  </td><td>...</td><td>s  </td><td>s  </td><td>w  </td><td>w  </td><td>w  </td><td>o  </td><td>p  </td><td>k  </td><td>n  </td><td>g  </td></tr>\n",
       "</tbody>\n",
       "</table>\n"
      ],
      "text/latex": [
       "\\begin{tabular}{r|llllllllllllllllllllll}\n",
       " V1 & V2 & V3 & V4 & V5 & V6 & V7 & V8 & V9 & V10 & ... & V13 & V14 & V15 & V16 & V18 & V19 & V20 & V21 & V22 & V23\\\\\n",
       "\\hline\n",
       "\t p   & x   & s   & n   & t   & p   & f   & c   & n   & k   & ... & s   & s   & w   & w   & w   & o   & p   & k   & s   & u  \\\\\n",
       "\t e   & x   & s   & y   & t   & a   & f   & c   & b   & k   & ... & s   & s   & w   & w   & w   & o   & p   & n   & n   & g  \\\\\n",
       "\t e   & b   & s   & w   & t   & l   & f   & c   & b   & n   & ... & s   & s   & w   & w   & w   & o   & p   & n   & n   & m  \\\\\n",
       "\t p   & x   & y   & w   & t   & p   & f   & c   & n   & n   & ... & s   & s   & w   & w   & w   & o   & p   & k   & s   & u  \\\\\n",
       "\t e   & x   & s   & g   & f   & n   & f   & w   & b   & k   & ... & s   & s   & w   & w   & w   & o   & e   & n   & a   & g  \\\\\n",
       "\t e   & x   & y   & y   & t   & a   & f   & c   & b   & n   & ... & s   & s   & w   & w   & w   & o   & p   & k   & n   & g  \\\\\n",
       "\\end{tabular}\n"
      ],
      "text/markdown": [
       "\n",
       "| V1 | V2 | V3 | V4 | V5 | V6 | V7 | V8 | V9 | V10 | ... | V13 | V14 | V15 | V16 | V18 | V19 | V20 | V21 | V22 | V23 |\n",
       "|---|---|---|---|---|---|---|---|---|---|---|---|---|---|---|---|---|---|---|---|---|\n",
       "| p   | x   | s   | n   | t   | p   | f   | c   | n   | k   | ... | s   | s   | w   | w   | w   | o   | p   | k   | s   | u   |\n",
       "| e   | x   | s   | y   | t   | a   | f   | c   | b   | k   | ... | s   | s   | w   | w   | w   | o   | p   | n   | n   | g   |\n",
       "| e   | b   | s   | w   | t   | l   | f   | c   | b   | n   | ... | s   | s   | w   | w   | w   | o   | p   | n   | n   | m   |\n",
       "| p   | x   | y   | w   | t   | p   | f   | c   | n   | n   | ... | s   | s   | w   | w   | w   | o   | p   | k   | s   | u   |\n",
       "| e   | x   | s   | g   | f   | n   | f   | w   | b   | k   | ... | s   | s   | w   | w   | w   | o   | e   | n   | a   | g   |\n",
       "| e   | x   | y   | y   | t   | a   | f   | c   | b   | n   | ... | s   | s   | w   | w   | w   | o   | p   | k   | n   | g   |\n",
       "\n"
      ],
      "text/plain": [
       "  V1 V2 V3 V4 V5 V6 V7 V8 V9 V10 ... V13 V14 V15 V16 V18 V19 V20 V21 V22 V23\n",
       "1 p  x  s  n  t  p  f  c  n  k   ... s   s   w   w   w   o   p   k   s   u  \n",
       "2 e  x  s  y  t  a  f  c  b  k   ... s   s   w   w   w   o   p   n   n   g  \n",
       "3 e  b  s  w  t  l  f  c  b  n   ... s   s   w   w   w   o   p   n   n   m  \n",
       "4 p  x  y  w  t  p  f  c  n  n   ... s   s   w   w   w   o   p   k   s   u  \n",
       "5 e  x  s  g  f  n  f  w  b  k   ... s   s   w   w   w   o   e   n   a   g  \n",
       "6 e  x  y  y  t  a  f  c  b  n   ... s   s   w   w   w   o   p   k   n   g  "
      ]
     },
     "metadata": {},
     "output_type": "display_data"
    },
    {
     "data": {
      "text/html": [
       "<table>\n",
       "<thead><tr><th></th><th scope=col>V1</th><th scope=col>V2</th><th scope=col>V3</th><th scope=col>V4</th><th scope=col>V5</th><th scope=col>V6</th><th scope=col>V7</th><th scope=col>V8</th><th scope=col>V9</th><th scope=col>V10</th><th scope=col>...</th><th scope=col>V13</th><th scope=col>V14</th><th scope=col>V15</th><th scope=col>V16</th><th scope=col>V18</th><th scope=col>V19</th><th scope=col>V20</th><th scope=col>V21</th><th scope=col>V22</th><th scope=col>V23</th></tr></thead>\n",
       "<tbody>\n",
       "\t<tr><th scope=row>8119</th><td>p  </td><td>k  </td><td>y  </td><td>n  </td><td>f  </td><td>f  </td><td>f  </td><td>c  </td><td>n  </td><td>b  </td><td>...</td><td>k  </td><td>s  </td><td>p  </td><td>w  </td><td>w  </td><td>o  </td><td>e  </td><td>w  </td><td>v  </td><td>d  </td></tr>\n",
       "\t<tr><th scope=row>8120</th><td>e  </td><td>k  </td><td>s  </td><td>n  </td><td>f  </td><td>n  </td><td>a  </td><td>c  </td><td>b  </td><td>y  </td><td>...</td><td>s  </td><td>s  </td><td>o  </td><td>o  </td><td>o  </td><td>o  </td><td>p  </td><td>b  </td><td>c  </td><td>l  </td></tr>\n",
       "\t<tr><th scope=row>8121</th><td>e  </td><td>x  </td><td>s  </td><td>n  </td><td>f  </td><td>n  </td><td>a  </td><td>c  </td><td>b  </td><td>y  </td><td>...</td><td>s  </td><td>s  </td><td>o  </td><td>o  </td><td>n  </td><td>o  </td><td>p  </td><td>b  </td><td>v  </td><td>l  </td></tr>\n",
       "\t<tr><th scope=row>8122</th><td>e  </td><td>f  </td><td>s  </td><td>n  </td><td>f  </td><td>n  </td><td>a  </td><td>c  </td><td>b  </td><td>n  </td><td>...</td><td>s  </td><td>s  </td><td>o  </td><td>o  </td><td>o  </td><td>o  </td><td>p  </td><td>b  </td><td>c  </td><td>l  </td></tr>\n",
       "\t<tr><th scope=row>8123</th><td>p  </td><td>k  </td><td>y  </td><td>n  </td><td>f  </td><td>y  </td><td>f  </td><td>c  </td><td>n  </td><td>b  </td><td>...</td><td>s  </td><td>k  </td><td>w  </td><td>w  </td><td>w  </td><td>o  </td><td>e  </td><td>w  </td><td>v  </td><td>l  </td></tr>\n",
       "\t<tr><th scope=row>8124</th><td>e  </td><td>x  </td><td>s  </td><td>n  </td><td>f  </td><td>n  </td><td>a  </td><td>c  </td><td>b  </td><td>y  </td><td>...</td><td>s  </td><td>s  </td><td>o  </td><td>o  </td><td>o  </td><td>o  </td><td>p  </td><td>o  </td><td>c  </td><td>l  </td></tr>\n",
       "</tbody>\n",
       "</table>\n"
      ],
      "text/latex": [
       "\\begin{tabular}{r|llllllllllllllllllllll}\n",
       "  & V1 & V2 & V3 & V4 & V5 & V6 & V7 & V8 & V9 & V10 & ... & V13 & V14 & V15 & V16 & V18 & V19 & V20 & V21 & V22 & V23\\\\\n",
       "\\hline\n",
       "\t8119 & p   & k   & y   & n   & f   & f   & f   & c   & n   & b   & ... & k   & s   & p   & w   & w   & o   & e   & w   & v   & d  \\\\\n",
       "\t8120 & e   & k   & s   & n   & f   & n   & a   & c   & b   & y   & ... & s   & s   & o   & o   & o   & o   & p   & b   & c   & l  \\\\\n",
       "\t8121 & e   & x   & s   & n   & f   & n   & a   & c   & b   & y   & ... & s   & s   & o   & o   & n   & o   & p   & b   & v   & l  \\\\\n",
       "\t8122 & e   & f   & s   & n   & f   & n   & a   & c   & b   & n   & ... & s   & s   & o   & o   & o   & o   & p   & b   & c   & l  \\\\\n",
       "\t8123 & p   & k   & y   & n   & f   & y   & f   & c   & n   & b   & ... & s   & k   & w   & w   & w   & o   & e   & w   & v   & l  \\\\\n",
       "\t8124 & e   & x   & s   & n   & f   & n   & a   & c   & b   & y   & ... & s   & s   & o   & o   & o   & o   & p   & o   & c   & l  \\\\\n",
       "\\end{tabular}\n"
      ],
      "text/markdown": [
       "\n",
       "| <!--/--> | V1 | V2 | V3 | V4 | V5 | V6 | V7 | V8 | V9 | V10 | ... | V13 | V14 | V15 | V16 | V18 | V19 | V20 | V21 | V22 | V23 |\n",
       "|---|---|---|---|---|---|---|---|---|---|---|---|---|---|---|---|---|---|---|---|---|---|\n",
       "| 8119 | p   | k   | y   | n   | f   | f   | f   | c   | n   | b   | ... | k   | s   | p   | w   | w   | o   | e   | w   | v   | d   |\n",
       "| 8120 | e   | k   | s   | n   | f   | n   | a   | c   | b   | y   | ... | s   | s   | o   | o   | o   | o   | p   | b   | c   | l   |\n",
       "| 8121 | e   | x   | s   | n   | f   | n   | a   | c   | b   | y   | ... | s   | s   | o   | o   | n   | o   | p   | b   | v   | l   |\n",
       "| 8122 | e   | f   | s   | n   | f   | n   | a   | c   | b   | n   | ... | s   | s   | o   | o   | o   | o   | p   | b   | c   | l   |\n",
       "| 8123 | p   | k   | y   | n   | f   | y   | f   | c   | n   | b   | ... | s   | k   | w   | w   | w   | o   | e   | w   | v   | l   |\n",
       "| 8124 | e   | x   | s   | n   | f   | n   | a   | c   | b   | y   | ... | s   | s   | o   | o   | o   | o   | p   | o   | c   | l   |\n",
       "\n"
      ],
      "text/plain": [
       "     V1 V2 V3 V4 V5 V6 V7 V8 V9 V10 ... V13 V14 V15 V16 V18 V19 V20 V21 V22 V23\n",
       "8119 p  k  y  n  f  f  f  c  n  b   ... k   s   p   w   w   o   e   w   v   d  \n",
       "8120 e  k  s  n  f  n  a  c  b  y   ... s   s   o   o   o   o   p   b   c   l  \n",
       "8121 e  x  s  n  f  n  a  c  b  y   ... s   s   o   o   n   o   p   b   v   l  \n",
       "8122 e  f  s  n  f  n  a  c  b  n   ... s   s   o   o   o   o   p   b   c   l  \n",
       "8123 p  k  y  n  f  y  f  c  n  b   ... s   k   w   w   w   o   e   w   v   l  \n",
       "8124 e  x  s  n  f  n  a  c  b  y   ... s   s   o   o   o   o   p   o   c   l  "
      ]
     },
     "metadata": {},
     "output_type": "display_data"
    },
    {
     "data": {
      "text/plain": [
       "\n",
       "   e    p \n",
       "4208 3916 "
      ]
     },
     "metadata": {},
     "output_type": "display_data"
    },
    {
     "name": "stdout",
     "output_type": "stream",
     "text": [
      "'data.frame':\t8124 obs. of  22 variables:\n",
      " $ V1 : Factor w/ 2 levels \"e\",\"p\": 2 1 1 2 1 1 1 1 2 1 ...\n",
      " $ V2 : Factor w/ 6 levels \"b\",\"c\",\"f\",\"k\",..: 6 6 1 6 6 6 1 1 6 1 ...\n",
      " $ V3 : Factor w/ 4 levels \"f\",\"g\",\"s\",\"y\": 3 3 3 4 3 4 3 4 4 3 ...\n",
      " $ V4 : Factor w/ 10 levels \"b\",\"c\",\"e\",\"g\",..: 5 10 9 9 4 10 9 9 9 10 ...\n",
      " $ V5 : Factor w/ 2 levels \"f\",\"t\": 2 2 2 2 1 2 2 2 2 2 ...\n",
      " $ V6 : Factor w/ 9 levels \"a\",\"c\",\"f\",\"l\",..: 7 1 4 7 6 1 1 4 7 1 ...\n",
      " $ V7 : Factor w/ 2 levels \"a\",\"f\": 2 2 2 2 2 2 2 2 2 2 ...\n",
      " $ V8 : Factor w/ 2 levels \"c\",\"w\": 1 1 1 1 2 1 1 1 1 1 ...\n",
      " $ V9 : Factor w/ 2 levels \"b\",\"n\": 2 1 1 2 1 1 1 1 2 1 ...\n",
      " $ V10: Factor w/ 12 levels \"b\",\"e\",\"g\",\"h\",..: 5 5 6 6 5 6 3 6 8 3 ...\n",
      " $ V11: Factor w/ 2 levels \"e\",\"t\": 1 1 1 1 2 1 1 1 1 1 ...\n",
      " $ V12: Factor w/ 5 levels \"?\",\"b\",\"c\",\"e\",..: 4 3 3 4 4 3 3 3 4 3 ...\n",
      " $ V13: Factor w/ 4 levels \"f\",\"k\",\"s\",\"y\": 3 3 3 3 3 3 3 3 3 3 ...\n",
      " $ V14: Factor w/ 4 levels \"f\",\"k\",\"s\",\"y\": 3 3 3 3 3 3 3 3 3 3 ...\n",
      " $ V15: Factor w/ 9 levels \"b\",\"c\",\"e\",\"g\",..: 8 8 8 8 8 8 8 8 8 8 ...\n",
      " $ V16: Factor w/ 9 levels \"b\",\"c\",\"e\",\"g\",..: 8 8 8 8 8 8 8 8 8 8 ...\n",
      " $ V18: Factor w/ 4 levels \"n\",\"o\",\"w\",\"y\": 3 3 3 3 3 3 3 3 3 3 ...\n",
      " $ V19: Factor w/ 3 levels \"n\",\"o\",\"t\": 2 2 2 2 2 2 2 2 2 2 ...\n",
      " $ V20: Factor w/ 5 levels \"e\",\"f\",\"l\",\"n\",..: 5 5 5 5 1 5 5 5 5 5 ...\n",
      " $ V21: Factor w/ 9 levels \"b\",\"h\",\"k\",\"n\",..: 3 4 4 3 4 3 3 4 3 3 ...\n",
      " $ V22: Factor w/ 6 levels \"a\",\"c\",\"n\",\"s\",..: 4 3 3 4 1 3 3 4 5 4 ...\n",
      " $ V23: Factor w/ 7 levels \"d\",\"g\",\"l\",\"m\",..: 6 2 4 6 2 2 4 4 2 4 ...\n"
     ]
    },
    {
     "data": {
      "text/plain": [
       " V1       V2       V3             V4       V5             V6       V7      \n",
       " e:4208   b: 452   f:2320   n      :2284   f:4748   n      :3528   a: 210  \n",
       " p:3916   c:   4   g:   4   g      :1840   t:3376   f      :2160   f:7914  \n",
       "          f:3152   s:2556   e      :1500            s      : 576           \n",
       "          k: 828   y:3244   y      :1072            y      : 576           \n",
       "          s:  32            w      :1040            a      : 400           \n",
       "          x:3656            b      : 168            l      : 400           \n",
       "                            (Other): 220            (Other): 484           \n",
       " V8       V9            V10       V11      V12      V13      V14     \n",
       " c:6812   b:5612   b      :1728   e:3516   ?:2480   f: 552   f: 600  \n",
       " w:1312   n:2512   p      :1492   t:4608   b:3776   k:2372   k:2304  \n",
       "                   w      :1202            c: 556   s:5176   s:4936  \n",
       "                   n      :1048            e:1120   y:  24   y: 284  \n",
       "                   g      : 752            r: 192                    \n",
       "                   h      : 732                                      \n",
       "                   (Other):1170                                      \n",
       "      V15            V16       V18      V19      V20           V21      \n",
       " w      :4464   w      :4384   n:  96   n:  36   e:2776   w      :2388  \n",
       " p      :1872   p      :1872   o:  96   o:7488   f:  48   n      :1968  \n",
       " g      : 576   g      : 576   w:7924   t: 600   l:1296   k      :1872  \n",
       " n      : 448   n      : 512   y:   8            n:  36   h      :1632  \n",
       " b      : 432   b      : 432                     p:3968   r      :  72  \n",
       " o      : 192   o      : 192                              b      :  48  \n",
       " (Other): 140   (Other): 156                              (Other): 144  \n",
       " V22      V23     \n",
       " a: 384   d:3148  \n",
       " c: 340   g:2148  \n",
       " n: 400   l: 832  \n",
       " s:1248   m: 292  \n",
       " v:4040   p:1144  \n",
       " y:1712   u: 368  \n",
       "          w: 192  "
      ]
     },
     "metadata": {},
     "output_type": "display_data"
    },
    {
     "data": {
      "text/html": [
       "0"
      ],
      "text/latex": [
       "0"
      ],
      "text/markdown": [
       "0"
      ],
      "text/plain": [
       "[1] 0"
      ]
     },
     "metadata": {},
     "output_type": "display_data"
    },
    {
     "data": {
      "text/html": [
       "0.0529505644343623"
      ],
      "text/latex": [
       "0.0529505644343623"
      ],
      "text/markdown": [
       "0.0529505644343623"
      ],
      "text/plain": [
       "[1] 0.05295056"
      ]
     },
     "metadata": {},
     "output_type": "display_data"
    },
    {
     "data": {
      "text/html": [
       "-0.031384086862132"
      ],
      "text/latex": [
       "-0.031384086862132"
      ],
      "text/markdown": [
       "-0.031384086862132"
      ],
      "text/plain": [
       "[1] -0.03138409"
      ]
     },
     "metadata": {},
     "output_type": "display_data"
    }
   ],
   "source": [
    "# 인공신경망, 의사결정나무, randomforest, svm, 로지스틱 회귀분석으로 예측력 구하기\n",
    "\n",
    "mushroom <- read.csv(\"../Data//mushroom.csv\",header=F)[,-17]\n",
    "head(mushroom)\n",
    "tail(mushroom)\n",
    "str(mushroom)\n",
    "\n",
    "# 제일먼저 target 정렬  \n",
    "table(mushroom$V1)\n",
    "\n",
    "#factor는 숫자로 바꿔줘야 함 (범주형데이터고 연속형데이터가 아님 따라서 숫자에 큰 의미가 없음)\n",
    "\n",
    "summary(mushroom)\n",
    "sum(is.na(mushroom))\n",
    "\n",
    "\n",
    "cor(as.numeric(mushroom$V1),as.numeric(mushroom$V2))\n",
    "cor(as.numeric(mushroom$V1),as.numeric(mushroom$V4))"
   ]
  },
  {
   "cell_type": "code",
   "execution_count": 76,
   "id": "1378c60b",
   "metadata": {},
   "outputs": [],
   "source": [
    "# 학습용 데이터와 검증용 데이터의 분리 \n",
    "library(caret)\n",
    "samp <- createDataPartition(mushroom$V1, p=0.1, list=F)\n",
    "\n",
    "# 학습용 데이터셋 \n",
    "data.tr <-mushroom[samp,]\n",
    "\n",
    "#검증용 데이터셋\n",
    "data.test<-mushroom[-samp,]"
   ]
  },
  {
   "cell_type": "code",
   "execution_count": 77,
   "id": "d29b7095",
   "metadata": {},
   "outputs": [],
   "source": [
    "# 문제 및 정답 만들기 (x가 문제 y가 정답)\n",
    "x <- subset(data.test,select=-V1)\n",
    "\n",
    "y <- data.test$V1"
   ]
  },
  {
   "cell_type": "code",
   "execution_count": 78,
   "id": "50673cd9",
   "metadata": {},
   "outputs": [
    {
     "name": "stdout",
     "output_type": "stream",
     "text": [
      "# weights:  292\n",
      "initial  value 643.352754 \n",
      "iter  10 value 83.578182\n",
      "iter  20 value 39.400331\n",
      "iter  30 value 27.740942\n",
      "iter  40 value 25.235241\n",
      "iter  50 value 21.555926\n",
      "iter  60 value 12.739386\n",
      "iter  70 value 12.206889\n",
      "iter  80 value 11.445568\n",
      "iter  90 value 8.636240\n",
      "iter 100 value 6.202888\n",
      "final  value 6.202888 \n",
      "stopped after 100 iterations\n"
     ]
    },
    {
     "data": {
      "text/html": [
       "0.986185200382985"
      ],
      "text/latex": [
       "0.986185200382985"
      ],
      "text/markdown": [
       "0.986185200382985"
      ],
      "text/plain": [
       "[1] 0.9861852"
      ]
     },
     "metadata": {},
     "output_type": "display_data"
    }
   ],
   "source": [
    "# 인공신경망 \n",
    "library(nnet)\n",
    "model.nnet <-nnet(V1 ~ ., data=data.tr, size=3)\n",
    "pred <- predict(model.nnet,x, type=\"class\")\n",
    "mean(pred == y)"
   ]
  },
  {
   "cell_type": "code",
   "execution_count": 79,
   "id": "e39eb0ea",
   "metadata": {},
   "outputs": [
    {
     "data": {
      "text/html": [
       "0.98714266174258"
      ],
      "text/latex": [
       "0.98714266174258"
      ],
      "text/markdown": [
       "0.98714266174258"
      ],
      "text/plain": [
       "[1] 0.9871427"
      ]
     },
     "metadata": {},
     "output_type": "display_data"
    }
   ],
   "source": [
    "# 의사결정나무\n",
    " library(party)\n",
    "model.ctree <- ctree(V1~.,data=data.tr)\n",
    "pred <- predict(model.ctree,x)\n",
    "  mean(pred==y)"
   ]
  },
  {
   "cell_type": "code",
   "execution_count": 80,
   "id": "fc8e360e",
   "metadata": {},
   "outputs": [
    {
     "data": {
      "text/html": [
       "0.997811516892354"
      ],
      "text/latex": [
       "0.997811516892354"
      ],
      "text/markdown": [
       "0.997811516892354"
      ],
      "text/plain": [
       "[1] 0.9978115"
      ]
     },
     "metadata": {},
     "output_type": "display_data"
    }
   ],
   "source": [
    "# randomforest\n",
    "library(randomForest)\n",
    "    model.rf <- randomForest(V1~., data = data.tr, ntree=100)\n",
    "    pred <- predict(model.rf, x)\n",
    "mean(pred==y)"
   ]
  },
  {
   "cell_type": "code",
   "execution_count": 81,
   "id": "a0c0fac7",
   "metadata": {},
   "outputs": [
    {
     "data": {
      "text/html": [
       "0.970729038435235"
      ],
      "text/latex": [
       "0.970729038435235"
      ],
      "text/markdown": [
       "0.970729038435235"
      ],
      "text/plain": [
       "[1] 0.970729"
      ]
     },
     "metadata": {},
     "output_type": "display_data"
    }
   ],
   "source": [
    "# svm\n",
    " library(e1071)\n",
    "    library(caret)\n",
    "\n",
    "    \n",
    "    model.svm <- svm(V1~.,data=data.tr)\n",
    "    pred <- predict(model.svm,x, type=\"class\")\n",
    "   mean(pred==y)"
   ]
  },
  {
   "cell_type": "code",
   "execution_count": 82,
   "id": "11675895",
   "metadata": {},
   "outputs": [
    {
     "name": "stdout",
     "output_type": "stream",
     "text": [
      "# weights:  97 (96 variable)\n",
      "initial  value 563.528658 \n",
      "iter  10 value 8.844138\n",
      "iter  20 value 0.448257\n",
      "iter  30 value 0.052202\n",
      "iter  40 value 0.007649\n",
      "iter  50 value 0.000764\n",
      "iter  60 value 0.000257\n",
      "final  value 0.000087 \n",
      "converged\n"
     ]
    },
    {
     "data": {
      "text/html": [
       "0.996717275338531"
      ],
      "text/latex": [
       "0.996717275338531"
      ],
      "text/markdown": [
       "0.996717275338531"
      ],
      "text/plain": [
       "[1] 0.9967173"
      ]
     },
     "metadata": {},
     "output_type": "display_data"
    }
   ],
   "source": [
    "# 로지스틱 회귀분석\n",
    "library(nnet)\n",
    "library(e1071)\n",
    "    model <- multinom(V1 ~., data=data.tr)\n",
    "    pred <- predict(model,x, type=\"class\")\n",
    "     mean(pred==y)"
   ]
  },
  {
   "cell_type": "code",
   "execution_count": null,
   "id": "f8adfa86",
   "metadata": {},
   "outputs": [],
   "source": []
  }
 ],
 "metadata": {
  "kernelspec": {
   "display_name": "R",
   "language": "R",
   "name": "ir"
  },
  "language_info": {
   "codemirror_mode": "r",
   "file_extension": ".r",
   "mimetype": "text/x-r-source",
   "name": "R",
   "pygments_lexer": "r",
   "version": "3.6.1"
  }
 },
 "nbformat": 4,
 "nbformat_minor": 5
}
