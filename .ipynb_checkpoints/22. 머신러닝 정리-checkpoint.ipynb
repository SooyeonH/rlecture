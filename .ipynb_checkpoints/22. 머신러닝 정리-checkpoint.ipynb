{
 "cells": [
  {
   "cell_type": "code",
   "execution_count": 109,
   "id": "6f6cdf29",
   "metadata": {},
   "outputs": [],
   "source": [
    "library(caret)\n",
    "samp <- createDataPartition(iris$Species, p=0.7, list=F)\n",
    "data.tr <-iris[samp,]\n",
    "data.test<-iris[-samp,]\n",
    "x <- subset(data.test,select=-Species)\n",
    "y <- data.test$Species\n"
   ]
  },
  {
   "cell_type": "code",
   "execution_count": 110,
   "id": "896e9b75",
   "metadata": {},
   "outputs": [],
   "source": [
    "# 인공신경망 함수 \n",
    "\n",
    "f <- function(x){\n",
    "    library(nnet)\n",
    "    model.nnet =nnet(Species ~ ., data=data.tr, size=3)\n",
    "    pred=predict(model.nnet,x, type=\"class\")\n",
    "    per=mean(pred == y)\n",
    "   return (per)\n",
    "}"
   ]
  },
  {
   "cell_type": "code",
   "execution_count": 111,
   "id": "9a0ee79e",
   "metadata": {},
   "outputs": [
    {
     "name": "stdout",
     "output_type": "stream",
     "text": [
      "# weights:  27\n",
      "initial  value 121.856676 \n",
      "iter  10 value 48.571192\n",
      "iter  20 value 48.524776\n",
      "iter  30 value 48.515945\n",
      "iter  40 value 48.506229\n",
      "iter  50 value 42.893702\n",
      "iter  60 value 5.302174\n",
      "iter  70 value 4.999375\n",
      "iter  80 value 4.573370\n",
      "iter  90 value 4.570671\n",
      "iter 100 value 4.569623\n",
      "final  value 4.569623 \n",
      "stopped after 100 iterations\n"
     ]
    },
    {
     "data": {
      "text/html": [
       "0.977777777777778"
      ],
      "text/latex": [
       "0.977777777777778"
      ],
      "text/markdown": [
       "0.977777777777778"
      ],
      "text/plain": [
       "[1] 0.9777778"
      ]
     },
     "metadata": {},
     "output_type": "display_data"
    }
   ],
   "source": [
    "f(x)"
   ]
  },
  {
   "cell_type": "code",
   "execution_count": 112,
   "id": "ab72819b",
   "metadata": {},
   "outputs": [],
   "source": [
    "# 의사결정나무\n",
    "\n",
    "t <-function(x){\n",
    "    library(party)\n",
    "    model.ctree <- ctree(Species~.,data=data.tr)\n",
    "    pred <- predict(model.ctree,x)\n",
    "    per=mean(pred==y)\n",
    "   return (per)\n",
    "}"
   ]
  },
  {
   "cell_type": "code",
   "execution_count": 113,
   "id": "1f40a91f",
   "metadata": {},
   "outputs": [
    {
     "data": {
      "text/html": [
       "0.933333333333333"
      ],
      "text/latex": [
       "0.933333333333333"
      ],
      "text/markdown": [
       "0.933333333333333"
      ],
      "text/plain": [
       "[1] 0.9333333"
      ]
     },
     "metadata": {},
     "output_type": "display_data"
    }
   ],
   "source": [
    "t(x)"
   ]
  },
  {
   "cell_type": "code",
   "execution_count": 114,
   "id": "b57b1d3d",
   "metadata": {},
   "outputs": [],
   "source": [
    "# randomforest\n",
    "r <-function(x){\n",
    "    library(randomForest)\n",
    "    model.rf <- randomForest(Species~., data = data.tr, ntree=100)\n",
    "    pred <- predict(model.rf, x)\n",
    "    per=mean(pred==y)\n",
    "   return (per)\n",
    "}"
   ]
  },
  {
   "cell_type": "code",
   "execution_count": 115,
   "id": "8f1fb451",
   "metadata": {},
   "outputs": [
    {
     "data": {
      "text/html": [
       "0.955555555555556"
      ],
      "text/latex": [
       "0.955555555555556"
      ],
      "text/markdown": [
       "0.955555555555556"
      ],
      "text/plain": [
       "[1] 0.9555556"
      ]
     },
     "metadata": {},
     "output_type": "display_data"
    }
   ],
   "source": [
    "r(x)"
   ]
  },
  {
   "cell_type": "code",
   "execution_count": 116,
   "id": "2badd423",
   "metadata": {},
   "outputs": [],
   "source": [
    "# svm\n",
    "s <-function(x){\n",
    "   library(e1071)\n",
    "    library(caret)\n",
    "\n",
    "    \n",
    "    model.svm <- svm(Species~.,data=data.tr)\n",
    "    pred <- predict(model.svm,x, type=\"class\")\n",
    "     per=mean(pred==y)\n",
    "    return (per)\n",
    "}"
   ]
  },
  {
   "cell_type": "code",
   "execution_count": 117,
   "id": "04d95cae",
   "metadata": {},
   "outputs": [
    {
     "data": {
      "text/html": [
       "0.933333333333333"
      ],
      "text/latex": [
       "0.933333333333333"
      ],
      "text/markdown": [
       "0.933333333333333"
      ],
      "text/plain": [
       "[1] 0.9333333"
      ]
     },
     "metadata": {},
     "output_type": "display_data"
    }
   ],
   "source": [
    "s(x)"
   ]
  },
  {
   "cell_type": "code",
   "execution_count": 118,
   "id": "f22809cb",
   "metadata": {},
   "outputs": [],
   "source": [
    "# 로지스틱 회귀분석\n",
    "l <-function(x){\n",
    " library(nnet)\n",
    "library(e1071)\n",
    "    model <- multinom(Species ~., data=data.tr)\n",
    "    pred <- predict(model,x, type=\"class\")\n",
    "     per=mean(pred==y)\n",
    "    return (per)\n",
    "}"
   ]
  },
  {
   "cell_type": "code",
   "execution_count": 119,
   "id": "9d4789de",
   "metadata": {},
   "outputs": [
    {
     "name": "stdout",
     "output_type": "stream",
     "text": [
      "# weights:  18 (10 variable)\n",
      "initial  value 115.354290 \n",
      "iter  10 value 12.832521\n",
      "iter  20 value 5.438569\n",
      "iter  30 value 5.261751\n",
      "iter  40 value 5.257949\n",
      "iter  50 value 5.253232\n",
      "iter  60 value 5.252657\n",
      "iter  70 value 5.251272\n",
      "iter  80 value 5.251071\n",
      "iter  90 value 5.250603\n",
      "iter 100 value 5.250460\n",
      "final  value 5.250460 \n",
      "stopped after 100 iterations\n"
     ]
    },
    {
     "data": {
      "text/html": [
       "0.977777777777778"
      ],
      "text/latex": [
       "0.977777777777778"
      ],
      "text/markdown": [
       "0.977777777777778"
      ],
      "text/plain": [
       "[1] 0.9777778"
      ]
     },
     "metadata": {},
     "output_type": "display_data"
    }
   ],
   "source": [
    "l(x)"
   ]
  },
  {
   "cell_type": "code",
   "execution_count": 120,
   "id": "be57efd0",
   "metadata": {},
   "outputs": [
    {
     "name": "stdout",
     "output_type": "stream",
     "text": [
      "# weights:  27\n",
      "initial  value 121.497694 \n",
      "iter  10 value 26.995395\n",
      "iter  20 value 5.828889\n",
      "iter  30 value 4.743137\n",
      "iter  40 value 4.569823\n",
      "iter  50 value 4.569500\n",
      "final  value 4.569500 \n",
      "converged\n",
      "# weights:  18 (10 variable)\n",
      "initial  value 115.354290 \n",
      "iter  10 value 12.832521\n",
      "iter  20 value 5.438569\n",
      "iter  30 value 5.261751\n",
      "iter  40 value 5.257949\n",
      "iter  50 value 5.253232\n",
      "iter  60 value 5.252657\n",
      "iter  70 value 5.251272\n",
      "iter  80 value 5.251071\n",
      "iter  90 value 5.250603\n",
      "iter 100 value 5.250460\n",
      "final  value 5.250460 \n",
      "stopped after 100 iterations\n",
      "# weights:  27\n",
      "initial  value 131.823818 \n",
      "iter  10 value 50.196860\n",
      "iter  20 value 48.617528\n",
      "iter  30 value 12.944784\n",
      "iter  40 value 5.903059\n",
      "iter  50 value 4.624464\n",
      "iter  60 value 4.570631\n",
      "iter  70 value 4.566514\n",
      "iter  80 value 4.124701\n",
      "iter  90 value 3.125296\n",
      "iter 100 value 3.087217\n",
      "final  value 3.087217 \n",
      "stopped after 100 iterations\n",
      "# weights:  18 (10 variable)\n",
      "initial  value 115.354290 \n",
      "iter  10 value 12.832521\n",
      "iter  20 value 5.438569\n",
      "iter  30 value 5.261751\n",
      "iter  40 value 5.257949\n",
      "iter  50 value 5.253232\n",
      "iter  60 value 5.252657\n",
      "iter  70 value 5.251272\n",
      "iter  80 value 5.251071\n",
      "iter  90 value 5.250603\n",
      "iter 100 value 5.250460\n",
      "final  value 5.250460 \n",
      "stopped after 100 iterations\n",
      "# weights:  27\n",
      "initial  value 118.976769 \n",
      "iter  10 value 47.829759\n",
      "iter  20 value 43.477498\n",
      "iter  30 value 21.338528\n",
      "iter  40 value 6.951808\n",
      "iter  50 value 5.379159\n",
      "iter  60 value 5.292168\n",
      "iter  70 value 5.274665\n",
      "iter  80 value 5.273454\n",
      "iter  90 value 5.272314\n",
      "iter 100 value 5.268493\n",
      "final  value 5.268493 \n",
      "stopped after 100 iterations\n",
      "# weights:  18 (10 variable)\n",
      "initial  value 115.354290 \n",
      "iter  10 value 12.832521\n",
      "iter  20 value 5.438569\n",
      "iter  30 value 5.261751\n",
      "iter  40 value 5.257949\n",
      "iter  50 value 5.253232\n",
      "iter  60 value 5.252657\n",
      "iter  70 value 5.251272\n",
      "iter  80 value 5.251071\n",
      "iter  90 value 5.250603\n",
      "iter 100 value 5.250460\n",
      "final  value 5.250460 \n",
      "stopped after 100 iterations\n",
      "# weights:  27\n",
      "initial  value 123.251903 \n",
      "iter  10 value 50.694828\n",
      "iter  20 value 9.660500\n",
      "iter  30 value 5.358541\n",
      "iter  40 value 5.312511\n",
      "iter  50 value 5.280019\n",
      "iter  60 value 5.272166\n",
      "iter  70 value 5.271667\n",
      "iter  80 value 5.267216\n",
      "iter  90 value 5.264516\n",
      "iter 100 value 5.263104\n",
      "final  value 5.263104 \n",
      "stopped after 100 iterations\n",
      "# weights:  18 (10 variable)\n",
      "initial  value 115.354290 \n",
      "iter  10 value 12.832521\n",
      "iter  20 value 5.438569\n",
      "iter  30 value 5.261751\n",
      "iter  40 value 5.257949\n",
      "iter  50 value 5.253232\n",
      "iter  60 value 5.252657\n",
      "iter  70 value 5.251272\n",
      "iter  80 value 5.251071\n",
      "iter  90 value 5.250603\n",
      "iter 100 value 5.250460\n",
      "final  value 5.250460 \n",
      "stopped after 100 iterations\n",
      "# weights:  27\n",
      "initial  value 126.674379 \n",
      "iter  10 value 48.530787\n",
      "iter  20 value 48.519068\n",
      "iter  30 value 48.509210\n",
      "iter  40 value 44.393830\n",
      "iter  50 value 22.965585\n",
      "iter  60 value 7.288745\n",
      "iter  70 value 5.755876\n",
      "iter  80 value 5.375397\n",
      "iter  90 value 5.288355\n",
      "iter 100 value 5.266406\n",
      "final  value 5.266406 \n",
      "stopped after 100 iterations\n",
      "# weights:  18 (10 variable)\n",
      "initial  value 115.354290 \n",
      "iter  10 value 12.832521\n",
      "iter  20 value 5.438569\n",
      "iter  30 value 5.261751\n",
      "iter  40 value 5.257949\n",
      "iter  50 value 5.253232\n",
      "iter  60 value 5.252657\n",
      "iter  70 value 5.251272\n",
      "iter  80 value 5.251071\n",
      "iter  90 value 5.250603\n",
      "iter 100 value 5.250460\n",
      "final  value 5.250460 \n",
      "stopped after 100 iterations\n"
     ]
    }
   ],
   "source": [
    "sum1=0\n",
    "sum2=0\n",
    "sum3=0\n",
    "sum4=0\n",
    "sum5=0\n",
    "\n",
    "for(i in 1:5){\n",
    " sum1 =f(x)+sum1\n",
    "   sum2 =t(x)+sum2\n",
    "    sum3 =r(x) +sum3\n",
    "    sum4 =s(x)+sum4\n",
    "   sum5 =l(x)+sum5\n",
    "    \n",
    "\n",
    "}\n",
    "\n"
   ]
  },
  {
   "cell_type": "code",
   "execution_count": 121,
   "id": "401b66ef",
   "metadata": {},
   "outputs": [
    {
     "data": {
      "text/html": [
       "<ol class=list-inline>\n",
       "\t<li>0.977777777777778</li>\n",
       "\t<li>0.933333333333333</li>\n",
       "\t<li>0.933333333333333</li>\n",
       "\t<li>0.933333333333333</li>\n",
       "\t<li>0.977777777777778</li>\n",
       "</ol>\n"
      ],
      "text/latex": [
       "\\begin{enumerate*}\n",
       "\\item 0.977777777777778\n",
       "\\item 0.933333333333333\n",
       "\\item 0.933333333333333\n",
       "\\item 0.933333333333333\n",
       "\\item 0.977777777777778\n",
       "\\end{enumerate*}\n"
      ],
      "text/markdown": [
       "1. 0.977777777777778\n",
       "2. 0.933333333333333\n",
       "3. 0.933333333333333\n",
       "4. 0.933333333333333\n",
       "5. 0.977777777777778\n",
       "\n",
       "\n"
      ],
      "text/plain": [
       "[1] 0.9777778 0.9333333 0.9333333 0.9333333 0.9777778"
      ]
     },
     "metadata": {},
     "output_type": "display_data"
    }
   ],
   "source": [
    "예측력 <-c(sum1/5,sum2 /5, sum3/5, sum4/5,sum5/5)\n",
    "예측력"
   ]
  },
  {
   "cell_type": "code",
   "execution_count": 124,
   "id": "ddbebba4",
   "metadata": {},
   "outputs": [],
   "source": [
    "result <- data.frame(예측력)\n",
    "rownames(result) = c(\"인공신경망\",\"의사결정나무\",\"randomforest\",\"svm\",\"로지스틱 회귀분석\")"
   ]
  },
  {
   "cell_type": "code",
   "execution_count": 125,
   "id": "5fdf75aa",
   "metadata": {},
   "outputs": [
    {
     "data": {
      "text/html": [
       "<table>\n",
       "<thead><tr><th></th><th scope=col>예측력</th></tr></thead>\n",
       "<tbody>\n",
       "\t<tr><th scope=row>인공신경망</th><td>0.9777778</td></tr>\n",
       "\t<tr><th scope=row>의사결정나무</th><td>0.9333333</td></tr>\n",
       "\t<tr><th scope=row>randomforest</th><td>0.9333333</td></tr>\n",
       "\t<tr><th scope=row>svm</th><td>0.9333333</td></tr>\n",
       "\t<tr><th scope=row>로지스틱 회귀분석</th><td>0.9777778</td></tr>\n",
       "</tbody>\n",
       "</table>\n"
      ],
      "text/latex": [
       "\\begin{tabular}{r|l}\n",
       "  & 예측력\\\\\n",
       "\\hline\n",
       "\t인공신경망 & 0.9777778\\\\\n",
       "\t의사결정나무 & 0.9333333\\\\\n",
       "\trandomforest & 0.9333333\\\\\n",
       "\tsvm & 0.9333333\\\\\n",
       "\t로지스틱 회귀분석 & 0.9777778\\\\\n",
       "\\end{tabular}\n"
      ],
      "text/markdown": [
       "\n",
       "| <!--/--> | 예측력 |\n",
       "|---|---|\n",
       "| 인공신경망 | 0.9777778 |\n",
       "| 의사결정나무 | 0.9333333 |\n",
       "| randomforest | 0.9333333 |\n",
       "| svm | 0.9333333 |\n",
       "| 로지스틱 회귀분석 | 0.9777778 |\n",
       "\n"
      ],
      "text/plain": [
       "                  예측력   \n",
       "인공신경망        0.9777778\n",
       "의사결정나무      0.9333333\n",
       "randomforest      0.9333333\n",
       "svm               0.9333333\n",
       "로지스틱 회귀분석 0.9777778"
      ]
     },
     "metadata": {},
     "output_type": "display_data"
    }
   ],
   "source": [
    "result"
   ]
  },
  {
   "cell_type": "code",
   "execution_count": null,
   "id": "34de0737",
   "metadata": {},
   "outputs": [],
   "source": []
  }
 ],
 "metadata": {
  "kernelspec": {
   "display_name": "R",
   "language": "R",
   "name": "ir"
  },
  "language_info": {
   "codemirror_mode": "r",
   "file_extension": ".r",
   "mimetype": "text/x-r-source",
   "name": "R",
   "pygments_lexer": "r",
   "version": "3.6.1"
  }
 },
 "nbformat": 4,
 "nbformat_minor": 5
}
