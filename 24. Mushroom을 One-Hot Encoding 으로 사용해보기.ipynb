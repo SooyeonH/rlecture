{
 "cells": [
  {
   "cell_type": "markdown",
   "id": "7a782f9c",
   "metadata": {},
   "source": [
    "#Mushroom\n",
    "https://archive.ics.uci.edu/ml/datasets/Mushroom\n",
    "- 8124종류의 버섯의 특징과 독의 유무를 정리해논 데이터셋\n",
    "- 버섯 모양의 특징을 기반으로 독의 유무를 판단\n",
    "\n",
    "한 줄(row)이 버섯 한 종류\n",
    "1번째 컬럼은 독의 유무 : 독(p), 식용(e) \n",
    "2번째 컬럼은 버섯의 머리모양 : b(벨 형태),c(원뿔),x(블록),f(평평),k(혹),s(오목)\n",
    "4번째 컬럼은 버섯의 머리 색 : n(갈색), b(황갈색), c(연한갈색), g(회색)\n",
    "\n",
    "*자세한 내용은 위의 사이트에서 확인 "
   ]
  },
  {
   "cell_type": "code",
   "execution_count": 1,
   "id": "c0acdbda",
   "metadata": {},
   "outputs": [
    {
     "data": {
      "text/html": [
       "<table>\n",
       "<thead><tr><th scope=col>V1</th><th scope=col>V2</th><th scope=col>V3</th><th scope=col>V4</th><th scope=col>V5</th><th scope=col>V6</th><th scope=col>V7</th><th scope=col>V8</th><th scope=col>V9</th><th scope=col>V10</th><th scope=col>...</th><th scope=col>V14</th><th scope=col>V15</th><th scope=col>V16</th><th scope=col>V17</th><th scope=col>V18</th><th scope=col>V19</th><th scope=col>V20</th><th scope=col>V21</th><th scope=col>V22</th><th scope=col>V23</th></tr></thead>\n",
       "<tbody>\n",
       "\t<tr><td>p  </td><td>x  </td><td>s  </td><td>n  </td><td>t  </td><td>p  </td><td>f  </td><td>c  </td><td>n  </td><td>k  </td><td>...</td><td>s  </td><td>w  </td><td>w  </td><td>p  </td><td>w  </td><td>o  </td><td>p  </td><td>k  </td><td>s  </td><td>u  </td></tr>\n",
       "\t<tr><td>e  </td><td>x  </td><td>s  </td><td>y  </td><td>t  </td><td>a  </td><td>f  </td><td>c  </td><td>b  </td><td>k  </td><td>...</td><td>s  </td><td>w  </td><td>w  </td><td>p  </td><td>w  </td><td>o  </td><td>p  </td><td>n  </td><td>n  </td><td>g  </td></tr>\n",
       "\t<tr><td>e  </td><td>b  </td><td>s  </td><td>w  </td><td>t  </td><td>l  </td><td>f  </td><td>c  </td><td>b  </td><td>n  </td><td>...</td><td>s  </td><td>w  </td><td>w  </td><td>p  </td><td>w  </td><td>o  </td><td>p  </td><td>n  </td><td>n  </td><td>m  </td></tr>\n",
       "\t<tr><td>p  </td><td>x  </td><td>y  </td><td>w  </td><td>t  </td><td>p  </td><td>f  </td><td>c  </td><td>n  </td><td>n  </td><td>...</td><td>s  </td><td>w  </td><td>w  </td><td>p  </td><td>w  </td><td>o  </td><td>p  </td><td>k  </td><td>s  </td><td>u  </td></tr>\n",
       "\t<tr><td>e  </td><td>x  </td><td>s  </td><td>g  </td><td>f  </td><td>n  </td><td>f  </td><td>w  </td><td>b  </td><td>k  </td><td>...</td><td>s  </td><td>w  </td><td>w  </td><td>p  </td><td>w  </td><td>o  </td><td>e  </td><td>n  </td><td>a  </td><td>g  </td></tr>\n",
       "\t<tr><td>e  </td><td>x  </td><td>y  </td><td>y  </td><td>t  </td><td>a  </td><td>f  </td><td>c  </td><td>b  </td><td>n  </td><td>...</td><td>s  </td><td>w  </td><td>w  </td><td>p  </td><td>w  </td><td>o  </td><td>p  </td><td>k  </td><td>n  </td><td>g  </td></tr>\n",
       "</tbody>\n",
       "</table>\n"
      ],
      "text/latex": [
       "\\begin{tabular}{r|lllllllllllllllllllllll}\n",
       " V1 & V2 & V3 & V4 & V5 & V6 & V7 & V8 & V9 & V10 & ... & V14 & V15 & V16 & V17 & V18 & V19 & V20 & V21 & V22 & V23\\\\\n",
       "\\hline\n",
       "\t p   & x   & s   & n   & t   & p   & f   & c   & n   & k   & ... & s   & w   & w   & p   & w   & o   & p   & k   & s   & u  \\\\\n",
       "\t e   & x   & s   & y   & t   & a   & f   & c   & b   & k   & ... & s   & w   & w   & p   & w   & o   & p   & n   & n   & g  \\\\\n",
       "\t e   & b   & s   & w   & t   & l   & f   & c   & b   & n   & ... & s   & w   & w   & p   & w   & o   & p   & n   & n   & m  \\\\\n",
       "\t p   & x   & y   & w   & t   & p   & f   & c   & n   & n   & ... & s   & w   & w   & p   & w   & o   & p   & k   & s   & u  \\\\\n",
       "\t e   & x   & s   & g   & f   & n   & f   & w   & b   & k   & ... & s   & w   & w   & p   & w   & o   & e   & n   & a   & g  \\\\\n",
       "\t e   & x   & y   & y   & t   & a   & f   & c   & b   & n   & ... & s   & w   & w   & p   & w   & o   & p   & k   & n   & g  \\\\\n",
       "\\end{tabular}\n"
      ],
      "text/markdown": [
       "\n",
       "| V1 | V2 | V3 | V4 | V5 | V6 | V7 | V8 | V9 | V10 | ... | V14 | V15 | V16 | V17 | V18 | V19 | V20 | V21 | V22 | V23 |\n",
       "|---|---|---|---|---|---|---|---|---|---|---|---|---|---|---|---|---|---|---|---|---|\n",
       "| p   | x   | s   | n   | t   | p   | f   | c   | n   | k   | ... | s   | w   | w   | p   | w   | o   | p   | k   | s   | u   |\n",
       "| e   | x   | s   | y   | t   | a   | f   | c   | b   | k   | ... | s   | w   | w   | p   | w   | o   | p   | n   | n   | g   |\n",
       "| e   | b   | s   | w   | t   | l   | f   | c   | b   | n   | ... | s   | w   | w   | p   | w   | o   | p   | n   | n   | m   |\n",
       "| p   | x   | y   | w   | t   | p   | f   | c   | n   | n   | ... | s   | w   | w   | p   | w   | o   | p   | k   | s   | u   |\n",
       "| e   | x   | s   | g   | f   | n   | f   | w   | b   | k   | ... | s   | w   | w   | p   | w   | o   | e   | n   | a   | g   |\n",
       "| e   | x   | y   | y   | t   | a   | f   | c   | b   | n   | ... | s   | w   | w   | p   | w   | o   | p   | k   | n   | g   |\n",
       "\n"
      ],
      "text/plain": [
       "  V1 V2 V3 V4 V5 V6 V7 V8 V9 V10 ... V14 V15 V16 V17 V18 V19 V20 V21 V22 V23\n",
       "1 p  x  s  n  t  p  f  c  n  k   ... s   w   w   p   w   o   p   k   s   u  \n",
       "2 e  x  s  y  t  a  f  c  b  k   ... s   w   w   p   w   o   p   n   n   g  \n",
       "3 e  b  s  w  t  l  f  c  b  n   ... s   w   w   p   w   o   p   n   n   m  \n",
       "4 p  x  y  w  t  p  f  c  n  n   ... s   w   w   p   w   o   p   k   s   u  \n",
       "5 e  x  s  g  f  n  f  w  b  k   ... s   w   w   p   w   o   e   n   a   g  \n",
       "6 e  x  y  y  t  a  f  c  b  n   ... s   w   w   p   w   o   p   k   n   g  "
      ]
     },
     "metadata": {},
     "output_type": "display_data"
    },
    {
     "data": {
      "text/html": [
       "<table>\n",
       "<thead><tr><th></th><th scope=col>V1</th><th scope=col>V2</th><th scope=col>V3</th><th scope=col>V4</th><th scope=col>V5</th><th scope=col>V6</th><th scope=col>V7</th><th scope=col>V8</th><th scope=col>V9</th><th scope=col>V10</th><th scope=col>...</th><th scope=col>V14</th><th scope=col>V15</th><th scope=col>V16</th><th scope=col>V17</th><th scope=col>V18</th><th scope=col>V19</th><th scope=col>V20</th><th scope=col>V21</th><th scope=col>V22</th><th scope=col>V23</th></tr></thead>\n",
       "<tbody>\n",
       "\t<tr><th scope=row>8119</th><td>p  </td><td>k  </td><td>y  </td><td>n  </td><td>f  </td><td>f  </td><td>f  </td><td>c  </td><td>n  </td><td>b  </td><td>...</td><td>s  </td><td>p  </td><td>w  </td><td>p  </td><td>w  </td><td>o  </td><td>e  </td><td>w  </td><td>v  </td><td>d  </td></tr>\n",
       "\t<tr><th scope=row>8120</th><td>e  </td><td>k  </td><td>s  </td><td>n  </td><td>f  </td><td>n  </td><td>a  </td><td>c  </td><td>b  </td><td>y  </td><td>...</td><td>s  </td><td>o  </td><td>o  </td><td>p  </td><td>o  </td><td>o  </td><td>p  </td><td>b  </td><td>c  </td><td>l  </td></tr>\n",
       "\t<tr><th scope=row>8121</th><td>e  </td><td>x  </td><td>s  </td><td>n  </td><td>f  </td><td>n  </td><td>a  </td><td>c  </td><td>b  </td><td>y  </td><td>...</td><td>s  </td><td>o  </td><td>o  </td><td>p  </td><td>n  </td><td>o  </td><td>p  </td><td>b  </td><td>v  </td><td>l  </td></tr>\n",
       "\t<tr><th scope=row>8122</th><td>e  </td><td>f  </td><td>s  </td><td>n  </td><td>f  </td><td>n  </td><td>a  </td><td>c  </td><td>b  </td><td>n  </td><td>...</td><td>s  </td><td>o  </td><td>o  </td><td>p  </td><td>o  </td><td>o  </td><td>p  </td><td>b  </td><td>c  </td><td>l  </td></tr>\n",
       "\t<tr><th scope=row>8123</th><td>p  </td><td>k  </td><td>y  </td><td>n  </td><td>f  </td><td>y  </td><td>f  </td><td>c  </td><td>n  </td><td>b  </td><td>...</td><td>k  </td><td>w  </td><td>w  </td><td>p  </td><td>w  </td><td>o  </td><td>e  </td><td>w  </td><td>v  </td><td>l  </td></tr>\n",
       "\t<tr><th scope=row>8124</th><td>e  </td><td>x  </td><td>s  </td><td>n  </td><td>f  </td><td>n  </td><td>a  </td><td>c  </td><td>b  </td><td>y  </td><td>...</td><td>s  </td><td>o  </td><td>o  </td><td>p  </td><td>o  </td><td>o  </td><td>p  </td><td>o  </td><td>c  </td><td>l  </td></tr>\n",
       "</tbody>\n",
       "</table>\n"
      ],
      "text/latex": [
       "\\begin{tabular}{r|lllllllllllllllllllllll}\n",
       "  & V1 & V2 & V3 & V4 & V5 & V6 & V7 & V8 & V9 & V10 & ... & V14 & V15 & V16 & V17 & V18 & V19 & V20 & V21 & V22 & V23\\\\\n",
       "\\hline\n",
       "\t8119 & p   & k   & y   & n   & f   & f   & f   & c   & n   & b   & ... & s   & p   & w   & p   & w   & o   & e   & w   & v   & d  \\\\\n",
       "\t8120 & e   & k   & s   & n   & f   & n   & a   & c   & b   & y   & ... & s   & o   & o   & p   & o   & o   & p   & b   & c   & l  \\\\\n",
       "\t8121 & e   & x   & s   & n   & f   & n   & a   & c   & b   & y   & ... & s   & o   & o   & p   & n   & o   & p   & b   & v   & l  \\\\\n",
       "\t8122 & e   & f   & s   & n   & f   & n   & a   & c   & b   & n   & ... & s   & o   & o   & p   & o   & o   & p   & b   & c   & l  \\\\\n",
       "\t8123 & p   & k   & y   & n   & f   & y   & f   & c   & n   & b   & ... & k   & w   & w   & p   & w   & o   & e   & w   & v   & l  \\\\\n",
       "\t8124 & e   & x   & s   & n   & f   & n   & a   & c   & b   & y   & ... & s   & o   & o   & p   & o   & o   & p   & o   & c   & l  \\\\\n",
       "\\end{tabular}\n"
      ],
      "text/markdown": [
       "\n",
       "| <!--/--> | V1 | V2 | V3 | V4 | V5 | V6 | V7 | V8 | V9 | V10 | ... | V14 | V15 | V16 | V17 | V18 | V19 | V20 | V21 | V22 | V23 |\n",
       "|---|---|---|---|---|---|---|---|---|---|---|---|---|---|---|---|---|---|---|---|---|---|\n",
       "| 8119 | p   | k   | y   | n   | f   | f   | f   | c   | n   | b   | ... | s   | p   | w   | p   | w   | o   | e   | w   | v   | d   |\n",
       "| 8120 | e   | k   | s   | n   | f   | n   | a   | c   | b   | y   | ... | s   | o   | o   | p   | o   | o   | p   | b   | c   | l   |\n",
       "| 8121 | e   | x   | s   | n   | f   | n   | a   | c   | b   | y   | ... | s   | o   | o   | p   | n   | o   | p   | b   | v   | l   |\n",
       "| 8122 | e   | f   | s   | n   | f   | n   | a   | c   | b   | n   | ... | s   | o   | o   | p   | o   | o   | p   | b   | c   | l   |\n",
       "| 8123 | p   | k   | y   | n   | f   | y   | f   | c   | n   | b   | ... | k   | w   | w   | p   | w   | o   | e   | w   | v   | l   |\n",
       "| 8124 | e   | x   | s   | n   | f   | n   | a   | c   | b   | y   | ... | s   | o   | o   | p   | o   | o   | p   | o   | c   | l   |\n",
       "\n"
      ],
      "text/plain": [
       "     V1 V2 V3 V4 V5 V6 V7 V8 V9 V10 ... V14 V15 V16 V17 V18 V19 V20 V21 V22 V23\n",
       "8119 p  k  y  n  f  f  f  c  n  b   ... s   p   w   p   w   o   e   w   v   d  \n",
       "8120 e  k  s  n  f  n  a  c  b  y   ... s   o   o   p   o   o   p   b   c   l  \n",
       "8121 e  x  s  n  f  n  a  c  b  y   ... s   o   o   p   n   o   p   b   v   l  \n",
       "8122 e  f  s  n  f  n  a  c  b  n   ... s   o   o   p   o   o   p   b   c   l  \n",
       "8123 p  k  y  n  f  y  f  c  n  b   ... k   w   w   p   w   o   e   w   v   l  \n",
       "8124 e  x  s  n  f  n  a  c  b  y   ... s   o   o   p   o   o   p   o   c   l  "
      ]
     },
     "metadata": {},
     "output_type": "display_data"
    },
    {
     "data": {
      "text/html": [
       "8124"
      ],
      "text/latex": [
       "8124"
      ],
      "text/markdown": [
       "8124"
      ],
      "text/plain": [
       "[1] 8124"
      ]
     },
     "metadata": {},
     "output_type": "display_data"
    }
   ],
   "source": [
    "\n",
    "mr <- read.csv(\"../Data//mushroom.csv\",header=F)\n",
    "                                            \n",
    "head(mr)\n",
    "tail(mr)\n",
    "nrow(mr)"
   ]
  },
  {
   "cell_type": "code",
   "execution_count": 2,
   "id": "f8adfa86",
   "metadata": {},
   "outputs": [
    {
     "data": {
      "text/html": [
       "<table>\n",
       "<thead><tr><th scope=col>V1</th><th scope=col>V2</th><th scope=col>V3</th><th scope=col>V4</th><th scope=col>V5</th><th scope=col>V6</th><th scope=col>V7</th><th scope=col>V8</th><th scope=col>V9</th><th scope=col>V10</th><th scope=col>...</th><th scope=col>V14</th><th scope=col>V15</th><th scope=col>V16</th><th scope=col>V17</th><th scope=col>V18</th><th scope=col>V19</th><th scope=col>V20</th><th scope=col>V21</th><th scope=col>V22</th><th scope=col>V23</th></tr></thead>\n",
       "<tbody>\n",
       "\t<tr><td>p  </td><td>6  </td><td>3  </td><td> 5 </td><td>2  </td><td>7  </td><td>2  </td><td>1  </td><td>2  </td><td>5  </td><td>...</td><td>3  </td><td>8  </td><td>8  </td><td>1  </td><td>3  </td><td>2  </td><td>5  </td><td>3  </td><td>4  </td><td>6  </td></tr>\n",
       "\t<tr><td>e  </td><td>6  </td><td>3  </td><td>10 </td><td>2  </td><td>1  </td><td>2  </td><td>1  </td><td>1  </td><td>5  </td><td>...</td><td>3  </td><td>8  </td><td>8  </td><td>1  </td><td>3  </td><td>2  </td><td>5  </td><td>4  </td><td>3  </td><td>2  </td></tr>\n",
       "\t<tr><td>e  </td><td>1  </td><td>3  </td><td> 9 </td><td>2  </td><td>4  </td><td>2  </td><td>1  </td><td>1  </td><td>6  </td><td>...</td><td>3  </td><td>8  </td><td>8  </td><td>1  </td><td>3  </td><td>2  </td><td>5  </td><td>4  </td><td>3  </td><td>4  </td></tr>\n",
       "\t<tr><td>p  </td><td>6  </td><td>4  </td><td> 9 </td><td>2  </td><td>7  </td><td>2  </td><td>1  </td><td>2  </td><td>6  </td><td>...</td><td>3  </td><td>8  </td><td>8  </td><td>1  </td><td>3  </td><td>2  </td><td>5  </td><td>3  </td><td>4  </td><td>6  </td></tr>\n",
       "\t<tr><td>e  </td><td>6  </td><td>3  </td><td> 4 </td><td>1  </td><td>6  </td><td>2  </td><td>2  </td><td>1  </td><td>5  </td><td>...</td><td>3  </td><td>8  </td><td>8  </td><td>1  </td><td>3  </td><td>2  </td><td>1  </td><td>4  </td><td>1  </td><td>2  </td></tr>\n",
       "\t<tr><td>e  </td><td>6  </td><td>4  </td><td>10 </td><td>2  </td><td>1  </td><td>2  </td><td>1  </td><td>1  </td><td>6  </td><td>...</td><td>3  </td><td>8  </td><td>8  </td><td>1  </td><td>3  </td><td>2  </td><td>5  </td><td>3  </td><td>3  </td><td>2  </td></tr>\n",
       "</tbody>\n",
       "</table>\n"
      ],
      "text/latex": [
       "\\begin{tabular}{r|lllllllllllllllllllllll}\n",
       " V1 & V2 & V3 & V4 & V5 & V6 & V7 & V8 & V9 & V10 & ... & V14 & V15 & V16 & V17 & V18 & V19 & V20 & V21 & V22 & V23\\\\\n",
       "\\hline\n",
       "\t p   & 6   & 3   &  5  & 2   & 7   & 2   & 1   & 2   & 5   & ... & 3   & 8   & 8   & 1   & 3   & 2   & 5   & 3   & 4   & 6  \\\\\n",
       "\t e   & 6   & 3   & 10  & 2   & 1   & 2   & 1   & 1   & 5   & ... & 3   & 8   & 8   & 1   & 3   & 2   & 5   & 4   & 3   & 2  \\\\\n",
       "\t e   & 1   & 3   &  9  & 2   & 4   & 2   & 1   & 1   & 6   & ... & 3   & 8   & 8   & 1   & 3   & 2   & 5   & 4   & 3   & 4  \\\\\n",
       "\t p   & 6   & 4   &  9  & 2   & 7   & 2   & 1   & 2   & 6   & ... & 3   & 8   & 8   & 1   & 3   & 2   & 5   & 3   & 4   & 6  \\\\\n",
       "\t e   & 6   & 3   &  4  & 1   & 6   & 2   & 2   & 1   & 5   & ... & 3   & 8   & 8   & 1   & 3   & 2   & 1   & 4   & 1   & 2  \\\\\n",
       "\t e   & 6   & 4   & 10  & 2   & 1   & 2   & 1   & 1   & 6   & ... & 3   & 8   & 8   & 1   & 3   & 2   & 5   & 3   & 3   & 2  \\\\\n",
       "\\end{tabular}\n"
      ],
      "text/markdown": [
       "\n",
       "| V1 | V2 | V3 | V4 | V5 | V6 | V7 | V8 | V9 | V10 | ... | V14 | V15 | V16 | V17 | V18 | V19 | V20 | V21 | V22 | V23 |\n",
       "|---|---|---|---|---|---|---|---|---|---|---|---|---|---|---|---|---|---|---|---|---|\n",
       "| p   | 6   | 3   |  5  | 2   | 7   | 2   | 1   | 2   | 5   | ... | 3   | 8   | 8   | 1   | 3   | 2   | 5   | 3   | 4   | 6   |\n",
       "| e   | 6   | 3   | 10  | 2   | 1   | 2   | 1   | 1   | 5   | ... | 3   | 8   | 8   | 1   | 3   | 2   | 5   | 4   | 3   | 2   |\n",
       "| e   | 1   | 3   |  9  | 2   | 4   | 2   | 1   | 1   | 6   | ... | 3   | 8   | 8   | 1   | 3   | 2   | 5   | 4   | 3   | 4   |\n",
       "| p   | 6   | 4   |  9  | 2   | 7   | 2   | 1   | 2   | 6   | ... | 3   | 8   | 8   | 1   | 3   | 2   | 5   | 3   | 4   | 6   |\n",
       "| e   | 6   | 3   |  4  | 1   | 6   | 2   | 2   | 1   | 5   | ... | 3   | 8   | 8   | 1   | 3   | 2   | 1   | 4   | 1   | 2   |\n",
       "| e   | 6   | 4   | 10  | 2   | 1   | 2   | 1   | 1   | 6   | ... | 3   | 8   | 8   | 1   | 3   | 2   | 5   | 3   | 3   | 2   |\n",
       "\n"
      ],
      "text/plain": [
       "  V1 V2 V3 V4 V5 V6 V7 V8 V9 V10 ... V14 V15 V16 V17 V18 V19 V20 V21 V22 V23\n",
       "1 p  6  3   5 2  7  2  1  2  5   ... 3   8   8   1   3   2   5   3   4   6  \n",
       "2 e  6  3  10 2  1  2  1  1  5   ... 3   8   8   1   3   2   5   4   3   2  \n",
       "3 e  1  3   9 2  4  2  1  1  6   ... 3   8   8   1   3   2   5   4   3   4  \n",
       "4 p  6  4   9 2  7  2  1  2  6   ... 3   8   8   1   3   2   5   3   4   6  \n",
       "5 e  6  3   4 1  6  2  2  1  5   ... 3   8   8   1   3   2   1   4   1   2  \n",
       "6 e  6  4  10 2  1  2  1  1  6   ... 3   8   8   1   3   2   5   3   3   2  "
      ]
     },
     "metadata": {},
     "output_type": "display_data"
    }
   ],
   "source": [
    "# 문자를 숫자로 변환\n",
    "for(i in 2:23){\n",
    "    mr[,i] <- as.numeric(mr[,i])\n",
    "}\n",
    "head(mr)"
   ]
  },
  {
   "cell_type": "code",
   "execution_count": 3,
   "id": "b8063217",
   "metadata": {},
   "outputs": [
    {
     "name": "stdout",
     "output_type": "stream",
     "text": [
      "Column Name : V2\n",
      "   1    2    3    4    5    6 \n",
      " 452    4 3152  828   32 3656 \n",
      "----------------------------------\n",
      "Column Name : V3\n",
      "   1    2    3    4 \n",
      "2320    4 2556 3244 \n",
      "----------------------------------\n",
      "Column Name : V4\n",
      "   1    2    3    4    5    6    7    8    9   10 \n",
      " 168   44 1500 1840 2284  144   16   16 1040 1072 \n",
      "----------------------------------\n",
      "Column Name : V5\n",
      "   1    2 \n",
      "4748 3376 \n",
      "----------------------------------\n",
      "Column Name : V6\n",
      "   1    2    3    4    5    6    7    8    9 \n",
      " 400  192 2160  400   36 3528  256  576  576 \n",
      "----------------------------------\n",
      "Column Name : V7\n",
      "   1    2 \n",
      " 210 7914 \n",
      "----------------------------------\n",
      "Column Name : V8\n",
      "   1    2 \n",
      "6812 1312 \n",
      "----------------------------------\n",
      "Column Name : V9\n",
      "   1    2 \n",
      "5612 2512 \n",
      "----------------------------------\n",
      "Column Name : V10\n",
      "   1    2    3    4    5    6    7    8    9   10   11   12 \n",
      "1728   96  752  732  408 1048   64 1492   24  492 1202   86 \n",
      "----------------------------------\n",
      "Column Name : V11\n",
      "   1    2 \n",
      "3516 4608 \n",
      "----------------------------------\n",
      "Column Name : V12\n",
      "   1    2    3    4    5 \n",
      "2480 3776  556 1120  192 \n",
      "----------------------------------\n",
      "Column Name : V13\n",
      "   1    2    3    4 \n",
      " 552 2372 5176   24 \n",
      "----------------------------------\n",
      "Column Name : V14\n",
      "   1    2    3    4 \n",
      " 600 2304 4936  284 \n",
      "----------------------------------\n",
      "Column Name : V15\n",
      "   1    2    3    4    5    6    7    8    9 \n",
      " 432   36   96  576  448  192 1872 4464    8 \n",
      "----------------------------------\n",
      "Column Name : V16\n",
      "   1    2    3    4    5    6    7    8    9 \n",
      " 432   36   96  576  512  192 1872 4384   24 \n",
      "----------------------------------\n",
      "Column Name : V17\n",
      "   1 \n",
      "8124 \n",
      "----------------------------------\n",
      "Column Name : V18\n",
      "   1    2    3    4 \n",
      "  96   96 7924    8 \n",
      "----------------------------------\n",
      "Column Name : V19\n",
      "   1    2    3 \n",
      "  36 7488  600 \n",
      "----------------------------------\n",
      "Column Name : V20\n",
      "   1    2    3    4    5 \n",
      "2776   48 1296   36 3968 \n",
      "----------------------------------\n",
      "Column Name : V21\n",
      "   1    2    3    4    5    6    7    8    9 \n",
      "  48 1632 1872 1968   48   72   48 2388   48 \n",
      "----------------------------------\n",
      "Column Name : V22\n",
      "   1    2    3    4    5    6 \n",
      " 384  340  400 1248 4040 1712 \n",
      "----------------------------------\n",
      "Column Name : V23\n",
      "   1    2    3    4    5    6    7 \n",
      "3148 2148  832  292 1144  368  192 \n",
      "----------------------------------\n"
     ]
    }
   ],
   "source": [
    "# 각 컬럼별 data확인\n",
    "for(i in 2:23){\n",
    "    cat(\"Column Name :\",colnames(mr)[i])\n",
    "    print(table(mr[,i]))\n",
    "    cat(\"----------------------------------\\n\")\n",
    "}"
   ]
  },
  {
   "cell_type": "code",
   "execution_count": 4,
   "id": "dec8ebd7",
   "metadata": {},
   "outputs": [
    {
     "data": {
      "text/html": [
       "<ol class=list-inline>\n",
       "\t<li>6</li>\n",
       "\t<li>4</li>\n",
       "\t<li>10</li>\n",
       "\t<li>2</li>\n",
       "\t<li>9</li>\n",
       "\t<li>2</li>\n",
       "\t<li>2</li>\n",
       "\t<li>2</li>\n",
       "\t<li>12</li>\n",
       "\t<li>2</li>\n",
       "\t<li>5</li>\n",
       "\t<li>4</li>\n",
       "\t<li>4</li>\n",
       "\t<li>9</li>\n",
       "\t<li>9</li>\n",
       "\t<li>1</li>\n",
       "\t<li>4</li>\n",
       "\t<li>3</li>\n",
       "\t<li>5</li>\n",
       "\t<li>9</li>\n",
       "\t<li>6</li>\n",
       "\t<li>7</li>\n",
       "</ol>\n"
      ],
      "text/latex": [
       "\\begin{enumerate*}\n",
       "\\item 6\n",
       "\\item 4\n",
       "\\item 10\n",
       "\\item 2\n",
       "\\item 9\n",
       "\\item 2\n",
       "\\item 2\n",
       "\\item 2\n",
       "\\item 12\n",
       "\\item 2\n",
       "\\item 5\n",
       "\\item 4\n",
       "\\item 4\n",
       "\\item 9\n",
       "\\item 9\n",
       "\\item 1\n",
       "\\item 4\n",
       "\\item 3\n",
       "\\item 5\n",
       "\\item 9\n",
       "\\item 6\n",
       "\\item 7\n",
       "\\end{enumerate*}\n"
      ],
      "text/markdown": [
       "1. 6\n",
       "2. 4\n",
       "3. 10\n",
       "4. 2\n",
       "5. 9\n",
       "6. 2\n",
       "7. 2\n",
       "8. 2\n",
       "9. 12\n",
       "10. 2\n",
       "11. 5\n",
       "12. 4\n",
       "13. 4\n",
       "14. 9\n",
       "15. 9\n",
       "16. 1\n",
       "17. 4\n",
       "18. 3\n",
       "19. 5\n",
       "20. 9\n",
       "21. 6\n",
       "22. 7\n",
       "\n",
       "\n"
      ],
      "text/plain": [
       " [1]  6  4 10  2  9  2  2  2 12  2  5  4  4  9  9  1  4  3  5  9  6  7"
      ]
     },
     "metadata": {},
     "output_type": "display_data"
    },
    {
     "data": {
      "text/html": [
       "117"
      ],
      "text/latex": [
       "117"
      ],
      "text/markdown": [
       "117"
      ],
      "text/plain": [
       "[1] 117"
      ]
     },
     "metadata": {},
     "output_type": "display_data"
    }
   ],
   "source": [
    "# 작업 수행 후의 컬럼 갯수 파악\n",
    "num <- c()\n",
    "for(i in 2:23){\n",
    "   num= append(num,length(unique(mr[,i])))\n",
    "}\n",
    "num\n",
    "sum(num)"
   ]
  },
  {
   "cell_type": "code",
   "execution_count": 5,
   "id": "8e3be833",
   "metadata": {},
   "outputs": [
    {
     "data": {
      "text/html": [
       "<table>\n",
       "<thead><tr><th scope=col>V1</th></tr></thead>\n",
       "<tbody>\n",
       "\t<tr><td>p</td></tr>\n",
       "\t<tr><td>e</td></tr>\n",
       "\t<tr><td>e</td></tr>\n",
       "\t<tr><td>p</td></tr>\n",
       "\t<tr><td>e</td></tr>\n",
       "\t<tr><td>e</td></tr>\n",
       "</tbody>\n",
       "</table>\n"
      ],
      "text/latex": [
       "\\begin{tabular}{r|l}\n",
       " V1\\\\\n",
       "\\hline\n",
       "\t p\\\\\n",
       "\t e\\\\\n",
       "\t e\\\\\n",
       "\t p\\\\\n",
       "\t e\\\\\n",
       "\t e\\\\\n",
       "\\end{tabular}\n"
      ],
      "text/markdown": [
       "\n",
       "| V1 |\n",
       "|---|\n",
       "| p |\n",
       "| e |\n",
       "| e |\n",
       "| p |\n",
       "| e |\n",
       "| e |\n",
       "\n"
      ],
      "text/plain": [
       "  V1\n",
       "1 p \n",
       "2 e \n",
       "3 e \n",
       "4 p \n",
       "5 e \n",
       "6 e "
      ]
     },
     "metadata": {},
     "output_type": "display_data"
    }
   ],
   "source": [
    "# 별도의 dataframe 생성\n",
    "\n",
    "mr2 <-data.frame(V1=mr$V1)\n",
    "head(mr2)"
   ]
  },
  {
   "cell_type": "code",
   "execution_count": 6,
   "id": "3161f0a9",
   "metadata": {},
   "outputs": [
    {
     "data": {
      "text/html": [
       "<ol class=list-inline>\n",
       "\t<li>1</li>\n",
       "\t<li>2</li>\n",
       "\t<li>3</li>\n",
       "\t<li>4</li>\n",
       "\t<li>5</li>\n",
       "\t<li>6</li>\n",
       "</ol>\n"
      ],
      "text/latex": [
       "\\begin{enumerate*}\n",
       "\\item 1\n",
       "\\item 2\n",
       "\\item 3\n",
       "\\item 4\n",
       "\\item 5\n",
       "\\item 6\n",
       "\\end{enumerate*}\n"
      ],
      "text/markdown": [
       "1. 1\n",
       "2. 2\n",
       "3. 3\n",
       "4. 4\n",
       "5. 5\n",
       "6. 6\n",
       "\n",
       "\n"
      ],
      "text/plain": [
       "[1] 1 2 3 4 5 6"
      ]
     },
     "metadata": {},
     "output_type": "display_data"
    }
   ],
   "source": [
    "sort(unique(mr$V2))"
   ]
  },
  {
   "cell_type": "code",
   "execution_count": 7,
   "id": "cbf42d3c",
   "metadata": {},
   "outputs": [
    {
     "data": {
      "text/html": [
       "<table>\n",
       "<thead><tr><th scope=col>V1</th><th scope=col>mr[, i] == j</th><th scope=col>mr[, i] == j.1</th><th scope=col>mr[, i] == j.2</th><th scope=col>mr[, i] == j.3</th><th scope=col>mr[, i] == j.4</th><th scope=col>mr[, i] == j.5</th><th scope=col>mr[, i] == j.6</th><th scope=col>mr[, i] == j.7</th><th scope=col>mr[, i] == j.8</th><th scope=col>...</th><th scope=col>mr[, i] == j</th><th scope=col>mr[, i] == j.1</th><th scope=col>mr[, i] == j.2</th><th scope=col>mr[, i] == j.3</th><th scope=col>mr[, i] == j.4</th><th scope=col>mr[, i] == j.5</th><th scope=col>mr[, i] == j.6</th><th scope=col>mr[, i] == j.7</th><th scope=col>mr[, i] == j.8</th><th scope=col>mr[, i] == j.9</th></tr></thead>\n",
       "<tbody>\n",
       "\t<tr><td>p    </td><td>FALSE</td><td>FALSE</td><td>FALSE</td><td>FALSE</td><td>FALSE</td><td> TRUE</td><td>FALSE</td><td>FALSE</td><td> TRUE</td><td>...  </td><td> TRUE</td><td>FALSE</td><td>FALSE</td><td>FALSE</td><td>FALSE</td><td>FALSE</td><td>FALSE</td><td>FALSE</td><td> TRUE</td><td>FALSE</td></tr>\n",
       "\t<tr><td>e    </td><td>FALSE</td><td>FALSE</td><td>FALSE</td><td>FALSE</td><td>FALSE</td><td> TRUE</td><td>FALSE</td><td>FALSE</td><td> TRUE</td><td>...  </td><td>FALSE</td><td>FALSE</td><td>FALSE</td><td>FALSE</td><td> TRUE</td><td>FALSE</td><td>FALSE</td><td>FALSE</td><td>FALSE</td><td>FALSE</td></tr>\n",
       "\t<tr><td>e    </td><td> TRUE</td><td>FALSE</td><td>FALSE</td><td>FALSE</td><td>FALSE</td><td>FALSE</td><td>FALSE</td><td>FALSE</td><td> TRUE</td><td>...  </td><td>FALSE</td><td>FALSE</td><td>FALSE</td><td>FALSE</td><td>FALSE</td><td>FALSE</td><td> TRUE</td><td>FALSE</td><td>FALSE</td><td>FALSE</td></tr>\n",
       "\t<tr><td>p    </td><td>FALSE</td><td>FALSE</td><td>FALSE</td><td>FALSE</td><td>FALSE</td><td> TRUE</td><td>FALSE</td><td>FALSE</td><td>FALSE</td><td>...  </td><td> TRUE</td><td>FALSE</td><td>FALSE</td><td>FALSE</td><td>FALSE</td><td>FALSE</td><td>FALSE</td><td>FALSE</td><td> TRUE</td><td>FALSE</td></tr>\n",
       "\t<tr><td>e    </td><td>FALSE</td><td>FALSE</td><td>FALSE</td><td>FALSE</td><td>FALSE</td><td> TRUE</td><td>FALSE</td><td>FALSE</td><td> TRUE</td><td>...  </td><td>FALSE</td><td>FALSE</td><td>FALSE</td><td>FALSE</td><td> TRUE</td><td>FALSE</td><td>FALSE</td><td>FALSE</td><td>FALSE</td><td>FALSE</td></tr>\n",
       "\t<tr><td>e    </td><td>FALSE</td><td>FALSE</td><td>FALSE</td><td>FALSE</td><td>FALSE</td><td> TRUE</td><td>FALSE</td><td>FALSE</td><td>FALSE</td><td>...  </td><td>FALSE</td><td>FALSE</td><td>FALSE</td><td>FALSE</td><td> TRUE</td><td>FALSE</td><td>FALSE</td><td>FALSE</td><td>FALSE</td><td>FALSE</td></tr>\n",
       "</tbody>\n",
       "</table>\n"
      ],
      "text/latex": [
       "\\begin{tabular}{r|llllllllllllllllllllllllllllllllllllllllllllllllllllllllllllllllllllllllllllllllllllllllllllllllllllllllllllllllllllll}\n",
       " V1 & mr{[}, i{]} == j & mr{[}, i{]} == j.1 & mr{[}, i{]} == j.2 & mr{[}, i{]} == j.3 & mr{[}, i{]} == j.4 & mr{[}, i{]} == j.5 & mr{[}, i{]} == j.6 & mr{[}, i{]} == j.7 & mr{[}, i{]} == j.8 & ... & mr{[}, i{]} == j & mr{[}, i{]} == j.1 & mr{[}, i{]} == j.2 & mr{[}, i{]} == j.3 & mr{[}, i{]} == j.4 & mr{[}, i{]} == j.5 & mr{[}, i{]} == j.6 & mr{[}, i{]} == j.7 & mr{[}, i{]} == j.8 & mr{[}, i{]} == j.9\\\\\n",
       "\\hline\n",
       "\t p     & FALSE & FALSE & FALSE & FALSE & FALSE &  TRUE & FALSE & FALSE &  TRUE & ...   &  TRUE & FALSE & FALSE & FALSE & FALSE & FALSE & FALSE & FALSE &  TRUE & FALSE\\\\\n",
       "\t e     & FALSE & FALSE & FALSE & FALSE & FALSE &  TRUE & FALSE & FALSE &  TRUE & ...   & FALSE & FALSE & FALSE & FALSE &  TRUE & FALSE & FALSE & FALSE & FALSE & FALSE\\\\\n",
       "\t e     &  TRUE & FALSE & FALSE & FALSE & FALSE & FALSE & FALSE & FALSE &  TRUE & ...   & FALSE & FALSE & FALSE & FALSE & FALSE & FALSE &  TRUE & FALSE & FALSE & FALSE\\\\\n",
       "\t p     & FALSE & FALSE & FALSE & FALSE & FALSE &  TRUE & FALSE & FALSE & FALSE & ...   &  TRUE & FALSE & FALSE & FALSE & FALSE & FALSE & FALSE & FALSE &  TRUE & FALSE\\\\\n",
       "\t e     & FALSE & FALSE & FALSE & FALSE & FALSE &  TRUE & FALSE & FALSE &  TRUE & ...   & FALSE & FALSE & FALSE & FALSE &  TRUE & FALSE & FALSE & FALSE & FALSE & FALSE\\\\\n",
       "\t e     & FALSE & FALSE & FALSE & FALSE & FALSE &  TRUE & FALSE & FALSE & FALSE & ...   & FALSE & FALSE & FALSE & FALSE &  TRUE & FALSE & FALSE & FALSE & FALSE & FALSE\\\\\n",
       "\\end{tabular}\n"
      ],
      "text/markdown": [
       "\n",
       "| V1 | mr[, i] == j | mr[, i] == j.1 | mr[, i] == j.2 | mr[, i] == j.3 | mr[, i] == j.4 | mr[, i] == j.5 | mr[, i] == j.6 | mr[, i] == j.7 | mr[, i] == j.8 | ... | mr[, i] == j | mr[, i] == j.1 | mr[, i] == j.2 | mr[, i] == j.3 | mr[, i] == j.4 | mr[, i] == j.5 | mr[, i] == j.6 | mr[, i] == j.7 | mr[, i] == j.8 | mr[, i] == j.9 |\n",
       "|---|---|---|---|---|---|---|---|---|---|---|---|---|---|---|---|---|---|---|---|---|\n",
       "| p     | FALSE | FALSE | FALSE | FALSE | FALSE |  TRUE | FALSE | FALSE |  TRUE | ...   |  TRUE | FALSE | FALSE | FALSE | FALSE | FALSE | FALSE | FALSE |  TRUE | FALSE |\n",
       "| e     | FALSE | FALSE | FALSE | FALSE | FALSE |  TRUE | FALSE | FALSE |  TRUE | ...   | FALSE | FALSE | FALSE | FALSE |  TRUE | FALSE | FALSE | FALSE | FALSE | FALSE |\n",
       "| e     |  TRUE | FALSE | FALSE | FALSE | FALSE | FALSE | FALSE | FALSE |  TRUE | ...   | FALSE | FALSE | FALSE | FALSE | FALSE | FALSE |  TRUE | FALSE | FALSE | FALSE |\n",
       "| p     | FALSE | FALSE | FALSE | FALSE | FALSE |  TRUE | FALSE | FALSE | FALSE | ...   |  TRUE | FALSE | FALSE | FALSE | FALSE | FALSE | FALSE | FALSE |  TRUE | FALSE |\n",
       "| e     | FALSE | FALSE | FALSE | FALSE | FALSE |  TRUE | FALSE | FALSE |  TRUE | ...   | FALSE | FALSE | FALSE | FALSE |  TRUE | FALSE | FALSE | FALSE | FALSE | FALSE |\n",
       "| e     | FALSE | FALSE | FALSE | FALSE | FALSE |  TRUE | FALSE | FALSE | FALSE | ...   | FALSE | FALSE | FALSE | FALSE |  TRUE | FALSE | FALSE | FALSE | FALSE | FALSE |\n",
       "\n"
      ],
      "text/plain": [
       "  V1 mr[, i] == j mr[, i] == j.1 mr[, i] == j.2 mr[, i] == j.3 mr[, i] == j.4\n",
       "1 p  FALSE        FALSE          FALSE          FALSE          FALSE         \n",
       "2 e  FALSE        FALSE          FALSE          FALSE          FALSE         \n",
       "3 e   TRUE        FALSE          FALSE          FALSE          FALSE         \n",
       "4 p  FALSE        FALSE          FALSE          FALSE          FALSE         \n",
       "5 e  FALSE        FALSE          FALSE          FALSE          FALSE         \n",
       "6 e  FALSE        FALSE          FALSE          FALSE          FALSE         \n",
       "  mr[, i] == j.5 mr[, i] == j.6 mr[, i] == j.7 mr[, i] == j.8 ... mr[, i] == j\n",
       "1  TRUE          FALSE          FALSE           TRUE          ...  TRUE       \n",
       "2  TRUE          FALSE          FALSE           TRUE          ... FALSE       \n",
       "3 FALSE          FALSE          FALSE           TRUE          ... FALSE       \n",
       "4  TRUE          FALSE          FALSE          FALSE          ...  TRUE       \n",
       "5  TRUE          FALSE          FALSE           TRUE          ... FALSE       \n",
       "6  TRUE          FALSE          FALSE          FALSE          ... FALSE       \n",
       "  mr[, i] == j.1 mr[, i] == j.2 mr[, i] == j.3 mr[, i] == j.4 mr[, i] == j.5\n",
       "1 FALSE          FALSE          FALSE          FALSE          FALSE         \n",
       "2 FALSE          FALSE          FALSE           TRUE          FALSE         \n",
       "3 FALSE          FALSE          FALSE          FALSE          FALSE         \n",
       "4 FALSE          FALSE          FALSE          FALSE          FALSE         \n",
       "5 FALSE          FALSE          FALSE           TRUE          FALSE         \n",
       "6 FALSE          FALSE          FALSE           TRUE          FALSE         \n",
       "  mr[, i] == j.6 mr[, i] == j.7 mr[, i] == j.8 mr[, i] == j.9\n",
       "1 FALSE          FALSE           TRUE          FALSE         \n",
       "2 FALSE          FALSE          FALSE          FALSE         \n",
       "3  TRUE          FALSE          FALSE          FALSE         \n",
       "4 FALSE          FALSE           TRUE          FALSE         \n",
       "5 FALSE          FALSE          FALSE          FALSE         \n",
       "6 FALSE          FALSE          FALSE          FALSE         "
      ]
     },
     "metadata": {},
     "output_type": "display_data"
    }
   ],
   "source": [
    "for(i in 2:23){\n",
    "    for(j in sort(unique(mr[,i]))){\n",
    "        \n",
    "        mr2 = cbind(mr2, mr[,i]==j)\n",
    "    }\n",
    "}\n",
    "head(mr2)\n"
   ]
  },
  {
   "cell_type": "code",
   "execution_count": 8,
   "id": "8ea7178a",
   "metadata": {},
   "outputs": [
    {
     "name": "stdout",
     "output_type": "stream",
     "text": [
      "'data.frame':\t8124 obs. of  118 variables:\n",
      " $ V1          : Factor w/ 2 levels \"e\",\"p\": 2 1 1 2 1 1 1 1 2 1 ...\n",
      " $ mr[, i] == j: logi  FALSE FALSE TRUE FALSE FALSE FALSE ...\n",
      " $ mr[, i] == j: logi  FALSE FALSE FALSE FALSE FALSE FALSE ...\n",
      " $ mr[, i] == j: logi  FALSE FALSE FALSE FALSE FALSE FALSE ...\n",
      " $ mr[, i] == j: logi  FALSE FALSE FALSE FALSE FALSE FALSE ...\n",
      " $ mr[, i] == j: logi  FALSE FALSE FALSE FALSE FALSE FALSE ...\n",
      " $ mr[, i] == j: logi  TRUE TRUE FALSE TRUE TRUE TRUE ...\n",
      " $ mr[, i] == j: logi  FALSE FALSE FALSE FALSE FALSE FALSE ...\n",
      " $ mr[, i] == j: logi  FALSE FALSE FALSE FALSE FALSE FALSE ...\n",
      " $ mr[, i] == j: logi  TRUE TRUE TRUE FALSE TRUE FALSE ...\n",
      " $ mr[, i] == j: logi  FALSE FALSE FALSE TRUE FALSE TRUE ...\n",
      " $ mr[, i] == j: logi  FALSE FALSE FALSE FALSE FALSE FALSE ...\n",
      " $ mr[, i] == j: logi  FALSE FALSE FALSE FALSE FALSE FALSE ...\n",
      " $ mr[, i] == j: logi  FALSE FALSE FALSE FALSE FALSE FALSE ...\n",
      " $ mr[, i] == j: logi  FALSE FALSE FALSE FALSE TRUE FALSE ...\n",
      " $ mr[, i] == j: logi  TRUE FALSE FALSE FALSE FALSE FALSE ...\n",
      " $ mr[, i] == j: logi  FALSE FALSE FALSE FALSE FALSE FALSE ...\n",
      " $ mr[, i] == j: logi  FALSE FALSE FALSE FALSE FALSE FALSE ...\n",
      " $ mr[, i] == j: logi  FALSE FALSE FALSE FALSE FALSE FALSE ...\n",
      " $ mr[, i] == j: logi  FALSE FALSE TRUE TRUE FALSE FALSE ...\n",
      " $ mr[, i] == j: logi  FALSE TRUE FALSE FALSE FALSE TRUE ...\n",
      " $ mr[, i] == j: logi  FALSE FALSE FALSE FALSE TRUE FALSE ...\n",
      " $ mr[, i] == j: logi  TRUE TRUE TRUE TRUE FALSE TRUE ...\n",
      " $ mr[, i] == j: logi  FALSE TRUE FALSE FALSE FALSE TRUE ...\n",
      " $ mr[, i] == j: logi  FALSE FALSE FALSE FALSE FALSE FALSE ...\n",
      " $ mr[, i] == j: logi  FALSE FALSE FALSE FALSE FALSE FALSE ...\n",
      " $ mr[, i] == j: logi  FALSE FALSE TRUE FALSE FALSE FALSE ...\n",
      " $ mr[, i] == j: logi  FALSE FALSE FALSE FALSE FALSE FALSE ...\n",
      " $ mr[, i] == j: logi  FALSE FALSE FALSE FALSE TRUE FALSE ...\n",
      " $ mr[, i] == j: logi  TRUE FALSE FALSE TRUE FALSE FALSE ...\n",
      " $ mr[, i] == j: logi  FALSE FALSE FALSE FALSE FALSE FALSE ...\n",
      " $ mr[, i] == j: logi  FALSE FALSE FALSE FALSE FALSE FALSE ...\n",
      " $ mr[, i] == j: logi  FALSE FALSE FALSE FALSE FALSE FALSE ...\n",
      " $ mr[, i] == j: logi  TRUE TRUE TRUE TRUE TRUE TRUE ...\n",
      " $ mr[, i] == j: logi  TRUE TRUE TRUE TRUE FALSE TRUE ...\n",
      " $ mr[, i] == j: logi  FALSE FALSE FALSE FALSE TRUE FALSE ...\n",
      " $ mr[, i] == j: logi  FALSE TRUE TRUE FALSE TRUE TRUE ...\n",
      " $ mr[, i] == j: logi  TRUE FALSE FALSE TRUE FALSE FALSE ...\n",
      " $ mr[, i] == j: logi  FALSE FALSE FALSE FALSE FALSE FALSE ...\n",
      " $ mr[, i] == j: logi  FALSE FALSE FALSE FALSE FALSE FALSE ...\n",
      " $ mr[, i] == j: logi  FALSE FALSE FALSE FALSE FALSE FALSE ...\n",
      " $ mr[, i] == j: logi  FALSE FALSE FALSE FALSE FALSE FALSE ...\n",
      " $ mr[, i] == j: logi  TRUE TRUE FALSE FALSE TRUE FALSE ...\n",
      " $ mr[, i] == j: logi  FALSE FALSE TRUE TRUE FALSE TRUE ...\n",
      " $ mr[, i] == j: logi  FALSE FALSE FALSE FALSE FALSE FALSE ...\n",
      " $ mr[, i] == j: logi  FALSE FALSE FALSE FALSE FALSE FALSE ...\n",
      " $ mr[, i] == j: logi  FALSE FALSE FALSE FALSE FALSE FALSE ...\n",
      " $ mr[, i] == j: logi  FALSE FALSE FALSE FALSE FALSE FALSE ...\n",
      " $ mr[, i] == j: logi  FALSE FALSE FALSE FALSE FALSE FALSE ...\n",
      " $ mr[, i] == j: logi  FALSE FALSE FALSE FALSE FALSE FALSE ...\n",
      " $ mr[, i] == j: logi  TRUE TRUE TRUE TRUE FALSE TRUE ...\n",
      " $ mr[, i] == j: logi  FALSE FALSE FALSE FALSE TRUE FALSE ...\n",
      " $ mr[, i] == j: logi  FALSE FALSE FALSE FALSE FALSE FALSE ...\n",
      " $ mr[, i] == j: logi  FALSE FALSE FALSE FALSE FALSE FALSE ...\n",
      " $ mr[, i] == j: logi  FALSE TRUE TRUE FALSE FALSE TRUE ...\n",
      " $ mr[, i] == j: logi  TRUE FALSE FALSE TRUE TRUE FALSE ...\n",
      " $ mr[, i] == j: logi  FALSE FALSE FALSE FALSE FALSE FALSE ...\n",
      " $ mr[, i] == j: logi  FALSE FALSE FALSE FALSE FALSE FALSE ...\n",
      " $ mr[, i] == j: logi  FALSE FALSE FALSE FALSE FALSE FALSE ...\n",
      " $ mr[, i] == j: logi  TRUE TRUE TRUE TRUE TRUE TRUE ...\n",
      " $ mr[, i] == j: logi  FALSE FALSE FALSE FALSE FALSE FALSE ...\n",
      " $ mr[, i] == j: logi  FALSE FALSE FALSE FALSE FALSE FALSE ...\n",
      " $ mr[, i] == j: logi  FALSE FALSE FALSE FALSE FALSE FALSE ...\n",
      " $ mr[, i] == j: logi  TRUE TRUE TRUE TRUE TRUE TRUE ...\n",
      " $ mr[, i] == j: logi  FALSE FALSE FALSE FALSE FALSE FALSE ...\n",
      " $ mr[, i] == j: logi  FALSE FALSE FALSE FALSE FALSE FALSE ...\n",
      " $ mr[, i] == j: logi  FALSE FALSE FALSE FALSE FALSE FALSE ...\n",
      " $ mr[, i] == j: logi  FALSE FALSE FALSE FALSE FALSE FALSE ...\n",
      " $ mr[, i] == j: logi  FALSE FALSE FALSE FALSE FALSE FALSE ...\n",
      " $ mr[, i] == j: logi  FALSE FALSE FALSE FALSE FALSE FALSE ...\n",
      " $ mr[, i] == j: logi  FALSE FALSE FALSE FALSE FALSE FALSE ...\n",
      " $ mr[, i] == j: logi  FALSE FALSE FALSE FALSE FALSE FALSE ...\n",
      " $ mr[, i] == j: logi  TRUE TRUE TRUE TRUE TRUE TRUE ...\n",
      " $ mr[, i] == j: logi  FALSE FALSE FALSE FALSE FALSE FALSE ...\n",
      " $ mr[, i] == j: logi  FALSE FALSE FALSE FALSE FALSE FALSE ...\n",
      " $ mr[, i] == j: logi  FALSE FALSE FALSE FALSE FALSE FALSE ...\n",
      " $ mr[, i] == j: logi  FALSE FALSE FALSE FALSE FALSE FALSE ...\n",
      " $ mr[, i] == j: logi  FALSE FALSE FALSE FALSE FALSE FALSE ...\n",
      " $ mr[, i] == j: logi  FALSE FALSE FALSE FALSE FALSE FALSE ...\n",
      " $ mr[, i] == j: logi  FALSE FALSE FALSE FALSE FALSE FALSE ...\n",
      " $ mr[, i] == j: logi  FALSE FALSE FALSE FALSE FALSE FALSE ...\n",
      " $ mr[, i] == j: logi  TRUE TRUE TRUE TRUE TRUE TRUE ...\n",
      " $ mr[, i] == j: logi  FALSE FALSE FALSE FALSE FALSE FALSE ...\n",
      " $ mr[, i] == j: logi  TRUE TRUE TRUE TRUE TRUE TRUE ...\n",
      " $ mr[, i] == j: logi  FALSE FALSE FALSE FALSE FALSE FALSE ...\n",
      " $ mr[, i] == j: logi  FALSE FALSE FALSE FALSE FALSE FALSE ...\n",
      " $ mr[, i] == j: logi  TRUE TRUE TRUE TRUE TRUE TRUE ...\n",
      " $ mr[, i] == j: logi  FALSE FALSE FALSE FALSE FALSE FALSE ...\n",
      " $ mr[, i] == j: logi  FALSE FALSE FALSE FALSE FALSE FALSE ...\n",
      " $ mr[, i] == j: logi  TRUE TRUE TRUE TRUE TRUE TRUE ...\n",
      " $ mr[, i] == j: logi  FALSE FALSE FALSE FALSE FALSE FALSE ...\n",
      " $ mr[, i] == j: logi  FALSE FALSE FALSE FALSE TRUE FALSE ...\n",
      " $ mr[, i] == j: logi  FALSE FALSE FALSE FALSE FALSE FALSE ...\n",
      " $ mr[, i] == j: logi  FALSE FALSE FALSE FALSE FALSE FALSE ...\n",
      " $ mr[, i] == j: logi  FALSE FALSE FALSE FALSE FALSE FALSE ...\n",
      " $ mr[, i] == j: logi  TRUE TRUE TRUE TRUE FALSE TRUE ...\n",
      " $ mr[, i] == j: logi  FALSE FALSE FALSE FALSE FALSE FALSE ...\n",
      " $ mr[, i] == j: logi  FALSE FALSE FALSE FALSE FALSE FALSE ...\n",
      " $ mr[, i] == j: logi  TRUE FALSE FALSE TRUE FALSE TRUE ...\n",
      "  [list output truncated]\n"
     ]
    }
   ],
   "source": [
    "str(mr2)"
   ]
  },
  {
   "cell_type": "code",
   "execution_count": 9,
   "id": "8684e0de",
   "metadata": {},
   "outputs": [
    {
     "name": "stdout",
     "output_type": "stream",
     "text": [
      "'data.frame':\t8124 obs. of  19 variables:\n",
      " $ mr[, i] == j   : logi  FALSE TRUE TRUE FALSE TRUE FALSE ...\n",
      " $ mr[, i] == j.1 : logi  FALSE FALSE FALSE FALSE FALSE FALSE ...\n",
      " $ mr[, i] == j.2 : logi  FALSE FALSE FALSE FALSE FALSE FALSE ...\n",
      " $ mr[, i] == j.3 : logi  FALSE FALSE FALSE FALSE FALSE FALSE ...\n",
      " $ mr[, i] == j.4 : logi  FALSE FALSE FALSE FALSE FALSE FALSE ...\n",
      " $ mr[, i] == j.5 : logi  FALSE FALSE FALSE FALSE FALSE FALSE ...\n",
      " $ mr[, i] == j.6 : logi  FALSE FALSE FALSE FALSE TRUE FALSE ...\n",
      " $ mr[, i] == j.7 : logi  FALSE FALSE FALSE FALSE FALSE FALSE ...\n",
      " $ mr[, i] == j.8 : logi  FALSE TRUE TRUE FALSE FALSE TRUE ...\n",
      " $ mr[, i] == j.9 : logi  TRUE FALSE FALSE TRUE FALSE FALSE ...\n",
      " $ mr[, i] == j.10: logi  FALSE FALSE FALSE FALSE FALSE FALSE ...\n",
      " $ mr[, i] == j.11: logi  FALSE FALSE FALSE FALSE FALSE FALSE ...\n",
      " $ mr[, i] == j.12: logi  FALSE FALSE FALSE FALSE FALSE FALSE ...\n",
      " $ mr[, i] == j.13: logi  FALSE TRUE FALSE FALSE TRUE TRUE ...\n",
      " $ mr[, i] == j.14: logi  FALSE FALSE FALSE FALSE FALSE FALSE ...\n",
      " $ mr[, i] == j.15: logi  FALSE FALSE TRUE FALSE FALSE FALSE ...\n",
      " $ mr[, i] == j.16: logi  FALSE FALSE FALSE FALSE FALSE FALSE ...\n",
      " $ mr[, i] == j.17: logi  TRUE FALSE FALSE TRUE FALSE FALSE ...\n",
      " $ mr[, i] == j.18: logi  FALSE FALSE FALSE FALSE FALSE FALSE ...\n"
     ]
    }
   ],
   "source": [
    "# 컬럼 갯수가 많아서 structure 를 다 못보는 경우\n",
    "# 100번부터 끝까지 보기\n",
    "str(mr2[,100:ncol(mr2)])"
   ]
  },
  {
   "cell_type": "code",
   "execution_count": 10,
   "id": "fd906943",
   "metadata": {},
   "outputs": [
    {
     "name": "stderr",
     "output_type": "stream",
     "text": [
      "\n",
      "Attaching package: ‘dplyr’\n",
      "\n",
      "The following objects are masked from ‘package:stats’:\n",
      "\n",
      "    filter, lag\n",
      "\n",
      "The following objects are masked from ‘package:base’:\n",
      "\n",
      "    intersect, setdiff, setequal, union\n",
      "\n"
     ]
    }
   ],
   "source": [
    "# 정렬\n",
    "library(dplyr)"
   ]
  },
  {
   "cell_type": "code",
   "execution_count": 11,
   "id": "b461d2e8",
   "metadata": {},
   "outputs": [
    {
     "data": {
      "text/html": [
       "<table>\n",
       "<thead><tr><th scope=col>V1</th><th scope=col>V2</th><th scope=col>V3</th><th scope=col>V4</th><th scope=col>V5</th><th scope=col>V6</th><th scope=col>V7</th><th scope=col>V8</th><th scope=col>V9</th><th scope=col>V10</th><th scope=col>...</th><th scope=col>V109</th><th scope=col>V110</th><th scope=col>V111</th><th scope=col>V112</th><th scope=col>V113</th><th scope=col>V114</th><th scope=col>V115</th><th scope=col>V116</th><th scope=col>V117</th><th scope=col>V118</th></tr></thead>\n",
       "<tbody>\n",
       "\t<tr><td>p    </td><td>FALSE</td><td>FALSE</td><td>FALSE</td><td>FALSE</td><td>FALSE</td><td> TRUE</td><td>FALSE</td><td>FALSE</td><td> TRUE</td><td>...  </td><td> TRUE</td><td>FALSE</td><td>FALSE</td><td>FALSE</td><td>FALSE</td><td>FALSE</td><td>FALSE</td><td>FALSE</td><td> TRUE</td><td>FALSE</td></tr>\n",
       "\t<tr><td>e    </td><td>FALSE</td><td>FALSE</td><td>FALSE</td><td>FALSE</td><td>FALSE</td><td> TRUE</td><td>FALSE</td><td>FALSE</td><td> TRUE</td><td>...  </td><td>FALSE</td><td>FALSE</td><td>FALSE</td><td>FALSE</td><td> TRUE</td><td>FALSE</td><td>FALSE</td><td>FALSE</td><td>FALSE</td><td>FALSE</td></tr>\n",
       "\t<tr><td>e    </td><td> TRUE</td><td>FALSE</td><td>FALSE</td><td>FALSE</td><td>FALSE</td><td>FALSE</td><td>FALSE</td><td>FALSE</td><td> TRUE</td><td>...  </td><td>FALSE</td><td>FALSE</td><td>FALSE</td><td>FALSE</td><td>FALSE</td><td>FALSE</td><td> TRUE</td><td>FALSE</td><td>FALSE</td><td>FALSE</td></tr>\n",
       "\t<tr><td>p    </td><td>FALSE</td><td>FALSE</td><td>FALSE</td><td>FALSE</td><td>FALSE</td><td> TRUE</td><td>FALSE</td><td>FALSE</td><td>FALSE</td><td>...  </td><td> TRUE</td><td>FALSE</td><td>FALSE</td><td>FALSE</td><td>FALSE</td><td>FALSE</td><td>FALSE</td><td>FALSE</td><td> TRUE</td><td>FALSE</td></tr>\n",
       "\t<tr><td>e    </td><td>FALSE</td><td>FALSE</td><td>FALSE</td><td>FALSE</td><td>FALSE</td><td> TRUE</td><td>FALSE</td><td>FALSE</td><td> TRUE</td><td>...  </td><td>FALSE</td><td>FALSE</td><td>FALSE</td><td>FALSE</td><td> TRUE</td><td>FALSE</td><td>FALSE</td><td>FALSE</td><td>FALSE</td><td>FALSE</td></tr>\n",
       "\t<tr><td>e    </td><td>FALSE</td><td>FALSE</td><td>FALSE</td><td>FALSE</td><td>FALSE</td><td> TRUE</td><td>FALSE</td><td>FALSE</td><td>FALSE</td><td>...  </td><td>FALSE</td><td>FALSE</td><td>FALSE</td><td>FALSE</td><td> TRUE</td><td>FALSE</td><td>FALSE</td><td>FALSE</td><td>FALSE</td><td>FALSE</td></tr>\n",
       "</tbody>\n",
       "</table>\n"
      ],
      "text/latex": [
       "\\begin{tabular}{r|llllllllllllllllllllllllllllllllllllllllllllllllllllllllllllllllllllllllllllllllllllllllllllllllllllllllllllllllllllll}\n",
       " V1 & V2 & V3 & V4 & V5 & V6 & V7 & V8 & V9 & V10 & ... & V109 & V110 & V111 & V112 & V113 & V114 & V115 & V116 & V117 & V118\\\\\n",
       "\\hline\n",
       "\t p     & FALSE & FALSE & FALSE & FALSE & FALSE &  TRUE & FALSE & FALSE &  TRUE & ...   &  TRUE & FALSE & FALSE & FALSE & FALSE & FALSE & FALSE & FALSE &  TRUE & FALSE\\\\\n",
       "\t e     & FALSE & FALSE & FALSE & FALSE & FALSE &  TRUE & FALSE & FALSE &  TRUE & ...   & FALSE & FALSE & FALSE & FALSE &  TRUE & FALSE & FALSE & FALSE & FALSE & FALSE\\\\\n",
       "\t e     &  TRUE & FALSE & FALSE & FALSE & FALSE & FALSE & FALSE & FALSE &  TRUE & ...   & FALSE & FALSE & FALSE & FALSE & FALSE & FALSE &  TRUE & FALSE & FALSE & FALSE\\\\\n",
       "\t p     & FALSE & FALSE & FALSE & FALSE & FALSE &  TRUE & FALSE & FALSE & FALSE & ...   &  TRUE & FALSE & FALSE & FALSE & FALSE & FALSE & FALSE & FALSE &  TRUE & FALSE\\\\\n",
       "\t e     & FALSE & FALSE & FALSE & FALSE & FALSE &  TRUE & FALSE & FALSE &  TRUE & ...   & FALSE & FALSE & FALSE & FALSE &  TRUE & FALSE & FALSE & FALSE & FALSE & FALSE\\\\\n",
       "\t e     & FALSE & FALSE & FALSE & FALSE & FALSE &  TRUE & FALSE & FALSE & FALSE & ...   & FALSE & FALSE & FALSE & FALSE &  TRUE & FALSE & FALSE & FALSE & FALSE & FALSE\\\\\n",
       "\\end{tabular}\n"
      ],
      "text/markdown": [
       "\n",
       "| V1 | V2 | V3 | V4 | V5 | V6 | V7 | V8 | V9 | V10 | ... | V109 | V110 | V111 | V112 | V113 | V114 | V115 | V116 | V117 | V118 |\n",
       "|---|---|---|---|---|---|---|---|---|---|---|---|---|---|---|---|---|---|---|---|---|\n",
       "| p     | FALSE | FALSE | FALSE | FALSE | FALSE |  TRUE | FALSE | FALSE |  TRUE | ...   |  TRUE | FALSE | FALSE | FALSE | FALSE | FALSE | FALSE | FALSE |  TRUE | FALSE |\n",
       "| e     | FALSE | FALSE | FALSE | FALSE | FALSE |  TRUE | FALSE | FALSE |  TRUE | ...   | FALSE | FALSE | FALSE | FALSE |  TRUE | FALSE | FALSE | FALSE | FALSE | FALSE |\n",
       "| e     |  TRUE | FALSE | FALSE | FALSE | FALSE | FALSE | FALSE | FALSE |  TRUE | ...   | FALSE | FALSE | FALSE | FALSE | FALSE | FALSE |  TRUE | FALSE | FALSE | FALSE |\n",
       "| p     | FALSE | FALSE | FALSE | FALSE | FALSE |  TRUE | FALSE | FALSE | FALSE | ...   |  TRUE | FALSE | FALSE | FALSE | FALSE | FALSE | FALSE | FALSE |  TRUE | FALSE |\n",
       "| e     | FALSE | FALSE | FALSE | FALSE | FALSE |  TRUE | FALSE | FALSE |  TRUE | ...   | FALSE | FALSE | FALSE | FALSE |  TRUE | FALSE | FALSE | FALSE | FALSE | FALSE |\n",
       "| e     | FALSE | FALSE | FALSE | FALSE | FALSE |  TRUE | FALSE | FALSE | FALSE | ...   | FALSE | FALSE | FALSE | FALSE |  TRUE | FALSE | FALSE | FALSE | FALSE | FALSE |\n",
       "\n"
      ],
      "text/plain": [
       "  V1 V2    V3    V4    V5    V6    V7    V8    V9    V10   ... V109  V110 \n",
       "1 p  FALSE FALSE FALSE FALSE FALSE  TRUE FALSE FALSE  TRUE ...  TRUE FALSE\n",
       "2 e  FALSE FALSE FALSE FALSE FALSE  TRUE FALSE FALSE  TRUE ... FALSE FALSE\n",
       "3 e   TRUE FALSE FALSE FALSE FALSE FALSE FALSE FALSE  TRUE ... FALSE FALSE\n",
       "4 p  FALSE FALSE FALSE FALSE FALSE  TRUE FALSE FALSE FALSE ...  TRUE FALSE\n",
       "5 e  FALSE FALSE FALSE FALSE FALSE  TRUE FALSE FALSE  TRUE ... FALSE FALSE\n",
       "6 e  FALSE FALSE FALSE FALSE FALSE  TRUE FALSE FALSE FALSE ... FALSE FALSE\n",
       "  V111  V112  V113  V114  V115  V116  V117  V118 \n",
       "1 FALSE FALSE FALSE FALSE FALSE FALSE  TRUE FALSE\n",
       "2 FALSE FALSE  TRUE FALSE FALSE FALSE FALSE FALSE\n",
       "3 FALSE FALSE FALSE FALSE  TRUE FALSE FALSE FALSE\n",
       "4 FALSE FALSE FALSE FALSE FALSE FALSE  TRUE FALSE\n",
       "5 FALSE FALSE  TRUE FALSE FALSE FALSE FALSE FALSE\n",
       "6 FALSE FALSE  TRUE FALSE FALSE FALSE FALSE FALSE"
      ]
     },
     "metadata": {},
     "output_type": "display_data"
    }
   ],
   "source": [
    "# 정렬하려고 하면 column name 때문에 정렬이 안됌\n",
    "colnames(mr2)<-paste(\"V\",1:118,sep='')\n",
    "head(mr2)"
   ]
  },
  {
   "cell_type": "markdown",
   "id": "c2b86a19",
   "metadata": {},
   "source": [
    "## column 이름과 one-hot encoding 을 한번에 처리하기"
   ]
  },
  {
   "cell_type": "code",
   "execution_count": 12,
   "id": "9ea92b7f",
   "metadata": {},
   "outputs": [
    {
     "data": {
      "text/html": [
       "<table>\n",
       "<thead><tr><th scope=col>V1</th></tr></thead>\n",
       "<tbody>\n",
       "\t<tr><td>p</td></tr>\n",
       "\t<tr><td>e</td></tr>\n",
       "\t<tr><td>e</td></tr>\n",
       "\t<tr><td>p</td></tr>\n",
       "\t<tr><td>e</td></tr>\n",
       "\t<tr><td>e</td></tr>\n",
       "</tbody>\n",
       "</table>\n"
      ],
      "text/latex": [
       "\\begin{tabular}{r|l}\n",
       " V1\\\\\n",
       "\\hline\n",
       "\t p\\\\\n",
       "\t e\\\\\n",
       "\t e\\\\\n",
       "\t p\\\\\n",
       "\t e\\\\\n",
       "\t e\\\\\n",
       "\\end{tabular}\n"
      ],
      "text/markdown": [
       "\n",
       "| V1 |\n",
       "|---|\n",
       "| p |\n",
       "| e |\n",
       "| e |\n",
       "| p |\n",
       "| e |\n",
       "| e |\n",
       "\n"
      ],
      "text/plain": [
       "  V1\n",
       "1 p \n",
       "2 e \n",
       "3 e \n",
       "4 p \n",
       "5 e \n",
       "6 e "
      ]
     },
     "metadata": {},
     "output_type": "display_data"
    }
   ],
   "source": [
    "mr3 <- data.frame(V1 = mr$V1)\n",
    "head(mr3)"
   ]
  },
  {
   "cell_type": "code",
   "execution_count": 13,
   "id": "632d42d1",
   "metadata": {},
   "outputs": [
    {
     "data": {
      "text/html": [
       "<table>\n",
       "<thead><tr><th scope=col>V1</th><th scope=col>V2_1</th><th scope=col>V2_2</th><th scope=col>V2_3</th><th scope=col>V2_4</th><th scope=col>V2_5</th><th scope=col>V2_6</th><th scope=col>V3_1</th><th scope=col>V3_2</th><th scope=col>V3_3</th><th scope=col>...</th><th scope=col>V22_4</th><th scope=col>V22_5</th><th scope=col>V22_6</th><th scope=col>V23_1</th><th scope=col>V23_2</th><th scope=col>V23_3</th><th scope=col>V23_4</th><th scope=col>V23_5</th><th scope=col>V23_6</th><th scope=col>V23_7</th></tr></thead>\n",
       "<tbody>\n",
       "\t<tr><td>p    </td><td>FALSE</td><td>FALSE</td><td>FALSE</td><td>FALSE</td><td>FALSE</td><td> TRUE</td><td>FALSE</td><td>FALSE</td><td> TRUE</td><td>...  </td><td> TRUE</td><td>FALSE</td><td>FALSE</td><td>FALSE</td><td>FALSE</td><td>FALSE</td><td>FALSE</td><td>FALSE</td><td> TRUE</td><td>FALSE</td></tr>\n",
       "\t<tr><td>e    </td><td>FALSE</td><td>FALSE</td><td>FALSE</td><td>FALSE</td><td>FALSE</td><td> TRUE</td><td>FALSE</td><td>FALSE</td><td> TRUE</td><td>...  </td><td>FALSE</td><td>FALSE</td><td>FALSE</td><td>FALSE</td><td> TRUE</td><td>FALSE</td><td>FALSE</td><td>FALSE</td><td>FALSE</td><td>FALSE</td></tr>\n",
       "\t<tr><td>e    </td><td> TRUE</td><td>FALSE</td><td>FALSE</td><td>FALSE</td><td>FALSE</td><td>FALSE</td><td>FALSE</td><td>FALSE</td><td> TRUE</td><td>...  </td><td>FALSE</td><td>FALSE</td><td>FALSE</td><td>FALSE</td><td>FALSE</td><td>FALSE</td><td> TRUE</td><td>FALSE</td><td>FALSE</td><td>FALSE</td></tr>\n",
       "\t<tr><td>p    </td><td>FALSE</td><td>FALSE</td><td>FALSE</td><td>FALSE</td><td>FALSE</td><td> TRUE</td><td>FALSE</td><td>FALSE</td><td>FALSE</td><td>...  </td><td> TRUE</td><td>FALSE</td><td>FALSE</td><td>FALSE</td><td>FALSE</td><td>FALSE</td><td>FALSE</td><td>FALSE</td><td> TRUE</td><td>FALSE</td></tr>\n",
       "\t<tr><td>e    </td><td>FALSE</td><td>FALSE</td><td>FALSE</td><td>FALSE</td><td>FALSE</td><td> TRUE</td><td>FALSE</td><td>FALSE</td><td> TRUE</td><td>...  </td><td>FALSE</td><td>FALSE</td><td>FALSE</td><td>FALSE</td><td> TRUE</td><td>FALSE</td><td>FALSE</td><td>FALSE</td><td>FALSE</td><td>FALSE</td></tr>\n",
       "\t<tr><td>e    </td><td>FALSE</td><td>FALSE</td><td>FALSE</td><td>FALSE</td><td>FALSE</td><td> TRUE</td><td>FALSE</td><td>FALSE</td><td>FALSE</td><td>...  </td><td>FALSE</td><td>FALSE</td><td>FALSE</td><td>FALSE</td><td> TRUE</td><td>FALSE</td><td>FALSE</td><td>FALSE</td><td>FALSE</td><td>FALSE</td></tr>\n",
       "</tbody>\n",
       "</table>\n"
      ],
      "text/latex": [
       "\\begin{tabular}{r|llllllllllllllllllllllllllllllllllllllllllllllllllllllllllllllllllllllllllllllllllllllllllllllllllllllllllllllllllllll}\n",
       " V1 & V2\\_1 & V2\\_2 & V2\\_3 & V2\\_4 & V2\\_5 & V2\\_6 & V3\\_1 & V3\\_2 & V3\\_3 & ... & V22\\_4 & V22\\_5 & V22\\_6 & V23\\_1 & V23\\_2 & V23\\_3 & V23\\_4 & V23\\_5 & V23\\_6 & V23\\_7\\\\\n",
       "\\hline\n",
       "\t p     & FALSE & FALSE & FALSE & FALSE & FALSE &  TRUE & FALSE & FALSE &  TRUE & ...   &  TRUE & FALSE & FALSE & FALSE & FALSE & FALSE & FALSE & FALSE &  TRUE & FALSE\\\\\n",
       "\t e     & FALSE & FALSE & FALSE & FALSE & FALSE &  TRUE & FALSE & FALSE &  TRUE & ...   & FALSE & FALSE & FALSE & FALSE &  TRUE & FALSE & FALSE & FALSE & FALSE & FALSE\\\\\n",
       "\t e     &  TRUE & FALSE & FALSE & FALSE & FALSE & FALSE & FALSE & FALSE &  TRUE & ...   & FALSE & FALSE & FALSE & FALSE & FALSE & FALSE &  TRUE & FALSE & FALSE & FALSE\\\\\n",
       "\t p     & FALSE & FALSE & FALSE & FALSE & FALSE &  TRUE & FALSE & FALSE & FALSE & ...   &  TRUE & FALSE & FALSE & FALSE & FALSE & FALSE & FALSE & FALSE &  TRUE & FALSE\\\\\n",
       "\t e     & FALSE & FALSE & FALSE & FALSE & FALSE &  TRUE & FALSE & FALSE &  TRUE & ...   & FALSE & FALSE & FALSE & FALSE &  TRUE & FALSE & FALSE & FALSE & FALSE & FALSE\\\\\n",
       "\t e     & FALSE & FALSE & FALSE & FALSE & FALSE &  TRUE & FALSE & FALSE & FALSE & ...   & FALSE & FALSE & FALSE & FALSE &  TRUE & FALSE & FALSE & FALSE & FALSE & FALSE\\\\\n",
       "\\end{tabular}\n"
      ],
      "text/markdown": [
       "\n",
       "| V1 | V2_1 | V2_2 | V2_3 | V2_4 | V2_5 | V2_6 | V3_1 | V3_2 | V3_3 | ... | V22_4 | V22_5 | V22_6 | V23_1 | V23_2 | V23_3 | V23_4 | V23_5 | V23_6 | V23_7 |\n",
       "|---|---|---|---|---|---|---|---|---|---|---|---|---|---|---|---|---|---|---|---|---|\n",
       "| p     | FALSE | FALSE | FALSE | FALSE | FALSE |  TRUE | FALSE | FALSE |  TRUE | ...   |  TRUE | FALSE | FALSE | FALSE | FALSE | FALSE | FALSE | FALSE |  TRUE | FALSE |\n",
       "| e     | FALSE | FALSE | FALSE | FALSE | FALSE |  TRUE | FALSE | FALSE |  TRUE | ...   | FALSE | FALSE | FALSE | FALSE |  TRUE | FALSE | FALSE | FALSE | FALSE | FALSE |\n",
       "| e     |  TRUE | FALSE | FALSE | FALSE | FALSE | FALSE | FALSE | FALSE |  TRUE | ...   | FALSE | FALSE | FALSE | FALSE | FALSE | FALSE |  TRUE | FALSE | FALSE | FALSE |\n",
       "| p     | FALSE | FALSE | FALSE | FALSE | FALSE |  TRUE | FALSE | FALSE | FALSE | ...   |  TRUE | FALSE | FALSE | FALSE | FALSE | FALSE | FALSE | FALSE |  TRUE | FALSE |\n",
       "| e     | FALSE | FALSE | FALSE | FALSE | FALSE |  TRUE | FALSE | FALSE |  TRUE | ...   | FALSE | FALSE | FALSE | FALSE |  TRUE | FALSE | FALSE | FALSE | FALSE | FALSE |\n",
       "| e     | FALSE | FALSE | FALSE | FALSE | FALSE |  TRUE | FALSE | FALSE | FALSE | ...   | FALSE | FALSE | FALSE | FALSE |  TRUE | FALSE | FALSE | FALSE | FALSE | FALSE |\n",
       "\n"
      ],
      "text/plain": [
       "  V1 V2_1  V2_2  V2_3  V2_4  V2_5  V2_6  V3_1  V3_2  V3_3  ... V22_4 V22_5\n",
       "1 p  FALSE FALSE FALSE FALSE FALSE  TRUE FALSE FALSE  TRUE ...  TRUE FALSE\n",
       "2 e  FALSE FALSE FALSE FALSE FALSE  TRUE FALSE FALSE  TRUE ... FALSE FALSE\n",
       "3 e   TRUE FALSE FALSE FALSE FALSE FALSE FALSE FALSE  TRUE ... FALSE FALSE\n",
       "4 p  FALSE FALSE FALSE FALSE FALSE  TRUE FALSE FALSE FALSE ...  TRUE FALSE\n",
       "5 e  FALSE FALSE FALSE FALSE FALSE  TRUE FALSE FALSE  TRUE ... FALSE FALSE\n",
       "6 e  FALSE FALSE FALSE FALSE FALSE  TRUE FALSE FALSE FALSE ... FALSE FALSE\n",
       "  V22_6 V23_1 V23_2 V23_3 V23_4 V23_5 V23_6 V23_7\n",
       "1 FALSE FALSE FALSE FALSE FALSE FALSE  TRUE FALSE\n",
       "2 FALSE FALSE  TRUE FALSE FALSE FALSE FALSE FALSE\n",
       "3 FALSE FALSE FALSE FALSE  TRUE FALSE FALSE FALSE\n",
       "4 FALSE FALSE FALSE FALSE FALSE FALSE  TRUE FALSE\n",
       "5 FALSE FALSE  TRUE FALSE FALSE FALSE FALSE FALSE\n",
       "6 FALSE FALSE  TRUE FALSE FALSE FALSE FALSE FALSE"
      ]
     },
     "metadata": {},
     "output_type": "display_data"
    }
   ],
   "source": [
    "count =2 # \n",
    "\n",
    "for(i in 2:23){\n",
    "    for(j in sort(unique(mr[,i]))){\n",
    "        \n",
    "        mr3 =cbind(mr3,mr[,i]==j)\n",
    "        colnames(mr3)[count]<- paste(\"V\",i,\"_\",j,sep=\"\")\n",
    "        count = count+1\n",
    "    }\n",
    "    \n",
    "    \n",
    "}\n",
    "\n",
    "head(mr3)"
   ]
  },
  {
   "cell_type": "code",
   "execution_count": 14,
   "id": "7503d9cc",
   "metadata": {},
   "outputs": [
    {
     "data": {
      "text/html": [
       "<table>\n",
       "<thead><tr><th scope=col>V1</th><th scope=col>V2_1</th><th scope=col>V2_2</th><th scope=col>V2_3</th><th scope=col>V2_4</th><th scope=col>V2_5</th><th scope=col>V2_6</th><th scope=col>V3_1</th><th scope=col>V3_2</th><th scope=col>V3_3</th><th scope=col>...</th><th scope=col>V22_4</th><th scope=col>V22_5</th><th scope=col>V22_6</th><th scope=col>V23_1</th><th scope=col>V23_2</th><th scope=col>V23_3</th><th scope=col>V23_4</th><th scope=col>V23_5</th><th scope=col>V23_6</th><th scope=col>V23_7</th></tr></thead>\n",
       "<tbody>\n",
       "\t<tr><td>e    </td><td>FALSE</td><td>FALSE</td><td>FALSE</td><td>FALSE</td><td>FALSE</td><td> TRUE</td><td>FALSE</td><td>FALSE</td><td> TRUE</td><td>...  </td><td>FALSE</td><td>FALSE</td><td>FALSE</td><td>FALSE</td><td> TRUE</td><td>FALSE</td><td>FALSE</td><td>FALSE</td><td>FALSE</td><td>FALSE</td></tr>\n",
       "\t<tr><td>e    </td><td> TRUE</td><td>FALSE</td><td>FALSE</td><td>FALSE</td><td>FALSE</td><td>FALSE</td><td>FALSE</td><td>FALSE</td><td> TRUE</td><td>...  </td><td>FALSE</td><td>FALSE</td><td>FALSE</td><td>FALSE</td><td>FALSE</td><td>FALSE</td><td> TRUE</td><td>FALSE</td><td>FALSE</td><td>FALSE</td></tr>\n",
       "\t<tr><td>e    </td><td>FALSE</td><td>FALSE</td><td>FALSE</td><td>FALSE</td><td>FALSE</td><td> TRUE</td><td>FALSE</td><td>FALSE</td><td> TRUE</td><td>...  </td><td>FALSE</td><td>FALSE</td><td>FALSE</td><td>FALSE</td><td> TRUE</td><td>FALSE</td><td>FALSE</td><td>FALSE</td><td>FALSE</td><td>FALSE</td></tr>\n",
       "\t<tr><td>e    </td><td>FALSE</td><td>FALSE</td><td>FALSE</td><td>FALSE</td><td>FALSE</td><td> TRUE</td><td>FALSE</td><td>FALSE</td><td>FALSE</td><td>...  </td><td>FALSE</td><td>FALSE</td><td>FALSE</td><td>FALSE</td><td> TRUE</td><td>FALSE</td><td>FALSE</td><td>FALSE</td><td>FALSE</td><td>FALSE</td></tr>\n",
       "\t<tr><td>e    </td><td> TRUE</td><td>FALSE</td><td>FALSE</td><td>FALSE</td><td>FALSE</td><td>FALSE</td><td>FALSE</td><td>FALSE</td><td> TRUE</td><td>...  </td><td>FALSE</td><td>FALSE</td><td>FALSE</td><td>FALSE</td><td>FALSE</td><td>FALSE</td><td> TRUE</td><td>FALSE</td><td>FALSE</td><td>FALSE</td></tr>\n",
       "\t<tr><td>e    </td><td> TRUE</td><td>FALSE</td><td>FALSE</td><td>FALSE</td><td>FALSE</td><td>FALSE</td><td>FALSE</td><td>FALSE</td><td>FALSE</td><td>...  </td><td> TRUE</td><td>FALSE</td><td>FALSE</td><td>FALSE</td><td>FALSE</td><td>FALSE</td><td> TRUE</td><td>FALSE</td><td>FALSE</td><td>FALSE</td></tr>\n",
       "</tbody>\n",
       "</table>\n"
      ],
      "text/latex": [
       "\\begin{tabular}{r|llllllllllllllllllllllllllllllllllllllllllllllllllllllllllllllllllllllllllllllllllllllllllllllllllllllllllllllllllllll}\n",
       " V1 & V2\\_1 & V2\\_2 & V2\\_3 & V2\\_4 & V2\\_5 & V2\\_6 & V3\\_1 & V3\\_2 & V3\\_3 & ... & V22\\_4 & V22\\_5 & V22\\_6 & V23\\_1 & V23\\_2 & V23\\_3 & V23\\_4 & V23\\_5 & V23\\_6 & V23\\_7\\\\\n",
       "\\hline\n",
       "\t e     & FALSE & FALSE & FALSE & FALSE & FALSE &  TRUE & FALSE & FALSE &  TRUE & ...   & FALSE & FALSE & FALSE & FALSE &  TRUE & FALSE & FALSE & FALSE & FALSE & FALSE\\\\\n",
       "\t e     &  TRUE & FALSE & FALSE & FALSE & FALSE & FALSE & FALSE & FALSE &  TRUE & ...   & FALSE & FALSE & FALSE & FALSE & FALSE & FALSE &  TRUE & FALSE & FALSE & FALSE\\\\\n",
       "\t e     & FALSE & FALSE & FALSE & FALSE & FALSE &  TRUE & FALSE & FALSE &  TRUE & ...   & FALSE & FALSE & FALSE & FALSE &  TRUE & FALSE & FALSE & FALSE & FALSE & FALSE\\\\\n",
       "\t e     & FALSE & FALSE & FALSE & FALSE & FALSE &  TRUE & FALSE & FALSE & FALSE & ...   & FALSE & FALSE & FALSE & FALSE &  TRUE & FALSE & FALSE & FALSE & FALSE & FALSE\\\\\n",
       "\t e     &  TRUE & FALSE & FALSE & FALSE & FALSE & FALSE & FALSE & FALSE &  TRUE & ...   & FALSE & FALSE & FALSE & FALSE & FALSE & FALSE &  TRUE & FALSE & FALSE & FALSE\\\\\n",
       "\t e     &  TRUE & FALSE & FALSE & FALSE & FALSE & FALSE & FALSE & FALSE & FALSE & ...   &  TRUE & FALSE & FALSE & FALSE & FALSE & FALSE &  TRUE & FALSE & FALSE & FALSE\\\\\n",
       "\\end{tabular}\n"
      ],
      "text/markdown": [
       "\n",
       "| V1 | V2_1 | V2_2 | V2_3 | V2_4 | V2_5 | V2_6 | V3_1 | V3_2 | V3_3 | ... | V22_4 | V22_5 | V22_6 | V23_1 | V23_2 | V23_3 | V23_4 | V23_5 | V23_6 | V23_7 |\n",
       "|---|---|---|---|---|---|---|---|---|---|---|---|---|---|---|---|---|---|---|---|---|\n",
       "| e     | FALSE | FALSE | FALSE | FALSE | FALSE |  TRUE | FALSE | FALSE |  TRUE | ...   | FALSE | FALSE | FALSE | FALSE |  TRUE | FALSE | FALSE | FALSE | FALSE | FALSE |\n",
       "| e     |  TRUE | FALSE | FALSE | FALSE | FALSE | FALSE | FALSE | FALSE |  TRUE | ...   | FALSE | FALSE | FALSE | FALSE | FALSE | FALSE |  TRUE | FALSE | FALSE | FALSE |\n",
       "| e     | FALSE | FALSE | FALSE | FALSE | FALSE |  TRUE | FALSE | FALSE |  TRUE | ...   | FALSE | FALSE | FALSE | FALSE |  TRUE | FALSE | FALSE | FALSE | FALSE | FALSE |\n",
       "| e     | FALSE | FALSE | FALSE | FALSE | FALSE |  TRUE | FALSE | FALSE | FALSE | ...   | FALSE | FALSE | FALSE | FALSE |  TRUE | FALSE | FALSE | FALSE | FALSE | FALSE |\n",
       "| e     |  TRUE | FALSE | FALSE | FALSE | FALSE | FALSE | FALSE | FALSE |  TRUE | ...   | FALSE | FALSE | FALSE | FALSE | FALSE | FALSE |  TRUE | FALSE | FALSE | FALSE |\n",
       "| e     |  TRUE | FALSE | FALSE | FALSE | FALSE | FALSE | FALSE | FALSE | FALSE | ...   |  TRUE | FALSE | FALSE | FALSE | FALSE | FALSE |  TRUE | FALSE | FALSE | FALSE |\n",
       "\n"
      ],
      "text/plain": [
       "  V1 V2_1  V2_2  V2_3  V2_4  V2_5  V2_6  V3_1  V3_2  V3_3  ... V22_4 V22_5\n",
       "1 e  FALSE FALSE FALSE FALSE FALSE  TRUE FALSE FALSE  TRUE ... FALSE FALSE\n",
       "2 e   TRUE FALSE FALSE FALSE FALSE FALSE FALSE FALSE  TRUE ... FALSE FALSE\n",
       "3 e  FALSE FALSE FALSE FALSE FALSE  TRUE FALSE FALSE  TRUE ... FALSE FALSE\n",
       "4 e  FALSE FALSE FALSE FALSE FALSE  TRUE FALSE FALSE FALSE ... FALSE FALSE\n",
       "5 e   TRUE FALSE FALSE FALSE FALSE FALSE FALSE FALSE  TRUE ... FALSE FALSE\n",
       "6 e   TRUE FALSE FALSE FALSE FALSE FALSE FALSE FALSE FALSE ...  TRUE FALSE\n",
       "  V22_6 V23_1 V23_2 V23_3 V23_4 V23_5 V23_6 V23_7\n",
       "1 FALSE FALSE  TRUE FALSE FALSE FALSE FALSE FALSE\n",
       "2 FALSE FALSE FALSE FALSE  TRUE FALSE FALSE FALSE\n",
       "3 FALSE FALSE  TRUE FALSE FALSE FALSE FALSE FALSE\n",
       "4 FALSE FALSE  TRUE FALSE FALSE FALSE FALSE FALSE\n",
       "5 FALSE FALSE FALSE FALSE  TRUE FALSE FALSE FALSE\n",
       "6 FALSE FALSE FALSE FALSE  TRUE FALSE FALSE FALSE"
      ]
     },
     "metadata": {},
     "output_type": "display_data"
    },
    {
     "name": "stderr",
     "output_type": "stream",
     "text": [
      "Loading required package: lattice\n",
      "Loading required package: ggplot2\n",
      "Registered S3 methods overwritten by 'ggplot2':\n",
      "  method         from \n",
      "  [.quosures     rlang\n",
      "  c.quosures     rlang\n",
      "  print.quosures rlang\n"
     ]
    },
    {
     "name": "stdout",
     "output_type": "stream",
     "text": [
      "'data.frame':\t8124 obs. of  118 variables:\n",
      " $ V1    : Factor w/ 2 levels \"e\",\"p\": 1 1 1 1 1 1 1 1 1 1 ...\n",
      " $ V2_1  : logi  FALSE TRUE FALSE FALSE TRUE TRUE ...\n",
      " $ V2_2  : logi  FALSE FALSE FALSE FALSE FALSE FALSE ...\n",
      " $ V2_3  : logi  FALSE FALSE FALSE FALSE FALSE FALSE ...\n",
      " $ V2_4  : logi  FALSE FALSE FALSE FALSE FALSE FALSE ...\n",
      " $ V2_5  : logi  FALSE FALSE FALSE FALSE FALSE FALSE ...\n",
      " $ V2_6  : logi  TRUE FALSE TRUE TRUE FALSE FALSE ...\n",
      " $ V3_1  : logi  FALSE FALSE FALSE FALSE FALSE FALSE ...\n",
      " $ V3_2  : logi  FALSE FALSE FALSE FALSE FALSE FALSE ...\n",
      " $ V3_3  : logi  TRUE TRUE TRUE FALSE TRUE FALSE ...\n",
      " $ V3_4  : logi  FALSE FALSE FALSE TRUE FALSE TRUE ...\n",
      " $ V4_1  : logi  FALSE FALSE FALSE FALSE FALSE FALSE ...\n",
      " $ V4_2  : logi  FALSE FALSE FALSE FALSE FALSE FALSE ...\n",
      " $ V4_3  : logi  FALSE FALSE FALSE FALSE FALSE FALSE ...\n",
      " $ V4_4  : logi  FALSE FALSE TRUE FALSE FALSE FALSE ...\n",
      " $ V4_5  : logi  FALSE FALSE FALSE FALSE FALSE FALSE ...\n",
      " $ V4_6  : logi  FALSE FALSE FALSE FALSE FALSE FALSE ...\n",
      " $ V4_7  : logi  FALSE FALSE FALSE FALSE FALSE FALSE ...\n",
      " $ V4_8  : logi  FALSE FALSE FALSE FALSE FALSE FALSE ...\n",
      " $ V4_9  : logi  FALSE TRUE FALSE FALSE TRUE TRUE ...\n",
      " $ V4_10 : logi  TRUE FALSE FALSE TRUE FALSE FALSE ...\n",
      " $ V5_1  : logi  FALSE FALSE TRUE FALSE FALSE FALSE ...\n",
      " $ V5_2  : logi  TRUE TRUE FALSE TRUE TRUE TRUE ...\n",
      " $ V6_1  : logi  TRUE FALSE FALSE TRUE TRUE FALSE ...\n",
      " $ V6_2  : logi  FALSE FALSE FALSE FALSE FALSE FALSE ...\n",
      " $ V6_3  : logi  FALSE FALSE FALSE FALSE FALSE FALSE ...\n",
      " $ V6_4  : logi  FALSE TRUE FALSE FALSE FALSE TRUE ...\n",
      " $ V6_5  : logi  FALSE FALSE FALSE FALSE FALSE FALSE ...\n",
      " $ V6_6  : logi  FALSE FALSE TRUE FALSE FALSE FALSE ...\n",
      " $ V6_7  : logi  FALSE FALSE FALSE FALSE FALSE FALSE ...\n",
      " $ V6_8  : logi  FALSE FALSE FALSE FALSE FALSE FALSE ...\n",
      " $ V6_9  : logi  FALSE FALSE FALSE FALSE FALSE FALSE ...\n",
      " $ V7_1  : logi  FALSE FALSE FALSE FALSE FALSE FALSE ...\n",
      " $ V7_2  : logi  TRUE TRUE TRUE TRUE TRUE TRUE ...\n",
      " $ V8_1  : logi  TRUE TRUE FALSE TRUE TRUE TRUE ...\n",
      " $ V8_2  : logi  FALSE FALSE TRUE FALSE FALSE FALSE ...\n",
      " $ V9_1  : logi  TRUE TRUE TRUE TRUE TRUE TRUE ...\n",
      " $ V9_2  : logi  FALSE FALSE FALSE FALSE FALSE FALSE ...\n",
      " $ V10_1 : logi  FALSE FALSE FALSE FALSE FALSE FALSE ...\n",
      " $ V10_2 : logi  FALSE FALSE FALSE FALSE FALSE FALSE ...\n",
      " $ V10_3 : logi  FALSE FALSE FALSE FALSE TRUE FALSE ...\n",
      " $ V10_4 : logi  FALSE FALSE FALSE FALSE FALSE FALSE ...\n",
      " $ V10_5 : logi  TRUE FALSE TRUE FALSE FALSE FALSE ...\n",
      " $ V10_6 : logi  FALSE TRUE FALSE TRUE FALSE TRUE ...\n",
      " $ V10_7 : logi  FALSE FALSE FALSE FALSE FALSE FALSE ...\n",
      " $ V10_8 : logi  FALSE FALSE FALSE FALSE FALSE FALSE ...\n",
      " $ V10_9 : logi  FALSE FALSE FALSE FALSE FALSE FALSE ...\n",
      " $ V10_10: logi  FALSE FALSE FALSE FALSE FALSE FALSE ...\n",
      " $ V10_11: logi  FALSE FALSE FALSE FALSE FALSE FALSE ...\n",
      " $ V10_12: logi  FALSE FALSE FALSE FALSE FALSE FALSE ...\n",
      " $ V11_1 : logi  TRUE TRUE FALSE TRUE TRUE TRUE ...\n",
      " $ V11_2 : logi  FALSE FALSE TRUE FALSE FALSE FALSE ...\n",
      " $ V12_1 : logi  FALSE FALSE FALSE FALSE FALSE FALSE ...\n",
      " $ V12_2 : logi  FALSE FALSE FALSE FALSE FALSE FALSE ...\n",
      " $ V12_3 : logi  TRUE TRUE FALSE TRUE TRUE TRUE ...\n",
      " $ V12_4 : logi  FALSE FALSE TRUE FALSE FALSE FALSE ...\n",
      " $ V12_5 : logi  FALSE FALSE FALSE FALSE FALSE FALSE ...\n",
      " $ V13_1 : logi  FALSE FALSE FALSE FALSE FALSE FALSE ...\n",
      " $ V13_2 : logi  FALSE FALSE FALSE FALSE FALSE FALSE ...\n",
      " $ V13_3 : logi  TRUE TRUE TRUE TRUE TRUE TRUE ...\n",
      " $ V13_4 : logi  FALSE FALSE FALSE FALSE FALSE FALSE ...\n",
      " $ V14_1 : logi  FALSE FALSE FALSE FALSE FALSE FALSE ...\n",
      " $ V14_2 : logi  FALSE FALSE FALSE FALSE FALSE FALSE ...\n",
      " $ V14_3 : logi  TRUE TRUE TRUE TRUE TRUE TRUE ...\n",
      " $ V14_4 : logi  FALSE FALSE FALSE FALSE FALSE FALSE ...\n",
      " $ V15_1 : logi  FALSE FALSE FALSE FALSE FALSE FALSE ...\n",
      " $ V15_2 : logi  FALSE FALSE FALSE FALSE FALSE FALSE ...\n",
      " $ V15_3 : logi  FALSE FALSE FALSE FALSE FALSE FALSE ...\n",
      " $ V15_4 : logi  FALSE FALSE FALSE FALSE FALSE FALSE ...\n",
      " $ V15_5 : logi  FALSE FALSE FALSE FALSE FALSE FALSE ...\n",
      " $ V15_6 : logi  FALSE FALSE FALSE FALSE FALSE FALSE ...\n",
      " $ V15_7 : logi  FALSE FALSE FALSE FALSE FALSE FALSE ...\n",
      " $ V15_8 : logi  TRUE TRUE TRUE TRUE TRUE TRUE ...\n",
      " $ V15_9 : logi  FALSE FALSE FALSE FALSE FALSE FALSE ...\n",
      " $ V16_1 : logi  FALSE FALSE FALSE FALSE FALSE FALSE ...\n",
      " $ V16_2 : logi  FALSE FALSE FALSE FALSE FALSE FALSE ...\n",
      " $ V16_3 : logi  FALSE FALSE FALSE FALSE FALSE FALSE ...\n",
      " $ V16_4 : logi  FALSE FALSE FALSE FALSE FALSE FALSE ...\n",
      " $ V16_5 : logi  FALSE FALSE FALSE FALSE FALSE FALSE ...\n",
      " $ V16_6 : logi  FALSE FALSE FALSE FALSE FALSE FALSE ...\n",
      " $ V16_7 : logi  FALSE FALSE FALSE FALSE FALSE FALSE ...\n",
      " $ V16_8 : logi  TRUE TRUE TRUE TRUE TRUE TRUE ...\n",
      " $ V16_9 : logi  FALSE FALSE FALSE FALSE FALSE FALSE ...\n",
      " $ V17_1 : logi  TRUE TRUE TRUE TRUE TRUE TRUE ...\n",
      " $ V18_1 : logi  FALSE FALSE FALSE FALSE FALSE FALSE ...\n",
      " $ V18_2 : logi  FALSE FALSE FALSE FALSE FALSE FALSE ...\n",
      " $ V18_3 : logi  TRUE TRUE TRUE TRUE TRUE TRUE ...\n",
      " $ V18_4 : logi  FALSE FALSE FALSE FALSE FALSE FALSE ...\n",
      " $ V19_1 : logi  FALSE FALSE FALSE FALSE FALSE FALSE ...\n",
      " $ V19_2 : logi  TRUE TRUE TRUE TRUE TRUE TRUE ...\n",
      " $ V19_3 : logi  FALSE FALSE FALSE FALSE FALSE FALSE ...\n",
      " $ V20_1 : logi  FALSE FALSE TRUE FALSE FALSE FALSE ...\n",
      " $ V20_2 : logi  FALSE FALSE FALSE FALSE FALSE FALSE ...\n",
      " $ V20_3 : logi  FALSE FALSE FALSE FALSE FALSE FALSE ...\n",
      " $ V20_4 : logi  FALSE FALSE FALSE FALSE FALSE FALSE ...\n",
      " $ V20_5 : logi  TRUE TRUE FALSE TRUE TRUE TRUE ...\n",
      " $ V21_1 : logi  FALSE FALSE FALSE FALSE FALSE FALSE ...\n",
      " $ V21_2 : logi  FALSE FALSE FALSE FALSE FALSE FALSE ...\n",
      " $ V21_3 : logi  FALSE FALSE FALSE TRUE TRUE FALSE ...\n",
      "  [list output truncated]\n"
     ]
    },
    {
     "data": {
      "text/html": [
       "8124"
      ],
      "text/latex": [
       "8124"
      ],
      "text/markdown": [
       "8124"
      ],
      "text/plain": [
       "[1] 8124"
      ]
     },
     "metadata": {},
     "output_type": "display_data"
    }
   ],
   "source": [
    "mr4 <-arrange(mr3,V1)\n",
    "head(mr4)\n",
    "library(caret)\n",
    "str(mr4)\n",
    "nrow(mr4)"
   ]
  },
  {
   "cell_type": "code",
   "execution_count": 28,
   "id": "6b559263",
   "metadata": {},
   "outputs": [],
   "source": [
    "#샘플링\n",
    "set.seed(1234)\n",
    "samp <- createDataPartition(mr4$V1,p=0.7,list=F)\n",
    "data.tr <-mr4[samp,]\n",
    "data.test<-mr4[-samp,]\n",
    "x <- subset(data.test,select=-V1)\n",
    "y <- data.test$V1\n"
   ]
  },
  {
   "cell_type": "code",
   "execution_count": 29,
   "id": "595113ce",
   "metadata": {},
   "outputs": [
    {
     "name": "stdout",
     "output_type": "stream",
     "text": [
      "# weights:  358\n",
      "initial  value 4090.551841 \n",
      "iter  10 value 1590.897101\n",
      "iter  20 value 105.370936\n",
      "iter  30 value 68.140523\n",
      "iter  40 value 66.978599\n",
      "iter  50 value 66.891621\n",
      "iter  60 value 66.878507\n",
      "iter  70 value 66.875364\n",
      "iter  80 value 66.874755\n",
      "iter  90 value 66.873352\n",
      "final  value 66.873179 \n",
      "converged\n"
     ]
    },
    {
     "data": {
      "text/html": [
       "0.997536945812808"
      ],
      "text/latex": [
       "0.997536945812808"
      ],
      "text/markdown": [
       "0.997536945812808"
      ],
      "text/plain": [
       "[1] 0.9975369"
      ]
     },
     "metadata": {},
     "output_type": "display_data"
    },
    {
     "data": {
      "text/plain": [
       "    y\n",
       "pred    e    p\n",
       "   e 1262    6\n",
       "   p    0 1168"
      ]
     },
     "metadata": {},
     "output_type": "display_data"
    }
   ],
   "source": [
    "# 인공신경망 함수 \n",
    "\n",
    "    library(nnet)\n",
    "    model.nnet =nnet(V1 ~ ., data=data.tr, size=3)\n",
    "    pred=predict(model.nnet,x, type=\"class\")\n",
    "    mean(pred == y)\n",
    "     table(pred,y)"
   ]
  },
  {
   "cell_type": "code",
   "execution_count": 30,
   "id": "2adc119d",
   "metadata": {},
   "outputs": [
    {
     "data": {
      "text/html": [
       "0.999178981937603"
      ],
      "text/latex": [
       "0.999178981937603"
      ],
      "text/markdown": [
       "0.999178981937603"
      ],
      "text/plain": [
       "[1] 0.999179"
      ]
     },
     "metadata": {},
     "output_type": "display_data"
    },
    {
     "data": {
      "text/plain": [
       "    y\n",
       "pred    e    p\n",
       "   e 1262    2\n",
       "   p    0 1172"
      ]
     },
     "metadata": {},
     "output_type": "display_data"
    }
   ],
   "source": [
    "#의사결정나무 \n",
    "  library(party)\n",
    "    model.ctree <- ctree(V1~.,data=data.tr)\n",
    "    pred <- predict(model.ctree,x)\n",
    "       mean(pred == y)\n",
    "     table(pred,y)"
   ]
  },
  {
   "cell_type": "code",
   "execution_count": 31,
   "id": "7686008b",
   "metadata": {},
   "outputs": [
    {
     "data": {
      "text/html": [
       "1"
      ],
      "text/latex": [
       "1"
      ],
      "text/markdown": [
       "1"
      ],
      "text/plain": [
       "[1] 1"
      ]
     },
     "metadata": {},
     "output_type": "display_data"
    },
    {
     "data": {
      "text/plain": [
       "    y\n",
       "pred    e    p\n",
       "   e 1262    0\n",
       "   p    0 1174"
      ]
     },
     "metadata": {},
     "output_type": "display_data"
    }
   ],
   "source": [
    "# randomforest\n",
    "library(randomForest)\n",
    "    model.rf <- randomForest(V1~., data = data.tr, ntree=100)\n",
    "    pred <- predict(model.rf, x) \n",
    "    mean(pred == y)\n",
    "     table(pred,y)"
   ]
  },
  {
   "cell_type": "code",
   "execution_count": 33,
   "id": "864206f8",
   "metadata": {},
   "outputs": [
    {
     "data": {
      "text/html": [
       "0.997536945812808"
      ],
      "text/latex": [
       "0.997536945812808"
      ],
      "text/markdown": [
       "0.997536945812808"
      ],
      "text/plain": [
       "[1] 0.9975369"
      ]
     },
     "metadata": {},
     "output_type": "display_data"
    },
    {
     "data": {
      "text/plain": [
       "    y\n",
       "pred    e    p\n",
       "   e 1262    6\n",
       "   p    0 1168"
      ]
     },
     "metadata": {},
     "output_type": "display_data"
    }
   ],
   "source": [
    "# svm\n",
    " library(e1071)\n",
    "    library(caret)\n",
    "\n",
    "    \n",
    "    model.svm <- svm(V1~.,data=data.tr)\n",
    "    pred <- predict(model.svm,x, type=\"class\")\n",
    " mean(pred == y)\n",
    "     table(pred,y)"
   ]
  },
  {
   "cell_type": "code",
   "execution_count": null,
   "id": "2e2d41b1",
   "metadata": {},
   "outputs": [],
   "source": []
  }
 ],
 "metadata": {
  "kernelspec": {
   "display_name": "R",
   "language": "R",
   "name": "ir"
  },
  "language_info": {
   "codemirror_mode": "r",
   "file_extension": ".r",
   "mimetype": "text/x-r-source",
   "name": "R",
   "pygments_lexer": "r",
   "version": "3.6.1"
  }
 },
 "nbformat": 4,
 "nbformat_minor": 5
}
