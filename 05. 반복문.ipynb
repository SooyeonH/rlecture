{
 "cells": [
  {
   "cell_type": "markdown",
   "id": "86f7aa03",
   "metadata": {},
   "source": [
    "## for문"
   ]
  },
  {
   "cell_type": "code",
   "execution_count": 4,
   "id": "3fb5b4ad",
   "metadata": {},
   "outputs": [
    {
     "name": "stdout",
     "output_type": "stream",
     "text": [
      "[1] 1\n",
      "[1] 2\n",
      "[1] 3\n",
      "[1] 4\n",
      "[1] 5\n",
      "[1] 6\n",
      "[1] 7\n",
      "[1] 8\n",
      "[1] 9\n",
      "[1] 10\n"
     ]
    }
   ],
   "source": [
    "# 1-10까지의 숫자 출력\n",
    "\n",
    "for(i in 1:10){\n",
    "   print(i)\n",
    "}\n"
   ]
  },
  {
   "cell_type": "code",
   "execution_count": 5,
   "id": "b3bfc414",
   "metadata": {},
   "outputs": [
    {
     "name": "stdout",
     "output_type": "stream",
     "text": [
      "[1] 1\n",
      "[1] 3\n",
      "[1] 5\n"
     ]
    }
   ],
   "source": [
    "for(i in c(1,3,5)){\n",
    "    print(i)\n",
    "}"
   ]
  },
  {
   "cell_type": "code",
   "execution_count": 6,
   "id": "ef11ac6e",
   "metadata": {},
   "outputs": [
    {
     "name": "stdout",
     "output_type": "stream",
     "text": [
      "[1] 1\n",
      "[1] 3\n",
      "[1] 5\n",
      "[1] 7\n",
      "[1] 9\n"
     ]
    }
   ],
   "source": [
    "for(i in seq(1,10,2)){\n",
    "    print(i)\n",
    "}"
   ]
  },
  {
   "cell_type": "code",
   "execution_count": 8,
   "id": "6a43d9df",
   "metadata": {},
   "outputs": [
    {
     "name": "stdout",
     "output_type": "stream",
     "text": [
      "[1] 1\n",
      "[1] 1.414214\n",
      "[1] 1.732051\n",
      "[1] 2\n",
      "[1] 2.236068\n",
      "[1] 2.44949\n",
      "[1] 2.645751\n",
      "[1] 2.828427\n",
      "[1] 3\n",
      "[1] 3.162278\n"
     ]
    }
   ],
   "source": [
    "# 1-10까지의 제곱근 구하기\n",
    "for(i in 1:10){\n",
    "print(sqrt(i))}"
   ]
  },
  {
   "cell_type": "code",
   "execution_count": 13,
   "id": "1c440312",
   "metadata": {},
   "outputs": [
    {
     "name": "stdout",
     "output_type": "stream",
     "text": [
      "1 => 1 \n",
      "2 => 1.414214 \n",
      "3 => 1.732051 \n",
      "4 => 2 \n",
      "5 => 2.236068 \n",
      "6 => 2.44949 \n",
      "7 => 2.645751 \n",
      "8 => 2.828427 \n",
      "9 => 3 \n",
      "10 => 3.162278 \n"
     ]
    }
   ],
   "source": [
    "for(i in 1:10){\n",
    "    cat(i,\"=>\",sqrt(i),\"\\n\")\n",
    "}"
   ]
  },
  {
   "cell_type": "code",
   "execution_count": 16,
   "id": "fe8dac90",
   "metadata": {},
   "outputs": [
    {
     "name": "stdout",
     "output_type": "stream",
     "text": [
      "1 => 1 \n",
      "2 => 1.4142135623731 \n",
      "3 => 1.73205080756888 \n",
      "4 => 2 \n",
      "5 => 2.23606797749979 \n",
      "6 => 2.44948974278318 \n",
      "7 => 2.64575131106459 \n",
      "8 => 2.82842712474619 \n",
      "9 => 3 \n",
      "10 => 3.16227766016838 \n"
     ]
    }
   ],
   "source": [
    "for(i in 1:10){\n",
    "    cat(paste(i,\"=>\",sqrt(i)),\"\\n\")\n",
    "}   \n",
    "#paste로 묶어서 cat으로 출력하면 더 정확한 숫자가 나옴 "
   ]
  },
  {
   "cell_type": "code",
   "execution_count": 48,
   "id": "92a09885",
   "metadata": {},
   "outputs": [
    {
     "name": "stdout",
     "output_type": "stream",
     "text": [
      "홀수의 합은 604 이고, 짝수의 합은 852 이다."
     ]
    }
   ],
   "source": [
    "# excel에서 q3 컬럼 데이터의 홀수의 합과 짝수의 합 구하기\n",
    "\n",
    "# '홀수의 합은 604이고 짝수의 합은 852 입니다'\n",
    "\n",
    "excel <- read.csv(\"../Data/excel.csv\")\n",
    "\n",
    "sum1 <-0\n",
    "sum2 <-0\n",
    "\n",
    "\n",
    "for(i in excel$q3){\n",
    "\n",
    "if(i%%2 ==0){\n",
    "    sum1 = sum1+i\n",
    "}else{\n",
    "    sum2 = sum2+i\n",
    "}\n",
    "} \n",
    "cat(\"홀수의 합은\",sum2,\"이고, 짝수의 합은\",sum1,\"이다.\")"
   ]
  },
  {
   "cell_type": "code",
   "execution_count": 52,
   "id": "37f1d43d",
   "metadata": {},
   "outputs": [
    {
     "name": "stdout",
     "output_type": "stream",
     "text": [
      "q3 컬럼의 3의 배수의 합은 216 입니다."
     ]
    }
   ],
   "source": [
    "# excel에서 q3 컬럼의 데이터 중 3의 배수의 합계 구하기\n",
    "\n",
    "sum <- 0\n",
    "for(i in excel$q3){\n",
    "  if(i%%3==0){\n",
    "      \n",
    "      sum=sum+i\n",
    "  } \n",
    "}\n",
    "cat(\"q3 컬럼의 3의 배수의 합은\",sum,\"입니다.\")"
   ]
  },
  {
   "cell_type": "code",
   "execution_count": 56,
   "id": "23c8f7dd",
   "metadata": {},
   "outputs": [
    {
     "name": "stdout",
     "output_type": "stream",
     "text": [
      "q3 컬럼의 3의 배수도 되고 4의 배수도 되는 수의 합은 0 입니다."
     ]
    }
   ],
   "source": [
    "# excel q3 컬럼 데이터 중 3의 배수도 되고 4의 배수도 되는 수의 합계를 구하시오 \n",
    "\n",
    "sum4 <- 0\n",
    "for(i in excel$q3){\n",
    "  if(i%%3==0 & i%%4==0){\n",
    "      \n",
    "      sum4=sum4+i\n",
    "  } \n",
    "}\n",
    "cat(\"q3 컬럼의 3의 배수도 되고 4의 배수도 되는 수의 합은\",sum4,\"입니다.\")"
   ]
  },
  {
   "cell_type": "code",
   "execution_count": 58,
   "id": "ab3f97ab",
   "metadata": {},
   "outputs": [
    {
     "name": "stdout",
     "output_type": "stream",
     "text": [
      "2 X 1 = 2 \n",
      "2 X 2 = 4 \n",
      "2 X 3 = 6 \n",
      "2 X 4 = 8 \n",
      "2 X 5 = 10 \n",
      "2 X 6 = 12 \n",
      "2 X 7 = 14 \n",
      "2 X 8 = 16 \n",
      "2 X 9 = 18 \n"
     ]
    }
   ],
   "source": [
    "# 구구단 2단 출력하기\n",
    "\n",
    "for(i in 1:9){\n",
    "    \n",
    "    cat(2,\"X\",i,\"=\",2*i,\"\\n\")\n",
    "}"
   ]
  },
  {
   "cell_type": "code",
   "execution_count": 62,
   "id": "2baa80d8",
   "metadata": {},
   "outputs": [
    {
     "name": "stdout",
     "output_type": "stream",
     "text": [
      "단을 입력하세요!5\n",
      "5 X 1 = 5 \n",
      "5 X 2 = 10 \n",
      "5 X 3 = 15 \n",
      "5 X 4 = 20 \n",
      "5 X 5 = 25 \n",
      "5 X 6 = 30 \n",
      "5 X 7 = 35 \n",
      "5 X 8 = 40 \n",
      "5 X 9 = 45 \n"
     ]
    }
   ],
   "source": [
    "dan <- as.numeric(readline(\"단을 입력하세요!\"))\n",
    "\n",
    "for(i in 1:9){\n",
    "    \n",
    "    cat(dan,\"X\",i,\"=\",(dan*i),\"\\n\")\n",
    "}"
   ]
  },
  {
   "cell_type": "code",
   "execution_count": 65,
   "id": "3205999e",
   "metadata": {},
   "outputs": [],
   "source": [
    "# 구구단 함수 만들기 -1\n",
    "\n",
    "gugu <- function(){\n",
    "    dan <- as.numeric(readline(\"단을 입력하세요!\"))\n",
    "\n",
    "    for(i in 1:9){\n",
    "    \n",
    "    cat(dan,\"X\",i,\"=\",(dan*i),\"\\n\")\n",
    "    }\n",
    "}\n",
    "\n"
   ]
  },
  {
   "cell_type": "code",
   "execution_count": 66,
   "id": "9142d880",
   "metadata": {},
   "outputs": [
    {
     "name": "stdout",
     "output_type": "stream",
     "text": [
      "단을 입력하세요!4\n",
      "4 X 1 = 4 \n",
      "4 X 2 = 8 \n",
      "4 X 3 = 12 \n",
      "4 X 4 = 16 \n",
      "4 X 5 = 20 \n",
      "4 X 6 = 24 \n",
      "4 X 7 = 28 \n",
      "4 X 8 = 32 \n",
      "4 X 9 = 36 \n"
     ]
    }
   ],
   "source": [
    "gugu()"
   ]
  },
  {
   "cell_type": "code",
   "execution_count": 68,
   "id": "2d97322e",
   "metadata": {},
   "outputs": [],
   "source": [
    "# 구구단 함수 만들기 -2\n",
    "gugu <- function(x){\n",
    "    for(i in 1:9){\n",
    "        cat(x,\"X\",i,\"=\",x*i,\"\\n\")\n",
    "    }\n",
    "    \n",
    "}"
   ]
  },
  {
   "cell_type": "code",
   "execution_count": 70,
   "id": "9de13e6a",
   "metadata": {},
   "outputs": [
    {
     "name": "stdout",
     "output_type": "stream",
     "text": [
      "5 X 1 = 5 \n",
      "5 X 2 = 10 \n",
      "5 X 3 = 15 \n",
      "5 X 4 = 20 \n",
      "5 X 5 = 25 \n",
      "5 X 6 = 30 \n",
      "5 X 7 = 35 \n",
      "5 X 8 = 40 \n",
      "5 X 9 = 45 \n"
     ]
    }
   ],
   "source": [
    "gugu(5)"
   ]
  },
  {
   "cell_type": "code",
   "execution_count": 71,
   "id": "164da73a",
   "metadata": {},
   "outputs": [],
   "source": [
    "# 구구단 함수 만들기 -3\n",
    "\n",
    "gugu <-function(x,y){\n",
    "    for(i in 1:y){\n",
    "        cat(x,\"X\",i,\"=\",x*i,\"\\n\")\n",
    "    }\n",
    "}"
   ]
  },
  {
   "cell_type": "code",
   "execution_count": 72,
   "id": "99365ba1",
   "metadata": {},
   "outputs": [
    {
     "name": "stdout",
     "output_type": "stream",
     "text": [
      "2 X 1 = 2 \n",
      "2 X 2 = 4 \n",
      "2 X 3 = 6 \n",
      "2 X 4 = 8 \n",
      "2 X 5 = 10 \n",
      "2 X 6 = 12 \n",
      "2 X 7 = 14 \n",
      "2 X 8 = 16 \n",
      "2 X 9 = 18 \n",
      "2 X 10 = 20 \n",
      "2 X 11 = 22 \n",
      "2 X 12 = 24 \n"
     ]
    }
   ],
   "source": [
    "gugu(2,12)"
   ]
  },
  {
   "cell_type": "code",
   "execution_count": 77,
   "id": "6f07a665",
   "metadata": {},
   "outputs": [
    {
     "name": "stdout",
     "output_type": "stream",
     "text": [
      "2 X 1 = 2 \n",
      "2 X 2 = 4 \n",
      "2 X 3 = 6 \n",
      "2 X 4 = 8 \n",
      "2 X 5 = 10 \n",
      "2 X 6 = 12 \n",
      "2 X 7 = 14 \n",
      "2 X 8 = 16 \n",
      "2 X 9 = 18 \n",
      "-----------------\n",
      "3 X 1 = 3 \n",
      "3 X 2 = 6 \n",
      "3 X 3 = 9 \n",
      "3 X 4 = 12 \n",
      "3 X 5 = 15 \n",
      "3 X 6 = 18 \n",
      "3 X 7 = 21 \n",
      "3 X 8 = 24 \n",
      "3 X 9 = 27 \n",
      "-----------------\n",
      "4 X 1 = 4 \n",
      "4 X 2 = 8 \n",
      "4 X 3 = 12 \n",
      "4 X 4 = 16 \n",
      "4 X 5 = 20 \n",
      "4 X 6 = 24 \n",
      "4 X 7 = 28 \n",
      "4 X 8 = 32 \n",
      "4 X 9 = 36 \n",
      "-----------------\n",
      "5 X 1 = 5 \n",
      "5 X 2 = 10 \n",
      "5 X 3 = 15 \n",
      "5 X 4 = 20 \n",
      "5 X 5 = 25 \n",
      "5 X 6 = 30 \n",
      "5 X 7 = 35 \n",
      "5 X 8 = 40 \n",
      "5 X 9 = 45 \n",
      "-----------------\n",
      "6 X 1 = 6 \n",
      "6 X 2 = 12 \n",
      "6 X 3 = 18 \n",
      "6 X 4 = 24 \n",
      "6 X 5 = 30 \n",
      "6 X 6 = 36 \n",
      "6 X 7 = 42 \n",
      "6 X 8 = 48 \n",
      "6 X 9 = 54 \n",
      "-----------------\n",
      "7 X 1 = 7 \n",
      "7 X 2 = 14 \n",
      "7 X 3 = 21 \n",
      "7 X 4 = 28 \n",
      "7 X 5 = 35 \n",
      "7 X 6 = 42 \n",
      "7 X 7 = 49 \n",
      "7 X 8 = 56 \n",
      "7 X 9 = 63 \n",
      "-----------------\n",
      "8 X 1 = 8 \n",
      "8 X 2 = 16 \n",
      "8 X 3 = 24 \n",
      "8 X 4 = 32 \n",
      "8 X 5 = 40 \n",
      "8 X 6 = 48 \n",
      "8 X 7 = 56 \n",
      "8 X 8 = 64 \n",
      "8 X 9 = 72 \n",
      "-----------------\n",
      "9 X 1 = 9 \n",
      "9 X 2 = 18 \n",
      "9 X 3 = 27 \n",
      "9 X 4 = 36 \n",
      "9 X 5 = 45 \n",
      "9 X 6 = 54 \n",
      "9 X 7 = 63 \n",
      "9 X 8 = 72 \n",
      "9 X 9 = 81 \n",
      "-----------------\n"
     ]
    }
   ],
   "source": [
    "# 구구단 전체 출력하기\n",
    "\n",
    "for(i in 2:9){\n",
    "    for(j in 1:9){\n",
    "        cat(i,\"X\",j,\"=\",i*j,\"\\n\")\n",
    "    }\n",
    "    cat(\"-----------------\\n\")\n",
    "}"
   ]
  },
  {
   "cell_type": "code",
   "execution_count": 83,
   "id": "350b77e4",
   "metadata": {},
   "outputs": [
    {
     "name": "stdout",
     "output_type": "stream",
     "text": [
      "2 X 2 = 4 \n",
      "2 X 4 = 8 \n",
      "2 X 6 = 12 \n",
      "2 X 8 = 16 \n",
      "-----------------\n",
      "4 X 2 = 8 \n",
      "4 X 4 = 16 \n",
      "4 X 6 = 24 \n",
      "4 X 8 = 32 \n",
      "-----------------\n",
      "6 X 2 = 12 \n",
      "6 X 4 = 24 \n",
      "6 X 6 = 36 \n",
      "6 X 8 = 48 \n",
      "-----------------\n",
      "8 X 2 = 16 \n",
      "8 X 4 = 32 \n",
      "8 X 6 = 48 \n",
      "8 X 8 = 64 \n",
      "-----------------\n"
     ]
    }
   ],
   "source": [
    "for(i in seq(2,9,2)){\n",
    "    for(j in seq(2,9,2)){\n",
    "      \n",
    "           cat(i,\"X\",j,\"=\",i*j,\"\\n\")\n",
    "    \n",
    "        }\n",
    "    \n",
    "          cat(\"-----------------\\n\")  \n",
    "}"
   ]
  },
  {
   "cell_type": "code",
   "execution_count": 90,
   "id": "fcc3c1fe",
   "metadata": {},
   "outputs": [
    {
     "name": "stdout",
     "output_type": "stream",
     "text": [
      "유비 : 85 \n",
      "관우 : 95 \n",
      "장비 : 89 \n"
     ]
    }
   ],
   "source": [
    "# 2개의 벡터 자료를 함께 출력하기 \n",
    "score <- c(85,95,89)\n",
    "name <- c(\"유비\",\"관우\",\"장비\")\n",
    "\n",
    "for (i in 1:length(score)){\n",
    "    cat(name[i],\":\",score[i],\"\\n\")\n",
    "}"
   ]
  },
  {
   "cell_type": "code",
   "execution_count": 108,
   "id": "c94fcf9d",
   "metadata": {},
   "outputs": [
    {
     "name": "stdout",
     "output_type": "stream",
     "text": [
      "유비 : 85 \n",
      "관우 : 95 \n",
      "장비 : 89 \n"
     ]
    }
   ],
   "source": [
    "\n",
    "a<-name\n",
    "for(i in score){\n",
    "    \n",
    "    cat(a[grep(i,score)])\n",
    "  cat(\" :\",i,\"\\n\")\n",
    "}"
   ]
  },
  {
   "cell_type": "code",
   "execution_count": 110,
   "id": "0e553dd8",
   "metadata": {},
   "outputs": [
    {
     "name": "stdout",
     "output_type": "stream",
     "text": [
      "유비 : 85 \n",
      "관우 : 95 \n",
      "장비 : 89 \n"
     ]
    }
   ],
   "source": [
    "j <-1\n",
    "for(i in score){\n",
    "    cat(name[j],\":\",i,\"\\n\")\n",
    "    j=j+1\n",
    "}"
   ]
  },
  {
   "cell_type": "code",
   "execution_count": 122,
   "id": "e6115cc6",
   "metadata": {},
   "outputs": [
    {
     "name": "stdout",
     "output_type": "stream",
     "text": [
      "유비 : 85 \n",
      "관우 : 95 \n",
      "장비 : 89 \n"
     ]
    }
   ],
   "source": [
    "#한줄로 만들기!! 이거 좀 어려워!!!!!!!!!!!!!!!!!!!!!!\n",
    "\n",
    "cat(paste(name,\":\",score,\"\\n\"),sep=\"\")\n"
   ]
  },
  {
   "cell_type": "markdown",
   "id": "c075de80",
   "metadata": {},
   "source": [
    "### while"
   ]
  },
  {
   "cell_type": "code",
   "execution_count": 124,
   "id": "476fed54",
   "metadata": {},
   "outputs": [
    {
     "name": "stdout",
     "output_type": "stream",
     "text": [
      "[1] 1\n",
      "[1] 2\n",
      "[1] 3\n",
      "[1] 4\n",
      "[1] 5\n",
      "[1] 6\n",
      "[1] 7\n",
      "[1] 8\n",
      "[1] 9\n",
      "[1] 10\n"
     ]
    }
   ],
   "source": [
    "i <- 0\n",
    "while(i <10){\n",
    "    i= i+1\n",
    "    print(i)\n",
    "}"
   ]
  },
  {
   "cell_type": "markdown",
   "id": "6d3a1997",
   "metadata": {},
   "source": [
    "### repeat\n",
    "소괄호가 없음"
   ]
  },
  {
   "cell_type": "code",
   "execution_count": 126,
   "id": "1626ee38",
   "metadata": {},
   "outputs": [
    {
     "name": "stdout",
     "output_type": "stream",
     "text": [
      "[1] 1\n",
      "[1] 2\n",
      "[1] 3\n",
      "[1] 4\n",
      "[1] 5\n",
      "[1] 6\n",
      "[1] 7\n",
      "[1] 8\n",
      "[1] 9\n",
      "[1] 10\n"
     ]
    }
   ],
   "source": [
    "i <- 0\n",
    "repeat{\n",
    "    i=i+1\n",
    "    if(i>10){\n",
    "        break\n",
    "    }\n",
    "    print(i)\n",
    "}"
   ]
  },
  {
   "cell_type": "code",
   "execution_count": null,
   "id": "3584d108",
   "metadata": {},
   "outputs": [],
   "source": []
  }
 ],
 "metadata": {
  "kernelspec": {
   "display_name": "R",
   "language": "R",
   "name": "ir"
  },
  "language_info": {
   "codemirror_mode": "r",
   "file_extension": ".r",
   "mimetype": "text/x-r-source",
   "name": "R",
   "pygments_lexer": "r",
   "version": "3.6.1"
  }
 },
 "nbformat": 4,
 "nbformat_minor": 5
}
