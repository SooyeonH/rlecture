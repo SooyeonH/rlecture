{
 "cells": [
  {
   "cell_type": "code",
   "execution_count": 1,
   "id": "c719230d",
   "metadata": {},
   "outputs": [],
   "source": [
    "no <- 1:4\n",
    "name <- c(\"Apple\",\"Banana\",\"Peach\",\"Berry\")\n",
    "price <- c(500,200,200,50)\n",
    "qty <- c(5,4,3,2)"
   ]
  },
  {
   "cell_type": "code",
   "execution_count": 2,
   "id": "8dc54f6e",
   "metadata": {},
   "outputs": [
    {
     "data": {
      "text/html": [
       "<table>\n",
       "<thead><tr><th scope=col>번호</th><th scope=col>제품</th><th scope=col>금액</th><th scope=col>수량</th></tr></thead>\n",
       "<tbody>\n",
       "\t<tr><td>1     </td><td>Apple </td><td>500   </td><td>5     </td></tr>\n",
       "\t<tr><td>2     </td><td>Banana</td><td>200   </td><td>4     </td></tr>\n",
       "\t<tr><td>3     </td><td>Peach </td><td>200   </td><td>3     </td></tr>\n",
       "\t<tr><td>4     </td><td>Berry </td><td> 50   </td><td>2     </td></tr>\n",
       "</tbody>\n",
       "</table>\n"
      ],
      "text/latex": [
       "\\begin{tabular}{r|llll}\n",
       " 번호 & 제품 & 금액 & 수량\\\\\n",
       "\\hline\n",
       "\t 1      & Apple  & 500    & 5     \\\\\n",
       "\t 2      & Banana & 200    & 4     \\\\\n",
       "\t 3      & Peach  & 200    & 3     \\\\\n",
       "\t 4      & Berry  &  50    & 2     \\\\\n",
       "\\end{tabular}\n"
      ],
      "text/markdown": [
       "\n",
       "| 번호 | 제품 | 금액 | 수량 |\n",
       "|---|---|---|---|\n",
       "| 1      | Apple  | 500    | 5      |\n",
       "| 2      | Banana | 200    | 4      |\n",
       "| 3      | Peach  | 200    | 3      |\n",
       "| 4      | Berry  |  50    | 2      |\n",
       "\n"
      ],
      "text/plain": [
       "  번호 제품   금액 수량\n",
       "1 1    Apple  500  5   \n",
       "2 2    Banana 200  4   \n",
       "3 3    Peach  200  3   \n",
       "4 4    Berry   50  2   "
      ]
     },
     "metadata": {},
     "output_type": "display_data"
    }
   ],
   "source": [
    "# 벡터를 이용하여 데이터 프레임 만들기\n",
    "\n",
    "fruit <- data.frame(번호 = no,제품 = name, 금액 =price,수량=qty)\n",
    "fruit"
   ]
  },
  {
   "cell_type": "code",
   "execution_count": 3,
   "id": "8cdf11e8",
   "metadata": {},
   "outputs": [
    {
     "data": {
      "text/html": [
       "<ol class=list-inline>\n",
       "\t<li>'fruit'</li>\n",
       "\t<li>'name'</li>\n",
       "\t<li>'no'</li>\n",
       "\t<li>'price'</li>\n",
       "\t<li>'qty'</li>\n",
       "</ol>\n"
      ],
      "text/latex": [
       "\\begin{enumerate*}\n",
       "\\item 'fruit'\n",
       "\\item 'name'\n",
       "\\item 'no'\n",
       "\\item 'price'\n",
       "\\item 'qty'\n",
       "\\end{enumerate*}\n"
      ],
      "text/markdown": [
       "1. 'fruit'\n",
       "2. 'name'\n",
       "3. 'no'\n",
       "4. 'price'\n",
       "5. 'qty'\n",
       "\n",
       "\n"
      ],
      "text/plain": [
       "[1] \"fruit\" \"name\"  \"no\"    \"price\" \"qty\"  "
      ]
     },
     "metadata": {},
     "output_type": "display_data"
    }
   ],
   "source": [
    "# 현재 메모리에 있는 변수 보기\n",
    "\n",
    "ls()"
   ]
  },
  {
   "cell_type": "code",
   "execution_count": 4,
   "id": "84bfe58b",
   "metadata": {},
   "outputs": [],
   "source": [
    "# 메모리 형태로 파일 보관\n",
    "\n",
    "save(no, fruit, name, file =\"../Data/testFruit.txt\")"
   ]
  },
  {
   "cell_type": "code",
   "execution_count": 5,
   "id": "949740c9",
   "metadata": {},
   "outputs": [],
   "source": [
    "rm(no,fruit,name)"
   ]
  },
  {
   "cell_type": "code",
   "execution_count": 6,
   "id": "917170b1",
   "metadata": {},
   "outputs": [
    {
     "data": {
      "text/html": [
       "<ol class=list-inline>\n",
       "\t<li>'price'</li>\n",
       "\t<li>'qty'</li>\n",
       "</ol>\n"
      ],
      "text/latex": [
       "\\begin{enumerate*}\n",
       "\\item 'price'\n",
       "\\item 'qty'\n",
       "\\end{enumerate*}\n"
      ],
      "text/markdown": [
       "1. 'price'\n",
       "2. 'qty'\n",
       "\n",
       "\n"
      ],
      "text/plain": [
       "[1] \"price\" \"qty\"  "
      ]
     },
     "metadata": {},
     "output_type": "display_data"
    }
   ],
   "source": [
    "ls()"
   ]
  },
  {
   "cell_type": "code",
   "execution_count": 7,
   "id": "0b2dc8d7",
   "metadata": {},
   "outputs": [],
   "source": [
    "#fruit"
   ]
  },
  {
   "cell_type": "code",
   "execution_count": 8,
   "id": "8bd2f5bc",
   "metadata": {},
   "outputs": [],
   "source": [
    "# 메모리 불러오기\n",
    "load(\"../Data//testFruit.txt\")"
   ]
  },
  {
   "cell_type": "code",
   "execution_count": 9,
   "id": "8992310a",
   "metadata": {},
   "outputs": [
    {
     "data": {
      "text/html": [
       "<table>\n",
       "<thead><tr><th scope=col>번호</th><th scope=col>제품</th><th scope=col>금액</th><th scope=col>수량</th></tr></thead>\n",
       "<tbody>\n",
       "\t<tr><td>1     </td><td>Apple </td><td>500   </td><td>5     </td></tr>\n",
       "\t<tr><td>2     </td><td>Banana</td><td>200   </td><td>4     </td></tr>\n",
       "\t<tr><td>3     </td><td>Peach </td><td>200   </td><td>3     </td></tr>\n",
       "\t<tr><td>4     </td><td>Berry </td><td> 50   </td><td>2     </td></tr>\n",
       "</tbody>\n",
       "</table>\n"
      ],
      "text/latex": [
       "\\begin{tabular}{r|llll}\n",
       " 번호 & 제품 & 금액 & 수량\\\\\n",
       "\\hline\n",
       "\t 1      & Apple  & 500    & 5     \\\\\n",
       "\t 2      & Banana & 200    & 4     \\\\\n",
       "\t 3      & Peach  & 200    & 3     \\\\\n",
       "\t 4      & Berry  &  50    & 2     \\\\\n",
       "\\end{tabular}\n"
      ],
      "text/markdown": [
       "\n",
       "| 번호 | 제품 | 금액 | 수량 |\n",
       "|---|---|---|---|\n",
       "| 1      | Apple  | 500    | 5      |\n",
       "| 2      | Banana | 200    | 4      |\n",
       "| 3      | Peach  | 200    | 3      |\n",
       "| 4      | Berry  |  50    | 2      |\n",
       "\n"
      ],
      "text/plain": [
       "  번호 제품   금액 수량\n",
       "1 1    Apple  500  5   \n",
       "2 2    Banana 200  4   \n",
       "3 3    Peach  200  3   \n",
       "4 4    Berry   50  2   "
      ]
     },
     "metadata": {},
     "output_type": "display_data"
    }
   ],
   "source": [
    "fruit"
   ]
  },
  {
   "cell_type": "code",
   "execution_count": 10,
   "id": "418071fe",
   "metadata": {},
   "outputs": [],
   "source": [
    "# fruit를 csv로 저장하기 (excel,메모장 에서 볼수 있음)\n",
    "\n",
    "write.csv(fruit,\"../Data/fruit.csv\")"
   ]
  },
  {
   "cell_type": "code",
   "execution_count": 11,
   "id": "f1a0a128",
   "metadata": {},
   "outputs": [],
   "source": [
    "fruit2<-read.csv(\"../Data/fruit.csv\") #rownames가 같이 저장됨 "
   ]
  },
  {
   "cell_type": "code",
   "execution_count": 12,
   "id": "3bdf4d18",
   "metadata": {},
   "outputs": [],
   "source": [
    "write.csv(fruit2,\"../Data/fruit2.csv\")"
   ]
  },
  {
   "cell_type": "code",
   "execution_count": 13,
   "id": "70a70729",
   "metadata": {},
   "outputs": [
    {
     "data": {
      "text/html": [
       "<table>\n",
       "<thead><tr><th scope=col>X.1</th><th scope=col>X</th><th scope=col>번호</th><th scope=col>제품</th><th scope=col>금액</th><th scope=col>수량</th></tr></thead>\n",
       "<tbody>\n",
       "\t<tr><td>1     </td><td>1     </td><td>1     </td><td>Apple </td><td>500   </td><td>5     </td></tr>\n",
       "\t<tr><td>2     </td><td>2     </td><td>2     </td><td>Banana</td><td>200   </td><td>4     </td></tr>\n",
       "\t<tr><td>3     </td><td>3     </td><td>3     </td><td>Peach </td><td>200   </td><td>3     </td></tr>\n",
       "\t<tr><td>4     </td><td>4     </td><td>4     </td><td>Berry </td><td> 50   </td><td>2     </td></tr>\n",
       "</tbody>\n",
       "</table>\n"
      ],
      "text/latex": [
       "\\begin{tabular}{r|llllll}\n",
       " X.1 & X & 번호 & 제품 & 금액 & 수량\\\\\n",
       "\\hline\n",
       "\t 1      & 1      & 1      & Apple  & 500    & 5     \\\\\n",
       "\t 2      & 2      & 2      & Banana & 200    & 4     \\\\\n",
       "\t 3      & 3      & 3      & Peach  & 200    & 3     \\\\\n",
       "\t 4      & 4      & 4      & Berry  &  50    & 2     \\\\\n",
       "\\end{tabular}\n"
      ],
      "text/markdown": [
       "\n",
       "| X.1 | X | 번호 | 제품 | 금액 | 수량 |\n",
       "|---|---|---|---|---|---|\n",
       "| 1      | 1      | 1      | Apple  | 500    | 5      |\n",
       "| 2      | 2      | 2      | Banana | 200    | 4      |\n",
       "| 3      | 3      | 3      | Peach  | 200    | 3      |\n",
       "| 4      | 4      | 4      | Berry  |  50    | 2      |\n",
       "\n"
      ],
      "text/plain": [
       "  X.1 X 번호 제품   금액 수량\n",
       "1 1   1 1    Apple  500  5   \n",
       "2 2   2 2    Banana 200  4   \n",
       "3 3   3 3    Peach  200  3   \n",
       "4 4   4 4    Berry   50  2   "
      ]
     },
     "metadata": {},
     "output_type": "display_data"
    }
   ],
   "source": [
    " read.csv(\"../Data/fruit2.csv\")"
   ]
  },
  {
   "cell_type": "code",
   "execution_count": 14,
   "id": "9a652546",
   "metadata": {},
   "outputs": [],
   "source": [
    "# 저장시 주의사항 : row names가 필요치 않으면 저장하지 말아야한다\n",
    "\n",
    "write.csv(fruit, \"../Data/fruit.csv\",row.names=F)"
   ]
  },
  {
   "cell_type": "code",
   "execution_count": 15,
   "id": "5181d958",
   "metadata": {},
   "outputs": [
    {
     "data": {
      "text/html": [
       "<table>\n",
       "<thead><tr><th scope=col>번호</th><th scope=col>제품</th><th scope=col>금액</th><th scope=col>수량</th></tr></thead>\n",
       "<tbody>\n",
       "\t<tr><td>1     </td><td>Apple </td><td>500   </td><td>5     </td></tr>\n",
       "\t<tr><td>2     </td><td>Banana</td><td>200   </td><td>4     </td></tr>\n",
       "\t<tr><td>3     </td><td>Peach </td><td>200   </td><td>3     </td></tr>\n",
       "\t<tr><td>4     </td><td>Berry </td><td> 50   </td><td>2     </td></tr>\n",
       "</tbody>\n",
       "</table>\n"
      ],
      "text/latex": [
       "\\begin{tabular}{r|llll}\n",
       " 번호 & 제품 & 금액 & 수량\\\\\n",
       "\\hline\n",
       "\t 1      & Apple  & 500    & 5     \\\\\n",
       "\t 2      & Banana & 200    & 4     \\\\\n",
       "\t 3      & Peach  & 200    & 3     \\\\\n",
       "\t 4      & Berry  &  50    & 2     \\\\\n",
       "\\end{tabular}\n"
      ],
      "text/markdown": [
       "\n",
       "| 번호 | 제품 | 금액 | 수량 |\n",
       "|---|---|---|---|\n",
       "| 1      | Apple  | 500    | 5      |\n",
       "| 2      | Banana | 200    | 4      |\n",
       "| 3      | Peach  | 200    | 3      |\n",
       "| 4      | Berry  |  50    | 2      |\n",
       "\n"
      ],
      "text/plain": [
       "  번호 제품   금액 수량\n",
       "1 1    Apple  500  5   \n",
       "2 2    Banana 200  4   \n",
       "3 3    Peach  200  3   \n",
       "4 4    Berry   50  2   "
      ]
     },
     "metadata": {},
     "output_type": "display_data"
    }
   ],
   "source": [
    " read.csv(\"../Data/fruit.csv\")"
   ]
  },
  {
   "cell_type": "markdown",
   "id": "453877b7",
   "metadata": {},
   "source": [
    "---\n",
    "# 세계 GDP 순위 데이터 정제 및 차트 만들기"
   ]
  },
  {
   "cell_type": "code",
   "execution_count": 21,
   "id": "4f4bd353",
   "metadata": {},
   "outputs": [
    {
     "data": {
      "text/html": [
       "<table>\n",
       "<thead><tr><th scope=col>X</th><th scope=col>Gross.domestic.product.2018</th><th scope=col>X.1</th><th scope=col>X.2</th><th scope=col>X.3</th><th scope=col>X.4</th></tr></thead>\n",
       "<tbody>\n",
       "\t<tr><td>              </td><td>              </td><td>NA            </td><td>              </td><td>              </td><td>              </td></tr>\n",
       "\t<tr><td>              </td><td>              </td><td>NA            </td><td>              </td><td>(millions of  </td><td>              </td></tr>\n",
       "\t<tr><td>              </td><td>Ranking       </td><td>NA            </td><td>Economy       </td><td>US dollars)   </td><td>              </td></tr>\n",
       "\t<tr><td>              </td><td>              </td><td>NA            </td><td>              </td><td>              </td><td>              </td></tr>\n",
       "\t<tr><td>USA           </td><td>1             </td><td>NA            </td><td>United States </td><td> 20,494,100   </td><td>              </td></tr>\n",
       "\t<tr><td>CHN           </td><td>2             </td><td>NA            </td><td>China         </td><td> 13,608,152   </td><td>              </td></tr>\n",
       "\t<tr><td>JPN           </td><td>3             </td><td>NA            </td><td>Japan         </td><td> 4,970,916    </td><td>              </td></tr>\n",
       "\t<tr><td>DEU           </td><td>4             </td><td>NA            </td><td>Germany       </td><td> 3,996,759    </td><td>              </td></tr>\n",
       "\t<tr><td>GBR           </td><td>5             </td><td>NA            </td><td>United Kingdom</td><td> 2,825,208    </td><td>              </td></tr>\n",
       "\t<tr><td>FRA           </td><td>6             </td><td>NA            </td><td>France        </td><td> 2,777,535    </td><td>              </td></tr>\n",
       "</tbody>\n",
       "</table>\n"
      ],
      "text/latex": [
       "\\begin{tabular}{r|llllll}\n",
       " X & Gross.domestic.product.2018 & X.1 & X.2 & X.3 & X.4\\\\\n",
       "\\hline\n",
       "\t                &                & NA             &                &                &               \\\\\n",
       "\t                &                & NA             &                & (millions of   &               \\\\\n",
       "\t                & Ranking        & NA             & Economy        & US dollars)    &               \\\\\n",
       "\t                &                & NA             &                &                &               \\\\\n",
       "\t USA            & 1              & NA             & United States  &  20,494,100    &               \\\\\n",
       "\t CHN            & 2              & NA             & China          &  13,608,152    &               \\\\\n",
       "\t JPN            & 3              & NA             & Japan          &  4,970,916     &               \\\\\n",
       "\t DEU            & 4              & NA             & Germany        &  3,996,759     &               \\\\\n",
       "\t GBR            & 5              & NA             & United Kingdom &  2,825,208     &               \\\\\n",
       "\t FRA            & 6              & NA             & France         &  2,777,535     &               \\\\\n",
       "\\end{tabular}\n"
      ],
      "text/markdown": [
       "\n",
       "| X | Gross.domestic.product.2018 | X.1 | X.2 | X.3 | X.4 |\n",
       "|---|---|---|---|---|---|\n",
       "|                |                | NA             |                |                |                |\n",
       "|                |                | NA             |                | (millions of   |                |\n",
       "|                | Ranking        | NA             | Economy        | US dollars)    |                |\n",
       "|                |                | NA             |                |                |                |\n",
       "| USA            | 1              | NA             | United States  |  20,494,100    |                |\n",
       "| CHN            | 2              | NA             | China          |  13,608,152    |                |\n",
       "| JPN            | 3              | NA             | Japan          |  4,970,916     |                |\n",
       "| DEU            | 4              | NA             | Germany        |  3,996,759     |                |\n",
       "| GBR            | 5              | NA             | United Kingdom |  2,825,208     |                |\n",
       "| FRA            | 6              | NA             | France         |  2,777,535     |                |\n",
       "\n"
      ],
      "text/plain": [
       "   X   Gross.domestic.product.2018 X.1 X.2            X.3          X.4\n",
       "1                                  NA                                 \n",
       "2                                  NA                 (millions of    \n",
       "3      Ranking                     NA  Economy        US dollars)     \n",
       "4                                  NA                                 \n",
       "5  USA 1                           NA  United States   20,494,100     \n",
       "6  CHN 2                           NA  China           13,608,152     \n",
       "7  JPN 3                           NA  Japan           4,970,916      \n",
       "8  DEU 4                           NA  Germany         3,996,759      \n",
       "9  GBR 5                           NA  United Kingdom  2,825,208      \n",
       "10 FRA 6                           NA  France          2,777,535      "
      ]
     },
     "metadata": {},
     "output_type": "display_data"
    },
    {
     "data": {
      "text/html": [
       "<table>\n",
       "<thead><tr><th></th><th scope=col>X</th><th scope=col>Gross.domestic.product.2018</th><th scope=col>X.1</th><th scope=col>X.2</th><th scope=col>X.3</th><th scope=col>X.4</th></tr></thead>\n",
       "<tbody>\n",
       "\t<tr><th scope=row>323</th><td>  </td><td>  </td><td>NA</td><td>  </td><td>  </td><td>  </td></tr>\n",
       "\t<tr><th scope=row>324</th><td>  </td><td>  </td><td>NA</td><td>  </td><td>  </td><td>  </td></tr>\n",
       "\t<tr><th scope=row>325</th><td>  </td><td>  </td><td>NA</td><td>  </td><td>  </td><td>  </td></tr>\n",
       "\t<tr><th scope=row>326</th><td>  </td><td>  </td><td>NA</td><td>  </td><td>  </td><td>  </td></tr>\n",
       "\t<tr><th scope=row>327</th><td>  </td><td>  </td><td>NA</td><td>  </td><td>  </td><td>  </td></tr>\n",
       "\t<tr><th scope=row>328</th><td>  </td><td>  </td><td>NA</td><td>  </td><td>  </td><td>  </td></tr>\n",
       "</tbody>\n",
       "</table>\n"
      ],
      "text/latex": [
       "\\begin{tabular}{r|llllll}\n",
       "  & X & Gross.domestic.product.2018 & X.1 & X.2 & X.3 & X.4\\\\\n",
       "\\hline\n",
       "\t323 &    &    & NA &    &    &   \\\\\n",
       "\t324 &    &    & NA &    &    &   \\\\\n",
       "\t325 &    &    & NA &    &    &   \\\\\n",
       "\t326 &    &    & NA &    &    &   \\\\\n",
       "\t327 &    &    & NA &    &    &   \\\\\n",
       "\t328 &    &    & NA &    &    &   \\\\\n",
       "\\end{tabular}\n"
      ],
      "text/markdown": [
       "\n",
       "| <!--/--> | X | Gross.domestic.product.2018 | X.1 | X.2 | X.3 | X.4 |\n",
       "|---|---|---|---|---|---|---|\n",
       "| 323 |    |    | NA |    |    |    |\n",
       "| 324 |    |    | NA |    |    |    |\n",
       "| 325 |    |    | NA |    |    |    |\n",
       "| 326 |    |    | NA |    |    |    |\n",
       "| 327 |    |    | NA |    |    |    |\n",
       "| 328 |    |    | NA |    |    |    |\n",
       "\n"
      ],
      "text/plain": [
       "    X Gross.domestic.product.2018 X.1 X.2 X.3 X.4\n",
       "323                               NA             \n",
       "324                               NA             \n",
       "325                               NA             \n",
       "326                               NA             \n",
       "327                               NA             \n",
       "328                               NA             "
      ]
     },
     "metadata": {},
     "output_type": "display_data"
    },
    {
     "data": {
      "text/plain": [
       "       X            Gross.domestic.product.2018   X.1         \n",
       "        : 99                      :117          Mode:logical  \n",
       " ABW    :  1   .. Not available.  :  1          NA's:328      \n",
       " AFG    :  1   1                  :  1                        \n",
       " AGO    :  1   10                 :  1                        \n",
       " ALB    :  1   100                :  1                        \n",
       " AND    :  1   101                :  1                        \n",
       " (Other):224   (Other)            :206                        \n",
       "             X.2               X.3           X.4     \n",
       "               : 98              : 97          :320  \n",
       " Afghanistan   :  1    ..        : 12   a      :  2  \n",
       " Albania       :  1    1,624     :  2   b      :  1  \n",
       " Algeria       :  1    1,022     :  1   c      :  1  \n",
       " American Samoa:  1    1,040     :  1   d      :  1  \n",
       " Andorra       :  1    1,042,173 :  1   e      :  1  \n",
       " (Other)       :225   (Other)    :214   (Other):  2  "
      ]
     },
     "metadata": {},
     "output_type": "display_data"
    }
   ],
   "source": [
    "GDP_ranking <- read.csv(\"../Data//GDP.csv\")\n",
    "head(GDP_ranking,10)\n",
    "tail(GDP_ranking)\n",
    "summary(GDP_ranking)"
   ]
  },
  {
   "cell_type": "code",
   "execution_count": 22,
   "id": "ff9378da",
   "metadata": {},
   "outputs": [
    {
     "ename": "ERROR",
     "evalue": "Error in `[.data.frame`(GDP_ranking, -(NA)): undefined columns selected\n",
     "output_type": "error",
     "traceback": [
      "Error in `[.data.frame`(GDP_ranking, -(NA)): undefined columns selected\nTraceback:\n",
      "1. GDP_ranking[-(NA)]",
      "2. `[.data.frame`(GDP_ranking, -(NA))",
      "3. stop(\"undefined columns selected\")"
     ]
    }
   ],
   "source": [
    "GDP_ranking <- GDP_ranking[-(NA)]\n",
    "GDP_ranking\n"
   ]
  },
  {
   "cell_type": "code",
   "execution_count": 23,
   "id": "7407b214",
   "metadata": {},
   "outputs": [
    {
     "data": {
      "text/html": [
       "<table>\n",
       "<thead><tr><th></th><th scope=col>X</th><th scope=col>Gross.domestic.product.2018</th><th scope=col>X.2</th><th scope=col>X.3</th></tr></thead>\n",
       "<tbody>\n",
       "\t<tr><th scope=row>5</th><td>USA                 </td><td>1                   </td><td>United States       </td><td> 20,494,100         </td></tr>\n",
       "\t<tr><th scope=row>6</th><td>CHN                 </td><td>2                   </td><td>China               </td><td> 13,608,152         </td></tr>\n",
       "\t<tr><th scope=row>7</th><td>JPN                 </td><td>3                   </td><td>Japan               </td><td> 4,970,916          </td></tr>\n",
       "\t<tr><th scope=row>8</th><td>DEU                 </td><td>4                   </td><td>Germany             </td><td> 3,996,759          </td></tr>\n",
       "\t<tr><th scope=row>9</th><td>GBR                 </td><td>5                   </td><td>United Kingdom      </td><td> 2,825,208          </td></tr>\n",
       "\t<tr><th scope=row>10</th><td>FRA                 </td><td>6                   </td><td>France              </td><td> 2,777,535          </td></tr>\n",
       "\t<tr><th scope=row>11</th><td>IND                 </td><td>7                   </td><td>India               </td><td> 2,726,323          </td></tr>\n",
       "\t<tr><th scope=row>12</th><td>ITA                 </td><td>8                   </td><td>Italy               </td><td> 2,073,902          </td></tr>\n",
       "\t<tr><th scope=row>13</th><td>BRA                 </td><td>9                   </td><td>Brazil              </td><td> 1,868,626          </td></tr>\n",
       "\t<tr><th scope=row>14</th><td>CAN                 </td><td>10                  </td><td>Canada              </td><td> 1,712,510          </td></tr>\n",
       "\t<tr><th scope=row>15</th><td>RUS                 </td><td>11                  </td><td>Russian Federation  </td><td> 1,657,554          </td></tr>\n",
       "\t<tr><th scope=row>16</th><td>KOR                 </td><td>12                  </td><td>Korea, Rep.         </td><td> 1,619,424          </td></tr>\n",
       "\t<tr><th scope=row>17</th><td>AUS                 </td><td>13                  </td><td>Australia           </td><td> 1,432,195          </td></tr>\n",
       "\t<tr><th scope=row>18</th><td>ESP                 </td><td>14                  </td><td>Spain               </td><td> 1,426,189          </td></tr>\n",
       "\t<tr><th scope=row>19</th><td>MEX                 </td><td>15                  </td><td>Mexico              </td><td> 1,223,809          </td></tr>\n",
       "\t<tr><th scope=row>20</th><td>IDN                 </td><td>16                  </td><td>Indonesia           </td><td> 1,042,173          </td></tr>\n",
       "\t<tr><th scope=row>21</th><td>NLD                 </td><td>17                  </td><td>Netherlands         </td><td> 913,658            </td></tr>\n",
       "\t<tr><th scope=row>22</th><td>SAU                 </td><td>18                  </td><td>Saudi Arabia        </td><td> 782,483            </td></tr>\n",
       "\t<tr><th scope=row>23</th><td>TUR                 </td><td>19                  </td><td>Turkey              </td><td> 766,509            </td></tr>\n",
       "\t<tr><th scope=row>24</th><td>CHE                 </td><td>20                  </td><td>Switzerland         </td><td> 705,501            </td></tr>\n",
       "\t<tr><th scope=row>25</th><td>POL                 </td><td>21                  </td><td>Poland              </td><td> 585,783            </td></tr>\n",
       "\t<tr><th scope=row>26</th><td>SWE                 </td><td>22                  </td><td>Sweden              </td><td> 551,032            </td></tr>\n",
       "\t<tr><th scope=row>27</th><td>BEL                 </td><td>23                  </td><td>Belgium             </td><td> 531,767            </td></tr>\n",
       "\t<tr><th scope=row>28</th><td>ARG                 </td><td>24                  </td><td>Argentina           </td><td> 518,475            </td></tr>\n",
       "\t<tr><th scope=row>29</th><td>THA                 </td><td>25                  </td><td>Thailand            </td><td> 504,993            </td></tr>\n",
       "\t<tr><th scope=row>30</th><td>AUT                 </td><td>26                  </td><td>Austria             </td><td> 455,737            </td></tr>\n",
       "\t<tr><th scope=row>31</th><td>IRN                 </td><td>27                  </td><td>Iran, Islamic Rep.  </td><td> 454,013            </td></tr>\n",
       "\t<tr><th scope=row>32</th><td>NOR                 </td><td>28                  </td><td>Norway              </td><td> 434,751            </td></tr>\n",
       "\t<tr><th scope=row>33</th><td>ARE                 </td><td>29                  </td><td>United Arab Emirates</td><td> 414,179            </td></tr>\n",
       "\t<tr><th scope=row>34</th><td>NGA                 </td><td>30                  </td><td>Nigeria             </td><td> 397,270            </td></tr>\n",
       "\t<tr><th scope=row>...</th><td>...</td><td>...</td><td>...</td><td>...</td></tr>\n",
       "\t<tr><th scope=row>299</th><td></td><td></td><td></td><td></td></tr>\n",
       "\t<tr><th scope=row>300</th><td></td><td></td><td></td><td></td></tr>\n",
       "\t<tr><th scope=row>301</th><td></td><td></td><td></td><td></td></tr>\n",
       "\t<tr><th scope=row>302</th><td></td><td></td><td></td><td></td></tr>\n",
       "\t<tr><th scope=row>303</th><td></td><td></td><td></td><td></td></tr>\n",
       "\t<tr><th scope=row>304</th><td></td><td></td><td></td><td></td></tr>\n",
       "\t<tr><th scope=row>305</th><td></td><td></td><td></td><td></td></tr>\n",
       "\t<tr><th scope=row>306</th><td></td><td></td><td></td><td></td></tr>\n",
       "\t<tr><th scope=row>307</th><td></td><td></td><td></td><td></td></tr>\n",
       "\t<tr><th scope=row>308</th><td></td><td></td><td></td><td></td></tr>\n",
       "\t<tr><th scope=row>309</th><td></td><td></td><td></td><td></td></tr>\n",
       "\t<tr><th scope=row>310</th><td></td><td></td><td></td><td></td></tr>\n",
       "\t<tr><th scope=row>311</th><td></td><td></td><td></td><td></td></tr>\n",
       "\t<tr><th scope=row>312</th><td></td><td></td><td></td><td></td></tr>\n",
       "\t<tr><th scope=row>313</th><td></td><td></td><td></td><td></td></tr>\n",
       "\t<tr><th scope=row>314</th><td></td><td></td><td></td><td></td></tr>\n",
       "\t<tr><th scope=row>315</th><td></td><td></td><td></td><td></td></tr>\n",
       "\t<tr><th scope=row>316</th><td></td><td></td><td></td><td></td></tr>\n",
       "\t<tr><th scope=row>317</th><td></td><td></td><td></td><td></td></tr>\n",
       "\t<tr><th scope=row>318</th><td></td><td></td><td></td><td></td></tr>\n",
       "\t<tr><th scope=row>319</th><td></td><td></td><td></td><td></td></tr>\n",
       "\t<tr><th scope=row>320</th><td></td><td></td><td></td><td></td></tr>\n",
       "\t<tr><th scope=row>321</th><td></td><td></td><td></td><td></td></tr>\n",
       "\t<tr><th scope=row>322</th><td></td><td></td><td></td><td></td></tr>\n",
       "\t<tr><th scope=row>323</th><td></td><td></td><td></td><td></td></tr>\n",
       "\t<tr><th scope=row>324</th><td></td><td></td><td></td><td></td></tr>\n",
       "\t<tr><th scope=row>325</th><td></td><td></td><td></td><td></td></tr>\n",
       "\t<tr><th scope=row>326</th><td></td><td></td><td></td><td></td></tr>\n",
       "\t<tr><th scope=row>327</th><td></td><td></td><td></td><td></td></tr>\n",
       "\t<tr><th scope=row>328</th><td></td><td></td><td></td><td></td></tr>\n",
       "</tbody>\n",
       "</table>\n"
      ],
      "text/latex": [
       "\\begin{tabular}{r|llll}\n",
       "  & X & Gross.domestic.product.2018 & X.2 & X.3\\\\\n",
       "\\hline\n",
       "\t5 & USA                  & 1                    & United States        &  20,494,100         \\\\\n",
       "\t6 & CHN                  & 2                    & China                &  13,608,152         \\\\\n",
       "\t7 & JPN                  & 3                    & Japan                &  4,970,916          \\\\\n",
       "\t8 & DEU                  & 4                    & Germany              &  3,996,759          \\\\\n",
       "\t9 & GBR                  & 5                    & United Kingdom       &  2,825,208          \\\\\n",
       "\t10 & FRA                  & 6                    & France               &  2,777,535          \\\\\n",
       "\t11 & IND                  & 7                    & India                &  2,726,323          \\\\\n",
       "\t12 & ITA                  & 8                    & Italy                &  2,073,902          \\\\\n",
       "\t13 & BRA                  & 9                    & Brazil               &  1,868,626          \\\\\n",
       "\t14 & CAN                  & 10                   & Canada               &  1,712,510          \\\\\n",
       "\t15 & RUS                  & 11                   & Russian Federation   &  1,657,554          \\\\\n",
       "\t16 & KOR                  & 12                   & Korea, Rep.          &  1,619,424          \\\\\n",
       "\t17 & AUS                  & 13                   & Australia            &  1,432,195          \\\\\n",
       "\t18 & ESP                  & 14                   & Spain                &  1,426,189          \\\\\n",
       "\t19 & MEX                  & 15                   & Mexico               &  1,223,809          \\\\\n",
       "\t20 & IDN                  & 16                   & Indonesia            &  1,042,173          \\\\\n",
       "\t21 & NLD                  & 17                   & Netherlands          &  913,658            \\\\\n",
       "\t22 & SAU                  & 18                   & Saudi Arabia         &  782,483            \\\\\n",
       "\t23 & TUR                  & 19                   & Turkey               &  766,509            \\\\\n",
       "\t24 & CHE                  & 20                   & Switzerland          &  705,501            \\\\\n",
       "\t25 & POL                  & 21                   & Poland               &  585,783            \\\\\n",
       "\t26 & SWE                  & 22                   & Sweden               &  551,032            \\\\\n",
       "\t27 & BEL                  & 23                   & Belgium              &  531,767            \\\\\n",
       "\t28 & ARG                  & 24                   & Argentina            &  518,475            \\\\\n",
       "\t29 & THA                  & 25                   & Thailand             &  504,993            \\\\\n",
       "\t30 & AUT                  & 26                   & Austria              &  455,737            \\\\\n",
       "\t31 & IRN                  & 27                   & Iran, Islamic Rep.   &  454,013            \\\\\n",
       "\t32 & NOR                  & 28                   & Norway               &  434,751            \\\\\n",
       "\t33 & ARE                  & 29                   & United Arab Emirates &  414,179            \\\\\n",
       "\t34 & NGA                  & 30                   & Nigeria              &  397,270            \\\\\n",
       "\t... & ... & ... & ... & ...\\\\\n",
       "\t299 &  &  &  & \\\\\n",
       "\t300 &  &  &  & \\\\\n",
       "\t301 &  &  &  & \\\\\n",
       "\t302 &  &  &  & \\\\\n",
       "\t303 &  &  &  & \\\\\n",
       "\t304 &  &  &  & \\\\\n",
       "\t305 &  &  &  & \\\\\n",
       "\t306 &  &  &  & \\\\\n",
       "\t307 &  &  &  & \\\\\n",
       "\t308 &  &  &  & \\\\\n",
       "\t309 &  &  &  & \\\\\n",
       "\t310 &  &  &  & \\\\\n",
       "\t311 &  &  &  & \\\\\n",
       "\t312 &  &  &  & \\\\\n",
       "\t313 &  &  &  & \\\\\n",
       "\t314 &  &  &  & \\\\\n",
       "\t315 &  &  &  & \\\\\n",
       "\t316 &  &  &  & \\\\\n",
       "\t317 &  &  &  & \\\\\n",
       "\t318 &  &  &  & \\\\\n",
       "\t319 &  &  &  & \\\\\n",
       "\t320 &  &  &  & \\\\\n",
       "\t321 &  &  &  & \\\\\n",
       "\t322 &  &  &  & \\\\\n",
       "\t323 &  &  &  & \\\\\n",
       "\t324 &  &  &  & \\\\\n",
       "\t325 &  &  &  & \\\\\n",
       "\t326 &  &  &  & \\\\\n",
       "\t327 &  &  &  & \\\\\n",
       "\t328 &  &  &  & \\\\\n",
       "\\end{tabular}\n"
      ],
      "text/markdown": [
       "\n",
       "| <!--/--> | X | Gross.domestic.product.2018 | X.2 | X.3 |\n",
       "|---|---|---|---|---|\n",
       "| 5 | USA                  | 1                    | United States        |  20,494,100          |\n",
       "| 6 | CHN                  | 2                    | China                |  13,608,152          |\n",
       "| 7 | JPN                  | 3                    | Japan                |  4,970,916           |\n",
       "| 8 | DEU                  | 4                    | Germany              |  3,996,759           |\n",
       "| 9 | GBR                  | 5                    | United Kingdom       |  2,825,208           |\n",
       "| 10 | FRA                  | 6                    | France               |  2,777,535           |\n",
       "| 11 | IND                  | 7                    | India                |  2,726,323           |\n",
       "| 12 | ITA                  | 8                    | Italy                |  2,073,902           |\n",
       "| 13 | BRA                  | 9                    | Brazil               |  1,868,626           |\n",
       "| 14 | CAN                  | 10                   | Canada               |  1,712,510           |\n",
       "| 15 | RUS                  | 11                   | Russian Federation   |  1,657,554           |\n",
       "| 16 | KOR                  | 12                   | Korea, Rep.          |  1,619,424           |\n",
       "| 17 | AUS                  | 13                   | Australia            |  1,432,195           |\n",
       "| 18 | ESP                  | 14                   | Spain                |  1,426,189           |\n",
       "| 19 | MEX                  | 15                   | Mexico               |  1,223,809           |\n",
       "| 20 | IDN                  | 16                   | Indonesia            |  1,042,173           |\n",
       "| 21 | NLD                  | 17                   | Netherlands          |  913,658             |\n",
       "| 22 | SAU                  | 18                   | Saudi Arabia         |  782,483             |\n",
       "| 23 | TUR                  | 19                   | Turkey               |  766,509             |\n",
       "| 24 | CHE                  | 20                   | Switzerland          |  705,501             |\n",
       "| 25 | POL                  | 21                   | Poland               |  585,783             |\n",
       "| 26 | SWE                  | 22                   | Sweden               |  551,032             |\n",
       "| 27 | BEL                  | 23                   | Belgium              |  531,767             |\n",
       "| 28 | ARG                  | 24                   | Argentina            |  518,475             |\n",
       "| 29 | THA                  | 25                   | Thailand             |  504,993             |\n",
       "| 30 | AUT                  | 26                   | Austria              |  455,737             |\n",
       "| 31 | IRN                  | 27                   | Iran, Islamic Rep.   |  454,013             |\n",
       "| 32 | NOR                  | 28                   | Norway               |  434,751             |\n",
       "| 33 | ARE                  | 29                   | United Arab Emirates |  414,179             |\n",
       "| 34 | NGA                  | 30                   | Nigeria              |  397,270             |\n",
       "| ... | ... | ... | ... | ... |\n",
       "| 299 |  |  |  |  |\n",
       "| 300 |  |  |  |  |\n",
       "| 301 |  |  |  |  |\n",
       "| 302 |  |  |  |  |\n",
       "| 303 |  |  |  |  |\n",
       "| 304 |  |  |  |  |\n",
       "| 305 |  |  |  |  |\n",
       "| 306 |  |  |  |  |\n",
       "| 307 |  |  |  |  |\n",
       "| 308 |  |  |  |  |\n",
       "| 309 |  |  |  |  |\n",
       "| 310 |  |  |  |  |\n",
       "| 311 |  |  |  |  |\n",
       "| 312 |  |  |  |  |\n",
       "| 313 |  |  |  |  |\n",
       "| 314 |  |  |  |  |\n",
       "| 315 |  |  |  |  |\n",
       "| 316 |  |  |  |  |\n",
       "| 317 |  |  |  |  |\n",
       "| 318 |  |  |  |  |\n",
       "| 319 |  |  |  |  |\n",
       "| 320 |  |  |  |  |\n",
       "| 321 |  |  |  |  |\n",
       "| 322 |  |  |  |  |\n",
       "| 323 |  |  |  |  |\n",
       "| 324 |  |  |  |  |\n",
       "| 325 |  |  |  |  |\n",
       "| 326 |  |  |  |  |\n",
       "| 327 |  |  |  |  |\n",
       "| 328 |  |  |  |  |\n",
       "\n"
      ],
      "text/plain": [
       "    X   Gross.domestic.product.2018 X.2                  X.3         \n",
       "5   USA 1                           United States         20,494,100 \n",
       "6   CHN 2                           China                 13,608,152 \n",
       "7   JPN 3                           Japan                 4,970,916  \n",
       "8   DEU 4                           Germany               3,996,759  \n",
       "9   GBR 5                           United Kingdom        2,825,208  \n",
       "10  FRA 6                           France                2,777,535  \n",
       "11  IND 7                           India                 2,726,323  \n",
       "12  ITA 8                           Italy                 2,073,902  \n",
       "13  BRA 9                           Brazil                1,868,626  \n",
       "14  CAN 10                          Canada                1,712,510  \n",
       "15  RUS 11                          Russian Federation    1,657,554  \n",
       "16  KOR 12                          Korea, Rep.           1,619,424  \n",
       "17  AUS 13                          Australia             1,432,195  \n",
       "18  ESP 14                          Spain                 1,426,189  \n",
       "19  MEX 15                          Mexico                1,223,809  \n",
       "20  IDN 16                          Indonesia             1,042,173  \n",
       "21  NLD 17                          Netherlands           913,658    \n",
       "22  SAU 18                          Saudi Arabia          782,483    \n",
       "23  TUR 19                          Turkey                766,509    \n",
       "24  CHE 20                          Switzerland           705,501    \n",
       "25  POL 21                          Poland                585,783    \n",
       "26  SWE 22                          Sweden                551,032    \n",
       "27  BEL 23                          Belgium               531,767    \n",
       "28  ARG 24                          Argentina             518,475    \n",
       "29  THA 25                          Thailand              504,993    \n",
       "30  AUT 26                          Austria               455,737    \n",
       "31  IRN 27                          Iran, Islamic Rep.    454,013    \n",
       "32  NOR 28                          Norway                434,751    \n",
       "33  ARE 29                          United Arab Emirates  414,179    \n",
       "34  NGA 30                          Nigeria               397,270    \n",
       "... ... ...                         ...                  ...         \n",
       "299                                                                  \n",
       "300                                                                  \n",
       "301                                                                  \n",
       "302                                                                  \n",
       "303                                                                  \n",
       "304                                                                  \n",
       "305                                                                  \n",
       "306                                                                  \n",
       "307                                                                  \n",
       "308                                                                  \n",
       "309                                                                  \n",
       "310                                                                  \n",
       "311                                                                  \n",
       "312                                                                  \n",
       "313                                                                  \n",
       "314                                                                  \n",
       "315                                                                  \n",
       "316                                                                  \n",
       "317                                                                  \n",
       "318                                                                  \n",
       "319                                                                  \n",
       "320                                                                  \n",
       "321                                                                  \n",
       "322                                                                  \n",
       "323                                                                  \n",
       "324                                                                  \n",
       "325                                                                  \n",
       "326                                                                  \n",
       "327                                                                  \n",
       "328                                                                  "
      ]
     },
     "metadata": {},
     "output_type": "display_data"
    },
    {
     "data": {
      "text/html": [
       "<table>\n",
       "<thead><tr><th></th><th scope=col>X</th><th scope=col>Gross.domestic.product.2018</th><th scope=col>X.2</th><th scope=col>X.3</th></tr></thead>\n",
       "<tbody>\n",
       "\t<tr><th scope=row>5</th><td>USA           </td><td>1             </td><td>United States </td><td> 20,494,100   </td></tr>\n",
       "\t<tr><th scope=row>6</th><td>CHN           </td><td>2             </td><td>China         </td><td> 13,608,152   </td></tr>\n",
       "\t<tr><th scope=row>7</th><td>JPN           </td><td>3             </td><td>Japan         </td><td> 4,970,916    </td></tr>\n",
       "\t<tr><th scope=row>8</th><td>DEU           </td><td>4             </td><td>Germany       </td><td> 3,996,759    </td></tr>\n",
       "\t<tr><th scope=row>9</th><td>GBR           </td><td>5             </td><td>United Kingdom</td><td> 2,825,208    </td></tr>\n",
       "\t<tr><th scope=row>10</th><td>FRA           </td><td>6             </td><td>France        </td><td> 2,777,535    </td></tr>\n",
       "</tbody>\n",
       "</table>\n"
      ],
      "text/latex": [
       "\\begin{tabular}{r|llll}\n",
       "  & X & Gross.domestic.product.2018 & X.2 & X.3\\\\\n",
       "\\hline\n",
       "\t5 & USA            & 1              & United States  &  20,494,100   \\\\\n",
       "\t6 & CHN            & 2              & China          &  13,608,152   \\\\\n",
       "\t7 & JPN            & 3              & Japan          &  4,970,916    \\\\\n",
       "\t8 & DEU            & 4              & Germany        &  3,996,759    \\\\\n",
       "\t9 & GBR            & 5              & United Kingdom &  2,825,208    \\\\\n",
       "\t10 & FRA            & 6              & France         &  2,777,535    \\\\\n",
       "\\end{tabular}\n"
      ],
      "text/markdown": [
       "\n",
       "| <!--/--> | X | Gross.domestic.product.2018 | X.2 | X.3 |\n",
       "|---|---|---|---|---|\n",
       "| 5 | USA            | 1              | United States  |  20,494,100    |\n",
       "| 6 | CHN            | 2              | China          |  13,608,152    |\n",
       "| 7 | JPN            | 3              | Japan          |  4,970,916     |\n",
       "| 8 | DEU            | 4              | Germany        |  3,996,759     |\n",
       "| 9 | GBR            | 5              | United Kingdom |  2,825,208     |\n",
       "| 10 | FRA            | 6              | France         |  2,777,535     |\n",
       "\n"
      ],
      "text/plain": [
       "   X   Gross.domestic.product.2018 X.2            X.3         \n",
       "5  USA 1                           United States   20,494,100 \n",
       "6  CHN 2                           China           13,608,152 \n",
       "7  JPN 3                           Japan           4,970,916  \n",
       "8  DEU 4                           Germany         3,996,759  \n",
       "9  GBR 5                           United Kingdom  2,825,208  \n",
       "10 FRA 6                           France          2,777,535  "
      ]
     },
     "metadata": {},
     "output_type": "display_data"
    }
   ],
   "source": [
    "# 1-4 줄 삭제, (1,2,4,5) 컬럼만 발췌\n",
    "GDP_ranking2 <-GDP_ranking[-(1:4),-c(3,6)]\n",
    "GDP_ranking2 \n",
    "head(GDP_ranking2)"
   ]
  },
  {
   "cell_type": "code",
   "execution_count": 24,
   "id": "bb84c17a",
   "metadata": {},
   "outputs": [
    {
     "data": {
      "text/html": [
       "<table>\n",
       "<thead><tr><th></th><th scope=col>X</th><th scope=col>Gross.domestic.product.2018</th><th scope=col>X.2</th><th scope=col>X.3</th></tr></thead>\n",
       "<tbody>\n",
       "\t<tr><th scope=row>5</th><td>USA               </td><td>1                 </td><td>United States     </td><td> 20,494,100       </td></tr>\n",
       "\t<tr><th scope=row>6</th><td>CHN               </td><td>2                 </td><td>China             </td><td> 13,608,152       </td></tr>\n",
       "\t<tr><th scope=row>7</th><td>JPN               </td><td>3                 </td><td>Japan             </td><td> 4,970,916        </td></tr>\n",
       "\t<tr><th scope=row>8</th><td>DEU               </td><td>4                 </td><td>Germany           </td><td> 3,996,759        </td></tr>\n",
       "\t<tr><th scope=row>9</th><td>GBR               </td><td>5                 </td><td>United Kingdom    </td><td> 2,825,208        </td></tr>\n",
       "\t<tr><th scope=row>10</th><td>FRA               </td><td>6                 </td><td>France            </td><td> 2,777,535        </td></tr>\n",
       "\t<tr><th scope=row>11</th><td>IND               </td><td>7                 </td><td>India             </td><td> 2,726,323        </td></tr>\n",
       "\t<tr><th scope=row>12</th><td>ITA               </td><td>8                 </td><td>Italy             </td><td> 2,073,902        </td></tr>\n",
       "\t<tr><th scope=row>13</th><td>BRA               </td><td>9                 </td><td>Brazil            </td><td> 1,868,626        </td></tr>\n",
       "\t<tr><th scope=row>14</th><td>CAN               </td><td>10                </td><td>Canada            </td><td> 1,712,510        </td></tr>\n",
       "\t<tr><th scope=row>15</th><td>RUS               </td><td>11                </td><td>Russian Federation</td><td> 1,657,554        </td></tr>\n",
       "\t<tr><th scope=row>16</th><td>KOR               </td><td>12                </td><td>Korea, Rep.       </td><td> 1,619,424        </td></tr>\n",
       "\t<tr><th scope=row>17</th><td>AUS               </td><td>13                </td><td>Australia         </td><td> 1,432,195        </td></tr>\n",
       "\t<tr><th scope=row>18</th><td>ESP               </td><td>14                </td><td>Spain             </td><td> 1,426,189        </td></tr>\n",
       "\t<tr><th scope=row>19</th><td>MEX               </td><td>15                </td><td>Mexico            </td><td> 1,223,809        </td></tr>\n",
       "</tbody>\n",
       "</table>\n"
      ],
      "text/latex": [
       "\\begin{tabular}{r|llll}\n",
       "  & X & Gross.domestic.product.2018 & X.2 & X.3\\\\\n",
       "\\hline\n",
       "\t5 & USA                & 1                  & United States      &  20,494,100       \\\\\n",
       "\t6 & CHN                & 2                  & China              &  13,608,152       \\\\\n",
       "\t7 & JPN                & 3                  & Japan              &  4,970,916        \\\\\n",
       "\t8 & DEU                & 4                  & Germany            &  3,996,759        \\\\\n",
       "\t9 & GBR                & 5                  & United Kingdom     &  2,825,208        \\\\\n",
       "\t10 & FRA                & 6                  & France             &  2,777,535        \\\\\n",
       "\t11 & IND                & 7                  & India              &  2,726,323        \\\\\n",
       "\t12 & ITA                & 8                  & Italy              &  2,073,902        \\\\\n",
       "\t13 & BRA                & 9                  & Brazil             &  1,868,626        \\\\\n",
       "\t14 & CAN                & 10                 & Canada             &  1,712,510        \\\\\n",
       "\t15 & RUS                & 11                 & Russian Federation &  1,657,554        \\\\\n",
       "\t16 & KOR                & 12                 & Korea, Rep.        &  1,619,424        \\\\\n",
       "\t17 & AUS                & 13                 & Australia          &  1,432,195        \\\\\n",
       "\t18 & ESP                & 14                 & Spain              &  1,426,189        \\\\\n",
       "\t19 & MEX                & 15                 & Mexico             &  1,223,809        \\\\\n",
       "\\end{tabular}\n"
      ],
      "text/markdown": [
       "\n",
       "| <!--/--> | X | Gross.domestic.product.2018 | X.2 | X.3 |\n",
       "|---|---|---|---|---|\n",
       "| 5 | USA                | 1                  | United States      |  20,494,100        |\n",
       "| 6 | CHN                | 2                  | China              |  13,608,152        |\n",
       "| 7 | JPN                | 3                  | Japan              |  4,970,916         |\n",
       "| 8 | DEU                | 4                  | Germany            |  3,996,759         |\n",
       "| 9 | GBR                | 5                  | United Kingdom     |  2,825,208         |\n",
       "| 10 | FRA                | 6                  | France             |  2,777,535         |\n",
       "| 11 | IND                | 7                  | India              |  2,726,323         |\n",
       "| 12 | ITA                | 8                  | Italy              |  2,073,902         |\n",
       "| 13 | BRA                | 9                  | Brazil             |  1,868,626         |\n",
       "| 14 | CAN                | 10                 | Canada             |  1,712,510         |\n",
       "| 15 | RUS                | 11                 | Russian Federation |  1,657,554         |\n",
       "| 16 | KOR                | 12                 | Korea, Rep.        |  1,619,424         |\n",
       "| 17 | AUS                | 13                 | Australia          |  1,432,195         |\n",
       "| 18 | ESP                | 14                 | Spain              |  1,426,189         |\n",
       "| 19 | MEX                | 15                 | Mexico             |  1,223,809         |\n",
       "\n"
      ],
      "text/plain": [
       "   X   Gross.domestic.product.2018 X.2                X.3         \n",
       "5  USA 1                           United States       20,494,100 \n",
       "6  CHN 2                           China               13,608,152 \n",
       "7  JPN 3                           Japan               4,970,916  \n",
       "8  DEU 4                           Germany             3,996,759  \n",
       "9  GBR 5                           United Kingdom      2,825,208  \n",
       "10 FRA 6                           France              2,777,535  \n",
       "11 IND 7                           India               2,726,323  \n",
       "12 ITA 8                           Italy               2,073,902  \n",
       "13 BRA 9                           Brazil              1,868,626  \n",
       "14 CAN 10                          Canada              1,712,510  \n",
       "15 RUS 11                          Russian Federation  1,657,554  \n",
       "16 KOR 12                          Korea, Rep.         1,619,424  \n",
       "17 AUS 13                          Australia           1,432,195  \n",
       "18 ESP 14                          Spain               1,426,189  \n",
       "19 MEX 15                          Mexico              1,223,809  "
      ]
     },
     "metadata": {},
     "output_type": "display_data"
    }
   ],
   "source": [
    "# 상위 15개국만 선별한다.\n",
    "\n",
    "GDP_ranking15 <-GDP_ranking2[1:15,] \n",
    "GDP_ranking15"
   ]
  },
  {
   "cell_type": "code",
   "execution_count": 25,
   "id": "b2c6daf4",
   "metadata": {},
   "outputs": [
    {
     "data": {
      "text/html": [
       "<table>\n",
       "<thead><tr><th></th><th scope=col>Code</th><th scope=col>Ranking</th><th scope=col>Nation</th><th scope=col>GDP</th></tr></thead>\n",
       "<tbody>\n",
       "\t<tr><th scope=row>5</th><td>USA               </td><td>1                 </td><td>United States     </td><td> 20,494,100       </td></tr>\n",
       "\t<tr><th scope=row>6</th><td>CHN               </td><td>2                 </td><td>China             </td><td> 13,608,152       </td></tr>\n",
       "\t<tr><th scope=row>7</th><td>JPN               </td><td>3                 </td><td>Japan             </td><td> 4,970,916        </td></tr>\n",
       "\t<tr><th scope=row>8</th><td>DEU               </td><td>4                 </td><td>Germany           </td><td> 3,996,759        </td></tr>\n",
       "\t<tr><th scope=row>9</th><td>GBR               </td><td>5                 </td><td>United Kingdom    </td><td> 2,825,208        </td></tr>\n",
       "\t<tr><th scope=row>10</th><td>FRA               </td><td>6                 </td><td>France            </td><td> 2,777,535        </td></tr>\n",
       "\t<tr><th scope=row>11</th><td>IND               </td><td>7                 </td><td>India             </td><td> 2,726,323        </td></tr>\n",
       "\t<tr><th scope=row>12</th><td>ITA               </td><td>8                 </td><td>Italy             </td><td> 2,073,902        </td></tr>\n",
       "\t<tr><th scope=row>13</th><td>BRA               </td><td>9                 </td><td>Brazil            </td><td> 1,868,626        </td></tr>\n",
       "\t<tr><th scope=row>14</th><td>CAN               </td><td>10                </td><td>Canada            </td><td> 1,712,510        </td></tr>\n",
       "\t<tr><th scope=row>15</th><td>RUS               </td><td>11                </td><td>Russian Federation</td><td> 1,657,554        </td></tr>\n",
       "\t<tr><th scope=row>16</th><td>KOR               </td><td>12                </td><td>Korea, Rep.       </td><td> 1,619,424        </td></tr>\n",
       "\t<tr><th scope=row>17</th><td>AUS               </td><td>13                </td><td>Australia         </td><td> 1,432,195        </td></tr>\n",
       "\t<tr><th scope=row>18</th><td>ESP               </td><td>14                </td><td>Spain             </td><td> 1,426,189        </td></tr>\n",
       "\t<tr><th scope=row>19</th><td>MEX               </td><td>15                </td><td>Mexico            </td><td> 1,223,809        </td></tr>\n",
       "</tbody>\n",
       "</table>\n"
      ],
      "text/latex": [
       "\\begin{tabular}{r|llll}\n",
       "  & Code & Ranking & Nation & GDP\\\\\n",
       "\\hline\n",
       "\t5 & USA                & 1                  & United States      &  20,494,100       \\\\\n",
       "\t6 & CHN                & 2                  & China              &  13,608,152       \\\\\n",
       "\t7 & JPN                & 3                  & Japan              &  4,970,916        \\\\\n",
       "\t8 & DEU                & 4                  & Germany            &  3,996,759        \\\\\n",
       "\t9 & GBR                & 5                  & United Kingdom     &  2,825,208        \\\\\n",
       "\t10 & FRA                & 6                  & France             &  2,777,535        \\\\\n",
       "\t11 & IND                & 7                  & India              &  2,726,323        \\\\\n",
       "\t12 & ITA                & 8                  & Italy              &  2,073,902        \\\\\n",
       "\t13 & BRA                & 9                  & Brazil             &  1,868,626        \\\\\n",
       "\t14 & CAN                & 10                 & Canada             &  1,712,510        \\\\\n",
       "\t15 & RUS                & 11                 & Russian Federation &  1,657,554        \\\\\n",
       "\t16 & KOR                & 12                 & Korea, Rep.        &  1,619,424        \\\\\n",
       "\t17 & AUS                & 13                 & Australia          &  1,432,195        \\\\\n",
       "\t18 & ESP                & 14                 & Spain              &  1,426,189        \\\\\n",
       "\t19 & MEX                & 15                 & Mexico             &  1,223,809        \\\\\n",
       "\\end{tabular}\n"
      ],
      "text/markdown": [
       "\n",
       "| <!--/--> | Code | Ranking | Nation | GDP |\n",
       "|---|---|---|---|---|\n",
       "| 5 | USA                | 1                  | United States      |  20,494,100        |\n",
       "| 6 | CHN                | 2                  | China              |  13,608,152        |\n",
       "| 7 | JPN                | 3                  | Japan              |  4,970,916         |\n",
       "| 8 | DEU                | 4                  | Germany            |  3,996,759         |\n",
       "| 9 | GBR                | 5                  | United Kingdom     |  2,825,208         |\n",
       "| 10 | FRA                | 6                  | France             |  2,777,535         |\n",
       "| 11 | IND                | 7                  | India              |  2,726,323         |\n",
       "| 12 | ITA                | 8                  | Italy              |  2,073,902         |\n",
       "| 13 | BRA                | 9                  | Brazil             |  1,868,626         |\n",
       "| 14 | CAN                | 10                 | Canada             |  1,712,510         |\n",
       "| 15 | RUS                | 11                 | Russian Federation |  1,657,554         |\n",
       "| 16 | KOR                | 12                 | Korea, Rep.        |  1,619,424         |\n",
       "| 17 | AUS                | 13                 | Australia          |  1,432,195         |\n",
       "| 18 | ESP                | 14                 | Spain              |  1,426,189         |\n",
       "| 19 | MEX                | 15                 | Mexico             |  1,223,809         |\n",
       "\n"
      ],
      "text/plain": [
       "   Code Ranking Nation             GDP         \n",
       "5  USA  1       United States       20,494,100 \n",
       "6  CHN  2       China               13,608,152 \n",
       "7  JPN  3       Japan               4,970,916  \n",
       "8  DEU  4       Germany             3,996,759  \n",
       "9  GBR  5       United Kingdom      2,825,208  \n",
       "10 FRA  6       France              2,777,535  \n",
       "11 IND  7       India               2,726,323  \n",
       "12 ITA  8       Italy               2,073,902  \n",
       "13 BRA  9       Brazil              1,868,626  \n",
       "14 CAN  10      Canada              1,712,510  \n",
       "15 RUS  11      Russian Federation  1,657,554  \n",
       "16 KOR  12      Korea, Rep.         1,619,424  \n",
       "17 AUS  13      Australia           1,432,195  \n",
       "18 ESP  14      Spain               1,426,189  \n",
       "19 MEX  15      Mexico              1,223,809  "
      ]
     },
     "metadata": {},
     "output_type": "display_data"
    }
   ],
   "source": [
    "# 컬럼이름 정의 : Code, Ranking , Nation, GDP\n",
    "\n",
    "colnames(GDP_ranking15) <- c('Code','Ranking','Nation','GDP')\n",
    "\n",
    "GDP_ranking15"
   ]
  },
  {
   "cell_type": "code",
   "execution_count": 26,
   "id": "3a4b739b",
   "metadata": {},
   "outputs": [
    {
     "name": "stdout",
     "output_type": "stream",
     "text": [
      "   Code Ranking             Nation          GDP\n",
      "1   USA       1      United States  20,494,100 \n",
      "2   CHN       2              China  13,608,152 \n",
      "3   JPN       3              Japan   4,970,916 \n",
      "4   DEU       4            Germany   3,996,759 \n",
      "5   GBR       5     United Kingdom   2,825,208 \n",
      "6   FRA       6             France   2,777,535 \n",
      "7   IND       7              India   2,726,323 \n",
      "8   ITA       8              Italy   2,073,902 \n",
      "9   BRA       9             Brazil   1,868,626 \n",
      "10  CAN      10             Canada   1,712,510 \n",
      "11  RUS      11 Russian Federation   1,657,554 \n",
      "12  KOR      12        Korea, Rep.   1,619,424 \n",
      "13  AUS      13          Australia   1,432,195 \n",
      "14  ESP      14              Spain   1,426,189 \n",
      "15  MEX      15             Mexico   1,223,809 \n"
     ]
    }
   ],
   "source": [
    "#rownames 새로 구성하기 \n",
    "rownames(GDP_ranking15) <-c()\n",
    "\n",
    "print(GDP_ranking15)"
   ]
  },
  {
   "cell_type": "code",
   "execution_count": 27,
   "id": "f1eebc8a",
   "metadata": {},
   "outputs": [
    {
     "name": "stdout",
     "output_type": "stream",
     "text": [
      "'data.frame':\t15 obs. of  4 variables:\n",
      " $ Code   : Factor w/ 230 levels \"\",\"ABW\",\"AFG\",..: 216 38 103 52 72 68 94 100 28 34 ...\n",
      " $ Ranking: Factor w/ 212 levels \"\",\".. Not available.  \",..: 3 114 131 142 153 164 175 186 197 4 ...\n",
      " $ Nation : Factor w/ 231 levels \"\",\"Afghanistan\",..: 219 43 104 78 218 73 95 102 28 37 ...\n",
      " $ GDP    : Factor w/ 220 levels \"\",\" .. \",\" 1,022 \",..: 78 44 137 113 77 75 74 67 20 19 ...\n"
     ]
    }
   ],
   "source": [
    "# 구조 확인하기\n",
    "\n",
    "str(GDP_ranking15)\n"
   ]
  },
  {
   "cell_type": "code",
   "execution_count": 28,
   "id": "7ed5bb4a",
   "metadata": {},
   "outputs": [],
   "source": [
    "# Factor 의 갯수가 15개가 정상인데 이상 <- 재구성\n",
    "\n",
    "GDP_ranking15$Code <- factor(GDP_ranking15$Code)\n",
    "\n"
   ]
  },
  {
   "cell_type": "code",
   "execution_count": 29,
   "id": "4c17e3fe",
   "metadata": {},
   "outputs": [
    {
     "name": "stdout",
     "output_type": "stream",
     "text": [
      "'data.frame':\t15 obs. of  4 variables:\n",
      " $ Code   : Factor w/ 15 levels \"AUS\",\"BRA\",\"CAN\",..: 15 4 11 5 8 7 9 10 2 3 ...\n",
      " $ Ranking: Factor w/ 15 levels \"1\",\"10\",\"11\",..: 1 8 9 10 11 12 13 14 15 2 ...\n",
      " $ Nation : Factor w/ 15 levels \"Australia\",\"Brazil\",..: 15 4 9 6 14 5 7 8 2 3 ...\n",
      " $ GDP    : Factor w/ 15 levels \" 1,223,809 \",..: 13 8 15 14 12 11 10 9 7 6 ...\n"
     ]
    }
   ],
   "source": [
    "# for문을 이용한 factor 조정\n",
    "\n",
    "for(i in 1:ncol(GDP_ranking15) ){\n",
    "    \n",
    "    GDP_ranking15[,i] <- factor(GDP_ranking15[,i])\n",
    "}\n",
    "\n",
    "str(GDP_ranking15)"
   ]
  },
  {
   "cell_type": "code",
   "execution_count": 30,
   "id": "6957c6ef",
   "metadata": {},
   "outputs": [
    {
     "data": {
      "text/html": [
       "<ol class=list-inline>\n",
       "\t<li>USA</li>\n",
       "\t<li>CHN</li>\n",
       "\t<li>JPN</li>\n",
       "\t<li>DEU</li>\n",
       "\t<li>GBR</li>\n",
       "\t<li>FRA</li>\n",
       "\t<li>IND</li>\n",
       "\t<li>ITA</li>\n",
       "\t<li>BRA</li>\n",
       "\t<li>CAN</li>\n",
       "\t<li>RUS</li>\n",
       "\t<li>KOR</li>\n",
       "\t<li>AUS</li>\n",
       "\t<li>ESP</li>\n",
       "\t<li>MEX</li>\n",
       "</ol>\n",
       "\n",
       "<details>\n",
       "\t<summary style=display:list-item;cursor:pointer>\n",
       "\t\t<strong>Levels</strong>:\n",
       "\t</summary>\n",
       "\t<ol class=list-inline>\n",
       "\t\t<li>'AUS'</li>\n",
       "\t\t<li>'BRA'</li>\n",
       "\t\t<li>'CAN'</li>\n",
       "\t\t<li>'CHN'</li>\n",
       "\t\t<li>'DEU'</li>\n",
       "\t\t<li>'ESP'</li>\n",
       "\t\t<li>'FRA'</li>\n",
       "\t\t<li>'GBR'</li>\n",
       "\t\t<li>'IND'</li>\n",
       "\t\t<li>'ITA'</li>\n",
       "\t\t<li>'JPN'</li>\n",
       "\t\t<li>'KOR'</li>\n",
       "\t\t<li>'MEX'</li>\n",
       "\t\t<li>'RUS'</li>\n",
       "\t\t<li>'USA'</li>\n",
       "\t</ol>\n",
       "</details>"
      ],
      "text/latex": [
       "\\begin{enumerate*}\n",
       "\\item USA\n",
       "\\item CHN\n",
       "\\item JPN\n",
       "\\item DEU\n",
       "\\item GBR\n",
       "\\item FRA\n",
       "\\item IND\n",
       "\\item ITA\n",
       "\\item BRA\n",
       "\\item CAN\n",
       "\\item RUS\n",
       "\\item KOR\n",
       "\\item AUS\n",
       "\\item ESP\n",
       "\\item MEX\n",
       "\\end{enumerate*}\n",
       "\n",
       "\\emph{Levels}: \\begin{enumerate*}\n",
       "\\item 'AUS'\n",
       "\\item 'BRA'\n",
       "\\item 'CAN'\n",
       "\\item 'CHN'\n",
       "\\item 'DEU'\n",
       "\\item 'ESP'\n",
       "\\item 'FRA'\n",
       "\\item 'GBR'\n",
       "\\item 'IND'\n",
       "\\item 'ITA'\n",
       "\\item 'JPN'\n",
       "\\item 'KOR'\n",
       "\\item 'MEX'\n",
       "\\item 'RUS'\n",
       "\\item 'USA'\n",
       "\\end{enumerate*}\n"
      ],
      "text/markdown": [
       "1. USA\n",
       "2. CHN\n",
       "3. JPN\n",
       "4. DEU\n",
       "5. GBR\n",
       "6. FRA\n",
       "7. IND\n",
       "8. ITA\n",
       "9. BRA\n",
       "10. CAN\n",
       "11. RUS\n",
       "12. KOR\n",
       "13. AUS\n",
       "14. ESP\n",
       "15. MEX\n",
       "\n",
       "\n",
       "\n",
       "**Levels**: 1. 'AUS'\n",
       "2. 'BRA'\n",
       "3. 'CAN'\n",
       "4. 'CHN'\n",
       "5. 'DEU'\n",
       "6. 'ESP'\n",
       "7. 'FRA'\n",
       "8. 'GBR'\n",
       "9. 'IND'\n",
       "10. 'ITA'\n",
       "11. 'JPN'\n",
       "12. 'KOR'\n",
       "13. 'MEX'\n",
       "14. 'RUS'\n",
       "15. 'USA'\n",
       "\n",
       "\n"
      ],
      "text/plain": [
       " [1] USA CHN JPN DEU GBR FRA IND ITA BRA CAN RUS KOR AUS ESP MEX\n",
       "Levels: AUS BRA CAN CHN DEU ESP FRA GBR IND ITA JPN KOR MEX RUS USA"
      ]
     },
     "metadata": {},
     "output_type": "display_data"
    },
    {
     "data": {
      "text/html": [
       "<ol class=list-inline>\n",
       "\t<li>USA</li>\n",
       "\t<li>CHN</li>\n",
       "\t<li>JPN</li>\n",
       "\t<li>DEU</li>\n",
       "\t<li>GBR</li>\n",
       "\t<li>FRA</li>\n",
       "\t<li>IND</li>\n",
       "\t<li>ITA</li>\n",
       "\t<li>BRA</li>\n",
       "\t<li>CAN</li>\n",
       "\t<li>RUS</li>\n",
       "\t<li>KOR</li>\n",
       "\t<li>AUS</li>\n",
       "\t<li>ESP</li>\n",
       "\t<li>MEX</li>\n",
       "</ol>\n",
       "\n",
       "<details>\n",
       "\t<summary style=display:list-item;cursor:pointer>\n",
       "\t\t<strong>Levels</strong>:\n",
       "\t</summary>\n",
       "\t<ol class=list-inline>\n",
       "\t\t<li>'AUS'</li>\n",
       "\t\t<li>'BRA'</li>\n",
       "\t\t<li>'CAN'</li>\n",
       "\t\t<li>'CHN'</li>\n",
       "\t\t<li>'DEU'</li>\n",
       "\t\t<li>'ESP'</li>\n",
       "\t\t<li>'FRA'</li>\n",
       "\t\t<li>'GBR'</li>\n",
       "\t\t<li>'IND'</li>\n",
       "\t\t<li>'ITA'</li>\n",
       "\t\t<li>'JPN'</li>\n",
       "\t\t<li>'KOR'</li>\n",
       "\t\t<li>'MEX'</li>\n",
       "\t\t<li>'RUS'</li>\n",
       "\t\t<li>'USA'</li>\n",
       "\t</ol>\n",
       "</details>"
      ],
      "text/latex": [
       "\\begin{enumerate*}\n",
       "\\item USA\n",
       "\\item CHN\n",
       "\\item JPN\n",
       "\\item DEU\n",
       "\\item GBR\n",
       "\\item FRA\n",
       "\\item IND\n",
       "\\item ITA\n",
       "\\item BRA\n",
       "\\item CAN\n",
       "\\item RUS\n",
       "\\item KOR\n",
       "\\item AUS\n",
       "\\item ESP\n",
       "\\item MEX\n",
       "\\end{enumerate*}\n",
       "\n",
       "\\emph{Levels}: \\begin{enumerate*}\n",
       "\\item 'AUS'\n",
       "\\item 'BRA'\n",
       "\\item 'CAN'\n",
       "\\item 'CHN'\n",
       "\\item 'DEU'\n",
       "\\item 'ESP'\n",
       "\\item 'FRA'\n",
       "\\item 'GBR'\n",
       "\\item 'IND'\n",
       "\\item 'ITA'\n",
       "\\item 'JPN'\n",
       "\\item 'KOR'\n",
       "\\item 'MEX'\n",
       "\\item 'RUS'\n",
       "\\item 'USA'\n",
       "\\end{enumerate*}\n"
      ],
      "text/markdown": [
       "1. USA\n",
       "2. CHN\n",
       "3. JPN\n",
       "4. DEU\n",
       "5. GBR\n",
       "6. FRA\n",
       "7. IND\n",
       "8. ITA\n",
       "9. BRA\n",
       "10. CAN\n",
       "11. RUS\n",
       "12. KOR\n",
       "13. AUS\n",
       "14. ESP\n",
       "15. MEX\n",
       "\n",
       "\n",
       "\n",
       "**Levels**: 1. 'AUS'\n",
       "2. 'BRA'\n",
       "3. 'CAN'\n",
       "4. 'CHN'\n",
       "5. 'DEU'\n",
       "6. 'ESP'\n",
       "7. 'FRA'\n",
       "8. 'GBR'\n",
       "9. 'IND'\n",
       "10. 'ITA'\n",
       "11. 'JPN'\n",
       "12. 'KOR'\n",
       "13. 'MEX'\n",
       "14. 'RUS'\n",
       "15. 'USA'\n",
       "\n",
       "\n"
      ],
      "text/plain": [
       " [1] USA CHN JPN DEU GBR FRA IND ITA BRA CAN RUS KOR AUS ESP MEX\n",
       "Levels: AUS BRA CAN CHN DEU ESP FRA GBR IND ITA JPN KOR MEX RUS USA"
      ]
     },
     "metadata": {},
     "output_type": "display_data"
    }
   ],
   "source": [
    "#확인하려고 내가 한것 \n",
    "GDP_ranking15[,1] \n",
    "GDP_ranking15$Code"
   ]
  },
  {
   "cell_type": "code",
   "execution_count": 31,
   "id": "b2026ec8",
   "metadata": {},
   "outputs": [
    {
     "name": "stdout",
     "output_type": "stream",
     "text": [
      "   Code Ranking             Nation          GDP\n",
      "1   USA       1      United States  20,494,100 \n",
      "2   CHN       2              China  13,608,152 \n",
      "3   JPN       3              Japan   4,970,916 \n",
      "4   DEU       4            Germany   3,996,759 \n",
      "5   GBR       5     United Kingdom   2,825,208 \n",
      "6   FRA       6             France   2,777,535 \n",
      "7   IND       7              India   2,726,323 \n",
      "8   ITA       8              Italy   2,073,902 \n",
      "9   BRA       9             Brazil   1,868,626 \n",
      "10  CAN      10             Canada   1,712,510 \n",
      "11  RUS      11 Russian Federation   1,657,554 \n",
      "12  KOR      12        Korea, Rep.   1,619,424 \n",
      "13  AUS      13          Australia   1,432,195 \n",
      "14  ESP      14              Spain   1,426,189 \n",
      "15  MEX      15             Mexico   1,223,809 \n"
     ]
    }
   ],
   "source": [
    "print(GDP_ranking15)"
   ]
  },
  {
   "cell_type": "code",
   "execution_count": 32,
   "id": "47d76b51",
   "metadata": {},
   "outputs": [
    {
     "name": "stderr",
     "output_type": "stream",
     "text": [
      "\n",
      "Attaching package: ‘stringr’\n",
      "\n",
      "The following object is masked _by_ ‘.GlobalEnv’:\n",
      "\n",
      "    fruit\n",
      "\n"
     ]
    },
    {
     "name": "stdout",
     "output_type": "stream",
     "text": [
      "'data.frame':\t15 obs. of  4 variables:\n",
      " $ Code   : Factor w/ 15 levels \"AUS\",\"BRA\",\"CAN\",..: 15 4 11 5 8 7 9 10 2 3 ...\n",
      " $ Ranking: Factor w/ 15 levels \"1\",\"10\",\"11\",..: 1 8 9 10 11 12 13 14 15 2 ...\n",
      " $ Nation : Factor w/ 15 levels \"Australia\",\"Brazil\",..: 15 4 9 6 14 5 7 8 2 3 ...\n",
      " $ GDP    : num  20494100 13608152 4970916 3996759 2825208 ...\n"
     ]
    }
   ],
   "source": [
    "library(stringr)\n",
    "GDP_ranking15$GDP <- as.numeric(str_replace_all(GDP_ranking15$GDP,\",\",\"\"))\n",
    "str(GDP_ranking15)"
   ]
  },
  {
   "cell_type": "code",
   "execution_count": 33,
   "id": "9352f59d",
   "metadata": {},
   "outputs": [
    {
     "data": {
      "image/png": "[encoded data removed]",
      "text/plain": [
       "Plot with title “2018년 GDP 세계 15위 국가”"
      ]
     },
     "metadata": {},
     "output_type": "display_data"
    }
   ],
   "source": [
    "options(scipen = 100)\n",
    "options(warn = -1)  #warning 지우기\n",
    "par(family = \"AppleGothic\")\n",
    "barplot(GDP_ranking15$GDP/1000, #GDP 상위 15개국 data\n",
    "        main = \"2018년 GDP 세계 15위 국가\",\n",
    "        xlab = \"국가(Nation)\",\n",
    "        ylab = \"단위(천달러)\",\n",
    "        names = GDP_ranking15$Code,\n",
    "        cex.names =0.6,\n",
    "       # col = c('red','green','blue','violet')\n",
    "        #col = rainbow(nrow(GDP_ranking15))\n",
    "      col = c('red','red',rep('blue',9),'red',rep('blue',3)),\n",
    "        ylim =c(0,25000)\n",
    "       )"
   ]
  },
  {
   "cell_type": "code",
   "execution_count": 34,
   "id": "f20a0eaa",
   "metadata": {},
   "outputs": [
    {
     "data": {
      "image/png": "[encoded data removed]",
      "text/plain": [
       "Plot with title “2018년 GDP 세계 15위 국가”"
      ]
     },
     "metadata": {},
     "output_type": "display_data"
    }
   ],
   "source": [
    "# GDP가 3000 이상인 국가만 빨간색으로 표시하기\n",
    "options(warn = -1)  #warning 지우기\n",
    "par(family = \"AppleGothic\")\n",
    "barplot(GDP_ranking15$GDP/1000, #GDP 상위 15개국 data\n",
    "        main = \"2018년 GDP 세계 15위 국가\",\n",
    "        xlab = \"국가(Nation)\",\n",
    "        ylab = \"단위(천달러)\",\n",
    "        names = GDP_ranking15$Code,\n",
    "        cex.names =0.6,\n",
    "       # col = c('red','green','blue','violet')\n",
    "        #col = rainbow(nrow(GDP_ranking15))\n",
    "      col =ifelse(GDP_ranking15$GDP/1000>=3000,\"red\",\"blue\") ,\n",
    "        ylim =c(0,25000)\n",
    "       )"
   ]
  },
  {
   "cell_type": "markdown",
   "id": "69a79a1c",
   "metadata": {},
   "source": [
    "---\n",
    "# 데이터 처리"
   ]
  },
  {
   "cell_type": "code",
   "execution_count": 35,
   "id": "db0a7923",
   "metadata": {
    "scrolled": true
   },
   "outputs": [
    {
     "name": "stderr",
     "output_type": "stream",
     "text": [
      "\n",
      "Attaching package: ‘dplyr’\n",
      "\n",
      "The following objects are masked from ‘package:stats’:\n",
      "\n",
      "    filter, lag\n",
      "\n",
      "The following objects are masked from ‘package:base’:\n",
      "\n",
      "    intersect, setdiff, setequal, union\n",
      "\n"
     ]
    }
   ],
   "source": [
    "# 데이터 정렬\n",
    "library(dplyr)"
   ]
  },
  {
   "cell_type": "code",
   "execution_count": 36,
   "id": "d56f5341",
   "metadata": {},
   "outputs": [],
   "source": [
    "help(dplyr)"
   ]
  },
  {
   "cell_type": "code",
   "execution_count": 37,
   "id": "4eeeaa06",
   "metadata": {},
   "outputs": [
    {
     "data": {
      "text/html": [
       "<table>\n",
       "<thead><tr><th scope=col>Sepal.Length</th><th scope=col>Sepal.Width</th><th scope=col>Petal.Length</th><th scope=col>Petal.Width</th><th scope=col>Species</th></tr></thead>\n",
       "<tbody>\n",
       "\t<tr><td>4.3   </td><td>3.0   </td><td>1.1   </td><td>0.1   </td><td>setosa</td></tr>\n",
       "\t<tr><td>4.4   </td><td>2.9   </td><td>1.4   </td><td>0.2   </td><td>setosa</td></tr>\n",
       "\t<tr><td>4.4   </td><td>3.0   </td><td>1.3   </td><td>0.2   </td><td>setosa</td></tr>\n",
       "\t<tr><td>4.4   </td><td>3.2   </td><td>1.3   </td><td>0.2   </td><td>setosa</td></tr>\n",
       "\t<tr><td>4.5   </td><td>2.3   </td><td>1.3   </td><td>0.3   </td><td>setosa</td></tr>\n",
       "\t<tr><td>4.6   </td><td>3.1   </td><td>1.5   </td><td>0.2   </td><td>setosa</td></tr>\n",
       "</tbody>\n",
       "</table>\n"
      ],
      "text/latex": [
       "\\begin{tabular}{r|lllll}\n",
       " Sepal.Length & Sepal.Width & Petal.Length & Petal.Width & Species\\\\\n",
       "\\hline\n",
       "\t 4.3    & 3.0    & 1.1    & 0.1    & setosa\\\\\n",
       "\t 4.4    & 2.9    & 1.4    & 0.2    & setosa\\\\\n",
       "\t 4.4    & 3.0    & 1.3    & 0.2    & setosa\\\\\n",
       "\t 4.4    & 3.2    & 1.3    & 0.2    & setosa\\\\\n",
       "\t 4.5    & 2.3    & 1.3    & 0.3    & setosa\\\\\n",
       "\t 4.6    & 3.1    & 1.5    & 0.2    & setosa\\\\\n",
       "\\end{tabular}\n"
      ],
      "text/markdown": [
       "\n",
       "| Sepal.Length | Sepal.Width | Petal.Length | Petal.Width | Species |\n",
       "|---|---|---|---|---|\n",
       "| 4.3    | 3.0    | 1.1    | 0.1    | setosa |\n",
       "| 4.4    | 2.9    | 1.4    | 0.2    | setosa |\n",
       "| 4.4    | 3.0    | 1.3    | 0.2    | setosa |\n",
       "| 4.4    | 3.2    | 1.3    | 0.2    | setosa |\n",
       "| 4.5    | 2.3    | 1.3    | 0.3    | setosa |\n",
       "| 4.6    | 3.1    | 1.5    | 0.2    | setosa |\n",
       "\n"
      ],
      "text/plain": [
       "  Sepal.Length Sepal.Width Petal.Length Petal.Width Species\n",
       "1 4.3          3.0         1.1          0.1         setosa \n",
       "2 4.4          2.9         1.4          0.2         setosa \n",
       "3 4.4          3.0         1.3          0.2         setosa \n",
       "4 4.4          3.2         1.3          0.2         setosa \n",
       "5 4.5          2.3         1.3          0.3         setosa \n",
       "6 4.6          3.1         1.5          0.2         setosa "
      ]
     },
     "metadata": {},
     "output_type": "display_data"
    }
   ],
   "source": [
    "# Sepal.Length 기준으로 오름차순 정렬하기\n",
    "\n",
    "head(arrange(iris,Sepal.Length))"
   ]
  },
  {
   "cell_type": "code",
   "execution_count": 38,
   "id": "ce032c97",
   "metadata": {},
   "outputs": [
    {
     "data": {
      "text/html": [
       "<table>\n",
       "<thead><tr><th scope=col>Sepal.Length</th><th scope=col>Sepal.Width</th><th scope=col>Petal.Length</th><th scope=col>Petal.Width</th><th scope=col>Species</th></tr></thead>\n",
       "<tbody>\n",
       "\t<tr><td>4.3   </td><td>3.0   </td><td>1.1   </td><td>0.1   </td><td>setosa</td></tr>\n",
       "\t<tr><td>4.4   </td><td>3.0   </td><td>1.3   </td><td>0.2   </td><td>setosa</td></tr>\n",
       "\t<tr><td>4.4   </td><td>3.2   </td><td>1.3   </td><td>0.2   </td><td>setosa</td></tr>\n",
       "\t<tr><td>4.4   </td><td>2.9   </td><td>1.4   </td><td>0.2   </td><td>setosa</td></tr>\n",
       "\t<tr><td>4.5   </td><td>2.3   </td><td>1.3   </td><td>0.3   </td><td>setosa</td></tr>\n",
       "\t<tr><td>4.6   </td><td>3.6   </td><td>1.0   </td><td>0.2   </td><td>setosa</td></tr>\n",
       "</tbody>\n",
       "</table>\n"
      ],
      "text/latex": [
       "\\begin{tabular}{r|lllll}\n",
       " Sepal.Length & Sepal.Width & Petal.Length & Petal.Width & Species\\\\\n",
       "\\hline\n",
       "\t 4.3    & 3.0    & 1.1    & 0.1    & setosa\\\\\n",
       "\t 4.4    & 3.0    & 1.3    & 0.2    & setosa\\\\\n",
       "\t 4.4    & 3.2    & 1.3    & 0.2    & setosa\\\\\n",
       "\t 4.4    & 2.9    & 1.4    & 0.2    & setosa\\\\\n",
       "\t 4.5    & 2.3    & 1.3    & 0.3    & setosa\\\\\n",
       "\t 4.6    & 3.6    & 1.0    & 0.2    & setosa\\\\\n",
       "\\end{tabular}\n"
      ],
      "text/markdown": [
       "\n",
       "| Sepal.Length | Sepal.Width | Petal.Length | Petal.Width | Species |\n",
       "|---|---|---|---|---|\n",
       "| 4.3    | 3.0    | 1.1    | 0.1    | setosa |\n",
       "| 4.4    | 3.0    | 1.3    | 0.2    | setosa |\n",
       "| 4.4    | 3.2    | 1.3    | 0.2    | setosa |\n",
       "| 4.4    | 2.9    | 1.4    | 0.2    | setosa |\n",
       "| 4.5    | 2.3    | 1.3    | 0.3    | setosa |\n",
       "| 4.6    | 3.6    | 1.0    | 0.2    | setosa |\n",
       "\n"
      ],
      "text/plain": [
       "  Sepal.Length Sepal.Width Petal.Length Petal.Width Species\n",
       "1 4.3          3.0         1.1          0.1         setosa \n",
       "2 4.4          3.0         1.3          0.2         setosa \n",
       "3 4.4          3.2         1.3          0.2         setosa \n",
       "4 4.4          2.9         1.4          0.2         setosa \n",
       "5 4.5          2.3         1.3          0.3         setosa \n",
       "6 4.6          3.6         1.0          0.2         setosa "
      ]
     },
     "metadata": {},
     "output_type": "display_data"
    }
   ],
   "source": [
    "# Sepal.Length 기준으로 정렬 후 동일한 크기를 가진 데이터 발생시 Petal.Length 기준으로 오름차순 정렬\n",
    "\n",
    "head(arrange(iris, Sepal.Length, Petal.Length))"
   ]
  },
  {
   "cell_type": "code",
   "execution_count": 39,
   "id": "3b6b7d11",
   "metadata": {},
   "outputs": [
    {
     "data": {
      "text/html": [
       "<table>\n",
       "<thead><tr><th scope=col>Sepal.Length</th><th scope=col>Sepal.Width</th><th scope=col>Petal.Length</th><th scope=col>Petal.Width</th><th scope=col>Species</th></tr></thead>\n",
       "<tbody>\n",
       "\t<tr><td>7.9      </td><td>3.8      </td><td>6.4      </td><td>2.0      </td><td>virginica</td></tr>\n",
       "\t<tr><td>7.7      </td><td>3.8      </td><td>6.7      </td><td>2.2      </td><td>virginica</td></tr>\n",
       "\t<tr><td>7.7      </td><td>2.6      </td><td>6.9      </td><td>2.3      </td><td>virginica</td></tr>\n",
       "\t<tr><td>7.7      </td><td>2.8      </td><td>6.7      </td><td>2.0      </td><td>virginica</td></tr>\n",
       "\t<tr><td>7.7      </td><td>3.0      </td><td>6.1      </td><td>2.3      </td><td>virginica</td></tr>\n",
       "\t<tr><td>7.6      </td><td>3.0      </td><td>6.6      </td><td>2.1      </td><td>virginica</td></tr>\n",
       "</tbody>\n",
       "</table>\n"
      ],
      "text/latex": [
       "\\begin{tabular}{r|lllll}\n",
       " Sepal.Length & Sepal.Width & Petal.Length & Petal.Width & Species\\\\\n",
       "\\hline\n",
       "\t 7.9       & 3.8       & 6.4       & 2.0       & virginica\\\\\n",
       "\t 7.7       & 3.8       & 6.7       & 2.2       & virginica\\\\\n",
       "\t 7.7       & 2.6       & 6.9       & 2.3       & virginica\\\\\n",
       "\t 7.7       & 2.8       & 6.7       & 2.0       & virginica\\\\\n",
       "\t 7.7       & 3.0       & 6.1       & 2.3       & virginica\\\\\n",
       "\t 7.6       & 3.0       & 6.6       & 2.1       & virginica\\\\\n",
       "\\end{tabular}\n"
      ],
      "text/markdown": [
       "\n",
       "| Sepal.Length | Sepal.Width | Petal.Length | Petal.Width | Species |\n",
       "|---|---|---|---|---|\n",
       "| 7.9       | 3.8       | 6.4       | 2.0       | virginica |\n",
       "| 7.7       | 3.8       | 6.7       | 2.2       | virginica |\n",
       "| 7.7       | 2.6       | 6.9       | 2.3       | virginica |\n",
       "| 7.7       | 2.8       | 6.7       | 2.0       | virginica |\n",
       "| 7.7       | 3.0       | 6.1       | 2.3       | virginica |\n",
       "| 7.6       | 3.0       | 6.6       | 2.1       | virginica |\n",
       "\n"
      ],
      "text/plain": [
       "  Sepal.Length Sepal.Width Petal.Length Petal.Width Species  \n",
       "1 7.9          3.8         6.4          2.0         virginica\n",
       "2 7.7          3.8         6.7          2.2         virginica\n",
       "3 7.7          2.6         6.9          2.3         virginica\n",
       "4 7.7          2.8         6.7          2.0         virginica\n",
       "5 7.7          3.0         6.1          2.3         virginica\n",
       "6 7.6          3.0         6.6          2.1         virginica"
      ]
     },
     "metadata": {},
     "output_type": "display_data"
    }
   ],
   "source": [
    "# Sepal.Length 기준으로 내림차순 정렬\n",
    "\n",
    "head(arrange(iris,desc(Sepal.Length)))"
   ]
  },
  {
   "cell_type": "code",
   "execution_count": 40,
   "id": "2c065dcf",
   "metadata": {},
   "outputs": [
    {
     "data": {
      "text/html": [
       "<table>\n",
       "<thead><tr><th scope=col>Sepal.Length</th><th scope=col>Sepal.Width</th></tr></thead>\n",
       "<tbody>\n",
       "\t<tr><td>7.9</td><td>3.8</td></tr>\n",
       "\t<tr><td>7.7</td><td>3.8</td></tr>\n",
       "\t<tr><td>7.7</td><td>2.6</td></tr>\n",
       "\t<tr><td>7.7</td><td>2.8</td></tr>\n",
       "\t<tr><td>7.7</td><td>3.0</td></tr>\n",
       "\t<tr><td>7.6</td><td>3.0</td></tr>\n",
       "\t<tr><td>7.4</td><td>2.8</td></tr>\n",
       "\t<tr><td>7.3</td><td>2.9</td></tr>\n",
       "\t<tr><td>7.2</td><td>3.6</td></tr>\n",
       "\t<tr><td>7.2</td><td>3.2</td></tr>\n",
       "\t<tr><td>7.2</td><td>3.0</td></tr>\n",
       "\t<tr><td>7.1</td><td>3.0</td></tr>\n",
       "\t<tr><td>7.0</td><td>3.2</td></tr>\n",
       "\t<tr><td>6.9</td><td>3.1</td></tr>\n",
       "\t<tr><td>6.9</td><td>3.2</td></tr>\n",
       "\t<tr><td>6.9</td><td>3.1</td></tr>\n",
       "\t<tr><td>6.9</td><td>3.1</td></tr>\n",
       "\t<tr><td>6.8</td><td>2.8</td></tr>\n",
       "\t<tr><td>6.8</td><td>3.0</td></tr>\n",
       "\t<tr><td>6.8</td><td>3.2</td></tr>\n",
       "\t<tr><td>6.7</td><td>3.1</td></tr>\n",
       "\t<tr><td>6.7</td><td>3.0</td></tr>\n",
       "\t<tr><td>6.7</td><td>3.1</td></tr>\n",
       "\t<tr><td>6.7</td><td>2.5</td></tr>\n",
       "\t<tr><td>6.7</td><td>3.3</td></tr>\n",
       "\t<tr><td>6.7</td><td>3.1</td></tr>\n",
       "\t<tr><td>6.7</td><td>3.3</td></tr>\n",
       "\t<tr><td>6.7</td><td>3.0</td></tr>\n",
       "\t<tr><td>6.6</td><td>2.9</td></tr>\n",
       "\t<tr><td>6.6</td><td>3.0</td></tr>\n",
       "\t<tr><td>...</td><td>...</td></tr>\n",
       "\t<tr><td>5.0</td><td>3.0</td></tr>\n",
       "\t<tr><td>5.0</td><td>3.4</td></tr>\n",
       "\t<tr><td>5.0</td><td>3.2</td></tr>\n",
       "\t<tr><td>5.0</td><td>3.5</td></tr>\n",
       "\t<tr><td>5.0</td><td>3.5</td></tr>\n",
       "\t<tr><td>5.0</td><td>3.3</td></tr>\n",
       "\t<tr><td>5.0</td><td>2.0</td></tr>\n",
       "\t<tr><td>5.0</td><td>2.3</td></tr>\n",
       "\t<tr><td>4.9</td><td>3.0</td></tr>\n",
       "\t<tr><td>4.9</td><td>3.1</td></tr>\n",
       "\t<tr><td>4.9</td><td>3.1</td></tr>\n",
       "\t<tr><td>4.9</td><td>3.6</td></tr>\n",
       "\t<tr><td>4.9</td><td>2.4</td></tr>\n",
       "\t<tr><td>4.9</td><td>2.5</td></tr>\n",
       "\t<tr><td>4.8</td><td>3.4</td></tr>\n",
       "\t<tr><td>4.8</td><td>3.0</td></tr>\n",
       "\t<tr><td>4.8</td><td>3.4</td></tr>\n",
       "\t<tr><td>4.8</td><td>3.1</td></tr>\n",
       "\t<tr><td>4.8</td><td>3.0</td></tr>\n",
       "\t<tr><td>4.7</td><td>3.2</td></tr>\n",
       "\t<tr><td>4.7</td><td>3.2</td></tr>\n",
       "\t<tr><td>4.6</td><td>3.1</td></tr>\n",
       "\t<tr><td>4.6</td><td>3.4</td></tr>\n",
       "\t<tr><td>4.6</td><td>3.6</td></tr>\n",
       "\t<tr><td>4.6</td><td>3.2</td></tr>\n",
       "\t<tr><td>4.5</td><td>2.3</td></tr>\n",
       "\t<tr><td>4.4</td><td>2.9</td></tr>\n",
       "\t<tr><td>4.4</td><td>3.0</td></tr>\n",
       "\t<tr><td>4.4</td><td>3.2</td></tr>\n",
       "\t<tr><td>4.3</td><td>3.0</td></tr>\n",
       "</tbody>\n",
       "</table>\n"
      ],
      "text/latex": [
       "\\begin{tabular}{r|ll}\n",
       " Sepal.Length & Sepal.Width\\\\\n",
       "\\hline\n",
       "\t 7.9 & 3.8\\\\\n",
       "\t 7.7 & 3.8\\\\\n",
       "\t 7.7 & 2.6\\\\\n",
       "\t 7.7 & 2.8\\\\\n",
       "\t 7.7 & 3.0\\\\\n",
       "\t 7.6 & 3.0\\\\\n",
       "\t 7.4 & 2.8\\\\\n",
       "\t 7.3 & 2.9\\\\\n",
       "\t 7.2 & 3.6\\\\\n",
       "\t 7.2 & 3.2\\\\\n",
       "\t 7.2 & 3.0\\\\\n",
       "\t 7.1 & 3.0\\\\\n",
       "\t 7.0 & 3.2\\\\\n",
       "\t 6.9 & 3.1\\\\\n",
       "\t 6.9 & 3.2\\\\\n",
       "\t 6.9 & 3.1\\\\\n",
       "\t 6.9 & 3.1\\\\\n",
       "\t 6.8 & 2.8\\\\\n",
       "\t 6.8 & 3.0\\\\\n",
       "\t 6.8 & 3.2\\\\\n",
       "\t 6.7 & 3.1\\\\\n",
       "\t 6.7 & 3.0\\\\\n",
       "\t 6.7 & 3.1\\\\\n",
       "\t 6.7 & 2.5\\\\\n",
       "\t 6.7 & 3.3\\\\\n",
       "\t 6.7 & 3.1\\\\\n",
       "\t 6.7 & 3.3\\\\\n",
       "\t 6.7 & 3.0\\\\\n",
       "\t 6.6 & 2.9\\\\\n",
       "\t 6.6 & 3.0\\\\\n",
       "\t ... & ...\\\\\n",
       "\t 5.0 & 3.0\\\\\n",
       "\t 5.0 & 3.4\\\\\n",
       "\t 5.0 & 3.2\\\\\n",
       "\t 5.0 & 3.5\\\\\n",
       "\t 5.0 & 3.5\\\\\n",
       "\t 5.0 & 3.3\\\\\n",
       "\t 5.0 & 2.0\\\\\n",
       "\t 5.0 & 2.3\\\\\n",
       "\t 4.9 & 3.0\\\\\n",
       "\t 4.9 & 3.1\\\\\n",
       "\t 4.9 & 3.1\\\\\n",
       "\t 4.9 & 3.6\\\\\n",
       "\t 4.9 & 2.4\\\\\n",
       "\t 4.9 & 2.5\\\\\n",
       "\t 4.8 & 3.4\\\\\n",
       "\t 4.8 & 3.0\\\\\n",
       "\t 4.8 & 3.4\\\\\n",
       "\t 4.8 & 3.1\\\\\n",
       "\t 4.8 & 3.0\\\\\n",
       "\t 4.7 & 3.2\\\\\n",
       "\t 4.7 & 3.2\\\\\n",
       "\t 4.6 & 3.1\\\\\n",
       "\t 4.6 & 3.4\\\\\n",
       "\t 4.6 & 3.6\\\\\n",
       "\t 4.6 & 3.2\\\\\n",
       "\t 4.5 & 2.3\\\\\n",
       "\t 4.4 & 2.9\\\\\n",
       "\t 4.4 & 3.0\\\\\n",
       "\t 4.4 & 3.2\\\\\n",
       "\t 4.3 & 3.0\\\\\n",
       "\\end{tabular}\n"
      ],
      "text/markdown": [
       "\n",
       "| Sepal.Length | Sepal.Width |\n",
       "|---|---|\n",
       "| 7.9 | 3.8 |\n",
       "| 7.7 | 3.8 |\n",
       "| 7.7 | 2.6 |\n",
       "| 7.7 | 2.8 |\n",
       "| 7.7 | 3.0 |\n",
       "| 7.6 | 3.0 |\n",
       "| 7.4 | 2.8 |\n",
       "| 7.3 | 2.9 |\n",
       "| 7.2 | 3.6 |\n",
       "| 7.2 | 3.2 |\n",
       "| 7.2 | 3.0 |\n",
       "| 7.1 | 3.0 |\n",
       "| 7.0 | 3.2 |\n",
       "| 6.9 | 3.1 |\n",
       "| 6.9 | 3.2 |\n",
       "| 6.9 | 3.1 |\n",
       "| 6.9 | 3.1 |\n",
       "| 6.8 | 2.8 |\n",
       "| 6.8 | 3.0 |\n",
       "| 6.8 | 3.2 |\n",
       "| 6.7 | 3.1 |\n",
       "| 6.7 | 3.0 |\n",
       "| 6.7 | 3.1 |\n",
       "| 6.7 | 2.5 |\n",
       "| 6.7 | 3.3 |\n",
       "| 6.7 | 3.1 |\n",
       "| 6.7 | 3.3 |\n",
       "| 6.7 | 3.0 |\n",
       "| 6.6 | 2.9 |\n",
       "| 6.6 | 3.0 |\n",
       "| ... | ... |\n",
       "| 5.0 | 3.0 |\n",
       "| 5.0 | 3.4 |\n",
       "| 5.0 | 3.2 |\n",
       "| 5.0 | 3.5 |\n",
       "| 5.0 | 3.5 |\n",
       "| 5.0 | 3.3 |\n",
       "| 5.0 | 2.0 |\n",
       "| 5.0 | 2.3 |\n",
       "| 4.9 | 3.0 |\n",
       "| 4.9 | 3.1 |\n",
       "| 4.9 | 3.1 |\n",
       "| 4.9 | 3.6 |\n",
       "| 4.9 | 2.4 |\n",
       "| 4.9 | 2.5 |\n",
       "| 4.8 | 3.4 |\n",
       "| 4.8 | 3.0 |\n",
       "| 4.8 | 3.4 |\n",
       "| 4.8 | 3.1 |\n",
       "| 4.8 | 3.0 |\n",
       "| 4.7 | 3.2 |\n",
       "| 4.7 | 3.2 |\n",
       "| 4.6 | 3.1 |\n",
       "| 4.6 | 3.4 |\n",
       "| 4.6 | 3.6 |\n",
       "| 4.6 | 3.2 |\n",
       "| 4.5 | 2.3 |\n",
       "| 4.4 | 2.9 |\n",
       "| 4.4 | 3.0 |\n",
       "| 4.4 | 3.2 |\n",
       "| 4.3 | 3.0 |\n",
       "\n"
      ],
      "text/plain": [
       "    Sepal.Length Sepal.Width\n",
       "1   7.9          3.8        \n",
       "2   7.7          3.8        \n",
       "3   7.7          2.6        \n",
       "4   7.7          2.8        \n",
       "5   7.7          3.0        \n",
       "6   7.6          3.0        \n",
       "7   7.4          2.8        \n",
       "8   7.3          2.9        \n",
       "9   7.2          3.6        \n",
       "10  7.2          3.2        \n",
       "11  7.2          3.0        \n",
       "12  7.1          3.0        \n",
       "13  7.0          3.2        \n",
       "14  6.9          3.1        \n",
       "15  6.9          3.2        \n",
       "16  6.9          3.1        \n",
       "17  6.9          3.1        \n",
       "18  6.8          2.8        \n",
       "19  6.8          3.0        \n",
       "20  6.8          3.2        \n",
       "21  6.7          3.1        \n",
       "22  6.7          3.0        \n",
       "23  6.7          3.1        \n",
       "24  6.7          2.5        \n",
       "25  6.7          3.3        \n",
       "26  6.7          3.1        \n",
       "27  6.7          3.3        \n",
       "28  6.7          3.0        \n",
       "29  6.6          2.9        \n",
       "30  6.6          3.0        \n",
       "... ...          ...        \n",
       "121 5.0          3.0        \n",
       "122 5.0          3.4        \n",
       "123 5.0          3.2        \n",
       "124 5.0          3.5        \n",
       "125 5.0          3.5        \n",
       "126 5.0          3.3        \n",
       "127 5.0          2.0        \n",
       "128 5.0          2.3        \n",
       "129 4.9          3.0        \n",
       "130 4.9          3.1        \n",
       "131 4.9          3.1        \n",
       "132 4.9          3.6        \n",
       "133 4.9          2.4        \n",
       "134 4.9          2.5        \n",
       "135 4.8          3.4        \n",
       "136 4.8          3.0        \n",
       "137 4.8          3.4        \n",
       "138 4.8          3.1        \n",
       "139 4.8          3.0        \n",
       "140 4.7          3.2        \n",
       "141 4.7          3.2        \n",
       "142 4.6          3.1        \n",
       "143 4.6          3.4        \n",
       "144 4.6          3.6        \n",
       "145 4.6          3.2        \n",
       "146 4.5          2.3        \n",
       "147 4.4          2.9        \n",
       "148 4.4          3.0        \n",
       "149 4.4          3.2        \n",
       "150 4.3          3.0        "
      ]
     },
     "metadata": {},
     "output_type": "display_data"
    },
    {
     "data": {
      "text/html": [
       "<table>\n",
       "<thead><tr><th scope=col>Sepal.Length</th><th scope=col>Sepal.Width</th></tr></thead>\n",
       "<tbody>\n",
       "\t<tr><td>7.9</td><td>3.8</td></tr>\n",
       "\t<tr><td>7.7</td><td>3.8</td></tr>\n",
       "\t<tr><td>7.7</td><td>2.6</td></tr>\n",
       "\t<tr><td>7.7</td><td>2.8</td></tr>\n",
       "\t<tr><td>7.7</td><td>3.0</td></tr>\n",
       "\t<tr><td>7.6</td><td>3.0</td></tr>\n",
       "\t<tr><td>7.4</td><td>2.8</td></tr>\n",
       "\t<tr><td>7.3</td><td>2.9</td></tr>\n",
       "\t<tr><td>7.2</td><td>3.6</td></tr>\n",
       "\t<tr><td>7.2</td><td>3.2</td></tr>\n",
       "\t<tr><td>7.2</td><td>3.0</td></tr>\n",
       "\t<tr><td>7.1</td><td>3.0</td></tr>\n",
       "\t<tr><td>7.0</td><td>3.2</td></tr>\n",
       "\t<tr><td>6.9</td><td>3.1</td></tr>\n",
       "\t<tr><td>6.9</td><td>3.2</td></tr>\n",
       "\t<tr><td>6.9</td><td>3.1</td></tr>\n",
       "\t<tr><td>6.9</td><td>3.1</td></tr>\n",
       "\t<tr><td>6.8</td><td>2.8</td></tr>\n",
       "\t<tr><td>6.8</td><td>3.0</td></tr>\n",
       "\t<tr><td>6.8</td><td>3.2</td></tr>\n",
       "\t<tr><td>6.7</td><td>3.1</td></tr>\n",
       "\t<tr><td>6.7</td><td>3.0</td></tr>\n",
       "\t<tr><td>6.7</td><td>3.1</td></tr>\n",
       "\t<tr><td>6.7</td><td>2.5</td></tr>\n",
       "\t<tr><td>6.7</td><td>3.3</td></tr>\n",
       "\t<tr><td>6.7</td><td>3.1</td></tr>\n",
       "\t<tr><td>6.7</td><td>3.3</td></tr>\n",
       "\t<tr><td>6.7</td><td>3.0</td></tr>\n",
       "\t<tr><td>6.6</td><td>2.9</td></tr>\n",
       "\t<tr><td>6.6</td><td>3.0</td></tr>\n",
       "\t<tr><td>...</td><td>...</td></tr>\n",
       "\t<tr><td>5.0</td><td>3.0</td></tr>\n",
       "\t<tr><td>5.0</td><td>3.4</td></tr>\n",
       "\t<tr><td>5.0</td><td>3.2</td></tr>\n",
       "\t<tr><td>5.0</td><td>3.5</td></tr>\n",
       "\t<tr><td>5.0</td><td>3.5</td></tr>\n",
       "\t<tr><td>5.0</td><td>3.3</td></tr>\n",
       "\t<tr><td>5.0</td><td>2.0</td></tr>\n",
       "\t<tr><td>5.0</td><td>2.3</td></tr>\n",
       "\t<tr><td>4.9</td><td>3.0</td></tr>\n",
       "\t<tr><td>4.9</td><td>3.1</td></tr>\n",
       "\t<tr><td>4.9</td><td>3.1</td></tr>\n",
       "\t<tr><td>4.9</td><td>3.6</td></tr>\n",
       "\t<tr><td>4.9</td><td>2.4</td></tr>\n",
       "\t<tr><td>4.9</td><td>2.5</td></tr>\n",
       "\t<tr><td>4.8</td><td>3.4</td></tr>\n",
       "\t<tr><td>4.8</td><td>3.0</td></tr>\n",
       "\t<tr><td>4.8</td><td>3.4</td></tr>\n",
       "\t<tr><td>4.8</td><td>3.1</td></tr>\n",
       "\t<tr><td>4.8</td><td>3.0</td></tr>\n",
       "\t<tr><td>4.7</td><td>3.2</td></tr>\n",
       "\t<tr><td>4.7</td><td>3.2</td></tr>\n",
       "\t<tr><td>4.6</td><td>3.1</td></tr>\n",
       "\t<tr><td>4.6</td><td>3.4</td></tr>\n",
       "\t<tr><td>4.6</td><td>3.6</td></tr>\n",
       "\t<tr><td>4.6</td><td>3.2</td></tr>\n",
       "\t<tr><td>4.5</td><td>2.3</td></tr>\n",
       "\t<tr><td>4.4</td><td>2.9</td></tr>\n",
       "\t<tr><td>4.4</td><td>3.0</td></tr>\n",
       "\t<tr><td>4.4</td><td>3.2</td></tr>\n",
       "\t<tr><td>4.3</td><td>3.0</td></tr>\n",
       "</tbody>\n",
       "</table>\n"
      ],
      "text/latex": [
       "\\begin{tabular}{r|ll}\n",
       " Sepal.Length & Sepal.Width\\\\\n",
       "\\hline\n",
       "\t 7.9 & 3.8\\\\\n",
       "\t 7.7 & 3.8\\\\\n",
       "\t 7.7 & 2.6\\\\\n",
       "\t 7.7 & 2.8\\\\\n",
       "\t 7.7 & 3.0\\\\\n",
       "\t 7.6 & 3.0\\\\\n",
       "\t 7.4 & 2.8\\\\\n",
       "\t 7.3 & 2.9\\\\\n",
       "\t 7.2 & 3.6\\\\\n",
       "\t 7.2 & 3.2\\\\\n",
       "\t 7.2 & 3.0\\\\\n",
       "\t 7.1 & 3.0\\\\\n",
       "\t 7.0 & 3.2\\\\\n",
       "\t 6.9 & 3.1\\\\\n",
       "\t 6.9 & 3.2\\\\\n",
       "\t 6.9 & 3.1\\\\\n",
       "\t 6.9 & 3.1\\\\\n",
       "\t 6.8 & 2.8\\\\\n",
       "\t 6.8 & 3.0\\\\\n",
       "\t 6.8 & 3.2\\\\\n",
       "\t 6.7 & 3.1\\\\\n",
       "\t 6.7 & 3.0\\\\\n",
       "\t 6.7 & 3.1\\\\\n",
       "\t 6.7 & 2.5\\\\\n",
       "\t 6.7 & 3.3\\\\\n",
       "\t 6.7 & 3.1\\\\\n",
       "\t 6.7 & 3.3\\\\\n",
       "\t 6.7 & 3.0\\\\\n",
       "\t 6.6 & 2.9\\\\\n",
       "\t 6.6 & 3.0\\\\\n",
       "\t ... & ...\\\\\n",
       "\t 5.0 & 3.0\\\\\n",
       "\t 5.0 & 3.4\\\\\n",
       "\t 5.0 & 3.2\\\\\n",
       "\t 5.0 & 3.5\\\\\n",
       "\t 5.0 & 3.5\\\\\n",
       "\t 5.0 & 3.3\\\\\n",
       "\t 5.0 & 2.0\\\\\n",
       "\t 5.0 & 2.3\\\\\n",
       "\t 4.9 & 3.0\\\\\n",
       "\t 4.9 & 3.1\\\\\n",
       "\t 4.9 & 3.1\\\\\n",
       "\t 4.9 & 3.6\\\\\n",
       "\t 4.9 & 2.4\\\\\n",
       "\t 4.9 & 2.5\\\\\n",
       "\t 4.8 & 3.4\\\\\n",
       "\t 4.8 & 3.0\\\\\n",
       "\t 4.8 & 3.4\\\\\n",
       "\t 4.8 & 3.1\\\\\n",
       "\t 4.8 & 3.0\\\\\n",
       "\t 4.7 & 3.2\\\\\n",
       "\t 4.7 & 3.2\\\\\n",
       "\t 4.6 & 3.1\\\\\n",
       "\t 4.6 & 3.4\\\\\n",
       "\t 4.6 & 3.6\\\\\n",
       "\t 4.6 & 3.2\\\\\n",
       "\t 4.5 & 2.3\\\\\n",
       "\t 4.4 & 2.9\\\\\n",
       "\t 4.4 & 3.0\\\\\n",
       "\t 4.4 & 3.2\\\\\n",
       "\t 4.3 & 3.0\\\\\n",
       "\\end{tabular}\n"
      ],
      "text/markdown": [
       "\n",
       "| Sepal.Length | Sepal.Width |\n",
       "|---|---|\n",
       "| 7.9 | 3.8 |\n",
       "| 7.7 | 3.8 |\n",
       "| 7.7 | 2.6 |\n",
       "| 7.7 | 2.8 |\n",
       "| 7.7 | 3.0 |\n",
       "| 7.6 | 3.0 |\n",
       "| 7.4 | 2.8 |\n",
       "| 7.3 | 2.9 |\n",
       "| 7.2 | 3.6 |\n",
       "| 7.2 | 3.2 |\n",
       "| 7.2 | 3.0 |\n",
       "| 7.1 | 3.0 |\n",
       "| 7.0 | 3.2 |\n",
       "| 6.9 | 3.1 |\n",
       "| 6.9 | 3.2 |\n",
       "| 6.9 | 3.1 |\n",
       "| 6.9 | 3.1 |\n",
       "| 6.8 | 2.8 |\n",
       "| 6.8 | 3.0 |\n",
       "| 6.8 | 3.2 |\n",
       "| 6.7 | 3.1 |\n",
       "| 6.7 | 3.0 |\n",
       "| 6.7 | 3.1 |\n",
       "| 6.7 | 2.5 |\n",
       "| 6.7 | 3.3 |\n",
       "| 6.7 | 3.1 |\n",
       "| 6.7 | 3.3 |\n",
       "| 6.7 | 3.0 |\n",
       "| 6.6 | 2.9 |\n",
       "| 6.6 | 3.0 |\n",
       "| ... | ... |\n",
       "| 5.0 | 3.0 |\n",
       "| 5.0 | 3.4 |\n",
       "| 5.0 | 3.2 |\n",
       "| 5.0 | 3.5 |\n",
       "| 5.0 | 3.5 |\n",
       "| 5.0 | 3.3 |\n",
       "| 5.0 | 2.0 |\n",
       "| 5.0 | 2.3 |\n",
       "| 4.9 | 3.0 |\n",
       "| 4.9 | 3.1 |\n",
       "| 4.9 | 3.1 |\n",
       "| 4.9 | 3.6 |\n",
       "| 4.9 | 2.4 |\n",
       "| 4.9 | 2.5 |\n",
       "| 4.8 | 3.4 |\n",
       "| 4.8 | 3.0 |\n",
       "| 4.8 | 3.4 |\n",
       "| 4.8 | 3.1 |\n",
       "| 4.8 | 3.0 |\n",
       "| 4.7 | 3.2 |\n",
       "| 4.7 | 3.2 |\n",
       "| 4.6 | 3.1 |\n",
       "| 4.6 | 3.4 |\n",
       "| 4.6 | 3.6 |\n",
       "| 4.6 | 3.2 |\n",
       "| 4.5 | 2.3 |\n",
       "| 4.4 | 2.9 |\n",
       "| 4.4 | 3.0 |\n",
       "| 4.4 | 3.2 |\n",
       "| 4.3 | 3.0 |\n",
       "\n"
      ],
      "text/plain": [
       "    Sepal.Length Sepal.Width\n",
       "1   7.9          3.8        \n",
       "2   7.7          3.8        \n",
       "3   7.7          2.6        \n",
       "4   7.7          2.8        \n",
       "5   7.7          3.0        \n",
       "6   7.6          3.0        \n",
       "7   7.4          2.8        \n",
       "8   7.3          2.9        \n",
       "9   7.2          3.6        \n",
       "10  7.2          3.2        \n",
       "11  7.2          3.0        \n",
       "12  7.1          3.0        \n",
       "13  7.0          3.2        \n",
       "14  6.9          3.1        \n",
       "15  6.9          3.2        \n",
       "16  6.9          3.1        \n",
       "17  6.9          3.1        \n",
       "18  6.8          2.8        \n",
       "19  6.8          3.0        \n",
       "20  6.8          3.2        \n",
       "21  6.7          3.1        \n",
       "22  6.7          3.0        \n",
       "23  6.7          3.1        \n",
       "24  6.7          2.5        \n",
       "25  6.7          3.3        \n",
       "26  6.7          3.1        \n",
       "27  6.7          3.3        \n",
       "28  6.7          3.0        \n",
       "29  6.6          2.9        \n",
       "30  6.6          3.0        \n",
       "... ...          ...        \n",
       "121 5.0          3.0        \n",
       "122 5.0          3.4        \n",
       "123 5.0          3.2        \n",
       "124 5.0          3.5        \n",
       "125 5.0          3.5        \n",
       "126 5.0          3.3        \n",
       "127 5.0          2.0        \n",
       "128 5.0          2.3        \n",
       "129 4.9          3.0        \n",
       "130 4.9          3.1        \n",
       "131 4.9          3.1        \n",
       "132 4.9          3.6        \n",
       "133 4.9          2.4        \n",
       "134 4.9          2.5        \n",
       "135 4.8          3.4        \n",
       "136 4.8          3.0        \n",
       "137 4.8          3.4        \n",
       "138 4.8          3.1        \n",
       "139 4.8          3.0        \n",
       "140 4.7          3.2        \n",
       "141 4.7          3.2        \n",
       "142 4.6          3.1        \n",
       "143 4.6          3.4        \n",
       "144 4.6          3.6        \n",
       "145 4.6          3.2        \n",
       "146 4.5          2.3        \n",
       "147 4.4          2.9        \n",
       "148 4.4          3.0        \n",
       "149 4.4          3.2        \n",
       "150 4.3          3.0        "
      ]
     },
     "metadata": {},
     "output_type": "display_data"
    }
   ],
   "source": [
    "# Sepal.Length 기준으로 내림차순 정렬 후 Sepal.Length 와 Sepal.Width 만 보기\n",
    "\n",
    "arrange(iris,desc(Sepal.Length))[,1:2]\n",
    "\n",
    "arrange(iris[,1:2],desc(Sepal.Length))"
   ]
  },
  {
   "cell_type": "markdown",
   "id": "3749b262",
   "metadata": {},
   "source": [
    "# 샘플링(Sampling)"
   ]
  },
  {
   "cell_type": "code",
   "execution_count": 41,
   "id": "53115c7c",
   "metadata": {},
   "outputs": [
    {
     "data": {
      "text/html": [
       "<ol class=list-inline>\n",
       "\t<li>26</li>\n",
       "\t<li>11</li>\n",
       "\t<li>30</li>\n",
       "\t<li>20</li>\n",
       "\t<li>40</li>\n",
       "\t<li>21</li>\n",
       "</ol>\n"
      ],
      "text/latex": [
       "\\begin{enumerate*}\n",
       "\\item 26\n",
       "\\item 11\n",
       "\\item 30\n",
       "\\item 20\n",
       "\\item 40\n",
       "\\item 21\n",
       "\\end{enumerate*}\n"
      ],
      "text/markdown": [
       "1. 26\n",
       "2. 11\n",
       "3. 30\n",
       "4. 20\n",
       "5. 40\n",
       "6. 21\n",
       "\n",
       "\n"
      ],
      "text/plain": [
       "[1] 26 11 30 20 40 21"
      ]
     },
     "metadata": {},
     "output_type": "display_data"
    }
   ],
   "source": [
    "# 랜덤 샘플링(중복값을 허용하지 않음)\n",
    "sample(1:45, 6)"
   ]
  },
  {
   "cell_type": "code",
   "execution_count": 42,
   "id": "1436de1f",
   "metadata": {},
   "outputs": [
    {
     "data": {
      "text/html": [
       "150"
      ],
      "text/latex": [
       "150"
      ],
      "text/markdown": [
       "150"
      ],
      "text/plain": [
       "[1] 150"
      ]
     },
     "metadata": {},
     "output_type": "display_data"
    },
    {
     "data": {
      "text/html": [
       "5"
      ],
      "text/latex": [
       "5"
      ],
      "text/markdown": [
       "5"
      ],
      "text/plain": [
       "[1] 5"
      ]
     },
     "metadata": {},
     "output_type": "display_data"
    }
   ],
   "source": [
    "nrow(iris)\n",
    "ncol(iris)"
   ]
  },
  {
   "cell_type": "code",
   "execution_count": 43,
   "id": "9de58c0a",
   "metadata": {},
   "outputs": [
    {
     "data": {
      "text/html": [
       "<ol class=list-inline>\n",
       "\t<li>92</li>\n",
       "\t<li>12</li>\n",
       "\t<li>86</li>\n",
       "\t<li>31</li>\n",
       "\t<li>48</li>\n",
       "\t<li>39</li>\n",
       "\t<li>82</li>\n",
       "\t<li>131</li>\n",
       "\t<li>45</li>\n",
       "\t<li>149</li>\n",
       "\t<li>60</li>\n",
       "\t<li>121</li>\n",
       "\t<li>19</li>\n",
       "\t<li>42</li>\n",
       "\t<li>23</li>\n",
       "\t<li>105</li>\n",
       "\t<li>103</li>\n",
       "\t<li>96</li>\n",
       "\t<li>13</li>\n",
       "\t<li>59</li>\n",
       "\t<li>20</li>\n",
       "\t<li>34</li>\n",
       "\t<li>88</li>\n",
       "\t<li>124</li>\n",
       "\t<li>108</li>\n",
       "\t<li>61</li>\n",
       "\t<li>132</li>\n",
       "\t<li>72</li>\n",
       "\t<li>138</li>\n",
       "\t<li>134</li>\n",
       "\t<li>50</li>\n",
       "\t<li>21</li>\n",
       "\t<li>118</li>\n",
       "\t<li>89</li>\n",
       "\t<li>68</li>\n",
       "\t<li>98</li>\n",
       "\t<li>69</li>\n",
       "\t<li>80</li>\n",
       "\t<li>75</li>\n",
       "\t<li>2</li>\n",
       "\t<li>41</li>\n",
       "\t<li>142</li>\n",
       "\t<li>106</li>\n",
       "\t<li>95</li>\n",
       "\t<li>147</li>\n",
       "\t<li>62</li>\n",
       "\t<li>141</li>\n",
       "\t<li>107</li>\n",
       "\t<li>3</li>\n",
       "\t<li>4</li>\n",
       "\t<li>144</li>\n",
       "\t<li>30</li>\n",
       "\t<li>27</li>\n",
       "\t<li>83</li>\n",
       "\t<li>57</li>\n",
       "\t<li>79</li>\n",
       "\t<li>129</li>\n",
       "\t<li>136</li>\n",
       "\t<li>54</li>\n",
       "\t<li>63</li>\n",
       "\t<li>5</li>\n",
       "\t<li>104</li>\n",
       "\t<li>53</li>\n",
       "\t<li>150</li>\n",
       "\t<li>143</li>\n",
       "\t<li>49</li>\n",
       "\t<li>43</li>\n",
       "\t<li>90</li>\n",
       "\t<li>18</li>\n",
       "\t<li>70</li>\n",
       "\t<li>29</li>\n",
       "\t<li>73</li>\n",
       "\t<li>11</li>\n",
       "\t<li>91</li>\n",
       "\t<li>33</li>\n",
       "\t<li>120</li>\n",
       "\t<li>125</li>\n",
       "\t<li>74</li>\n",
       "\t<li>64</li>\n",
       "\t<li>10</li>\n",
       "\t<li>114</li>\n",
       "\t<li>38</li>\n",
       "\t<li>46</li>\n",
       "\t<li>128</li>\n",
       "\t<li>35</li>\n",
       "\t<li>99</li>\n",
       "\t<li>102</li>\n",
       "\t<li>71</li>\n",
       "\t<li>66</li>\n",
       "\t<li>94</li>\n",
       "\t<li>24</li>\n",
       "\t<li>97</li>\n",
       "\t<li>123</li>\n",
       "\t<li>28</li>\n",
       "\t<li>77</li>\n",
       "\t<li>9</li>\n",
       "\t<li>146</li>\n",
       "\t<li>58</li>\n",
       "\t<li>26</li>\n",
       "\t<li>126</li>\n",
       "\t<li>110</li>\n",
       "\t<li>111</li>\n",
       "\t<li>119</li>\n",
       "\t<li>140</li>\n",
       "\t<li>137</li>\n",
       "</ol>\n"
      ],
      "text/latex": [
       "\\begin{enumerate*}\n",
       "\\item 92\n",
       "\\item 12\n",
       "\\item 86\n",
       "\\item 31\n",
       "\\item 48\n",
       "\\item 39\n",
       "\\item 82\n",
       "\\item 131\n",
       "\\item 45\n",
       "\\item 149\n",
       "\\item 60\n",
       "\\item 121\n",
       "\\item 19\n",
       "\\item 42\n",
       "\\item 23\n",
       "\\item 105\n",
       "\\item 103\n",
       "\\item 96\n",
       "\\item 13\n",
       "\\item 59\n",
       "\\item 20\n",
       "\\item 34\n",
       "\\item 88\n",
       "\\item 124\n",
       "\\item 108\n",
       "\\item 61\n",
       "\\item 132\n",
       "\\item 72\n",
       "\\item 138\n",
       "\\item 134\n",
       "\\item 50\n",
       "\\item 21\n",
       "\\item 118\n",
       "\\item 89\n",
       "\\item 68\n",
       "\\item 98\n",
       "\\item 69\n",
       "\\item 80\n",
       "\\item 75\n",
       "\\item 2\n",
       "\\item 41\n",
       "\\item 142\n",
       "\\item 106\n",
       "\\item 95\n",
       "\\item 147\n",
       "\\item 62\n",
       "\\item 141\n",
       "\\item 107\n",
       "\\item 3\n",
       "\\item 4\n",
       "\\item 144\n",
       "\\item 30\n",
       "\\item 27\n",
       "\\item 83\n",
       "\\item 57\n",
       "\\item 79\n",
       "\\item 129\n",
       "\\item 136\n",
       "\\item 54\n",
       "\\item 63\n",
       "\\item 5\n",
       "\\item 104\n",
       "\\item 53\n",
       "\\item 150\n",
       "\\item 143\n",
       "\\item 49\n",
       "\\item 43\n",
       "\\item 90\n",
       "\\item 18\n",
       "\\item 70\n",
       "\\item 29\n",
       "\\item 73\n",
       "\\item 11\n",
       "\\item 91\n",
       "\\item 33\n",
       "\\item 120\n",
       "\\item 125\n",
       "\\item 74\n",
       "\\item 64\n",
       "\\item 10\n",
       "\\item 114\n",
       "\\item 38\n",
       "\\item 46\n",
       "\\item 128\n",
       "\\item 35\n",
       "\\item 99\n",
       "\\item 102\n",
       "\\item 71\n",
       "\\item 66\n",
       "\\item 94\n",
       "\\item 24\n",
       "\\item 97\n",
       "\\item 123\n",
       "\\item 28\n",
       "\\item 77\n",
       "\\item 9\n",
       "\\item 146\n",
       "\\item 58\n",
       "\\item 26\n",
       "\\item 126\n",
       "\\item 110\n",
       "\\item 111\n",
       "\\item 119\n",
       "\\item 140\n",
       "\\item 137\n",
       "\\end{enumerate*}\n"
      ],
      "text/markdown": [
       "1. 92\n",
       "2. 12\n",
       "3. 86\n",
       "4. 31\n",
       "5. 48\n",
       "6. 39\n",
       "7. 82\n",
       "8. 131\n",
       "9. 45\n",
       "10. 149\n",
       "11. 60\n",
       "12. 121\n",
       "13. 19\n",
       "14. 42\n",
       "15. 23\n",
       "16. 105\n",
       "17. 103\n",
       "18. 96\n",
       "19. 13\n",
       "20. 59\n",
       "21. 20\n",
       "22. 34\n",
       "23. 88\n",
       "24. 124\n",
       "25. 108\n",
       "26. 61\n",
       "27. 132\n",
       "28. 72\n",
       "29. 138\n",
       "30. 134\n",
       "31. 50\n",
       "32. 21\n",
       "33. 118\n",
       "34. 89\n",
       "35. 68\n",
       "36. 98\n",
       "37. 69\n",
       "38. 80\n",
       "39. 75\n",
       "40. 2\n",
       "41. 41\n",
       "42. 142\n",
       "43. 106\n",
       "44. 95\n",
       "45. 147\n",
       "46. 62\n",
       "47. 141\n",
       "48. 107\n",
       "49. 3\n",
       "50. 4\n",
       "51. 144\n",
       "52. 30\n",
       "53. 27\n",
       "54. 83\n",
       "55. 57\n",
       "56. 79\n",
       "57. 129\n",
       "58. 136\n",
       "59. 54\n",
       "60. 63\n",
       "61. 5\n",
       "62. 104\n",
       "63. 53\n",
       "64. 150\n",
       "65. 143\n",
       "66. 49\n",
       "67. 43\n",
       "68. 90\n",
       "69. 18\n",
       "70. 70\n",
       "71. 29\n",
       "72. 73\n",
       "73. 11\n",
       "74. 91\n",
       "75. 33\n",
       "76. 120\n",
       "77. 125\n",
       "78. 74\n",
       "79. 64\n",
       "80. 10\n",
       "81. 114\n",
       "82. 38\n",
       "83. 46\n",
       "84. 128\n",
       "85. 35\n",
       "86. 99\n",
       "87. 102\n",
       "88. 71\n",
       "89. 66\n",
       "90. 94\n",
       "91. 24\n",
       "92. 97\n",
       "93. 123\n",
       "94. 28\n",
       "95. 77\n",
       "96. 9\n",
       "97. 146\n",
       "98. 58\n",
       "99. 26\n",
       "100. 126\n",
       "101. 110\n",
       "102. 111\n",
       "103. 119\n",
       "104. 140\n",
       "105. 137\n",
       "\n",
       "\n"
      ],
      "text/plain": [
       "  [1]  92  12  86  31  48  39  82 131  45 149  60 121  19  42  23 105 103  96\n",
       " [19]  13  59  20  34  88 124 108  61 132  72 138 134  50  21 118  89  68  98\n",
       " [37]  69  80  75   2  41 142 106  95 147  62 141 107   3   4 144  30  27  83\n",
       " [55]  57  79 129 136  54  63   5 104  53 150 143  49  43  90  18  70  29  73\n",
       " [73]  11  91  33 120 125  74  64  10 114  38  46 128  35  99 102  71  66  94\n",
       " [91]  24  97 123  28  77   9 146  58  26 126 110 111 119 140 137"
      ]
     },
     "metadata": {},
     "output_type": "display_data"
    }
   ],
   "source": [
    "samp <-sample(1:nrow(iris), nrow(iris)*0.7)\n",
    "samp"
   ]
  },
  {
   "cell_type": "code",
   "execution_count": 44,
   "id": "b3738a94",
   "metadata": {},
   "outputs": [
    {
     "data": {
      "text/html": [
       "<table>\n",
       "<thead><tr><th></th><th scope=col>Sepal.Length</th><th scope=col>Sepal.Width</th><th scope=col>Petal.Length</th><th scope=col>Petal.Width</th><th scope=col>Species</th></tr></thead>\n",
       "<tbody>\n",
       "\t<tr><th scope=row>92</th><td>6.1       </td><td>3.0       </td><td>4.6       </td><td>1.4       </td><td>versicolor</td></tr>\n",
       "\t<tr><th scope=row>12</th><td>4.8       </td><td>3.4       </td><td>1.6       </td><td>0.2       </td><td>setosa    </td></tr>\n",
       "\t<tr><th scope=row>86</th><td>6.0       </td><td>3.4       </td><td>4.5       </td><td>1.6       </td><td>versicolor</td></tr>\n",
       "\t<tr><th scope=row>31</th><td>4.8       </td><td>3.1       </td><td>1.6       </td><td>0.2       </td><td>setosa    </td></tr>\n",
       "\t<tr><th scope=row>48</th><td>4.6       </td><td>3.2       </td><td>1.4       </td><td>0.2       </td><td>setosa    </td></tr>\n",
       "\t<tr><th scope=row>39</th><td>4.4       </td><td>3.0       </td><td>1.3       </td><td>0.2       </td><td>setosa    </td></tr>\n",
       "</tbody>\n",
       "</table>\n"
      ],
      "text/latex": [
       "\\begin{tabular}{r|lllll}\n",
       "  & Sepal.Length & Sepal.Width & Petal.Length & Petal.Width & Species\\\\\n",
       "\\hline\n",
       "\t92 & 6.1        & 3.0        & 4.6        & 1.4        & versicolor\\\\\n",
       "\t12 & 4.8        & 3.4        & 1.6        & 0.2        & setosa    \\\\\n",
       "\t86 & 6.0        & 3.4        & 4.5        & 1.6        & versicolor\\\\\n",
       "\t31 & 4.8        & 3.1        & 1.6        & 0.2        & setosa    \\\\\n",
       "\t48 & 4.6        & 3.2        & 1.4        & 0.2        & setosa    \\\\\n",
       "\t39 & 4.4        & 3.0        & 1.3        & 0.2        & setosa    \\\\\n",
       "\\end{tabular}\n"
      ],
      "text/markdown": [
       "\n",
       "| <!--/--> | Sepal.Length | Sepal.Width | Petal.Length | Petal.Width | Species |\n",
       "|---|---|---|---|---|---|\n",
       "| 92 | 6.1        | 3.0        | 4.6        | 1.4        | versicolor |\n",
       "| 12 | 4.8        | 3.4        | 1.6        | 0.2        | setosa     |\n",
       "| 86 | 6.0        | 3.4        | 4.5        | 1.6        | versicolor |\n",
       "| 31 | 4.8        | 3.1        | 1.6        | 0.2        | setosa     |\n",
       "| 48 | 4.6        | 3.2        | 1.4        | 0.2        | setosa     |\n",
       "| 39 | 4.4        | 3.0        | 1.3        | 0.2        | setosa     |\n",
       "\n"
      ],
      "text/plain": [
       "   Sepal.Length Sepal.Width Petal.Length Petal.Width Species   \n",
       "92 6.1          3.0         4.6          1.4         versicolor\n",
       "12 4.8          3.4         1.6          0.2         setosa    \n",
       "86 6.0          3.4         4.5          1.6         versicolor\n",
       "31 4.8          3.1         1.6          0.2         setosa    \n",
       "48 4.6          3.2         1.4          0.2         setosa    \n",
       "39 4.4          3.0         1.3          0.2         setosa    "
      ]
     },
     "metadata": {},
     "output_type": "display_data"
    }
   ],
   "source": [
    "irisSamp <- iris[samp,]\n",
    "head(irisSamp)"
   ]
  },
  {
   "cell_type": "code",
   "execution_count": 45,
   "id": "dc378cfb",
   "metadata": {},
   "outputs": [
    {
     "data": {
      "text/plain": [
       "  Sepal.Length    Sepal.Width     Petal.Length    Petal.Width   \n",
       " Min.   :4.400   Min.   :2.000   Min.   :1.000   Min.   :0.100  \n",
       " 1st Qu.:5.100   1st Qu.:2.700   1st Qu.:1.600   1st Qu.:0.300  \n",
       " Median :5.800   Median :3.000   Median :4.200   Median :1.300  \n",
       " Mean   :5.842   Mean   :3.018   Mean   :3.787   Mean   :1.194  \n",
       " 3rd Qu.:6.400   3rd Qu.:3.300   3rd Qu.:5.100   3rd Qu.:1.800  \n",
       " Max.   :7.900   Max.   :4.200   Max.   :6.900   Max.   :2.500  \n",
       "       Species  \n",
       " setosa    :34  \n",
       " versicolor:36  \n",
       " virginica :35  \n",
       "                \n",
       "                \n",
       "                "
      ]
     },
     "metadata": {},
     "output_type": "display_data"
    }
   ],
   "source": [
    "summary(irisSamp)"
   ]
  },
  {
   "cell_type": "code",
   "execution_count": 46,
   "id": "82f93c01",
   "metadata": {},
   "outputs": [
    {
     "data": {
      "text/plain": [
       "  Sepal.Length    Sepal.Width     Petal.Length    Petal.Width   \n",
       " Min.   :4.300   Min.   :2.000   Min.   :1.000   Min.   :0.100  \n",
       " 1st Qu.:5.100   1st Qu.:2.800   1st Qu.:1.600   1st Qu.:0.300  \n",
       " Median :5.800   Median :3.000   Median :4.350   Median :1.300  \n",
       " Mean   :5.843   Mean   :3.057   Mean   :3.758   Mean   :1.199  \n",
       " 3rd Qu.:6.400   3rd Qu.:3.300   3rd Qu.:5.100   3rd Qu.:1.800  \n",
       " Max.   :7.900   Max.   :4.400   Max.   :6.900   Max.   :2.500  \n",
       "       Species  \n",
       " setosa    :50  \n",
       " versicolor:50  \n",
       " virginica :50  \n",
       "                \n",
       "                \n",
       "                "
      ]
     },
     "metadata": {},
     "output_type": "display_data"
    }
   ],
   "source": [
    "summary(iris)"
   ]
  },
  {
   "cell_type": "code",
   "execution_count": 47,
   "id": "d98d5954",
   "metadata": {},
   "outputs": [
    {
     "data": {
      "text/plain": [
       "\n",
       "    setosa versicolor  virginica \n",
       "        34         36         35 "
      ]
     },
     "metadata": {},
     "output_type": "display_data"
    }
   ],
   "source": [
    "table(irisSamp$Species)\n"
   ]
  },
  {
   "cell_type": "code",
   "execution_count": 48,
   "id": "58f0b793",
   "metadata": {},
   "outputs": [],
   "source": [
    "# iris Sampling 시 Species 별로 Sampling\n",
    "\n",
    "samp <- c(sample(1:50, 35),sample(51:100, 35),sample(101:150, 35))"
   ]
  },
  {
   "cell_type": "code",
   "execution_count": 49,
   "id": "9a127c4b",
   "metadata": {},
   "outputs": [
    {
     "data": {
      "text/plain": [
       "\n",
       "    setosa versicolor  virginica \n",
       "        35         35         35 "
      ]
     },
     "metadata": {},
     "output_type": "display_data"
    }
   ],
   "source": [
    "irisSamp <- iris[samp,]\n",
    "table(irisSamp$Species)"
   ]
  },
  {
   "cell_type": "code",
   "execution_count": 50,
   "id": "63ab0d15",
   "metadata": {},
   "outputs": [],
   "source": [
    "# Training Data와 Test Data 분리하기\n",
    "\n",
    "iris.train <- iris[samp,]\n",
    "iris.test <- iris[-samp,]"
   ]
  },
  {
   "cell_type": "code",
   "execution_count": 51,
   "id": "87caedb4",
   "metadata": {},
   "outputs": [
    {
     "data": {
      "text/plain": [
       "  Sepal.Length    Sepal.Width     Petal.Length    Petal.Width   \n",
       " Min.   :4.400   Min.   :2.000   Min.   :1.000   Min.   :0.100  \n",
       " 1st Qu.:5.100   1st Qu.:2.800   1st Qu.:1.500   1st Qu.:0.300  \n",
       " Median :5.700   Median :3.000   Median :4.400   Median :1.300  \n",
       " Mean   :5.848   Mean   :3.071   Mean   :3.761   Mean   :1.203  \n",
       " 3rd Qu.:6.400   3rd Qu.:3.400   3rd Qu.:5.100   3rd Qu.:1.800  \n",
       " Max.   :7.900   Max.   :4.400   Max.   :6.700   Max.   :2.500  \n",
       "       Species  \n",
       " setosa    :35  \n",
       " versicolor:35  \n",
       " virginica :35  \n",
       "                \n",
       "                \n",
       "                "
      ]
     },
     "metadata": {},
     "output_type": "display_data"
    }
   ],
   "source": [
    "summary(iris.train)"
   ]
  },
  {
   "cell_type": "code",
   "execution_count": 52,
   "id": "f66b8af3",
   "metadata": {},
   "outputs": [
    {
     "data": {
      "text/plain": [
       "  Sepal.Length    Sepal.Width     Petal.Length    Petal.Width   \n",
       " Min.   :4.300   Min.   :2.300   Min.   :1.100   Min.   :0.100  \n",
       " 1st Qu.:5.100   1st Qu.:2.800   1st Qu.:1.600   1st Qu.:0.300  \n",
       " Median :5.800   Median :3.000   Median :4.300   Median :1.300  \n",
       " Mean   :5.833   Mean   :3.024   Mean   :3.751   Mean   :1.191  \n",
       " 3rd Qu.:6.300   3rd Qu.:3.200   3rd Qu.:5.100   3rd Qu.:1.800  \n",
       " Max.   :7.700   Max.   :4.000   Max.   :6.900   Max.   :2.500  \n",
       "       Species  \n",
       " setosa    :15  \n",
       " versicolor:15  \n",
       " virginica :15  \n",
       "                \n",
       "                \n",
       "                "
      ]
     },
     "metadata": {},
     "output_type": "display_data"
    }
   ],
   "source": [
    "summary(iris.test)"
   ]
  },
  {
   "cell_type": "markdown",
   "id": "a3f0c24a",
   "metadata": {},
   "source": [
    "----\n",
    "# 부분집합"
   ]
  },
  {
   "cell_type": "code",
   "execution_count": 53,
   "id": "d56d5e63",
   "metadata": {},
   "outputs": [
    {
     "data": {
      "text/html": [
       "<table>\n",
       "<thead><tr><th></th><th scope=col>Sepal.Length</th><th scope=col>Sepal.Width</th><th scope=col>Petal.Length</th><th scope=col>Petal.Width</th><th scope=col>Species</th></tr></thead>\n",
       "<tbody>\n",
       "\t<tr><th scope=row>45</th><td>5.1   </td><td>3.8   </td><td>1.9   </td><td>0.4   </td><td>setosa</td></tr>\n",
       "\t<tr><th scope=row>46</th><td>4.8   </td><td>3.0   </td><td>1.4   </td><td>0.3   </td><td>setosa</td></tr>\n",
       "\t<tr><th scope=row>47</th><td>5.1   </td><td>3.8   </td><td>1.6   </td><td>0.2   </td><td>setosa</td></tr>\n",
       "\t<tr><th scope=row>48</th><td>4.6   </td><td>3.2   </td><td>1.4   </td><td>0.2   </td><td>setosa</td></tr>\n",
       "\t<tr><th scope=row>49</th><td>5.3   </td><td>3.7   </td><td>1.5   </td><td>0.2   </td><td>setosa</td></tr>\n",
       "\t<tr><th scope=row>50</th><td>5.0   </td><td>3.3   </td><td>1.4   </td><td>0.2   </td><td>setosa</td></tr>\n",
       "</tbody>\n",
       "</table>\n"
      ],
      "text/latex": [
       "\\begin{tabular}{r|lllll}\n",
       "  & Sepal.Length & Sepal.Width & Petal.Length & Petal.Width & Species\\\\\n",
       "\\hline\n",
       "\t45 & 5.1    & 3.8    & 1.9    & 0.4    & setosa\\\\\n",
       "\t46 & 4.8    & 3.0    & 1.4    & 0.3    & setosa\\\\\n",
       "\t47 & 5.1    & 3.8    & 1.6    & 0.2    & setosa\\\\\n",
       "\t48 & 4.6    & 3.2    & 1.4    & 0.2    & setosa\\\\\n",
       "\t49 & 5.3    & 3.7    & 1.5    & 0.2    & setosa\\\\\n",
       "\t50 & 5.0    & 3.3    & 1.4    & 0.2    & setosa\\\\\n",
       "\\end{tabular}\n"
      ],
      "text/markdown": [
       "\n",
       "| <!--/--> | Sepal.Length | Sepal.Width | Petal.Length | Petal.Width | Species |\n",
       "|---|---|---|---|---|---|\n",
       "| 45 | 5.1    | 3.8    | 1.9    | 0.4    | setosa |\n",
       "| 46 | 4.8    | 3.0    | 1.4    | 0.3    | setosa |\n",
       "| 47 | 5.1    | 3.8    | 1.6    | 0.2    | setosa |\n",
       "| 48 | 4.6    | 3.2    | 1.4    | 0.2    | setosa |\n",
       "| 49 | 5.3    | 3.7    | 1.5    | 0.2    | setosa |\n",
       "| 50 | 5.0    | 3.3    | 1.4    | 0.2    | setosa |\n",
       "\n"
      ],
      "text/plain": [
       "   Sepal.Length Sepal.Width Petal.Length Petal.Width Species\n",
       "45 5.1          3.8         1.9          0.4         setosa \n",
       "46 4.8          3.0         1.4          0.3         setosa \n",
       "47 5.1          3.8         1.6          0.2         setosa \n",
       "48 4.6          3.2         1.4          0.2         setosa \n",
       "49 5.3          3.7         1.5          0.2         setosa \n",
       "50 5.0          3.3         1.4          0.2         setosa "
      ]
     },
     "metadata": {},
     "output_type": "display_data"
    },
    {
     "name": "stdout",
     "output_type": "stream",
     "text": [
      "'data.frame':\t50 obs. of  5 variables:\n",
      " $ Sepal.Length: num  5.1 4.9 4.7 4.6 5 5.4 4.6 5 4.4 4.9 ...\n",
      " $ Sepal.Width : num  3.5 3 3.2 3.1 3.6 3.9 3.4 3.4 2.9 3.1 ...\n",
      " $ Petal.Length: num  1.4 1.4 1.3 1.5 1.4 1.7 1.4 1.5 1.4 1.5 ...\n",
      " $ Petal.Width : num  0.2 0.2 0.2 0.2 0.2 0.4 0.3 0.2 0.2 0.1 ...\n",
      " $ Species     : Factor w/ 3 levels \"setosa\",\"versicolor\",..: 1 1 1 1 1 1 1 1 1 1 ...\n"
     ]
    }
   ],
   "source": [
    "# iris에서 Species 가 setosa 인것만 추출하여 iris_setosa 라는 데이터 프레임 만들기\n",
    "\n",
    "iris_setosa <- subset(iris, Species =='setosa')\n",
    "tail(iris_setosa)\n",
    "str(iris_setosa)\n",
    "iris_setosa$Species <-factor(iris_setosa$Species)  #factor가 3개 되어있으니 바꿔주기 \n"
   ]
  },
  {
   "cell_type": "code",
   "execution_count": 54,
   "id": "b89f74b9",
   "metadata": {},
   "outputs": [
    {
     "name": "stdout",
     "output_type": "stream",
     "text": [
      "'data.frame':\t50 obs. of  5 variables:\n",
      " $ Sepal.Length: num  5.1 4.9 4.7 4.6 5 5.4 4.6 5 4.4 4.9 ...\n",
      " $ Sepal.Width : num  3.5 3 3.2 3.1 3.6 3.9 3.4 3.4 2.9 3.1 ...\n",
      " $ Petal.Length: num  1.4 1.4 1.3 1.5 1.4 1.7 1.4 1.5 1.4 1.5 ...\n",
      " $ Petal.Width : num  0.2 0.2 0.2 0.2 0.2 0.4 0.3 0.2 0.2 0.1 ...\n",
      " $ Species     : Factor w/ 1 level \"setosa\": 1 1 1 1 1 1 1 1 1 1 ...\n"
     ]
    }
   ],
   "source": [
    "str(iris_setosa)"
   ]
  },
  {
   "cell_type": "code",
   "execution_count": 55,
   "id": "3295b87b",
   "metadata": {},
   "outputs": [
    {
     "name": "stdout",
     "output_type": "stream",
     "text": [
      "   Sepal.Length Sepal.Width Petal.Length Petal.Width    Species\n",
      "1           7.0         3.2          4.7         1.4 versicolor\n",
      "2           6.4         3.2          4.5         1.5 versicolor\n",
      "3           6.9         3.1          4.9         1.5 versicolor\n",
      "4           5.5         2.3          4.0         1.3 versicolor\n",
      "5           6.5         2.8          4.6         1.5 versicolor\n",
      "6           5.7         2.8          4.5         1.3 versicolor\n",
      "7           6.3         3.3          4.7         1.6 versicolor\n",
      "8           4.9         2.4          3.3         1.0 versicolor\n",
      "9           6.6         2.9          4.6         1.3 versicolor\n",
      "10          5.2         2.7          3.9         1.4 versicolor\n",
      "11          5.0         2.0          3.5         1.0 versicolor\n",
      "12          5.9         3.0          4.2         1.5 versicolor\n",
      "13          6.0         2.2          4.0         1.0 versicolor\n",
      "14          6.1         2.9          4.7         1.4 versicolor\n",
      "15          5.6         2.9          3.6         1.3 versicolor\n",
      "16          6.7         3.1          4.4         1.4 versicolor\n",
      "17          5.6         3.0          4.5         1.5 versicolor\n",
      "18          5.8         2.7          4.1         1.0 versicolor\n",
      "19          6.2         2.2          4.5         1.5 versicolor\n",
      "20          5.6         2.5          3.9         1.1 versicolor\n",
      "21          5.9         3.2          4.8         1.8 versicolor\n",
      "22          6.1         2.8          4.0         1.3 versicolor\n",
      "23          6.3         2.5          4.9         1.5 versicolor\n",
      "24          6.1         2.8          4.7         1.2 versicolor\n",
      "25          6.4         2.9          4.3         1.3 versicolor\n",
      "26          6.6         3.0          4.4         1.4 versicolor\n",
      "27          6.8         2.8          4.8         1.4 versicolor\n",
      "28          6.7         3.0          5.0         1.7 versicolor\n",
      "29          6.0         2.9          4.5         1.5 versicolor\n",
      "30          5.7         2.6          3.5         1.0 versicolor\n",
      "31          5.5         2.4          3.8         1.1 versicolor\n",
      "32          5.5         2.4          3.7         1.0 versicolor\n",
      "33          5.8         2.7          3.9         1.2 versicolor\n",
      "34          6.0         2.7          5.1         1.6 versicolor\n",
      "35          5.4         3.0          4.5         1.5 versicolor\n",
      "36          6.0         3.4          4.5         1.6 versicolor\n",
      "37          6.7         3.1          4.7         1.5 versicolor\n",
      "38          6.3         2.3          4.4         1.3 versicolor\n",
      "39          5.6         3.0          4.1         1.3 versicolor\n",
      "40          5.5         2.5          4.0         1.3 versicolor\n",
      "41          5.5         2.6          4.4         1.2 versicolor\n",
      "42          6.1         3.0          4.6         1.4 versicolor\n",
      "43          5.8         2.6          4.0         1.2 versicolor\n",
      "44          5.0         2.3          3.3         1.0 versicolor\n",
      "45          5.6         2.7          4.2         1.3 versicolor\n",
      "46          5.7         3.0          4.2         1.2 versicolor\n",
      "47          5.7         2.9          4.2         1.3 versicolor\n",
      "48          6.2         2.9          4.3         1.3 versicolor\n",
      "49          5.1         2.5          3.0         1.1 versicolor\n",
      "50          5.7         2.8          4.1         1.3 versicolor\n",
      "'data.frame':\t50 obs. of  5 variables:\n",
      " $ Sepal.Length: num  7 6.4 6.9 5.5 6.5 5.7 6.3 4.9 6.6 5.2 ...\n",
      " $ Sepal.Width : num  3.2 3.2 3.1 2.3 2.8 2.8 3.3 2.4 2.9 2.7 ...\n",
      " $ Petal.Length: num  4.7 4.5 4.9 4 4.6 4.5 4.7 3.3 4.6 3.9 ...\n",
      " $ Petal.Width : num  1.4 1.5 1.5 1.3 1.5 1.3 1.6 1 1.3 1.4 ...\n",
      " $ Species     : Factor w/ 1 level \"versicolor\": 1 1 1 1 1 1 1 1 1 1 ...\n"
     ]
    }
   ],
   "source": [
    "# iris에서 Species가 versicolor 인것만 추출하여 iris_versicolor 라는 데이터 프레임 만들기\n",
    "#외형 먼저 그다음 속성보기!\n",
    "\n",
    "iris_versicolor <- subset(iris,Species=='versicolor')\n",
    "\n",
    "iris_versicolor$Species <- factor(iris_versicolor$Species ) #factor고치기\n",
    "rownames(iris_versicolor) <-c() #51~ 되어 있는걸 1~로 바꾸기\n",
    "print(iris_versicolor)\n",
    "str(iris_versicolor)"
   ]
  },
  {
   "cell_type": "code",
   "execution_count": 56,
   "id": "b954abb9",
   "metadata": {},
   "outputs": [],
   "source": [
    "help(factor)"
   ]
  },
  {
   "cell_type": "code",
   "execution_count": 57,
   "id": "8ca87c16",
   "metadata": {},
   "outputs": [
    {
     "data": {
      "text/html": [
       "22"
      ],
      "text/latex": [
       "22"
      ],
      "text/markdown": [
       "22"
      ],
      "text/plain": [
       "[1] 22"
      ]
     },
     "metadata": {},
     "output_type": "display_data"
    },
    {
     "data": {
      "text/html": [
       "22"
      ],
      "text/latex": [
       "22"
      ],
      "text/markdown": [
       "22"
      ],
      "text/plain": [
       "[1] 22"
      ]
     },
     "metadata": {},
     "output_type": "display_data"
    }
   ],
   "source": [
    "# iris에서 Species가 setosa이고 Sepal.Length가 5보다 큰 Sample(Data)의 갯수는?\n",
    "\n",
    "sum(iris$Species=='setosa' & iris$Sepal.Length>5)\n",
    "\n",
    "nrow(subset(iris, Species=='setosa' & iris$Sepal.Length>5))"
   ]
  },
  {
   "cell_type": "code",
   "execution_count": 58,
   "id": "ab49b99a",
   "metadata": {},
   "outputs": [
    {
     "data": {
      "text/html": [
       "<table>\n",
       "<thead><tr><th scope=col>Sepal.Length</th><th scope=col>Species</th></tr></thead>\n",
       "<tbody>\n",
       "\t<tr><td>5.1   </td><td>setosa</td></tr>\n",
       "\t<tr><td>4.9   </td><td>setosa</td></tr>\n",
       "\t<tr><td>4.7   </td><td>setosa</td></tr>\n",
       "\t<tr><td>4.6   </td><td>setosa</td></tr>\n",
       "\t<tr><td>5.0   </td><td>setosa</td></tr>\n",
       "\t<tr><td>5.4   </td><td>setosa</td></tr>\n",
       "\t<tr><td>4.6   </td><td>setosa</td></tr>\n",
       "\t<tr><td>5.0   </td><td>setosa</td></tr>\n",
       "\t<tr><td>4.4   </td><td>setosa</td></tr>\n",
       "\t<tr><td>4.9   </td><td>setosa</td></tr>\n",
       "\t<tr><td>5.4   </td><td>setosa</td></tr>\n",
       "\t<tr><td>4.8   </td><td>setosa</td></tr>\n",
       "\t<tr><td>4.8   </td><td>setosa</td></tr>\n",
       "\t<tr><td>4.3   </td><td>setosa</td></tr>\n",
       "\t<tr><td>5.8   </td><td>setosa</td></tr>\n",
       "\t<tr><td>5.7   </td><td>setosa</td></tr>\n",
       "\t<tr><td>5.4   </td><td>setosa</td></tr>\n",
       "\t<tr><td>5.1   </td><td>setosa</td></tr>\n",
       "\t<tr><td>5.7   </td><td>setosa</td></tr>\n",
       "\t<tr><td>5.1   </td><td>setosa</td></tr>\n",
       "\t<tr><td>5.4   </td><td>setosa</td></tr>\n",
       "\t<tr><td>5.1   </td><td>setosa</td></tr>\n",
       "\t<tr><td>4.6   </td><td>setosa</td></tr>\n",
       "\t<tr><td>5.1   </td><td>setosa</td></tr>\n",
       "\t<tr><td>4.8   </td><td>setosa</td></tr>\n",
       "\t<tr><td>5.0   </td><td>setosa</td></tr>\n",
       "\t<tr><td>5.0   </td><td>setosa</td></tr>\n",
       "\t<tr><td>5.2   </td><td>setosa</td></tr>\n",
       "\t<tr><td>5.2   </td><td>setosa</td></tr>\n",
       "\t<tr><td>4.7   </td><td>setosa</td></tr>\n",
       "\t<tr><td>...</td><td>...</td></tr>\n",
       "\t<tr><td>6.9      </td><td>virginica</td></tr>\n",
       "\t<tr><td>5.6      </td><td>virginica</td></tr>\n",
       "\t<tr><td>7.7      </td><td>virginica</td></tr>\n",
       "\t<tr><td>6.3      </td><td>virginica</td></tr>\n",
       "\t<tr><td>6.7      </td><td>virginica</td></tr>\n",
       "\t<tr><td>7.2      </td><td>virginica</td></tr>\n",
       "\t<tr><td>6.2      </td><td>virginica</td></tr>\n",
       "\t<tr><td>6.1      </td><td>virginica</td></tr>\n",
       "\t<tr><td>6.4      </td><td>virginica</td></tr>\n",
       "\t<tr><td>7.2      </td><td>virginica</td></tr>\n",
       "\t<tr><td>7.4      </td><td>virginica</td></tr>\n",
       "\t<tr><td>7.9      </td><td>virginica</td></tr>\n",
       "\t<tr><td>6.4      </td><td>virginica</td></tr>\n",
       "\t<tr><td>6.3      </td><td>virginica</td></tr>\n",
       "\t<tr><td>6.1      </td><td>virginica</td></tr>\n",
       "\t<tr><td>7.7      </td><td>virginica</td></tr>\n",
       "\t<tr><td>6.3      </td><td>virginica</td></tr>\n",
       "\t<tr><td>6.4      </td><td>virginica</td></tr>\n",
       "\t<tr><td>6.0      </td><td>virginica</td></tr>\n",
       "\t<tr><td>6.9      </td><td>virginica</td></tr>\n",
       "\t<tr><td>6.7      </td><td>virginica</td></tr>\n",
       "\t<tr><td>6.9      </td><td>virginica</td></tr>\n",
       "\t<tr><td>5.8      </td><td>virginica</td></tr>\n",
       "\t<tr><td>6.8      </td><td>virginica</td></tr>\n",
       "\t<tr><td>6.7      </td><td>virginica</td></tr>\n",
       "\t<tr><td>6.7      </td><td>virginica</td></tr>\n",
       "\t<tr><td>6.3      </td><td>virginica</td></tr>\n",
       "\t<tr><td>6.5      </td><td>virginica</td></tr>\n",
       "\t<tr><td>6.2      </td><td>virginica</td></tr>\n",
       "\t<tr><td>5.9      </td><td>virginica</td></tr>\n",
       "</tbody>\n",
       "</table>\n"
      ],
      "text/latex": [
       "\\begin{tabular}{r|ll}\n",
       " Sepal.Length & Species\\\\\n",
       "\\hline\n",
       "\t 5.1    & setosa\\\\\n",
       "\t 4.9    & setosa\\\\\n",
       "\t 4.7    & setosa\\\\\n",
       "\t 4.6    & setosa\\\\\n",
       "\t 5.0    & setosa\\\\\n",
       "\t 5.4    & setosa\\\\\n",
       "\t 4.6    & setosa\\\\\n",
       "\t 5.0    & setosa\\\\\n",
       "\t 4.4    & setosa\\\\\n",
       "\t 4.9    & setosa\\\\\n",
       "\t 5.4    & setosa\\\\\n",
       "\t 4.8    & setosa\\\\\n",
       "\t 4.8    & setosa\\\\\n",
       "\t 4.3    & setosa\\\\\n",
       "\t 5.8    & setosa\\\\\n",
       "\t 5.7    & setosa\\\\\n",
       "\t 5.4    & setosa\\\\\n",
       "\t 5.1    & setosa\\\\\n",
       "\t 5.7    & setosa\\\\\n",
       "\t 5.1    & setosa\\\\\n",
       "\t 5.4    & setosa\\\\\n",
       "\t 5.1    & setosa\\\\\n",
       "\t 4.6    & setosa\\\\\n",
       "\t 5.1    & setosa\\\\\n",
       "\t 4.8    & setosa\\\\\n",
       "\t 5.0    & setosa\\\\\n",
       "\t 5.0    & setosa\\\\\n",
       "\t 5.2    & setosa\\\\\n",
       "\t 5.2    & setosa\\\\\n",
       "\t 4.7    & setosa\\\\\n",
       "\t ... & ...\\\\\n",
       "\t 6.9       & virginica\\\\\n",
       "\t 5.6       & virginica\\\\\n",
       "\t 7.7       & virginica\\\\\n",
       "\t 6.3       & virginica\\\\\n",
       "\t 6.7       & virginica\\\\\n",
       "\t 7.2       & virginica\\\\\n",
       "\t 6.2       & virginica\\\\\n",
       "\t 6.1       & virginica\\\\\n",
       "\t 6.4       & virginica\\\\\n",
       "\t 7.2       & virginica\\\\\n",
       "\t 7.4       & virginica\\\\\n",
       "\t 7.9       & virginica\\\\\n",
       "\t 6.4       & virginica\\\\\n",
       "\t 6.3       & virginica\\\\\n",
       "\t 6.1       & virginica\\\\\n",
       "\t 7.7       & virginica\\\\\n",
       "\t 6.3       & virginica\\\\\n",
       "\t 6.4       & virginica\\\\\n",
       "\t 6.0       & virginica\\\\\n",
       "\t 6.9       & virginica\\\\\n",
       "\t 6.7       & virginica\\\\\n",
       "\t 6.9       & virginica\\\\\n",
       "\t 5.8       & virginica\\\\\n",
       "\t 6.8       & virginica\\\\\n",
       "\t 6.7       & virginica\\\\\n",
       "\t 6.7       & virginica\\\\\n",
       "\t 6.3       & virginica\\\\\n",
       "\t 6.5       & virginica\\\\\n",
       "\t 6.2       & virginica\\\\\n",
       "\t 5.9       & virginica\\\\\n",
       "\\end{tabular}\n"
      ],
      "text/markdown": [
       "\n",
       "| Sepal.Length | Species |\n",
       "|---|---|\n",
       "| 5.1    | setosa |\n",
       "| 4.9    | setosa |\n",
       "| 4.7    | setosa |\n",
       "| 4.6    | setosa |\n",
       "| 5.0    | setosa |\n",
       "| 5.4    | setosa |\n",
       "| 4.6    | setosa |\n",
       "| 5.0    | setosa |\n",
       "| 4.4    | setosa |\n",
       "| 4.9    | setosa |\n",
       "| 5.4    | setosa |\n",
       "| 4.8    | setosa |\n",
       "| 4.8    | setosa |\n",
       "| 4.3    | setosa |\n",
       "| 5.8    | setosa |\n",
       "| 5.7    | setosa |\n",
       "| 5.4    | setosa |\n",
       "| 5.1    | setosa |\n",
       "| 5.7    | setosa |\n",
       "| 5.1    | setosa |\n",
       "| 5.4    | setosa |\n",
       "| 5.1    | setosa |\n",
       "| 4.6    | setosa |\n",
       "| 5.1    | setosa |\n",
       "| 4.8    | setosa |\n",
       "| 5.0    | setosa |\n",
       "| 5.0    | setosa |\n",
       "| 5.2    | setosa |\n",
       "| 5.2    | setosa |\n",
       "| 4.7    | setosa |\n",
       "| ... | ... |\n",
       "| 6.9       | virginica |\n",
       "| 5.6       | virginica |\n",
       "| 7.7       | virginica |\n",
       "| 6.3       | virginica |\n",
       "| 6.7       | virginica |\n",
       "| 7.2       | virginica |\n",
       "| 6.2       | virginica |\n",
       "| 6.1       | virginica |\n",
       "| 6.4       | virginica |\n",
       "| 7.2       | virginica |\n",
       "| 7.4       | virginica |\n",
       "| 7.9       | virginica |\n",
       "| 6.4       | virginica |\n",
       "| 6.3       | virginica |\n",
       "| 6.1       | virginica |\n",
       "| 7.7       | virginica |\n",
       "| 6.3       | virginica |\n",
       "| 6.4       | virginica |\n",
       "| 6.0       | virginica |\n",
       "| 6.9       | virginica |\n",
       "| 6.7       | virginica |\n",
       "| 6.9       | virginica |\n",
       "| 5.8       | virginica |\n",
       "| 6.8       | virginica |\n",
       "| 6.7       | virginica |\n",
       "| 6.7       | virginica |\n",
       "| 6.3       | virginica |\n",
       "| 6.5       | virginica |\n",
       "| 6.2       | virginica |\n",
       "| 5.9       | virginica |\n",
       "\n"
      ],
      "text/plain": [
       "    Sepal.Length Species  \n",
       "1   5.1          setosa   \n",
       "2   4.9          setosa   \n",
       "3   4.7          setosa   \n",
       "4   4.6          setosa   \n",
       "5   5.0          setosa   \n",
       "6   5.4          setosa   \n",
       "7   4.6          setosa   \n",
       "8   5.0          setosa   \n",
       "9   4.4          setosa   \n",
       "10  4.9          setosa   \n",
       "11  5.4          setosa   \n",
       "12  4.8          setosa   \n",
       "13  4.8          setosa   \n",
       "14  4.3          setosa   \n",
       "15  5.8          setosa   \n",
       "16  5.7          setosa   \n",
       "17  5.4          setosa   \n",
       "18  5.1          setosa   \n",
       "19  5.7          setosa   \n",
       "20  5.1          setosa   \n",
       "21  5.4          setosa   \n",
       "22  5.1          setosa   \n",
       "23  4.6          setosa   \n",
       "24  5.1          setosa   \n",
       "25  4.8          setosa   \n",
       "26  5.0          setosa   \n",
       "27  5.0          setosa   \n",
       "28  5.2          setosa   \n",
       "29  5.2          setosa   \n",
       "30  4.7          setosa   \n",
       "... ...          ...      \n",
       "121 6.9          virginica\n",
       "122 5.6          virginica\n",
       "123 7.7          virginica\n",
       "124 6.3          virginica\n",
       "125 6.7          virginica\n",
       "126 7.2          virginica\n",
       "127 6.2          virginica\n",
       "128 6.1          virginica\n",
       "129 6.4          virginica\n",
       "130 7.2          virginica\n",
       "131 7.4          virginica\n",
       "132 7.9          virginica\n",
       "133 6.4          virginica\n",
       "134 6.3          virginica\n",
       "135 6.1          virginica\n",
       "136 7.7          virginica\n",
       "137 6.3          virginica\n",
       "138 6.4          virginica\n",
       "139 6.0          virginica\n",
       "140 6.9          virginica\n",
       "141 6.7          virginica\n",
       "142 6.9          virginica\n",
       "143 5.8          virginica\n",
       "144 6.8          virginica\n",
       "145 6.7          virginica\n",
       "146 6.7          virginica\n",
       "147 6.3          virginica\n",
       "148 6.5          virginica\n",
       "149 6.2          virginica\n",
       "150 5.9          virginica"
      ]
     },
     "metadata": {},
     "output_type": "display_data"
    },
    {
     "data": {
      "text/html": [
       "<table>\n",
       "<thead><tr><th scope=col>Sepal.Length</th><th scope=col>Sepal.Width</th><th scope=col>Petal.Length</th><th scope=col>Petal.Width</th></tr></thead>\n",
       "<tbody>\n",
       "\t<tr><td>5.1</td><td>3.5</td><td>1.4</td><td>0.2</td></tr>\n",
       "\t<tr><td>4.9</td><td>3.0</td><td>1.4</td><td>0.2</td></tr>\n",
       "\t<tr><td>4.7</td><td>3.2</td><td>1.3</td><td>0.2</td></tr>\n",
       "\t<tr><td>4.6</td><td>3.1</td><td>1.5</td><td>0.2</td></tr>\n",
       "\t<tr><td>5.0</td><td>3.6</td><td>1.4</td><td>0.2</td></tr>\n",
       "\t<tr><td>5.4</td><td>3.9</td><td>1.7</td><td>0.4</td></tr>\n",
       "\t<tr><td>4.6</td><td>3.4</td><td>1.4</td><td>0.3</td></tr>\n",
       "\t<tr><td>5.0</td><td>3.4</td><td>1.5</td><td>0.2</td></tr>\n",
       "\t<tr><td>4.4</td><td>2.9</td><td>1.4</td><td>0.2</td></tr>\n",
       "\t<tr><td>4.9</td><td>3.1</td><td>1.5</td><td>0.1</td></tr>\n",
       "\t<tr><td>5.4</td><td>3.7</td><td>1.5</td><td>0.2</td></tr>\n",
       "\t<tr><td>4.8</td><td>3.4</td><td>1.6</td><td>0.2</td></tr>\n",
       "\t<tr><td>4.8</td><td>3.0</td><td>1.4</td><td>0.1</td></tr>\n",
       "\t<tr><td>4.3</td><td>3.0</td><td>1.1</td><td>0.1</td></tr>\n",
       "\t<tr><td>5.8</td><td>4.0</td><td>1.2</td><td>0.2</td></tr>\n",
       "\t<tr><td>5.7</td><td>4.4</td><td>1.5</td><td>0.4</td></tr>\n",
       "\t<tr><td>5.4</td><td>3.9</td><td>1.3</td><td>0.4</td></tr>\n",
       "\t<tr><td>5.1</td><td>3.5</td><td>1.4</td><td>0.3</td></tr>\n",
       "\t<tr><td>5.7</td><td>3.8</td><td>1.7</td><td>0.3</td></tr>\n",
       "\t<tr><td>5.1</td><td>3.8</td><td>1.5</td><td>0.3</td></tr>\n",
       "\t<tr><td>5.4</td><td>3.4</td><td>1.7</td><td>0.2</td></tr>\n",
       "\t<tr><td>5.1</td><td>3.7</td><td>1.5</td><td>0.4</td></tr>\n",
       "\t<tr><td>4.6</td><td>3.6</td><td>1.0</td><td>0.2</td></tr>\n",
       "\t<tr><td>5.1</td><td>3.3</td><td>1.7</td><td>0.5</td></tr>\n",
       "\t<tr><td>4.8</td><td>3.4</td><td>1.9</td><td>0.2</td></tr>\n",
       "\t<tr><td>5.0</td><td>3.0</td><td>1.6</td><td>0.2</td></tr>\n",
       "\t<tr><td>5.0</td><td>3.4</td><td>1.6</td><td>0.4</td></tr>\n",
       "\t<tr><td>5.2</td><td>3.5</td><td>1.5</td><td>0.2</td></tr>\n",
       "\t<tr><td>5.2</td><td>3.4</td><td>1.4</td><td>0.2</td></tr>\n",
       "\t<tr><td>4.7</td><td>3.2</td><td>1.6</td><td>0.2</td></tr>\n",
       "\t<tr><td>...</td><td>...</td><td>...</td><td>...</td></tr>\n",
       "\t<tr><td>6.9</td><td>3.2</td><td>5.7</td><td>2.3</td></tr>\n",
       "\t<tr><td>5.6</td><td>2.8</td><td>4.9</td><td>2.0</td></tr>\n",
       "\t<tr><td>7.7</td><td>2.8</td><td>6.7</td><td>2.0</td></tr>\n",
       "\t<tr><td>6.3</td><td>2.7</td><td>4.9</td><td>1.8</td></tr>\n",
       "\t<tr><td>6.7</td><td>3.3</td><td>5.7</td><td>2.1</td></tr>\n",
       "\t<tr><td>7.2</td><td>3.2</td><td>6.0</td><td>1.8</td></tr>\n",
       "\t<tr><td>6.2</td><td>2.8</td><td>4.8</td><td>1.8</td></tr>\n",
       "\t<tr><td>6.1</td><td>3.0</td><td>4.9</td><td>1.8</td></tr>\n",
       "\t<tr><td>6.4</td><td>2.8</td><td>5.6</td><td>2.1</td></tr>\n",
       "\t<tr><td>7.2</td><td>3.0</td><td>5.8</td><td>1.6</td></tr>\n",
       "\t<tr><td>7.4</td><td>2.8</td><td>6.1</td><td>1.9</td></tr>\n",
       "\t<tr><td>7.9</td><td>3.8</td><td>6.4</td><td>2.0</td></tr>\n",
       "\t<tr><td>6.4</td><td>2.8</td><td>5.6</td><td>2.2</td></tr>\n",
       "\t<tr><td>6.3</td><td>2.8</td><td>5.1</td><td>1.5</td></tr>\n",
       "\t<tr><td>6.1</td><td>2.6</td><td>5.6</td><td>1.4</td></tr>\n",
       "\t<tr><td>7.7</td><td>3.0</td><td>6.1</td><td>2.3</td></tr>\n",
       "\t<tr><td>6.3</td><td>3.4</td><td>5.6</td><td>2.4</td></tr>\n",
       "\t<tr><td>6.4</td><td>3.1</td><td>5.5</td><td>1.8</td></tr>\n",
       "\t<tr><td>6.0</td><td>3.0</td><td>4.8</td><td>1.8</td></tr>\n",
       "\t<tr><td>6.9</td><td>3.1</td><td>5.4</td><td>2.1</td></tr>\n",
       "\t<tr><td>6.7</td><td>3.1</td><td>5.6</td><td>2.4</td></tr>\n",
       "\t<tr><td>6.9</td><td>3.1</td><td>5.1</td><td>2.3</td></tr>\n",
       "\t<tr><td>5.8</td><td>2.7</td><td>5.1</td><td>1.9</td></tr>\n",
       "\t<tr><td>6.8</td><td>3.2</td><td>5.9</td><td>2.3</td></tr>\n",
       "\t<tr><td>6.7</td><td>3.3</td><td>5.7</td><td>2.5</td></tr>\n",
       "\t<tr><td>6.7</td><td>3.0</td><td>5.2</td><td>2.3</td></tr>\n",
       "\t<tr><td>6.3</td><td>2.5</td><td>5.0</td><td>1.9</td></tr>\n",
       "\t<tr><td>6.5</td><td>3.0</td><td>5.2</td><td>2.0</td></tr>\n",
       "\t<tr><td>6.2</td><td>3.4</td><td>5.4</td><td>2.3</td></tr>\n",
       "\t<tr><td>5.9</td><td>3.0</td><td>5.1</td><td>1.8</td></tr>\n",
       "</tbody>\n",
       "</table>\n"
      ],
      "text/latex": [
       "\\begin{tabular}{r|llll}\n",
       " Sepal.Length & Sepal.Width & Petal.Length & Petal.Width\\\\\n",
       "\\hline\n",
       "\t 5.1 & 3.5 & 1.4 & 0.2\\\\\n",
       "\t 4.9 & 3.0 & 1.4 & 0.2\\\\\n",
       "\t 4.7 & 3.2 & 1.3 & 0.2\\\\\n",
       "\t 4.6 & 3.1 & 1.5 & 0.2\\\\\n",
       "\t 5.0 & 3.6 & 1.4 & 0.2\\\\\n",
       "\t 5.4 & 3.9 & 1.7 & 0.4\\\\\n",
       "\t 4.6 & 3.4 & 1.4 & 0.3\\\\\n",
       "\t 5.0 & 3.4 & 1.5 & 0.2\\\\\n",
       "\t 4.4 & 2.9 & 1.4 & 0.2\\\\\n",
       "\t 4.9 & 3.1 & 1.5 & 0.1\\\\\n",
       "\t 5.4 & 3.7 & 1.5 & 0.2\\\\\n",
       "\t 4.8 & 3.4 & 1.6 & 0.2\\\\\n",
       "\t 4.8 & 3.0 & 1.4 & 0.1\\\\\n",
       "\t 4.3 & 3.0 & 1.1 & 0.1\\\\\n",
       "\t 5.8 & 4.0 & 1.2 & 0.2\\\\\n",
       "\t 5.7 & 4.4 & 1.5 & 0.4\\\\\n",
       "\t 5.4 & 3.9 & 1.3 & 0.4\\\\\n",
       "\t 5.1 & 3.5 & 1.4 & 0.3\\\\\n",
       "\t 5.7 & 3.8 & 1.7 & 0.3\\\\\n",
       "\t 5.1 & 3.8 & 1.5 & 0.3\\\\\n",
       "\t 5.4 & 3.4 & 1.7 & 0.2\\\\\n",
       "\t 5.1 & 3.7 & 1.5 & 0.4\\\\\n",
       "\t 4.6 & 3.6 & 1.0 & 0.2\\\\\n",
       "\t 5.1 & 3.3 & 1.7 & 0.5\\\\\n",
       "\t 4.8 & 3.4 & 1.9 & 0.2\\\\\n",
       "\t 5.0 & 3.0 & 1.6 & 0.2\\\\\n",
       "\t 5.0 & 3.4 & 1.6 & 0.4\\\\\n",
       "\t 5.2 & 3.5 & 1.5 & 0.2\\\\\n",
       "\t 5.2 & 3.4 & 1.4 & 0.2\\\\\n",
       "\t 4.7 & 3.2 & 1.6 & 0.2\\\\\n",
       "\t ... & ... & ... & ...\\\\\n",
       "\t 6.9 & 3.2 & 5.7 & 2.3\\\\\n",
       "\t 5.6 & 2.8 & 4.9 & 2.0\\\\\n",
       "\t 7.7 & 2.8 & 6.7 & 2.0\\\\\n",
       "\t 6.3 & 2.7 & 4.9 & 1.8\\\\\n",
       "\t 6.7 & 3.3 & 5.7 & 2.1\\\\\n",
       "\t 7.2 & 3.2 & 6.0 & 1.8\\\\\n",
       "\t 6.2 & 2.8 & 4.8 & 1.8\\\\\n",
       "\t 6.1 & 3.0 & 4.9 & 1.8\\\\\n",
       "\t 6.4 & 2.8 & 5.6 & 2.1\\\\\n",
       "\t 7.2 & 3.0 & 5.8 & 1.6\\\\\n",
       "\t 7.4 & 2.8 & 6.1 & 1.9\\\\\n",
       "\t 7.9 & 3.8 & 6.4 & 2.0\\\\\n",
       "\t 6.4 & 2.8 & 5.6 & 2.2\\\\\n",
       "\t 6.3 & 2.8 & 5.1 & 1.5\\\\\n",
       "\t 6.1 & 2.6 & 5.6 & 1.4\\\\\n",
       "\t 7.7 & 3.0 & 6.1 & 2.3\\\\\n",
       "\t 6.3 & 3.4 & 5.6 & 2.4\\\\\n",
       "\t 6.4 & 3.1 & 5.5 & 1.8\\\\\n",
       "\t 6.0 & 3.0 & 4.8 & 1.8\\\\\n",
       "\t 6.9 & 3.1 & 5.4 & 2.1\\\\\n",
       "\t 6.7 & 3.1 & 5.6 & 2.4\\\\\n",
       "\t 6.9 & 3.1 & 5.1 & 2.3\\\\\n",
       "\t 5.8 & 2.7 & 5.1 & 1.9\\\\\n",
       "\t 6.8 & 3.2 & 5.9 & 2.3\\\\\n",
       "\t 6.7 & 3.3 & 5.7 & 2.5\\\\\n",
       "\t 6.7 & 3.0 & 5.2 & 2.3\\\\\n",
       "\t 6.3 & 2.5 & 5.0 & 1.9\\\\\n",
       "\t 6.5 & 3.0 & 5.2 & 2.0\\\\\n",
       "\t 6.2 & 3.4 & 5.4 & 2.3\\\\\n",
       "\t 5.9 & 3.0 & 5.1 & 1.8\\\\\n",
       "\\end{tabular}\n"
      ],
      "text/markdown": [
       "\n",
       "| Sepal.Length | Sepal.Width | Petal.Length | Petal.Width |\n",
       "|---|---|---|---|\n",
       "| 5.1 | 3.5 | 1.4 | 0.2 |\n",
       "| 4.9 | 3.0 | 1.4 | 0.2 |\n",
       "| 4.7 | 3.2 | 1.3 | 0.2 |\n",
       "| 4.6 | 3.1 | 1.5 | 0.2 |\n",
       "| 5.0 | 3.6 | 1.4 | 0.2 |\n",
       "| 5.4 | 3.9 | 1.7 | 0.4 |\n",
       "| 4.6 | 3.4 | 1.4 | 0.3 |\n",
       "| 5.0 | 3.4 | 1.5 | 0.2 |\n",
       "| 4.4 | 2.9 | 1.4 | 0.2 |\n",
       "| 4.9 | 3.1 | 1.5 | 0.1 |\n",
       "| 5.4 | 3.7 | 1.5 | 0.2 |\n",
       "| 4.8 | 3.4 | 1.6 | 0.2 |\n",
       "| 4.8 | 3.0 | 1.4 | 0.1 |\n",
       "| 4.3 | 3.0 | 1.1 | 0.1 |\n",
       "| 5.8 | 4.0 | 1.2 | 0.2 |\n",
       "| 5.7 | 4.4 | 1.5 | 0.4 |\n",
       "| 5.4 | 3.9 | 1.3 | 0.4 |\n",
       "| 5.1 | 3.5 | 1.4 | 0.3 |\n",
       "| 5.7 | 3.8 | 1.7 | 0.3 |\n",
       "| 5.1 | 3.8 | 1.5 | 0.3 |\n",
       "| 5.4 | 3.4 | 1.7 | 0.2 |\n",
       "| 5.1 | 3.7 | 1.5 | 0.4 |\n",
       "| 4.6 | 3.6 | 1.0 | 0.2 |\n",
       "| 5.1 | 3.3 | 1.7 | 0.5 |\n",
       "| 4.8 | 3.4 | 1.9 | 0.2 |\n",
       "| 5.0 | 3.0 | 1.6 | 0.2 |\n",
       "| 5.0 | 3.4 | 1.6 | 0.4 |\n",
       "| 5.2 | 3.5 | 1.5 | 0.2 |\n",
       "| 5.2 | 3.4 | 1.4 | 0.2 |\n",
       "| 4.7 | 3.2 | 1.6 | 0.2 |\n",
       "| ... | ... | ... | ... |\n",
       "| 6.9 | 3.2 | 5.7 | 2.3 |\n",
       "| 5.6 | 2.8 | 4.9 | 2.0 |\n",
       "| 7.7 | 2.8 | 6.7 | 2.0 |\n",
       "| 6.3 | 2.7 | 4.9 | 1.8 |\n",
       "| 6.7 | 3.3 | 5.7 | 2.1 |\n",
       "| 7.2 | 3.2 | 6.0 | 1.8 |\n",
       "| 6.2 | 2.8 | 4.8 | 1.8 |\n",
       "| 6.1 | 3.0 | 4.9 | 1.8 |\n",
       "| 6.4 | 2.8 | 5.6 | 2.1 |\n",
       "| 7.2 | 3.0 | 5.8 | 1.6 |\n",
       "| 7.4 | 2.8 | 6.1 | 1.9 |\n",
       "| 7.9 | 3.8 | 6.4 | 2.0 |\n",
       "| 6.4 | 2.8 | 5.6 | 2.2 |\n",
       "| 6.3 | 2.8 | 5.1 | 1.5 |\n",
       "| 6.1 | 2.6 | 5.6 | 1.4 |\n",
       "| 7.7 | 3.0 | 6.1 | 2.3 |\n",
       "| 6.3 | 3.4 | 5.6 | 2.4 |\n",
       "| 6.4 | 3.1 | 5.5 | 1.8 |\n",
       "| 6.0 | 3.0 | 4.8 | 1.8 |\n",
       "| 6.9 | 3.1 | 5.4 | 2.1 |\n",
       "| 6.7 | 3.1 | 5.6 | 2.4 |\n",
       "| 6.9 | 3.1 | 5.1 | 2.3 |\n",
       "| 5.8 | 2.7 | 5.1 | 1.9 |\n",
       "| 6.8 | 3.2 | 5.9 | 2.3 |\n",
       "| 6.7 | 3.3 | 5.7 | 2.5 |\n",
       "| 6.7 | 3.0 | 5.2 | 2.3 |\n",
       "| 6.3 | 2.5 | 5.0 | 1.9 |\n",
       "| 6.5 | 3.0 | 5.2 | 2.0 |\n",
       "| 6.2 | 3.4 | 5.4 | 2.3 |\n",
       "| 5.9 | 3.0 | 5.1 | 1.8 |\n",
       "\n"
      ],
      "text/plain": [
       "    Sepal.Length Sepal.Width Petal.Length Petal.Width\n",
       "1   5.1          3.5         1.4          0.2        \n",
       "2   4.9          3.0         1.4          0.2        \n",
       "3   4.7          3.2         1.3          0.2        \n",
       "4   4.6          3.1         1.5          0.2        \n",
       "5   5.0          3.6         1.4          0.2        \n",
       "6   5.4          3.9         1.7          0.4        \n",
       "7   4.6          3.4         1.4          0.3        \n",
       "8   5.0          3.4         1.5          0.2        \n",
       "9   4.4          2.9         1.4          0.2        \n",
       "10  4.9          3.1         1.5          0.1        \n",
       "11  5.4          3.7         1.5          0.2        \n",
       "12  4.8          3.4         1.6          0.2        \n",
       "13  4.8          3.0         1.4          0.1        \n",
       "14  4.3          3.0         1.1          0.1        \n",
       "15  5.8          4.0         1.2          0.2        \n",
       "16  5.7          4.4         1.5          0.4        \n",
       "17  5.4          3.9         1.3          0.4        \n",
       "18  5.1          3.5         1.4          0.3        \n",
       "19  5.7          3.8         1.7          0.3        \n",
       "20  5.1          3.8         1.5          0.3        \n",
       "21  5.4          3.4         1.7          0.2        \n",
       "22  5.1          3.7         1.5          0.4        \n",
       "23  4.6          3.6         1.0          0.2        \n",
       "24  5.1          3.3         1.7          0.5        \n",
       "25  4.8          3.4         1.9          0.2        \n",
       "26  5.0          3.0         1.6          0.2        \n",
       "27  5.0          3.4         1.6          0.4        \n",
       "28  5.2          3.5         1.5          0.2        \n",
       "29  5.2          3.4         1.4          0.2        \n",
       "30  4.7          3.2         1.6          0.2        \n",
       "... ...          ...         ...          ...        \n",
       "121 6.9          3.2         5.7          2.3        \n",
       "122 5.6          2.8         4.9          2.0        \n",
       "123 7.7          2.8         6.7          2.0        \n",
       "124 6.3          2.7         4.9          1.8        \n",
       "125 6.7          3.3         5.7          2.1        \n",
       "126 7.2          3.2         6.0          1.8        \n",
       "127 6.2          2.8         4.8          1.8        \n",
       "128 6.1          3.0         4.9          1.8        \n",
       "129 6.4          2.8         5.6          2.1        \n",
       "130 7.2          3.0         5.8          1.6        \n",
       "131 7.4          2.8         6.1          1.9        \n",
       "132 7.9          3.8         6.4          2.0        \n",
       "133 6.4          2.8         5.6          2.2        \n",
       "134 6.3          2.8         5.1          1.5        \n",
       "135 6.1          2.6         5.6          1.4        \n",
       "136 7.7          3.0         6.1          2.3        \n",
       "137 6.3          3.4         5.6          2.4        \n",
       "138 6.4          3.1         5.5          1.8        \n",
       "139 6.0          3.0         4.8          1.8        \n",
       "140 6.9          3.1         5.4          2.1        \n",
       "141 6.7          3.1         5.6          2.4        \n",
       "142 6.9          3.1         5.1          2.3        \n",
       "143 5.8          2.7         5.1          1.9        \n",
       "144 6.8          3.2         5.9          2.3        \n",
       "145 6.7          3.3         5.7          2.5        \n",
       "146 6.7          3.0         5.2          2.3        \n",
       "147 6.3          2.5         5.0          1.9        \n",
       "148 6.5          3.0         5.2          2.0        \n",
       "149 6.2          3.4         5.4          2.3        \n",
       "150 5.9          3.0         5.1          1.8        "
      ]
     },
     "metadata": {},
     "output_type": "display_data"
    }
   ],
   "source": [
    "# subset 으로 컬럼 지우기\n",
    "\n",
    "subset(iris, select = c(Sepal.Length,Species))\n",
    "subset(iris, select = -Species)"
   ]
  },
  {
   "cell_type": "markdown",
   "id": "ccf570c6",
   "metadata": {},
   "source": [
    "---\n",
    "# 그룹연산 함수"
   ]
  },
  {
   "cell_type": "code",
   "execution_count": 59,
   "id": "f1d91fff",
   "metadata": {},
   "outputs": [
    {
     "data": {
      "text/html": [
       "<table>\n",
       "<thead><tr><th scope=col>Species</th><th scope=col>Sepal.Width</th></tr></thead>\n",
       "<tbody>\n",
       "\t<tr><td>setosa    </td><td>3.428     </td></tr>\n",
       "\t<tr><td>versicolor</td><td>2.770     </td></tr>\n",
       "\t<tr><td>virginica </td><td>2.974     </td></tr>\n",
       "</tbody>\n",
       "</table>\n"
      ],
      "text/latex": [
       "\\begin{tabular}{r|ll}\n",
       " Species & Sepal.Width\\\\\n",
       "\\hline\n",
       "\t setosa     & 3.428     \\\\\n",
       "\t versicolor & 2.770     \\\\\n",
       "\t virginica  & 2.974     \\\\\n",
       "\\end{tabular}\n"
      ],
      "text/markdown": [
       "\n",
       "| Species | Sepal.Width |\n",
       "|---|---|\n",
       "| setosa     | 3.428      |\n",
       "| versicolor | 2.770      |\n",
       "| virginica  | 2.974      |\n",
       "\n"
      ],
      "text/plain": [
       "  Species    Sepal.Width\n",
       "1 setosa     3.428      \n",
       "2 versicolor 2.770      \n",
       "3 virginica  2.974      "
      ]
     },
     "metadata": {},
     "output_type": "display_data"
    }
   ],
   "source": [
    "# iris에서 Species 기준으로 Sepal.Width 의 평균 구하기\n",
    "\n",
    "aggregate(Sepal.Width~ Species,iris,mean)"
   ]
  },
  {
   "cell_type": "markdown",
   "id": "fe5920c3",
   "metadata": {},
   "source": [
    "---\n",
    "# 서울시 교통사고 조사 데이터셋"
   ]
  },
  {
   "cell_type": "code",
   "execution_count": 60,
   "id": "e26caabc",
   "metadata": {},
   "outputs": [
    {
     "data": {
      "text/html": [
       "<table>\n",
       "<thead><tr><th scope=col>년도</th><th scope=col>월</th><th scope=col>자치구명</th><th scope=col>발생건수</th><th scope=col>사망자수</th><th scope=col>부상자수</th></tr></thead>\n",
       "<tbody>\n",
       "\t<tr><td>2011  </td><td> 1    </td><td>종로구</td><td>115   </td><td>2     </td><td>165   </td></tr>\n",
       "\t<tr><td>2011  </td><td> 2    </td><td>종로구</td><td> 99   </td><td>0     </td><td>134   </td></tr>\n",
       "\t<tr><td>2011  </td><td> 3    </td><td>종로구</td><td>116   </td><td>0     </td><td>162   </td></tr>\n",
       "\t<tr><td>2011  </td><td> 4    </td><td>종로구</td><td>110   </td><td>1     </td><td>153   </td></tr>\n",
       "\t<tr><td>2011  </td><td> 5    </td><td>종로구</td><td>122   </td><td>0     </td><td>157   </td></tr>\n",
       "\t<tr><td>2011  </td><td> 6    </td><td>종로구</td><td>116   </td><td>3     </td><td>163   </td></tr>\n",
       "\t<tr><td>2011  </td><td> 7    </td><td>종로구</td><td>103   </td><td>1     </td><td>154   </td></tr>\n",
       "\t<tr><td>2011  </td><td> 8    </td><td>종로구</td><td>122   </td><td>1     </td><td>171   </td></tr>\n",
       "\t<tr><td>2011  </td><td> 9    </td><td>종로구</td><td>121   </td><td>2     </td><td>166   </td></tr>\n",
       "\t<tr><td>2011  </td><td>10    </td><td>종로구</td><td>135   </td><td>2     </td><td>193   </td></tr>\n",
       "</tbody>\n",
       "</table>\n"
      ],
      "text/latex": [
       "\\begin{tabular}{r|llllll}\n",
       " 년도 & 월 & 자치구명 & 발생건수 & 사망자수 & 부상자수\\\\\n",
       "\\hline\n",
       "\t 2011   &  1     & 종로구 & 115    & 2      & 165   \\\\\n",
       "\t 2011   &  2     & 종로구 &  99    & 0      & 134   \\\\\n",
       "\t 2011   &  3     & 종로구 & 116    & 0      & 162   \\\\\n",
       "\t 2011   &  4     & 종로구 & 110    & 1      & 153   \\\\\n",
       "\t 2011   &  5     & 종로구 & 122    & 0      & 157   \\\\\n",
       "\t 2011   &  6     & 종로구 & 116    & 3      & 163   \\\\\n",
       "\t 2011   &  7     & 종로구 & 103    & 1      & 154   \\\\\n",
       "\t 2011   &  8     & 종로구 & 122    & 1      & 171   \\\\\n",
       "\t 2011   &  9     & 종로구 & 121    & 2      & 166   \\\\\n",
       "\t 2011   & 10     & 종로구 & 135    & 2      & 193   \\\\\n",
       "\\end{tabular}\n"
      ],
      "text/markdown": [
       "\n",
       "| 년도 | 월 | 자치구명 | 발생건수 | 사망자수 | 부상자수 |\n",
       "|---|---|---|---|---|---|\n",
       "| 2011   |  1     | 종로구 | 115    | 2      | 165    |\n",
       "| 2011   |  2     | 종로구 |  99    | 0      | 134    |\n",
       "| 2011   |  3     | 종로구 | 116    | 0      | 162    |\n",
       "| 2011   |  4     | 종로구 | 110    | 1      | 153    |\n",
       "| 2011   |  5     | 종로구 | 122    | 0      | 157    |\n",
       "| 2011   |  6     | 종로구 | 116    | 3      | 163    |\n",
       "| 2011   |  7     | 종로구 | 103    | 1      | 154    |\n",
       "| 2011   |  8     | 종로구 | 122    | 1      | 171    |\n",
       "| 2011   |  9     | 종로구 | 121    | 2      | 166    |\n",
       "| 2011   | 10     | 종로구 | 135    | 2      | 193    |\n",
       "\n"
      ],
      "text/plain": [
       "   년도 월 자치구명 발생건수 사망자수 부상자수\n",
       "1  2011  1 종로구   115      2        165     \n",
       "2  2011  2 종로구    99      0        134     \n",
       "3  2011  3 종로구   116      0        162     \n",
       "4  2011  4 종로구   110      1        153     \n",
       "5  2011  5 종로구   122      0        157     \n",
       "6  2011  6 종로구   116      3        163     \n",
       "7  2011  7 종로구   103      1        154     \n",
       "8  2011  8 종로구   122      1        171     \n",
       "9  2011  9 종로구   121      2        166     \n",
       "10 2011 10 종로구   135      2        193     "
      ]
     },
     "metadata": {},
     "output_type": "display_data"
    },
    {
     "data": {
      "text/html": [
       "<table>\n",
       "<thead><tr><th></th><th scope=col>년도</th><th scope=col>월</th><th scope=col>자치구명</th><th scope=col>발생건수</th><th scope=col>사망자수</th><th scope=col>부상자수</th></tr></thead>\n",
       "<tbody>\n",
       "\t<tr><th scope=row>2691</th><td>2019  </td><td> 3    </td><td>강동구</td><td>122   </td><td>0     </td><td>163   </td></tr>\n",
       "\t<tr><th scope=row>2692</th><td>2019  </td><td> 4    </td><td>강동구</td><td>112   </td><td>0     </td><td>153   </td></tr>\n",
       "\t<tr><th scope=row>2693</th><td>2019  </td><td> 5    </td><td>강동구</td><td>139   </td><td>1     </td><td>192   </td></tr>\n",
       "\t<tr><th scope=row>2694</th><td>2019  </td><td> 6    </td><td>강동구</td><td>123   </td><td>1     </td><td>179   </td></tr>\n",
       "\t<tr><th scope=row>2695</th><td>2019  </td><td> 7    </td><td>강동구</td><td>146   </td><td>2     </td><td>189   </td></tr>\n",
       "\t<tr><th scope=row>2696</th><td>2019  </td><td> 8    </td><td>강동구</td><td>127   </td><td>2     </td><td>175   </td></tr>\n",
       "\t<tr><th scope=row>2697</th><td>2019  </td><td> 9    </td><td>강동구</td><td> 98   </td><td>2     </td><td>137   </td></tr>\n",
       "\t<tr><th scope=row>2698</th><td>2019  </td><td>10    </td><td>강동구</td><td>108   </td><td>1     </td><td>144   </td></tr>\n",
       "\t<tr><th scope=row>2699</th><td>2019  </td><td>11    </td><td>강동구</td><td>146   </td><td>0     </td><td>199   </td></tr>\n",
       "\t<tr><th scope=row>2700</th><td>2019  </td><td>12    </td><td>강동구</td><td>108   </td><td>1     </td><td>131   </td></tr>\n",
       "</tbody>\n",
       "</table>\n"
      ],
      "text/latex": [
       "\\begin{tabular}{r|llllll}\n",
       "  & 년도 & 월 & 자치구명 & 발생건수 & 사망자수 & 부상자수\\\\\n",
       "\\hline\n",
       "\t2691 & 2019   &  3     & 강동구 & 122    & 0      & 163   \\\\\n",
       "\t2692 & 2019   &  4     & 강동구 & 112    & 0      & 153   \\\\\n",
       "\t2693 & 2019   &  5     & 강동구 & 139    & 1      & 192   \\\\\n",
       "\t2694 & 2019   &  6     & 강동구 & 123    & 1      & 179   \\\\\n",
       "\t2695 & 2019   &  7     & 강동구 & 146    & 2      & 189   \\\\\n",
       "\t2696 & 2019   &  8     & 강동구 & 127    & 2      & 175   \\\\\n",
       "\t2697 & 2019   &  9     & 강동구 &  98    & 2      & 137   \\\\\n",
       "\t2698 & 2019   & 10     & 강동구 & 108    & 1      & 144   \\\\\n",
       "\t2699 & 2019   & 11     & 강동구 & 146    & 0      & 199   \\\\\n",
       "\t2700 & 2019   & 12     & 강동구 & 108    & 1      & 131   \\\\\n",
       "\\end{tabular}\n"
      ],
      "text/markdown": [
       "\n",
       "| <!--/--> | 년도 | 월 | 자치구명 | 발생건수 | 사망자수 | 부상자수 |\n",
       "|---|---|---|---|---|---|---|\n",
       "| 2691 | 2019   |  3     | 강동구 | 122    | 0      | 163    |\n",
       "| 2692 | 2019   |  4     | 강동구 | 112    | 0      | 153    |\n",
       "| 2693 | 2019   |  5     | 강동구 | 139    | 1      | 192    |\n",
       "| 2694 | 2019   |  6     | 강동구 | 123    | 1      | 179    |\n",
       "| 2695 | 2019   |  7     | 강동구 | 146    | 2      | 189    |\n",
       "| 2696 | 2019   |  8     | 강동구 | 127    | 2      | 175    |\n",
       "| 2697 | 2019   |  9     | 강동구 |  98    | 2      | 137    |\n",
       "| 2698 | 2019   | 10     | 강동구 | 108    | 1      | 144    |\n",
       "| 2699 | 2019   | 11     | 강동구 | 146    | 0      | 199    |\n",
       "| 2700 | 2019   | 12     | 강동구 | 108    | 1      | 131    |\n",
       "\n"
      ],
      "text/plain": [
       "     년도 월 자치구명 발생건수 사망자수 부상자수\n",
       "2691 2019  3 강동구   122      0        163     \n",
       "2692 2019  4 강동구   112      0        153     \n",
       "2693 2019  5 강동구   139      1        192     \n",
       "2694 2019  6 강동구   123      1        179     \n",
       "2695 2019  7 강동구   146      2        189     \n",
       "2696 2019  8 강동구   127      2        175     \n",
       "2697 2019  9 강동구    98      2        137     \n",
       "2698 2019 10 강동구   108      1        144     \n",
       "2699 2019 11 강동구   146      0        199     \n",
       "2700 2019 12 강동구   108      1        131     "
      ]
     },
     "metadata": {},
     "output_type": "display_data"
    },
    {
     "name": "stdout",
     "output_type": "stream",
     "text": [
      "'data.frame':\t2700 obs. of  6 variables:\n",
      " $ 년도    : int  2011 2011 2011 2011 2011 2011 2011 2011 2011 2011 ...\n",
      " $ 월      : int  1 2 3 4 5 6 7 8 9 10 ...\n",
      " $ 자치구명: Factor w/ 25 levels \"강남구\",\"강동구\",..: 23 23 23 23 23 23 23 23 23 23 ...\n",
      " $ 발생건수: int  115 99 116 110 122 116 103 122 121 135 ...\n",
      " $ 사망자수: int  2 0 0 1 0 3 1 1 2 2 ...\n",
      " $ 부상자수: int  165 134 162 153 157 163 154 171 166 193 ...\n"
     ]
    },
    {
     "data": {
      "text/plain": [
       "      년도            월           자치구명       발생건수        사망자수     \n",
       " Min.   :2011   Min.   : 1.00   강남구 : 108   Min.   : 45.0   Min.   : 0.000  \n",
       " 1st Qu.:2013   1st Qu.: 3.75   강동구 : 108   1st Qu.:100.0   1st Qu.: 0.000  \n",
       " Median :2015   Median : 6.50   강북구 : 108   Median :122.0   Median : 1.000  \n",
       " Mean   :2015   Mean   : 6.50   강서구 : 108   Mean   :133.3   Mean   : 1.207  \n",
       " 3rd Qu.:2017   3rd Qu.: 9.25   관악구 : 108   3rd Qu.:149.0   3rd Qu.: 2.000  \n",
       " Max.   :2019   Max.   :12.00   광진구 : 108   Max.   :383.0   Max.   :10.000  \n",
       "                                (Other):2052                                   \n",
       "    부상자수    \n",
       " Min.   : 55.0  \n",
       " 1st Qu.:138.0  \n",
       " Median :168.0  \n",
       " Mean   :187.4  \n",
       " 3rd Qu.:208.0  \n",
       " Max.   :552.0  \n",
       "                "
      ]
     },
     "metadata": {},
     "output_type": "display_data"
    }
   ],
   "source": [
    "# 데이터셋을 불러와서 seoul 이라는 변수에 넣기\n",
    "\n",
    "seoul <-read.csv(\"../Data/newSeoul2019.csv\")\n",
    "head(seoul,10)\n",
    "tail(seoul,10)\n",
    "str(seoul)\n",
    "summary(seoul)"
   ]
  },
  {
   "cell_type": "code",
   "execution_count": 61,
   "id": "5e23ec45",
   "metadata": {},
   "outputs": [
    {
     "name": "stdout",
     "output_type": "stream",
     "text": [
      "년도 column : 0 \n",
      "월 column : 0 \n",
      "자치구명 column : 0 \n",
      "발생건수 column : 0 \n",
      "사망자수 column : 0 \n",
      "부상자수 column : 0 \n"
     ]
    }
   ],
   "source": [
    "# NA 확인\n",
    "\n",
    "for(i in 1:ncol(seoul)){\n",
    "    \n",
    "  a<- is.na(seoul[,i])\n",
    " cat(colnames(seoul)[i],\"column :\",sum(a),\"\\n\")\n",
    "}\n"
   ]
  },
  {
   "cell_type": "code",
   "execution_count": 62,
   "id": "88534913",
   "metadata": {},
   "outputs": [
    {
     "data": {
      "text/plain": [
       "\n",
       "2011 2012 2013 2014 2015 2016 2017 2018 2019 \n",
       " 300  300  300  300  300  300  300  300  300 "
      ]
     },
     "metadata": {},
     "output_type": "display_data"
    }
   ],
   "source": [
    "# 년도 별 데이터가 동일한지 체크하기\n",
    "\n",
    "table(seoul$년도)"
   ]
  },
  {
   "cell_type": "code",
   "execution_count": 63,
   "id": "67b1700e",
   "metadata": {},
   "outputs": [
    {
     "data": {
      "text/plain": [
       "\n",
       "  1   2   3   4   5   6   7   8   9  10  11  12 \n",
       "225 225 225 225 225 225 225 225 225 225 225 225 "
      ]
     },
     "metadata": {},
     "output_type": "display_data"
    }
   ],
   "source": [
    "# 월 별 데이터가 동일한지\n",
    "\n",
    "table(seoul$월)"
   ]
  },
  {
   "cell_type": "code",
   "execution_count": 64,
   "id": "9c669e82",
   "metadata": {},
   "outputs": [
    {
     "data": {
      "text/plain": [
       "\n",
       "  강남구   강동구   강북구   강서구   관악구   광진구   구로구   금천구 \n",
       "     108      108      108      108      108      108      108      108 \n",
       "  노원구   도봉구 동대문구   동작구   마포구 서대문구   서초구   성동구 \n",
       "     108      108      108      108      108      108      108      108 \n",
       "  성북구   송파구   양천구 영등포구   용산구   은평구   종로구     중구 \n",
       "     108      108      108      108      108      108      108      108 \n",
       "  중랑구 \n",
       "     108 "
      ]
     },
     "metadata": {},
     "output_type": "display_data"
    }
   ],
   "source": [
    "# 자치구 별로 데이터 동일한지\n",
    "\n",
    "table(seoul$자치구명)"
   ]
  },
  {
   "cell_type": "code",
   "execution_count": 65,
   "id": "2a00ae72",
   "metadata": {},
   "outputs": [
    {
     "data": {
      "text/html": [
       "<table>\n",
       "<thead><tr><th scope=col>자치구명</th><th scope=col>발생건수</th></tr></thead>\n",
       "<tbody>\n",
       "\t<tr><td>강남구  </td><td>306.3611</td></tr>\n",
       "\t<tr><td>강동구  </td><td>118.5370</td></tr>\n",
       "\t<tr><td>강북구  </td><td>101.7870</td></tr>\n",
       "\t<tr><td>강서구  </td><td>145.4722</td></tr>\n",
       "\t<tr><td>관악구  </td><td>128.3889</td></tr>\n",
       "\t<tr><td>광진구  </td><td>103.0741</td></tr>\n",
       "</tbody>\n",
       "</table>\n"
      ],
      "text/latex": [
       "\\begin{tabular}{r|ll}\n",
       " 자치구명 & 발생건수\\\\\n",
       "\\hline\n",
       "\t 강남구   & 306.3611\\\\\n",
       "\t 강동구   & 118.5370\\\\\n",
       "\t 강북구   & 101.7870\\\\\n",
       "\t 강서구   & 145.4722\\\\\n",
       "\t 관악구   & 128.3889\\\\\n",
       "\t 광진구   & 103.0741\\\\\n",
       "\\end{tabular}\n"
      ],
      "text/markdown": [
       "\n",
       "| 자치구명 | 발생건수 |\n",
       "|---|---|\n",
       "| 강남구   | 306.3611 |\n",
       "| 강동구   | 118.5370 |\n",
       "| 강북구   | 101.7870 |\n",
       "| 강서구   | 145.4722 |\n",
       "| 관악구   | 128.3889 |\n",
       "| 광진구   | 103.0741 |\n",
       "\n"
      ],
      "text/plain": [
       "  자치구명 발생건수\n",
       "1 강남구   306.3611\n",
       "2 강동구   118.5370\n",
       "3 강북구   101.7870\n",
       "4 강서구   145.4722\n",
       "5 관악구   128.3889\n",
       "6 광진구   103.0741"
      ]
     },
     "metadata": {},
     "output_type": "display_data"
    }
   ],
   "source": [
    "# 자치구별 발생건수의 평균\n",
    "regionAcc.mean <-aggregate(발생건수~ 자치구명,seoul,mean)\n",
    "head(regionAcc.mean)"
   ]
  },
  {
   "cell_type": "code",
   "execution_count": 66,
   "id": "13d1d745",
   "metadata": {},
   "outputs": [
    {
     "data": {
      "text/html": [
       "<table>\n",
       "<thead><tr><th scope=col>자치구명</th><th scope=col>발생건수</th></tr></thead>\n",
       "<tbody>\n",
       "\t<tr><td>강남구   </td><td>306.36111</td></tr>\n",
       "\t<tr><td>송파구   </td><td>224.75926</td></tr>\n",
       "\t<tr><td>영등포구 </td><td>194.64815</td></tr>\n",
       "\t<tr><td>서초구   </td><td>186.48148</td></tr>\n",
       "\t<tr><td>동대문구 </td><td>153.64815</td></tr>\n",
       "\t<tr><td>강서구   </td><td>145.47222</td></tr>\n",
       "\t<tr><td>마포구   </td><td>141.51852</td></tr>\n",
       "\t<tr><td>중랑구   </td><td>138.46296</td></tr>\n",
       "\t<tr><td>성북구   </td><td>130.85185</td></tr>\n",
       "\t<tr><td>노원구   </td><td>129.21296</td></tr>\n",
       "\t<tr><td>관악구   </td><td>128.38889</td></tr>\n",
       "\t<tr><td>구로구   </td><td>126.09259</td></tr>\n",
       "\t<tr><td>양천구   </td><td>120.68519</td></tr>\n",
       "\t<tr><td>강동구   </td><td>118.53704</td></tr>\n",
       "\t<tr><td>동작구   </td><td>112.64815</td></tr>\n",
       "\t<tr><td>용산구   </td><td>110.29630</td></tr>\n",
       "\t<tr><td>중구     </td><td>110.11111</td></tr>\n",
       "\t<tr><td>종로구   </td><td>106.97222</td></tr>\n",
       "\t<tr><td>은평구   </td><td>104.32407</td></tr>\n",
       "\t<tr><td>광진구   </td><td>103.07407</td></tr>\n",
       "\t<tr><td>강북구   </td><td>101.78704</td></tr>\n",
       "\t<tr><td>성동구   </td><td> 93.19444</td></tr>\n",
       "\t<tr><td>서대문구 </td><td> 89.71296</td></tr>\n",
       "\t<tr><td>금천구   </td><td> 78.69444</td></tr>\n",
       "\t<tr><td>도봉구   </td><td> 76.40741</td></tr>\n",
       "</tbody>\n",
       "</table>\n"
      ],
      "text/latex": [
       "\\begin{tabular}{r|ll}\n",
       " 자치구명 & 발생건수\\\\\n",
       "\\hline\n",
       "\t 강남구    & 306.36111\\\\\n",
       "\t 송파구    & 224.75926\\\\\n",
       "\t 영등포구  & 194.64815\\\\\n",
       "\t 서초구    & 186.48148\\\\\n",
       "\t 동대문구  & 153.64815\\\\\n",
       "\t 강서구    & 145.47222\\\\\n",
       "\t 마포구    & 141.51852\\\\\n",
       "\t 중랑구    & 138.46296\\\\\n",
       "\t 성북구    & 130.85185\\\\\n",
       "\t 노원구    & 129.21296\\\\\n",
       "\t 관악구    & 128.38889\\\\\n",
       "\t 구로구    & 126.09259\\\\\n",
       "\t 양천구    & 120.68519\\\\\n",
       "\t 강동구    & 118.53704\\\\\n",
       "\t 동작구    & 112.64815\\\\\n",
       "\t 용산구    & 110.29630\\\\\n",
       "\t 중구      & 110.11111\\\\\n",
       "\t 종로구    & 106.97222\\\\\n",
       "\t 은평구    & 104.32407\\\\\n",
       "\t 광진구    & 103.07407\\\\\n",
       "\t 강북구    & 101.78704\\\\\n",
       "\t 성동구    &  93.19444\\\\\n",
       "\t 서대문구  &  89.71296\\\\\n",
       "\t 금천구    &  78.69444\\\\\n",
       "\t 도봉구    &  76.40741\\\\\n",
       "\\end{tabular}\n"
      ],
      "text/markdown": [
       "\n",
       "| 자치구명 | 발생건수 |\n",
       "|---|---|\n",
       "| 강남구    | 306.36111 |\n",
       "| 송파구    | 224.75926 |\n",
       "| 영등포구  | 194.64815 |\n",
       "| 서초구    | 186.48148 |\n",
       "| 동대문구  | 153.64815 |\n",
       "| 강서구    | 145.47222 |\n",
       "| 마포구    | 141.51852 |\n",
       "| 중랑구    | 138.46296 |\n",
       "| 성북구    | 130.85185 |\n",
       "| 노원구    | 129.21296 |\n",
       "| 관악구    | 128.38889 |\n",
       "| 구로구    | 126.09259 |\n",
       "| 양천구    | 120.68519 |\n",
       "| 강동구    | 118.53704 |\n",
       "| 동작구    | 112.64815 |\n",
       "| 용산구    | 110.29630 |\n",
       "| 중구      | 110.11111 |\n",
       "| 종로구    | 106.97222 |\n",
       "| 은평구    | 104.32407 |\n",
       "| 광진구    | 103.07407 |\n",
       "| 강북구    | 101.78704 |\n",
       "| 성동구    |  93.19444 |\n",
       "| 서대문구  |  89.71296 |\n",
       "| 금천구    |  78.69444 |\n",
       "| 도봉구    |  76.40741 |\n",
       "\n"
      ],
      "text/plain": [
       "   자치구명 발생건수 \n",
       "1  강남구   306.36111\n",
       "2  송파구   224.75926\n",
       "3  영등포구 194.64815\n",
       "4  서초구   186.48148\n",
       "5  동대문구 153.64815\n",
       "6  강서구   145.47222\n",
       "7  마포구   141.51852\n",
       "8  중랑구   138.46296\n",
       "9  성북구   130.85185\n",
       "10 노원구   129.21296\n",
       "11 관악구   128.38889\n",
       "12 구로구   126.09259\n",
       "13 양천구   120.68519\n",
       "14 강동구   118.53704\n",
       "15 동작구   112.64815\n",
       "16 용산구   110.29630\n",
       "17 중구     110.11111\n",
       "18 종로구   106.97222\n",
       "19 은평구   104.32407\n",
       "20 광진구   103.07407\n",
       "21 강북구   101.78704\n",
       "22 성동구    93.19444\n",
       "23 서대문구  89.71296\n",
       "24 금천구    78.69444\n",
       "25 도봉구    76.40741"
      ]
     },
     "metadata": {},
     "output_type": "display_data"
    }
   ],
   "source": [
    "#regionAcc.mean 를 발생건수 기준으로 내림차수 정렬\n",
    "library(dplyr)\n",
    "arrange(regionAcc.mean,desc(발생건수))"
   ]
  },
  {
   "cell_type": "code",
   "execution_count": 67,
   "id": "9843eb49",
   "metadata": {},
   "outputs": [
    {
     "data": {
      "text/html": [
       "<table>\n",
       "<thead><tr><th scope=col>자치구명</th><th scope=col>발생건수</th></tr></thead>\n",
       "<tbody>\n",
       "\t<tr><td>강남구  </td><td>32.92968</td></tr>\n",
       "\t<tr><td>강동구  </td><td>15.24836</td></tr>\n",
       "\t<tr><td>강북구  </td><td>14.80784</td></tr>\n",
       "\t<tr><td>강서구  </td><td>19.66659</td></tr>\n",
       "\t<tr><td>관악구  </td><td>22.62611</td></tr>\n",
       "\t<tr><td>광진구  </td><td>21.85582</td></tr>\n",
       "\t<tr><td>구로구  </td><td>15.72993</td></tr>\n",
       "\t<tr><td>금천구  </td><td>14.10870</td></tr>\n",
       "\t<tr><td>노원구  </td><td>16.40951</td></tr>\n",
       "\t<tr><td>도봉구  </td><td>12.02803</td></tr>\n",
       "\t<tr><td>동대문구</td><td>22.71453</td></tr>\n",
       "\t<tr><td>동작구  </td><td>16.09453</td></tr>\n",
       "\t<tr><td>마포구  </td><td>18.11257</td></tr>\n",
       "\t<tr><td>서대문구</td><td>11.95087</td></tr>\n",
       "\t<tr><td>서초구  </td><td>23.64357</td></tr>\n",
       "\t<tr><td>성동구  </td><td>13.97625</td></tr>\n",
       "\t<tr><td>성북구  </td><td>18.34244</td></tr>\n",
       "\t<tr><td>송파구  </td><td>30.14788</td></tr>\n",
       "\t<tr><td>양천구  </td><td>17.03249</td></tr>\n",
       "\t<tr><td>영등포구</td><td>22.91199</td></tr>\n",
       "\t<tr><td>용산구  </td><td>16.55817</td></tr>\n",
       "\t<tr><td>은평구  </td><td>19.29933</td></tr>\n",
       "\t<tr><td>종로구  </td><td>16.97247</td></tr>\n",
       "\t<tr><td>중구    </td><td>17.41003</td></tr>\n",
       "\t<tr><td>중랑구  </td><td>17.80236</td></tr>\n",
       "</tbody>\n",
       "</table>\n"
      ],
      "text/latex": [
       "\\begin{tabular}{r|ll}\n",
       " 자치구명 & 발생건수\\\\\n",
       "\\hline\n",
       "\t 강남구   & 32.92968\\\\\n",
       "\t 강동구   & 15.24836\\\\\n",
       "\t 강북구   & 14.80784\\\\\n",
       "\t 강서구   & 19.66659\\\\\n",
       "\t 관악구   & 22.62611\\\\\n",
       "\t 광진구   & 21.85582\\\\\n",
       "\t 구로구   & 15.72993\\\\\n",
       "\t 금천구   & 14.10870\\\\\n",
       "\t 노원구   & 16.40951\\\\\n",
       "\t 도봉구   & 12.02803\\\\\n",
       "\t 동대문구 & 22.71453\\\\\n",
       "\t 동작구   & 16.09453\\\\\n",
       "\t 마포구   & 18.11257\\\\\n",
       "\t 서대문구 & 11.95087\\\\\n",
       "\t 서초구   & 23.64357\\\\\n",
       "\t 성동구   & 13.97625\\\\\n",
       "\t 성북구   & 18.34244\\\\\n",
       "\t 송파구   & 30.14788\\\\\n",
       "\t 양천구   & 17.03249\\\\\n",
       "\t 영등포구 & 22.91199\\\\\n",
       "\t 용산구   & 16.55817\\\\\n",
       "\t 은평구   & 19.29933\\\\\n",
       "\t 종로구   & 16.97247\\\\\n",
       "\t 중구     & 17.41003\\\\\n",
       "\t 중랑구   & 17.80236\\\\\n",
       "\\end{tabular}\n"
      ],
      "text/markdown": [
       "\n",
       "| 자치구명 | 발생건수 |\n",
       "|---|---|\n",
       "| 강남구   | 32.92968 |\n",
       "| 강동구   | 15.24836 |\n",
       "| 강북구   | 14.80784 |\n",
       "| 강서구   | 19.66659 |\n",
       "| 관악구   | 22.62611 |\n",
       "| 광진구   | 21.85582 |\n",
       "| 구로구   | 15.72993 |\n",
       "| 금천구   | 14.10870 |\n",
       "| 노원구   | 16.40951 |\n",
       "| 도봉구   | 12.02803 |\n",
       "| 동대문구 | 22.71453 |\n",
       "| 동작구   | 16.09453 |\n",
       "| 마포구   | 18.11257 |\n",
       "| 서대문구 | 11.95087 |\n",
       "| 서초구   | 23.64357 |\n",
       "| 성동구   | 13.97625 |\n",
       "| 성북구   | 18.34244 |\n",
       "| 송파구   | 30.14788 |\n",
       "| 양천구   | 17.03249 |\n",
       "| 영등포구 | 22.91199 |\n",
       "| 용산구   | 16.55817 |\n",
       "| 은평구   | 19.29933 |\n",
       "| 종로구   | 16.97247 |\n",
       "| 중구     | 17.41003 |\n",
       "| 중랑구   | 17.80236 |\n",
       "\n"
      ],
      "text/plain": [
       "   자치구명 발생건수\n",
       "1  강남구   32.92968\n",
       "2  강동구   15.24836\n",
       "3  강북구   14.80784\n",
       "4  강서구   19.66659\n",
       "5  관악구   22.62611\n",
       "6  광진구   21.85582\n",
       "7  구로구   15.72993\n",
       "8  금천구   14.10870\n",
       "9  노원구   16.40951\n",
       "10 도봉구   12.02803\n",
       "11 동대문구 22.71453\n",
       "12 동작구   16.09453\n",
       "13 마포구   18.11257\n",
       "14 서대문구 11.95087\n",
       "15 서초구   23.64357\n",
       "16 성동구   13.97625\n",
       "17 성북구   18.34244\n",
       "18 송파구   30.14788\n",
       "19 양천구   17.03249\n",
       "20 영등포구 22.91199\n",
       "21 용산구   16.55817\n",
       "22 은평구   19.29933\n",
       "23 종로구   16.97247\n",
       "24 중구     17.41003\n",
       "25 중랑구   17.80236"
      ]
     },
     "metadata": {},
     "output_type": "display_data"
    }
   ],
   "source": [
    "# 자치구별 표준편차\n",
    "\n",
    "regionAcc.sd <- aggregate(발생건수~ 자치구명,seoul,sd)\n",
    "regionAcc.sd"
   ]
  },
  {
   "cell_type": "code",
   "execution_count": 68,
   "id": "a145d9d3",
   "metadata": {},
   "outputs": [
    {
     "data": {
      "text/html": [
       "<ol class=list-inline>\n",
       "\t<li>0.107486482513602</li>\n",
       "\t<li>0.128637979714391</li>\n",
       "\t<li>0.145478594491982</li>\n",
       "\t<li>0.135191404686044</li>\n",
       "\t<li>0.176231052614568</li>\n",
       "\t<li>0.212039899114969</li>\n",
       "\t<li>0.124749016022975</li>\n",
       "\t<li>0.17928452073239</li>\n",
       "\t<li>0.126995840433658</li>\n",
       "\t<li>0.157419730514435</li>\n",
       "\t<li>0.147834704654914</li>\n",
       "\t<li>0.142874348737122</li>\n",
       "\t<li>0.127987255262908</li>\n",
       "\t<li>0.13321233953876</li>\n",
       "\t<li>0.126787757202217</li>\n",
       "\t<li>0.149968744010714</li>\n",
       "\t<li>0.140177159138654</li>\n",
       "\t<li>0.134134103472243</li>\n",
       "\t<li>0.141131538089865</li>\n",
       "\t<li>0.11770976181152</li>\n",
       "\t<li>0.150124463527667</li>\n",
       "\t<li>0.184994008930331</li>\n",
       "\t<li>0.15866237808939</li>\n",
       "\t<li>0.158113260829509</li>\n",
       "\t<li>0.128571242262573</li>\n",
       "</ol>\n"
      ],
      "text/latex": [
       "\\begin{enumerate*}\n",
       "\\item 0.107486482513602\n",
       "\\item 0.128637979714391\n",
       "\\item 0.145478594491982\n",
       "\\item 0.135191404686044\n",
       "\\item 0.176231052614568\n",
       "\\item 0.212039899114969\n",
       "\\item 0.124749016022975\n",
       "\\item 0.17928452073239\n",
       "\\item 0.126995840433658\n",
       "\\item 0.157419730514435\n",
       "\\item 0.147834704654914\n",
       "\\item 0.142874348737122\n",
       "\\item 0.127987255262908\n",
       "\\item 0.13321233953876\n",
       "\\item 0.126787757202217\n",
       "\\item 0.149968744010714\n",
       "\\item 0.140177159138654\n",
       "\\item 0.134134103472243\n",
       "\\item 0.141131538089865\n",
       "\\item 0.11770976181152\n",
       "\\item 0.150124463527667\n",
       "\\item 0.184994008930331\n",
       "\\item 0.15866237808939\n",
       "\\item 0.158113260829509\n",
       "\\item 0.128571242262573\n",
       "\\end{enumerate*}\n"
      ],
      "text/markdown": [
       "1. 0.107486482513602\n",
       "2. 0.128637979714391\n",
       "3. 0.145478594491982\n",
       "4. 0.135191404686044\n",
       "5. 0.176231052614568\n",
       "6. 0.212039899114969\n",
       "7. 0.124749016022975\n",
       "8. 0.17928452073239\n",
       "9. 0.126995840433658\n",
       "10. 0.157419730514435\n",
       "11. 0.147834704654914\n",
       "12. 0.142874348737122\n",
       "13. 0.127987255262908\n",
       "14. 0.13321233953876\n",
       "15. 0.126787757202217\n",
       "16. 0.149968744010714\n",
       "17. 0.140177159138654\n",
       "18. 0.134134103472243\n",
       "19. 0.141131538089865\n",
       "20. 0.11770976181152\n",
       "21. 0.150124463527667\n",
       "22. 0.184994008930331\n",
       "23. 0.15866237808939\n",
       "24. 0.158113260829509\n",
       "25. 0.128571242262573\n",
       "\n",
       "\n"
      ],
      "text/plain": [
       " [1] 0.1074865 0.1286380 0.1454786 0.1351914 0.1762311 0.2120399 0.1247490\n",
       " [8] 0.1792845 0.1269958 0.1574197 0.1478347 0.1428743 0.1279873 0.1332123\n",
       "[15] 0.1267878 0.1499687 0.1401772 0.1341341 0.1411315 0.1177098 0.1501245\n",
       "[22] 0.1849940 0.1586624 0.1581133 0.1285712"
      ]
     },
     "metadata": {},
     "output_type": "display_data"
    }
   ],
   "source": [
    "# 자치구별 발생건수의 변동계수\n",
    "#변동계수 = 표준편차/ 평균\n",
    "\n",
    "regionAcc.cv<- regionAcc.sd$발생건수/regionAcc.mean$발생건수\n",
    "regionAcc.cv"
   ]
  },
  {
   "cell_type": "code",
   "execution_count": 69,
   "id": "6e0f2add",
   "metadata": {},
   "outputs": [
    {
     "data": {
      "text/html": [
       "<table>\n",
       "<thead><tr><th scope=col>자치구명</th><th scope=col>변동계수</th></tr></thead>\n",
       "<tbody>\n",
       "\t<tr><td>강남구   </td><td>0.1074865</td></tr>\n",
       "\t<tr><td>영등포구 </td><td>0.1177098</td></tr>\n",
       "\t<tr><td>구로구   </td><td>0.1247490</td></tr>\n",
       "\t<tr><td>서초구   </td><td>0.1267878</td></tr>\n",
       "\t<tr><td>노원구   </td><td>0.1269958</td></tr>\n",
       "\t<tr><td>마포구   </td><td>0.1279873</td></tr>\n",
       "\t<tr><td>중랑구   </td><td>0.1285712</td></tr>\n",
       "\t<tr><td>강동구   </td><td>0.1286380</td></tr>\n",
       "\t<tr><td>서대문구 </td><td>0.1332123</td></tr>\n",
       "\t<tr><td>송파구   </td><td>0.1341341</td></tr>\n",
       "\t<tr><td>강서구   </td><td>0.1351914</td></tr>\n",
       "\t<tr><td>성북구   </td><td>0.1401772</td></tr>\n",
       "\t<tr><td>양천구   </td><td>0.1411315</td></tr>\n",
       "\t<tr><td>동작구   </td><td>0.1428743</td></tr>\n",
       "\t<tr><td>강북구   </td><td>0.1454786</td></tr>\n",
       "\t<tr><td>동대문구 </td><td>0.1478347</td></tr>\n",
       "\t<tr><td>성동구   </td><td>0.1499687</td></tr>\n",
       "\t<tr><td>용산구   </td><td>0.1501245</td></tr>\n",
       "\t<tr><td>도봉구   </td><td>0.1574197</td></tr>\n",
       "\t<tr><td>중구     </td><td>0.1581133</td></tr>\n",
       "\t<tr><td>종로구   </td><td>0.1586624</td></tr>\n",
       "\t<tr><td>관악구   </td><td>0.1762311</td></tr>\n",
       "\t<tr><td>금천구   </td><td>0.1792845</td></tr>\n",
       "\t<tr><td>은평구   </td><td>0.1849940</td></tr>\n",
       "\t<tr><td>광진구   </td><td>0.2120399</td></tr>\n",
       "</tbody>\n",
       "</table>\n"
      ],
      "text/latex": [
       "\\begin{tabular}{r|ll}\n",
       " 자치구명 & 변동계수\\\\\n",
       "\\hline\n",
       "\t 강남구    & 0.1074865\\\\\n",
       "\t 영등포구  & 0.1177098\\\\\n",
       "\t 구로구    & 0.1247490\\\\\n",
       "\t 서초구    & 0.1267878\\\\\n",
       "\t 노원구    & 0.1269958\\\\\n",
       "\t 마포구    & 0.1279873\\\\\n",
       "\t 중랑구    & 0.1285712\\\\\n",
       "\t 강동구    & 0.1286380\\\\\n",
       "\t 서대문구  & 0.1332123\\\\\n",
       "\t 송파구    & 0.1341341\\\\\n",
       "\t 강서구    & 0.1351914\\\\\n",
       "\t 성북구    & 0.1401772\\\\\n",
       "\t 양천구    & 0.1411315\\\\\n",
       "\t 동작구    & 0.1428743\\\\\n",
       "\t 강북구    & 0.1454786\\\\\n",
       "\t 동대문구  & 0.1478347\\\\\n",
       "\t 성동구    & 0.1499687\\\\\n",
       "\t 용산구    & 0.1501245\\\\\n",
       "\t 도봉구    & 0.1574197\\\\\n",
       "\t 중구      & 0.1581133\\\\\n",
       "\t 종로구    & 0.1586624\\\\\n",
       "\t 관악구    & 0.1762311\\\\\n",
       "\t 금천구    & 0.1792845\\\\\n",
       "\t 은평구    & 0.1849940\\\\\n",
       "\t 광진구    & 0.2120399\\\\\n",
       "\\end{tabular}\n"
      ],
      "text/markdown": [
       "\n",
       "| 자치구명 | 변동계수 |\n",
       "|---|---|\n",
       "| 강남구    | 0.1074865 |\n",
       "| 영등포구  | 0.1177098 |\n",
       "| 구로구    | 0.1247490 |\n",
       "| 서초구    | 0.1267878 |\n",
       "| 노원구    | 0.1269958 |\n",
       "| 마포구    | 0.1279873 |\n",
       "| 중랑구    | 0.1285712 |\n",
       "| 강동구    | 0.1286380 |\n",
       "| 서대문구  | 0.1332123 |\n",
       "| 송파구    | 0.1341341 |\n",
       "| 강서구    | 0.1351914 |\n",
       "| 성북구    | 0.1401772 |\n",
       "| 양천구    | 0.1411315 |\n",
       "| 동작구    | 0.1428743 |\n",
       "| 강북구    | 0.1454786 |\n",
       "| 동대문구  | 0.1478347 |\n",
       "| 성동구    | 0.1499687 |\n",
       "| 용산구    | 0.1501245 |\n",
       "| 도봉구    | 0.1574197 |\n",
       "| 중구      | 0.1581133 |\n",
       "| 종로구    | 0.1586624 |\n",
       "| 관악구    | 0.1762311 |\n",
       "| 금천구    | 0.1792845 |\n",
       "| 은평구    | 0.1849940 |\n",
       "| 광진구    | 0.2120399 |\n",
       "\n"
      ],
      "text/plain": [
       "   자치구명 변동계수 \n",
       "1  강남구   0.1074865\n",
       "2  영등포구 0.1177098\n",
       "3  구로구   0.1247490\n",
       "4  서초구   0.1267878\n",
       "5  노원구   0.1269958\n",
       "6  마포구   0.1279873\n",
       "7  중랑구   0.1285712\n",
       "8  강동구   0.1286380\n",
       "9  서대문구 0.1332123\n",
       "10 송파구   0.1341341\n",
       "11 강서구   0.1351914\n",
       "12 성북구   0.1401772\n",
       "13 양천구   0.1411315\n",
       "14 동작구   0.1428743\n",
       "15 강북구   0.1454786\n",
       "16 동대문구 0.1478347\n",
       "17 성동구   0.1499687\n",
       "18 용산구   0.1501245\n",
       "19 도봉구   0.1574197\n",
       "20 중구     0.1581133\n",
       "21 종로구   0.1586624\n",
       "22 관악구   0.1762311\n",
       "23 금천구   0.1792845\n",
       "24 은평구   0.1849940\n",
       "25 광진구   0.2120399"
      ]
     },
     "metadata": {},
     "output_type": "display_data"
    }
   ],
   "source": [
    "# 자치구명과 변동계수가진 dataframe 만들기\n",
    "library(dplyr)\n",
    "regionAcc <-data.frame(자치구명=regionAcc.mean$자치구명,변동계수=regionAcc.sd$발생건수/regionAcc.mean$발생건수)\n",
    "\n",
    "arrange(regionAcc,변동계수)"
   ]
  },
  {
   "cell_type": "code",
   "execution_count": 70,
   "id": "bdfe7546",
   "metadata": {},
   "outputs": [
    {
     "ename": "ERROR",
     "evalue": "Error in data.frame(자치구명 = inguremean$자치구명, 변동계수 = injuresd$부상자수/injuremean$부상자수): 객체 'inguremean'를 찾을 수 없습니다\n",
     "output_type": "error",
     "traceback": [
      "Error in data.frame(자치구명 = inguremean$자치구명, 변동계수 = injuresd$부상자수/injuremean$부상자수): 객체 'inguremean'를 찾을 수 없습니다\nTraceback:\n",
      "1. data.frame(자치구명 = inguremean$자치구명, 변동계수 = injuresd$부상자수/injuremean$부상자수)"
     ]
    }
   ],
   "source": [
    "# 서울시 교통사고 부상자수에 대한 변동계수 구하기\n",
    "\n",
    "injuremean <- aggregate(부상자수~자치구명,seoul,mean)\n",
    "injuresd <- aggregate(부상자수~자치구명,seoul,sd)\n",
    "\n",
    "regionInjure <- data.frame(자치구명=inguremean$자치구명,변동계수=injuresd$부상자수/injuremean$부상자수)\n",
    "arrange(regionInjure,변동계수)"
   ]
  },
  {
   "cell_type": "code",
   "execution_count": 71,
   "id": "b6ae9c1e",
   "metadata": {},
   "outputs": [
    {
     "data": {
      "text/html": [
       "<table>\n",
       "<thead><tr><th scope=col>자치구명</th><th scope=col>변동계수</th></tr></thead>\n",
       "<tbody>\n",
       "\t<tr><td>영등포구 </td><td>0.6293361</td></tr>\n",
       "\t<tr><td>강동구   </td><td>0.7663838</td></tr>\n",
       "\t<tr><td>강남구   </td><td>0.7864080</td></tr>\n",
       "\t<tr><td>송파구   </td><td>0.8062102</td></tr>\n",
       "\t<tr><td>서초구   </td><td>0.8277334</td></tr>\n",
       "\t<tr><td>노원구   </td><td>0.8443981</td></tr>\n",
       "\t<tr><td>은평구   </td><td>0.8527234</td></tr>\n",
       "\t<tr><td>강서구   </td><td>0.8635127</td></tr>\n",
       "\t<tr><td>관악구   </td><td>0.9202590</td></tr>\n",
       "\t<tr><td>종로구   </td><td>0.9332813</td></tr>\n",
       "\t<tr><td>동대문구 </td><td>0.9432929</td></tr>\n",
       "\t<tr><td>구로구   </td><td>0.9565578</td></tr>\n",
       "\t<tr><td>용산구   </td><td>0.9609775</td></tr>\n",
       "\t<tr><td>서대문구 </td><td>0.9634543</td></tr>\n",
       "\t<tr><td>강북구   </td><td>0.9826626</td></tr>\n",
       "\t<tr><td>성북구   </td><td>0.9886017</td></tr>\n",
       "\t<tr><td>광진구   </td><td>1.0026785</td></tr>\n",
       "\t<tr><td>성동구   </td><td>1.0422291</td></tr>\n",
       "\t<tr><td>양천구   </td><td>1.0473578</td></tr>\n",
       "\t<tr><td>마포구   </td><td>1.0556714</td></tr>\n",
       "\t<tr><td>동작구   </td><td>1.0596641</td></tr>\n",
       "\t<tr><td>중랑구   </td><td>1.1019842</td></tr>\n",
       "\t<tr><td>도봉구   </td><td>1.1260506</td></tr>\n",
       "\t<tr><td>금천구   </td><td>1.1968557</td></tr>\n",
       "\t<tr><td>중구     </td><td>1.3235261</td></tr>\n",
       "</tbody>\n",
       "</table>\n"
      ],
      "text/latex": [
       "\\begin{tabular}{r|ll}\n",
       " 자치구명 & 변동계수\\\\\n",
       "\\hline\n",
       "\t 영등포구  & 0.6293361\\\\\n",
       "\t 강동구    & 0.7663838\\\\\n",
       "\t 강남구    & 0.7864080\\\\\n",
       "\t 송파구    & 0.8062102\\\\\n",
       "\t 서초구    & 0.8277334\\\\\n",
       "\t 노원구    & 0.8443981\\\\\n",
       "\t 은평구    & 0.8527234\\\\\n",
       "\t 강서구    & 0.8635127\\\\\n",
       "\t 관악구    & 0.9202590\\\\\n",
       "\t 종로구    & 0.9332813\\\\\n",
       "\t 동대문구  & 0.9432929\\\\\n",
       "\t 구로구    & 0.9565578\\\\\n",
       "\t 용산구    & 0.9609775\\\\\n",
       "\t 서대문구  & 0.9634543\\\\\n",
       "\t 강북구    & 0.9826626\\\\\n",
       "\t 성북구    & 0.9886017\\\\\n",
       "\t 광진구    & 1.0026785\\\\\n",
       "\t 성동구    & 1.0422291\\\\\n",
       "\t 양천구    & 1.0473578\\\\\n",
       "\t 마포구    & 1.0556714\\\\\n",
       "\t 동작구    & 1.0596641\\\\\n",
       "\t 중랑구    & 1.1019842\\\\\n",
       "\t 도봉구    & 1.1260506\\\\\n",
       "\t 금천구    & 1.1968557\\\\\n",
       "\t 중구      & 1.3235261\\\\\n",
       "\\end{tabular}\n"
      ],
      "text/markdown": [
       "\n",
       "| 자치구명 | 변동계수 |\n",
       "|---|---|\n",
       "| 영등포구  | 0.6293361 |\n",
       "| 강동구    | 0.7663838 |\n",
       "| 강남구    | 0.7864080 |\n",
       "| 송파구    | 0.8062102 |\n",
       "| 서초구    | 0.8277334 |\n",
       "| 노원구    | 0.8443981 |\n",
       "| 은평구    | 0.8527234 |\n",
       "| 강서구    | 0.8635127 |\n",
       "| 관악구    | 0.9202590 |\n",
       "| 종로구    | 0.9332813 |\n",
       "| 동대문구  | 0.9432929 |\n",
       "| 구로구    | 0.9565578 |\n",
       "| 용산구    | 0.9609775 |\n",
       "| 서대문구  | 0.9634543 |\n",
       "| 강북구    | 0.9826626 |\n",
       "| 성북구    | 0.9886017 |\n",
       "| 광진구    | 1.0026785 |\n",
       "| 성동구    | 1.0422291 |\n",
       "| 양천구    | 1.0473578 |\n",
       "| 마포구    | 1.0556714 |\n",
       "| 동작구    | 1.0596641 |\n",
       "| 중랑구    | 1.1019842 |\n",
       "| 도봉구    | 1.1260506 |\n",
       "| 금천구    | 1.1968557 |\n",
       "| 중구      | 1.3235261 |\n",
       "\n"
      ],
      "text/plain": [
       "   자치구명 변동계수 \n",
       "1  영등포구 0.6293361\n",
       "2  강동구   0.7663838\n",
       "3  강남구   0.7864080\n",
       "4  송파구   0.8062102\n",
       "5  서초구   0.8277334\n",
       "6  노원구   0.8443981\n",
       "7  은평구   0.8527234\n",
       "8  강서구   0.8635127\n",
       "9  관악구   0.9202590\n",
       "10 종로구   0.9332813\n",
       "11 동대문구 0.9432929\n",
       "12 구로구   0.9565578\n",
       "13 용산구   0.9609775\n",
       "14 서대문구 0.9634543\n",
       "15 강북구   0.9826626\n",
       "16 성북구   0.9886017\n",
       "17 광진구   1.0026785\n",
       "18 성동구   1.0422291\n",
       "19 양천구   1.0473578\n",
       "20 마포구   1.0556714\n",
       "21 동작구   1.0596641\n",
       "22 중랑구   1.1019842\n",
       "23 도봉구   1.1260506\n",
       "24 금천구   1.1968557\n",
       "25 중구     1.3235261"
      ]
     },
     "metadata": {},
     "output_type": "display_data"
    }
   ],
   "source": [
    "# 서울시 교통사고 사망자수에 대한 변동계수 구하기\n",
    "deathmean <- aggregate(사망자수~자치구명,seoul,mean)\n",
    "deathsd <- aggregate(사망자수~자치구명,seoul,sd)\n",
    "\n",
    "regionDeath <- data.frame(자치구명=deathmean$자치구명,변동계수=deathsd$사망자수/deathmean$사망자수)\n",
    "arrange(regionDeath,변동계수)"
   ]
  },
  {
   "cell_type": "code",
   "execution_count": 72,
   "id": "90c37ba4",
   "metadata": {},
   "outputs": [
    {
     "data": {
      "text/html": [
       "0.98089324110604"
      ],
      "text/latex": [
       "0.98089324110604"
      ],
      "text/markdown": [
       "0.98089324110604"
      ],
      "text/plain": [
       "[1] 0.9808932"
      ]
     },
     "metadata": {},
     "output_type": "display_data"
    }
   ],
   "source": [
    "# 교통사고 발생건수와 부상자수의 관계 : 상관계수\n",
    "cor(seoul$발생건수, seoul$부상자수)"
   ]
  },
  {
   "cell_type": "markdown",
   "id": "9a6b615f",
   "metadata": {},
   "source": [
    "0 ~ 0.3 : 상관 없음 <br>\n",
    "0.3 ~ 0.5 : 약한 관계<br>\n",
    "0.5 ~ 0.7 : 관계 있음<br>\n",
    "0.7 ~ : 강한 관계<br>"
   ]
  },
  {
   "cell_type": "code",
   "execution_count": 73,
   "id": "ae0c331b",
   "metadata": {},
   "outputs": [
    {
     "data": {
      "image/png": "[encoded data removed]",
      "text/plain": [
       "plot without title"
      ]
     },
     "metadata": {},
     "output_type": "display_data"
    }
   ],
   "source": [
    "par(family = \"AppleGothic\")\n",
    "options(warn = -1)\n",
    "plot(seoul$발생건수,seoul$부상자수)"
   ]
  },
  {
   "cell_type": "code",
   "execution_count": 74,
   "id": "60688c41",
   "metadata": {},
   "outputs": [
    {
     "data": {
      "text/html": [
       "0.238714776834864"
      ],
      "text/latex": [
       "0.238714776834864"
      ],
      "text/markdown": [
       "0.238714776834864"
      ],
      "text/plain": [
       "[1] 0.2387148"
      ]
     },
     "metadata": {},
     "output_type": "display_data"
    }
   ],
   "source": [
    "# 교통사고 발생건수와 사망자수의 관계 : 상관계수\n",
    "cor(seoul$발생건수, seoul$사망자수)"
   ]
  },
  {
   "cell_type": "code",
   "execution_count": 75,
   "id": "be35acf0",
   "metadata": {},
   "outputs": [
    {
     "data": {
      "image/png": "[encoded data removed]",
      "text/plain": [
       "plot without title"
      ]
     },
     "metadata": {},
     "output_type": "display_data"
    }
   ],
   "source": [
    "par(family = \"AppleGothic\")\n",
    "options(warn = -1)\n",
    "plot(seoul$발생건수,seoul$사망자수)"
   ]
  },
  {
   "cell_type": "code",
   "execution_count": 76,
   "id": "b037ee51",
   "metadata": {},
   "outputs": [
    {
     "data": {
      "text/html": [
       "0.237301918677241"
      ],
      "text/latex": [
       "0.237301918677241"
      ],
      "text/markdown": [
       "0.237301918677241"
      ],
      "text/plain": [
       "[1] 0.2373019"
      ]
     },
     "metadata": {},
     "output_type": "display_data"
    }
   ],
   "source": [
    "# 교통사고 부상자수와 사망자수의 관계\n",
    "cor(seoul$부상자수, seoul$사망자수)"
   ]
  },
  {
   "cell_type": "code",
   "execution_count": 77,
   "id": "c24a360b",
   "metadata": {},
   "outputs": [
    {
     "data": {
      "image/png": "[encoded data removed]",
      "text/plain": [
       "plot without title"
      ]
     },
     "metadata": {},
     "output_type": "display_data"
    }
   ],
   "source": [
    "par(family = \"AppleGothic\")\n",
    "options(warn = -1)\n",
    "plot(seoul$부상자수,seoul$사망자수)"
   ]
  },
  {
   "cell_type": "code",
   "execution_count": 78,
   "id": "98eb2e4a",
   "metadata": {},
   "outputs": [
    {
     "data": {
      "text/html": [
       "<table>\n",
       "<thead><tr><th scope=col>년도</th><th scope=col>월</th><th scope=col>자치구명</th><th scope=col>발생건수</th><th scope=col>사망자수</th><th scope=col>부상자수</th></tr></thead>\n",
       "<tbody>\n",
       "\t<tr><td>2011  </td><td>1     </td><td>종로구</td><td>115   </td><td>2     </td><td>165   </td></tr>\n",
       "\t<tr><td>2011  </td><td>2     </td><td>종로구</td><td> 99   </td><td>0     </td><td>134   </td></tr>\n",
       "\t<tr><td>2011  </td><td>3     </td><td>종로구</td><td>116   </td><td>0     </td><td>162   </td></tr>\n",
       "\t<tr><td>2011  </td><td>4     </td><td>종로구</td><td>110   </td><td>1     </td><td>153   </td></tr>\n",
       "\t<tr><td>2011  </td><td>5     </td><td>종로구</td><td>122   </td><td>0     </td><td>157   </td></tr>\n",
       "\t<tr><td>2011  </td><td>6     </td><td>종로구</td><td>116   </td><td>3     </td><td>163   </td></tr>\n",
       "</tbody>\n",
       "</table>\n"
      ],
      "text/latex": [
       "\\begin{tabular}{r|llllll}\n",
       " 년도 & 월 & 자치구명 & 발생건수 & 사망자수 & 부상자수\\\\\n",
       "\\hline\n",
       "\t 2011   & 1      & 종로구 & 115    & 2      & 165   \\\\\n",
       "\t 2011   & 2      & 종로구 &  99    & 0      & 134   \\\\\n",
       "\t 2011   & 3      & 종로구 & 116    & 0      & 162   \\\\\n",
       "\t 2011   & 4      & 종로구 & 110    & 1      & 153   \\\\\n",
       "\t 2011   & 5      & 종로구 & 122    & 0      & 157   \\\\\n",
       "\t 2011   & 6      & 종로구 & 116    & 3      & 163   \\\\\n",
       "\\end{tabular}\n"
      ],
      "text/markdown": [
       "\n",
       "| 년도 | 월 | 자치구명 | 발생건수 | 사망자수 | 부상자수 |\n",
       "|---|---|---|---|---|---|\n",
       "| 2011   | 1      | 종로구 | 115    | 2      | 165    |\n",
       "| 2011   | 2      | 종로구 |  99    | 0      | 134    |\n",
       "| 2011   | 3      | 종로구 | 116    | 0      | 162    |\n",
       "| 2011   | 4      | 종로구 | 110    | 1      | 153    |\n",
       "| 2011   | 5      | 종로구 | 122    | 0      | 157    |\n",
       "| 2011   | 6      | 종로구 | 116    | 3      | 163    |\n",
       "\n"
      ],
      "text/plain": [
       "  년도 월 자치구명 발생건수 사망자수 부상자수\n",
       "1 2011 1  종로구   115      2        165     \n",
       "2 2011 2  종로구    99      0        134     \n",
       "3 2011 3  종로구   116      0        162     \n",
       "4 2011 4  종로구   110      1        153     \n",
       "5 2011 5  종로구   122      0        157     \n",
       "6 2011 6  종로구   116      3        163     "
      ]
     },
     "metadata": {},
     "output_type": "display_data"
    },
    {
     "data": {
      "text/plain": [
       "\n",
       "  1   2   3   4   5   6   7   8   9  10  11  12 \n",
       "225 225 225 225 225 225 225 225 225 225 225 225 "
      ]
     },
     "metadata": {},
     "output_type": "display_data"
    }
   ],
   "source": [
    "# 계절별 교통사고 발생, 부상, 사망자수에 대한 분석\n",
    "\n",
    "head(seoul)\n",
    "table(seoul$월)\n",
    "\n"
   ]
  },
  {
   "cell_type": "markdown",
   "id": "05a5703c",
   "metadata": {},
   "source": [
    "---\n",
    "# 프로젝트 "
   ]
  },
  {
   "cell_type": "code",
   "execution_count": 79,
   "id": "a9e1a97f",
   "metadata": {},
   "outputs": [
    {
     "data": {
      "text/plain": [
       "\n",
       "가을 겨울   봄 여름 \n",
       " 675  675  675  675 "
      ]
     },
     "metadata": {},
     "output_type": "display_data"
    },
    {
     "data": {
      "text/html": [
       "<table>\n",
       "<thead><tr><th scope=col>년도</th><th scope=col>월</th><th scope=col>자치구명</th><th scope=col>발생건수</th><th scope=col>사망자수</th><th scope=col>부상자수</th><th scope=col>계절</th></tr></thead>\n",
       "<tbody>\n",
       "\t<tr><td>2011  </td><td> 1    </td><td>종로구</td><td>115   </td><td>2     </td><td>165   </td><td>겨울  </td></tr>\n",
       "\t<tr><td>2011  </td><td> 2    </td><td>종로구</td><td> 99   </td><td>0     </td><td>134   </td><td>겨울  </td></tr>\n",
       "\t<tr><td>2011  </td><td> 3    </td><td>종로구</td><td>116   </td><td>0     </td><td>162   </td><td>봄    </td></tr>\n",
       "\t<tr><td>2011  </td><td> 4    </td><td>종로구</td><td>110   </td><td>1     </td><td>153   </td><td>봄    </td></tr>\n",
       "\t<tr><td>2011  </td><td> 5    </td><td>종로구</td><td>122   </td><td>0     </td><td>157   </td><td>봄    </td></tr>\n",
       "\t<tr><td>2011  </td><td> 6    </td><td>종로구</td><td>116   </td><td>3     </td><td>163   </td><td>여름  </td></tr>\n",
       "\t<tr><td>2011  </td><td> 7    </td><td>종로구</td><td>103   </td><td>1     </td><td>154   </td><td>여름  </td></tr>\n",
       "\t<tr><td>2011  </td><td> 8    </td><td>종로구</td><td>122   </td><td>1     </td><td>171   </td><td>여름  </td></tr>\n",
       "\t<tr><td>2011  </td><td> 9    </td><td>종로구</td><td>121   </td><td>2     </td><td>166   </td><td>가을  </td></tr>\n",
       "\t<tr><td>2011  </td><td>10    </td><td>종로구</td><td>135   </td><td>2     </td><td>193   </td><td>가을  </td></tr>\n",
       "\t<tr><td>2011  </td><td>11    </td><td>종로구</td><td>140   </td><td>1     </td><td>204   </td><td>가을  </td></tr>\n",
       "\t<tr><td>2011  </td><td>12    </td><td>종로구</td><td>122   </td><td>1     </td><td>172   </td><td>겨울  </td></tr>\n",
       "\t<tr><td>2011  </td><td> 1    </td><td>중구  </td><td>108   </td><td>0     </td><td>159   </td><td>겨울  </td></tr>\n",
       "\t<tr><td>2011  </td><td> 2    </td><td>중구  </td><td> 86   </td><td>0     </td><td>112   </td><td>겨울  </td></tr>\n",
       "\t<tr><td>2011  </td><td> 3    </td><td>중구  </td><td>141   </td><td>0     </td><td>183   </td><td>봄    </td></tr>\n",
       "\t<tr><td>2011  </td><td> 4    </td><td>중구  </td><td>128   </td><td>3     </td><td>175   </td><td>봄    </td></tr>\n",
       "\t<tr><td>2011  </td><td> 5    </td><td>중구  </td><td>121   </td><td>1     </td><td>165   </td><td>봄    </td></tr>\n",
       "\t<tr><td>2011  </td><td> 6    </td><td>중구  </td><td>115   </td><td>1     </td><td>156   </td><td>여름  </td></tr>\n",
       "\t<tr><td>2011  </td><td> 7    </td><td>중구  </td><td>119   </td><td>1     </td><td>154   </td><td>여름  </td></tr>\n",
       "\t<tr><td>2011  </td><td> 8    </td><td>중구  </td><td>117   </td><td>1     </td><td>154   </td><td>여름  </td></tr>\n",
       "\t<tr><td>2011  </td><td> 9    </td><td>중구  </td><td>140   </td><td>1     </td><td>181   </td><td>가을  </td></tr>\n",
       "\t<tr><td>2011  </td><td>10    </td><td>중구  </td><td>147   </td><td>2     </td><td>203   </td><td>가을  </td></tr>\n",
       "\t<tr><td>2011  </td><td>11    </td><td>중구  </td><td>132   </td><td>3     </td><td>172   </td><td>가을  </td></tr>\n",
       "\t<tr><td>2011  </td><td>12    </td><td>중구  </td><td>143   </td><td>0     </td><td>211   </td><td>겨울  </td></tr>\n",
       "\t<tr><td>2011  </td><td> 1    </td><td>용산구</td><td> 98   </td><td>0     </td><td>141   </td><td>겨울  </td></tr>\n",
       "\t<tr><td>2011  </td><td> 2    </td><td>용산구</td><td> 92   </td><td>1     </td><td>134   </td><td>겨울  </td></tr>\n",
       "\t<tr><td>2011  </td><td> 3    </td><td>용산구</td><td> 88   </td><td>2     </td><td>132   </td><td>봄    </td></tr>\n",
       "\t<tr><td>2011  </td><td> 4    </td><td>용산구</td><td>103   </td><td>1     </td><td>149   </td><td>봄    </td></tr>\n",
       "\t<tr><td>2011  </td><td> 5    </td><td>용산구</td><td>104   </td><td>1     </td><td>151   </td><td>봄    </td></tr>\n",
       "\t<tr><td>2011  </td><td> 6    </td><td>용산구</td><td> 98   </td><td>0     </td><td>143   </td><td>여름  </td></tr>\n",
       "\t<tr><td>...</td><td>...</td><td>...</td><td>...</td><td>...</td><td>...</td><td>...</td></tr>\n",
       "\t<tr><td>2019  </td><td> 7    </td><td>강남구</td><td>326   </td><td>0     </td><td>450   </td><td>여름  </td></tr>\n",
       "\t<tr><td>2019  </td><td> 8    </td><td>강남구</td><td>320   </td><td>1     </td><td>435   </td><td>여름  </td></tr>\n",
       "\t<tr><td>2019  </td><td> 9    </td><td>강남구</td><td>302   </td><td>0     </td><td>389   </td><td>가을  </td></tr>\n",
       "\t<tr><td>2019  </td><td>10    </td><td>강남구</td><td>336   </td><td>2     </td><td>440   </td><td>가을  </td></tr>\n",
       "\t<tr><td>2019  </td><td>11    </td><td>강남구</td><td>383   </td><td>2     </td><td>542   </td><td>가을  </td></tr>\n",
       "\t<tr><td>2019  </td><td>12    </td><td>강남구</td><td>350   </td><td>1     </td><td>483   </td><td>겨울  </td></tr>\n",
       "\t<tr><td>2019  </td><td> 1    </td><td>송파구</td><td>212   </td><td>0     </td><td>319   </td><td>겨울  </td></tr>\n",
       "\t<tr><td>2019  </td><td> 2    </td><td>송파구</td><td>193   </td><td>2     </td><td>253   </td><td>겨울  </td></tr>\n",
       "\t<tr><td>2019  </td><td> 3    </td><td>송파구</td><td>243   </td><td>0     </td><td>336   </td><td>봄    </td></tr>\n",
       "\t<tr><td>2019  </td><td> 4    </td><td>송파구</td><td>228   </td><td>0     </td><td>317   </td><td>봄    </td></tr>\n",
       "\t<tr><td>2019  </td><td> 5    </td><td>송파구</td><td>277   </td><td>3     </td><td>398   </td><td>봄    </td></tr>\n",
       "\t<tr><td>2019  </td><td> 6    </td><td>송파구</td><td>241   </td><td>0     </td><td>311   </td><td>여름  </td></tr>\n",
       "\t<tr><td>2019  </td><td> 7    </td><td>송파구</td><td>227   </td><td>1     </td><td>312   </td><td>여름  </td></tr>\n",
       "\t<tr><td>2019  </td><td> 8    </td><td>송파구</td><td>247   </td><td>1     </td><td>340   </td><td>여름  </td></tr>\n",
       "\t<tr><td>2019  </td><td> 9    </td><td>송파구</td><td>245   </td><td>0     </td><td>341   </td><td>가을  </td></tr>\n",
       "\t<tr><td>2019  </td><td>10    </td><td>송파구</td><td>304   </td><td>3     </td><td>447   </td><td>가을  </td></tr>\n",
       "\t<tr><td>2019  </td><td>11    </td><td>송파구</td><td>260   </td><td>3     </td><td>330   </td><td>가을  </td></tr>\n",
       "\t<tr><td>2019  </td><td>12    </td><td>송파구</td><td>215   </td><td>0     </td><td>299   </td><td>겨울  </td></tr>\n",
       "\t<tr><td>2019  </td><td> 1    </td><td>강동구</td><td> 98   </td><td>1     </td><td>115   </td><td>겨울  </td></tr>\n",
       "\t<tr><td>2019  </td><td> 2    </td><td>강동구</td><td> 87   </td><td>0     </td><td>133   </td><td>겨울  </td></tr>\n",
       "\t<tr><td>2019  </td><td> 3    </td><td>강동구</td><td>122   </td><td>0     </td><td>163   </td><td>봄    </td></tr>\n",
       "\t<tr><td>2019  </td><td> 4    </td><td>강동구</td><td>112   </td><td>0     </td><td>153   </td><td>봄    </td></tr>\n",
       "\t<tr><td>2019  </td><td> 5    </td><td>강동구</td><td>139   </td><td>1     </td><td>192   </td><td>봄    </td></tr>\n",
       "\t<tr><td>2019  </td><td> 6    </td><td>강동구</td><td>123   </td><td>1     </td><td>179   </td><td>여름  </td></tr>\n",
       "\t<tr><td>2019  </td><td> 7    </td><td>강동구</td><td>146   </td><td>2     </td><td>189   </td><td>여름  </td></tr>\n",
       "\t<tr><td>2019  </td><td> 8    </td><td>강동구</td><td>127   </td><td>2     </td><td>175   </td><td>여름  </td></tr>\n",
       "\t<tr><td>2019  </td><td> 9    </td><td>강동구</td><td> 98   </td><td>2     </td><td>137   </td><td>가을  </td></tr>\n",
       "\t<tr><td>2019  </td><td>10    </td><td>강동구</td><td>108   </td><td>1     </td><td>144   </td><td>가을  </td></tr>\n",
       "\t<tr><td>2019  </td><td>11    </td><td>강동구</td><td>146   </td><td>0     </td><td>199   </td><td>가을  </td></tr>\n",
       "\t<tr><td>2019  </td><td>12    </td><td>강동구</td><td>108   </td><td>1     </td><td>131   </td><td>겨울  </td></tr>\n",
       "</tbody>\n",
       "</table>\n"
      ],
      "text/latex": [
       "\\begin{tabular}{r|lllllll}\n",
       " 년도 & 월 & 자치구명 & 발생건수 & 사망자수 & 부상자수 & 계절\\\\\n",
       "\\hline\n",
       "\t 2011   &  1     & 종로구 & 115    & 2      & 165    & 겨울  \\\\\n",
       "\t 2011   &  2     & 종로구 &  99    & 0      & 134    & 겨울  \\\\\n",
       "\t 2011   &  3     & 종로구 & 116    & 0      & 162    & 봄    \\\\\n",
       "\t 2011   &  4     & 종로구 & 110    & 1      & 153    & 봄    \\\\\n",
       "\t 2011   &  5     & 종로구 & 122    & 0      & 157    & 봄    \\\\\n",
       "\t 2011   &  6     & 종로구 & 116    & 3      & 163    & 여름  \\\\\n",
       "\t 2011   &  7     & 종로구 & 103    & 1      & 154    & 여름  \\\\\n",
       "\t 2011   &  8     & 종로구 & 122    & 1      & 171    & 여름  \\\\\n",
       "\t 2011   &  9     & 종로구 & 121    & 2      & 166    & 가을  \\\\\n",
       "\t 2011   & 10     & 종로구 & 135    & 2      & 193    & 가을  \\\\\n",
       "\t 2011   & 11     & 종로구 & 140    & 1      & 204    & 가을  \\\\\n",
       "\t 2011   & 12     & 종로구 & 122    & 1      & 172    & 겨울  \\\\\n",
       "\t 2011   &  1     & 중구   & 108    & 0      & 159    & 겨울  \\\\\n",
       "\t 2011   &  2     & 중구   &  86    & 0      & 112    & 겨울  \\\\\n",
       "\t 2011   &  3     & 중구   & 141    & 0      & 183    & 봄    \\\\\n",
       "\t 2011   &  4     & 중구   & 128    & 3      & 175    & 봄    \\\\\n",
       "\t 2011   &  5     & 중구   & 121    & 1      & 165    & 봄    \\\\\n",
       "\t 2011   &  6     & 중구   & 115    & 1      & 156    & 여름  \\\\\n",
       "\t 2011   &  7     & 중구   & 119    & 1      & 154    & 여름  \\\\\n",
       "\t 2011   &  8     & 중구   & 117    & 1      & 154    & 여름  \\\\\n",
       "\t 2011   &  9     & 중구   & 140    & 1      & 181    & 가을  \\\\\n",
       "\t 2011   & 10     & 중구   & 147    & 2      & 203    & 가을  \\\\\n",
       "\t 2011   & 11     & 중구   & 132    & 3      & 172    & 가을  \\\\\n",
       "\t 2011   & 12     & 중구   & 143    & 0      & 211    & 겨울  \\\\\n",
       "\t 2011   &  1     & 용산구 &  98    & 0      & 141    & 겨울  \\\\\n",
       "\t 2011   &  2     & 용산구 &  92    & 1      & 134    & 겨울  \\\\\n",
       "\t 2011   &  3     & 용산구 &  88    & 2      & 132    & 봄    \\\\\n",
       "\t 2011   &  4     & 용산구 & 103    & 1      & 149    & 봄    \\\\\n",
       "\t 2011   &  5     & 용산구 & 104    & 1      & 151    & 봄    \\\\\n",
       "\t 2011   &  6     & 용산구 &  98    & 0      & 143    & 여름  \\\\\n",
       "\t ... & ... & ... & ... & ... & ... & ...\\\\\n",
       "\t 2019   &  7     & 강남구 & 326    & 0      & 450    & 여름  \\\\\n",
       "\t 2019   &  8     & 강남구 & 320    & 1      & 435    & 여름  \\\\\n",
       "\t 2019   &  9     & 강남구 & 302    & 0      & 389    & 가을  \\\\\n",
       "\t 2019   & 10     & 강남구 & 336    & 2      & 440    & 가을  \\\\\n",
       "\t 2019   & 11     & 강남구 & 383    & 2      & 542    & 가을  \\\\\n",
       "\t 2019   & 12     & 강남구 & 350    & 1      & 483    & 겨울  \\\\\n",
       "\t 2019   &  1     & 송파구 & 212    & 0      & 319    & 겨울  \\\\\n",
       "\t 2019   &  2     & 송파구 & 193    & 2      & 253    & 겨울  \\\\\n",
       "\t 2019   &  3     & 송파구 & 243    & 0      & 336    & 봄    \\\\\n",
       "\t 2019   &  4     & 송파구 & 228    & 0      & 317    & 봄    \\\\\n",
       "\t 2019   &  5     & 송파구 & 277    & 3      & 398    & 봄    \\\\\n",
       "\t 2019   &  6     & 송파구 & 241    & 0      & 311    & 여름  \\\\\n",
       "\t 2019   &  7     & 송파구 & 227    & 1      & 312    & 여름  \\\\\n",
       "\t 2019   &  8     & 송파구 & 247    & 1      & 340    & 여름  \\\\\n",
       "\t 2019   &  9     & 송파구 & 245    & 0      & 341    & 가을  \\\\\n",
       "\t 2019   & 10     & 송파구 & 304    & 3      & 447    & 가을  \\\\\n",
       "\t 2019   & 11     & 송파구 & 260    & 3      & 330    & 가을  \\\\\n",
       "\t 2019   & 12     & 송파구 & 215    & 0      & 299    & 겨울  \\\\\n",
       "\t 2019   &  1     & 강동구 &  98    & 1      & 115    & 겨울  \\\\\n",
       "\t 2019   &  2     & 강동구 &  87    & 0      & 133    & 겨울  \\\\\n",
       "\t 2019   &  3     & 강동구 & 122    & 0      & 163    & 봄    \\\\\n",
       "\t 2019   &  4     & 강동구 & 112    & 0      & 153    & 봄    \\\\\n",
       "\t 2019   &  5     & 강동구 & 139    & 1      & 192    & 봄    \\\\\n",
       "\t 2019   &  6     & 강동구 & 123    & 1      & 179    & 여름  \\\\\n",
       "\t 2019   &  7     & 강동구 & 146    & 2      & 189    & 여름  \\\\\n",
       "\t 2019   &  8     & 강동구 & 127    & 2      & 175    & 여름  \\\\\n",
       "\t 2019   &  9     & 강동구 &  98    & 2      & 137    & 가을  \\\\\n",
       "\t 2019   & 10     & 강동구 & 108    & 1      & 144    & 가을  \\\\\n",
       "\t 2019   & 11     & 강동구 & 146    & 0      & 199    & 가을  \\\\\n",
       "\t 2019   & 12     & 강동구 & 108    & 1      & 131    & 겨울  \\\\\n",
       "\\end{tabular}\n"
      ],
      "text/markdown": [
       "\n",
       "| 년도 | 월 | 자치구명 | 발생건수 | 사망자수 | 부상자수 | 계절 |\n",
       "|---|---|---|---|---|---|---|\n",
       "| 2011   |  1     | 종로구 | 115    | 2      | 165    | 겨울   |\n",
       "| 2011   |  2     | 종로구 |  99    | 0      | 134    | 겨울   |\n",
       "| 2011   |  3     | 종로구 | 116    | 0      | 162    | 봄     |\n",
       "| 2011   |  4     | 종로구 | 110    | 1      | 153    | 봄     |\n",
       "| 2011   |  5     | 종로구 | 122    | 0      | 157    | 봄     |\n",
       "| 2011   |  6     | 종로구 | 116    | 3      | 163    | 여름   |\n",
       "| 2011   |  7     | 종로구 | 103    | 1      | 154    | 여름   |\n",
       "| 2011   |  8     | 종로구 | 122    | 1      | 171    | 여름   |\n",
       "| 2011   |  9     | 종로구 | 121    | 2      | 166    | 가을   |\n",
       "| 2011   | 10     | 종로구 | 135    | 2      | 193    | 가을   |\n",
       "| 2011   | 11     | 종로구 | 140    | 1      | 204    | 가을   |\n",
       "| 2011   | 12     | 종로구 | 122    | 1      | 172    | 겨울   |\n",
       "| 2011   |  1     | 중구   | 108    | 0      | 159    | 겨울   |\n",
       "| 2011   |  2     | 중구   |  86    | 0      | 112    | 겨울   |\n",
       "| 2011   |  3     | 중구   | 141    | 0      | 183    | 봄     |\n",
       "| 2011   |  4     | 중구   | 128    | 3      | 175    | 봄     |\n",
       "| 2011   |  5     | 중구   | 121    | 1      | 165    | 봄     |\n",
       "| 2011   |  6     | 중구   | 115    | 1      | 156    | 여름   |\n",
       "| 2011   |  7     | 중구   | 119    | 1      | 154    | 여름   |\n",
       "| 2011   |  8     | 중구   | 117    | 1      | 154    | 여름   |\n",
       "| 2011   |  9     | 중구   | 140    | 1      | 181    | 가을   |\n",
       "| 2011   | 10     | 중구   | 147    | 2      | 203    | 가을   |\n",
       "| 2011   | 11     | 중구   | 132    | 3      | 172    | 가을   |\n",
       "| 2011   | 12     | 중구   | 143    | 0      | 211    | 겨울   |\n",
       "| 2011   |  1     | 용산구 |  98    | 0      | 141    | 겨울   |\n",
       "| 2011   |  2     | 용산구 |  92    | 1      | 134    | 겨울   |\n",
       "| 2011   |  3     | 용산구 |  88    | 2      | 132    | 봄     |\n",
       "| 2011   |  4     | 용산구 | 103    | 1      | 149    | 봄     |\n",
       "| 2011   |  5     | 용산구 | 104    | 1      | 151    | 봄     |\n",
       "| 2011   |  6     | 용산구 |  98    | 0      | 143    | 여름   |\n",
       "| ... | ... | ... | ... | ... | ... | ... |\n",
       "| 2019   |  7     | 강남구 | 326    | 0      | 450    | 여름   |\n",
       "| 2019   |  8     | 강남구 | 320    | 1      | 435    | 여름   |\n",
       "| 2019   |  9     | 강남구 | 302    | 0      | 389    | 가을   |\n",
       "| 2019   | 10     | 강남구 | 336    | 2      | 440    | 가을   |\n",
       "| 2019   | 11     | 강남구 | 383    | 2      | 542    | 가을   |\n",
       "| 2019   | 12     | 강남구 | 350    | 1      | 483    | 겨울   |\n",
       "| 2019   |  1     | 송파구 | 212    | 0      | 319    | 겨울   |\n",
       "| 2019   |  2     | 송파구 | 193    | 2      | 253    | 겨울   |\n",
       "| 2019   |  3     | 송파구 | 243    | 0      | 336    | 봄     |\n",
       "| 2019   |  4     | 송파구 | 228    | 0      | 317    | 봄     |\n",
       "| 2019   |  5     | 송파구 | 277    | 3      | 398    | 봄     |\n",
       "| 2019   |  6     | 송파구 | 241    | 0      | 311    | 여름   |\n",
       "| 2019   |  7     | 송파구 | 227    | 1      | 312    | 여름   |\n",
       "| 2019   |  8     | 송파구 | 247    | 1      | 340    | 여름   |\n",
       "| 2019   |  9     | 송파구 | 245    | 0      | 341    | 가을   |\n",
       "| 2019   | 10     | 송파구 | 304    | 3      | 447    | 가을   |\n",
       "| 2019   | 11     | 송파구 | 260    | 3      | 330    | 가을   |\n",
       "| 2019   | 12     | 송파구 | 215    | 0      | 299    | 겨울   |\n",
       "| 2019   |  1     | 강동구 |  98    | 1      | 115    | 겨울   |\n",
       "| 2019   |  2     | 강동구 |  87    | 0      | 133    | 겨울   |\n",
       "| 2019   |  3     | 강동구 | 122    | 0      | 163    | 봄     |\n",
       "| 2019   |  4     | 강동구 | 112    | 0      | 153    | 봄     |\n",
       "| 2019   |  5     | 강동구 | 139    | 1      | 192    | 봄     |\n",
       "| 2019   |  6     | 강동구 | 123    | 1      | 179    | 여름   |\n",
       "| 2019   |  7     | 강동구 | 146    | 2      | 189    | 여름   |\n",
       "| 2019   |  8     | 강동구 | 127    | 2      | 175    | 여름   |\n",
       "| 2019   |  9     | 강동구 |  98    | 2      | 137    | 가을   |\n",
       "| 2019   | 10     | 강동구 | 108    | 1      | 144    | 가을   |\n",
       "| 2019   | 11     | 강동구 | 146    | 0      | 199    | 가을   |\n",
       "| 2019   | 12     | 강동구 | 108    | 1      | 131    | 겨울   |\n",
       "\n"
      ],
      "text/plain": [
       "     년도 월  자치구명 발생건수 사망자수 부상자수 계절\n",
       "1    2011  1  종로구   115      2        165      겨울\n",
       "2    2011  2  종로구    99      0        134      겨울\n",
       "3    2011  3  종로구   116      0        162      봄  \n",
       "4    2011  4  종로구   110      1        153      봄  \n",
       "5    2011  5  종로구   122      0        157      봄  \n",
       "6    2011  6  종로구   116      3        163      여름\n",
       "7    2011  7  종로구   103      1        154      여름\n",
       "8    2011  8  종로구   122      1        171      여름\n",
       "9    2011  9  종로구   121      2        166      가을\n",
       "10   2011 10  종로구   135      2        193      가을\n",
       "11   2011 11  종로구   140      1        204      가을\n",
       "12   2011 12  종로구   122      1        172      겨울\n",
       "13   2011  1  중구     108      0        159      겨울\n",
       "14   2011  2  중구      86      0        112      겨울\n",
       "15   2011  3  중구     141      0        183      봄  \n",
       "16   2011  4  중구     128      3        175      봄  \n",
       "17   2011  5  중구     121      1        165      봄  \n",
       "18   2011  6  중구     115      1        156      여름\n",
       "19   2011  7  중구     119      1        154      여름\n",
       "20   2011  8  중구     117      1        154      여름\n",
       "21   2011  9  중구     140      1        181      가을\n",
       "22   2011 10  중구     147      2        203      가을\n",
       "23   2011 11  중구     132      3        172      가을\n",
       "24   2011 12  중구     143      0        211      겨울\n",
       "25   2011  1  용산구    98      0        141      겨울\n",
       "26   2011  2  용산구    92      1        134      겨울\n",
       "27   2011  3  용산구    88      2        132      봄  \n",
       "28   2011  4  용산구   103      1        149      봄  \n",
       "29   2011  5  용산구   104      1        151      봄  \n",
       "30   2011  6  용산구    98      0        143      여름\n",
       "...  ...  ... ...      ...      ...      ...      ... \n",
       "2671 2019  7  강남구   326      0        450      여름\n",
       "2672 2019  8  강남구   320      1        435      여름\n",
       "2673 2019  9  강남구   302      0        389      가을\n",
       "2674 2019 10  강남구   336      2        440      가을\n",
       "2675 2019 11  강남구   383      2        542      가을\n",
       "2676 2019 12  강남구   350      1        483      겨울\n",
       "2677 2019  1  송파구   212      0        319      겨울\n",
       "2678 2019  2  송파구   193      2        253      겨울\n",
       "2679 2019  3  송파구   243      0        336      봄  \n",
       "2680 2019  4  송파구   228      0        317      봄  \n",
       "2681 2019  5  송파구   277      3        398      봄  \n",
       "2682 2019  6  송파구   241      0        311      여름\n",
       "2683 2019  7  송파구   227      1        312      여름\n",
       "2684 2019  8  송파구   247      1        340      여름\n",
       "2685 2019  9  송파구   245      0        341      가을\n",
       "2686 2019 10  송파구   304      3        447      가을\n",
       "2687 2019 11  송파구   260      3        330      가을\n",
       "2688 2019 12  송파구   215      0        299      겨울\n",
       "2689 2019  1  강동구    98      1        115      겨울\n",
       "2690 2019  2  강동구    87      0        133      겨울\n",
       "2691 2019  3  강동구   122      0        163      봄  \n",
       "2692 2019  4  강동구   112      0        153      봄  \n",
       "2693 2019  5  강동구   139      1        192      봄  \n",
       "2694 2019  6  강동구   123      1        179      여름\n",
       "2695 2019  7  강동구   146      2        189      여름\n",
       "2696 2019  8  강동구   127      2        175      여름\n",
       "2697 2019  9  강동구    98      2        137      가을\n",
       "2698 2019 10  강동구   108      1        144      가을\n",
       "2699 2019 11  강동구   146      0        199      가을\n",
       "2700 2019 12  강동구   108      1        131      겨울"
      ]
     },
     "metadata": {},
     "output_type": "display_data"
    }
   ],
   "source": [
    "# 계절이라는 col 만들어서 계절별로 분류하기\n",
    "for(i in 1: nrow(seoul)){\n",
    "    \n",
    "    if(seoul[i,2] == 3 |seoul[i,2]== 4|seoul[i,2]== 5){\n",
    "        result = '봄'\n",
    "    }else if(seoul[i,2] == 6|seoul[i,2] == 7|seoul[i,2]== 8){\n",
    "         result= '여름'\n",
    "    }else if(seoul[i,2]== 9|seoul[i,2] == 10|seoul[i,2] == 11){\n",
    "        result ='가을'\n",
    "    }else if(seoul[i,2]== 12|seoul[i,2] == 1|seoul[i,2] == 2){\n",
    "         result = '겨울'\n",
    "    }\n",
    " \n",
    "   seoul$계절[i] = result\n",
    "}\n",
    "    seoulseason <- seoul\n",
    "   table(seoul$계절)\n",
    "    seoulseason"
   ]
  },
  {
   "cell_type": "code",
   "execution_count": 94,
   "id": "77e67a2e",
   "metadata": {},
   "outputs": [
    {
     "data": {
      "text/html": [
       "<table>\n",
       "<thead><tr><th scope=col>계절</th><th scope=col>발생건수</th></tr></thead>\n",
       "<tbody>\n",
       "\t<tr><td>봄      </td><td>135.3763</td></tr>\n",
       "\t<tr><td>여름    </td><td>136.4622</td></tr>\n",
       "\t<tr><td>가을    </td><td>140.5896</td></tr>\n",
       "\t<tr><td>겨울    </td><td>120.7467</td></tr>\n",
       "</tbody>\n",
       "</table>\n"
      ],
      "text/latex": [
       "\\begin{tabular}{r|ll}\n",
       " 계절 & 발생건수\\\\\n",
       "\\hline\n",
       "\t 봄       & 135.3763\\\\\n",
       "\t 여름     & 136.4622\\\\\n",
       "\t 가을     & 140.5896\\\\\n",
       "\t 겨울     & 120.7467\\\\\n",
       "\\end{tabular}\n"
      ],
      "text/markdown": [
       "\n",
       "| 계절 | 발생건수 |\n",
       "|---|---|\n",
       "| 봄       | 135.3763 |\n",
       "| 여름     | 136.4622 |\n",
       "| 가을     | 140.5896 |\n",
       "| 겨울     | 120.7467 |\n",
       "\n"
      ],
      "text/plain": [
       "  계절 발생건수\n",
       "1 봄   135.3763\n",
       "2 여름 136.4622\n",
       "3 가을 140.5896\n",
       "4 겨울 120.7467"
      ]
     },
     "metadata": {},
     "output_type": "display_data"
    },
    {
     "data": {
      "text/html": [
       "<table>\n",
       "<thead><tr><th scope=col>계절</th><th scope=col>발생건수</th></tr></thead>\n",
       "<tbody>\n",
       "\t<tr><td>가을    </td><td>54.16799</td></tr>\n",
       "\t<tr><td>여름    </td><td>53.56540</td></tr>\n",
       "\t<tr><td>봄      </td><td>51.17901</td></tr>\n",
       "\t<tr><td>겨울    </td><td>50.68088</td></tr>\n",
       "</tbody>\n",
       "</table>\n"
      ],
      "text/latex": [
       "\\begin{tabular}{r|ll}\n",
       " 계절 & 발생건수\\\\\n",
       "\\hline\n",
       "\t 가을     & 54.16799\\\\\n",
       "\t 여름     & 53.56540\\\\\n",
       "\t 봄       & 51.17901\\\\\n",
       "\t 겨울     & 50.68088\\\\\n",
       "\\end{tabular}\n"
      ],
      "text/markdown": [
       "\n",
       "| 계절 | 발생건수 |\n",
       "|---|---|\n",
       "| 가을     | 54.16799 |\n",
       "| 여름     | 53.56540 |\n",
       "| 봄       | 51.17901 |\n",
       "| 겨울     | 50.68088 |\n",
       "\n"
      ],
      "text/plain": [
       "  계절 발생건수\n",
       "1 가을 54.16799\n",
       "2 여름 53.56540\n",
       "3 봄   51.17901\n",
       "4 겨울 50.68088"
      ]
     },
     "metadata": {},
     "output_type": "display_data"
    },
    {
     "data": {
      "text/html": [
       "<table>\n",
       "<thead><tr><th scope=col>계절</th><th scope=col>변동계수</th></tr></thead>\n",
       "<tbody>\n",
       "\t<tr><td>겨울     </td><td>0.4197290</td></tr>\n",
       "\t<tr><td>여름     </td><td>0.3925291</td></tr>\n",
       "\t<tr><td>가을     </td><td>0.3852915</td></tr>\n",
       "\t<tr><td>봄       </td><td>0.3780500</td></tr>\n",
       "</tbody>\n",
       "</table>\n"
      ],
      "text/latex": [
       "\\begin{tabular}{r|ll}\n",
       " 계절 & 변동계수\\\\\n",
       "\\hline\n",
       "\t 겨울      & 0.4197290\\\\\n",
       "\t 여름      & 0.3925291\\\\\n",
       "\t 가을      & 0.3852915\\\\\n",
       "\t 봄        & 0.3780500\\\\\n",
       "\\end{tabular}\n"
      ],
      "text/markdown": [
       "\n",
       "| 계절 | 변동계수 |\n",
       "|---|---|\n",
       "| 겨울      | 0.4197290 |\n",
       "| 여름      | 0.3925291 |\n",
       "| 가을      | 0.3852915 |\n",
       "| 봄        | 0.3780500 |\n",
       "\n"
      ],
      "text/plain": [
       "  계절 변동계수 \n",
       "1 겨울 0.4197290\n",
       "2 여름 0.3925291\n",
       "3 가을 0.3852915\n",
       "4 봄   0.3780500"
      ]
     },
     "metadata": {},
     "output_type": "display_data"
    }
   ],
   "source": [
    "# 계절 별 발생건수 (평균, 표준편차, 변동계수 )\n",
    "\n",
    "library(dplyr)\n",
    "par(family = \"AppleGothic\")\n",
    "options(warn = -1)\n",
    "ssmean<-aggregate(발생건수~계절,seoulseason,mean)\n",
    "sssd<-aggregate(발생건수~계절,seoulseason,sd)\n",
    "sscv <- data.frame(계절=ssmean$계절,변동계수=sssd$발생건수/ssmean$발생건수)\n",
    "ssmean <- arrange(ssmean,c('봄','여름','가을','겨울'))\n",
    "ssmean\n",
    "arrange(sssd,desc(발생건수))\n",
    "arrange(sscv,desc(변동계수))\n",
    "\n"
   ]
  },
  {
   "cell_type": "code",
   "execution_count": 108,
   "id": "b2c65fa4",
   "metadata": {},
   "outputs": [
    {
     "data": {
      "image/png": "[encoded data removed]",
      "text/plain": [
       "Plot with title “계절별 평균 발생건수”"
      ]
     },
     "metadata": {},
     "output_type": "display_data"
    }
   ],
   "source": [
    "par(family = \"AppleGothic\")\n",
    "barplot(ssmean$발생건수,\n",
    "        main=\"계절별 평균 발생건수\",\n",
    "        xlab=\"계절\",\n",
    "        ylab=\"평균 발생건수\",\n",
    "        names=ssmean$계절,\n",
    "        cex.names=1,\n",
    "        col=c('blue','blue','red','blue'),\n",
    "        ylim=c(0,150)\n",
    "   \n",
    "       )"
   ]
  },
  {
   "cell_type": "code",
   "execution_count": 109,
   "id": "6cd110c7",
   "metadata": {},
   "outputs": [
    {
     "data": {
      "text/html": [
       "<table>\n",
       "<thead><tr><th scope=col>계절</th><th scope=col>부상자수</th></tr></thead>\n",
       "<tbody>\n",
       "\t<tr><td>봄      </td><td>189.2415</td></tr>\n",
       "\t<tr><td>여름    </td><td>191.2400</td></tr>\n",
       "\t<tr><td>가을    </td><td>195.9081</td></tr>\n",
       "\t<tr><td>겨울    </td><td>173.3941</td></tr>\n",
       "</tbody>\n",
       "</table>\n"
      ],
      "text/latex": [
       "\\begin{tabular}{r|ll}\n",
       " 계절 & 부상자수\\\\\n",
       "\\hline\n",
       "\t 봄       & 189.2415\\\\\n",
       "\t 여름     & 191.2400\\\\\n",
       "\t 가을     & 195.9081\\\\\n",
       "\t 겨울     & 173.3941\\\\\n",
       "\\end{tabular}\n"
      ],
      "text/markdown": [
       "\n",
       "| 계절 | 부상자수 |\n",
       "|---|---|\n",
       "| 봄       | 189.2415 |\n",
       "| 여름     | 191.2400 |\n",
       "| 가을     | 195.9081 |\n",
       "| 겨울     | 173.3941 |\n",
       "\n"
      ],
      "text/plain": [
       "  계절 부상자수\n",
       "1 봄   189.2415\n",
       "2 여름 191.2400\n",
       "3 가을 195.9081\n",
       "4 겨울 173.3941"
      ]
     },
     "metadata": {},
     "output_type": "display_data"
    },
    {
     "data": {
      "text/html": [
       "<table>\n",
       "<thead><tr><th scope=col>계절</th><th scope=col>부상자수</th></tr></thead>\n",
       "<tbody>\n",
       "\t<tr><td>여름    </td><td>78.95425</td></tr>\n",
       "\t<tr><td>가을    </td><td>78.86784</td></tr>\n",
       "\t<tr><td>겨울    </td><td>77.25190</td></tr>\n",
       "\t<tr><td>봄      </td><td>76.27927</td></tr>\n",
       "</tbody>\n",
       "</table>\n"
      ],
      "text/latex": [
       "\\begin{tabular}{r|ll}\n",
       " 계절 & 부상자수\\\\\n",
       "\\hline\n",
       "\t 여름     & 78.95425\\\\\n",
       "\t 가을     & 78.86784\\\\\n",
       "\t 겨울     & 77.25190\\\\\n",
       "\t 봄       & 76.27927\\\\\n",
       "\\end{tabular}\n"
      ],
      "text/markdown": [
       "\n",
       "| 계절 | 부상자수 |\n",
       "|---|---|\n",
       "| 여름     | 78.95425 |\n",
       "| 가을     | 78.86784 |\n",
       "| 겨울     | 77.25190 |\n",
       "| 봄       | 76.27927 |\n",
       "\n"
      ],
      "text/plain": [
       "  계절 부상자수\n",
       "1 여름 78.95425\n",
       "2 가을 78.86784\n",
       "3 겨울 77.25190\n",
       "4 봄   76.27927"
      ]
     },
     "metadata": {},
     "output_type": "display_data"
    },
    {
     "data": {
      "text/html": [
       "<table>\n",
       "<thead><tr><th scope=col>계절</th><th scope=col>변동계수</th></tr></thead>\n",
       "<tbody>\n",
       "\t<tr><td>겨울     </td><td>0.4455279</td></tr>\n",
       "\t<tr><td>여름     </td><td>0.4128543</td></tr>\n",
       "\t<tr><td>봄       </td><td>0.4030790</td></tr>\n",
       "\t<tr><td>가을     </td><td>0.4025756</td></tr>\n",
       "</tbody>\n",
       "</table>\n"
      ],
      "text/latex": [
       "\\begin{tabular}{r|ll}\n",
       " 계절 & 변동계수\\\\\n",
       "\\hline\n",
       "\t 겨울      & 0.4455279\\\\\n",
       "\t 여름      & 0.4128543\\\\\n",
       "\t 봄        & 0.4030790\\\\\n",
       "\t 가을      & 0.4025756\\\\\n",
       "\\end{tabular}\n"
      ],
      "text/markdown": [
       "\n",
       "| 계절 | 변동계수 |\n",
       "|---|---|\n",
       "| 겨울      | 0.4455279 |\n",
       "| 여름      | 0.4128543 |\n",
       "| 봄        | 0.4030790 |\n",
       "| 가을      | 0.4025756 |\n",
       "\n"
      ],
      "text/plain": [
       "  계절 변동계수 \n",
       "1 겨울 0.4455279\n",
       "2 여름 0.4128543\n",
       "3 봄   0.4030790\n",
       "4 가을 0.4025756"
      ]
     },
     "metadata": {},
     "output_type": "display_data"
    }
   ],
   "source": [
    "# 계절 별 부상자수 \n",
    "library(dplyr)\n",
    "options(warn = -1)\n",
    "injuremean<-aggregate(부상자수~계절,seoulseason,mean)\n",
    "injuresd<-aggregate(부상자수~계절,seoulseason,sd)\n",
    "injurecv <- data.frame(계절=injuremean$계절,변동계수=injuresd$부상자수/injuremean$부상자수)\n",
    "injuremean<-arrange(injuremean,c('봄','여름','가을','겨울'))\n",
    "injuremean\n",
    "arrange(injuresd,desc(부상자수))\n",
    "arrange(injurecv,desc(변동계수))"
   ]
  },
  {
   "cell_type": "code",
   "execution_count": 115,
   "id": "c5b54e9e",
   "metadata": {},
   "outputs": [
    {
     "data": {
      "image/png": "[encoded data removed]",
      "text/plain": [
       "Plot with title “계절별 평균 부상자수”"
      ]
     },
     "metadata": {},
     "output_type": "display_data"
    }
   ],
   "source": [
    "par(family = \"AppleGothic\")\n",
    "barplot(injuremean$부상자수,\n",
    "        main=\"계절별 평균 부상자수\",\n",
    "        xlab=\"계절\",\n",
    "        ylab=\"평균 부상자수\",\n",
    "        names=ssmean$계절,\n",
    "        cex.names=1,\n",
    "         col=c('blue','blue','red','blue'),\n",
    "        ylim=c(0,200),\n",
    "   \n",
    "       )"
   ]
  },
  {
   "cell_type": "code",
   "execution_count": 113,
   "id": "45cd529e",
   "metadata": {},
   "outputs": [
    {
     "data": {
      "text/html": [
       "<table>\n",
       "<thead><tr><th scope=col>계절</th><th scope=col>사망자수</th></tr></thead>\n",
       "<tbody>\n",
       "\t<tr><td>가을    </td><td>1.214029</td></tr>\n",
       "\t<tr><td>봄      </td><td>1.190596</td></tr>\n",
       "\t<tr><td>여름    </td><td>1.167513</td></tr>\n",
       "\t<tr><td>겨울    </td><td>1.126103</td></tr>\n",
       "</tbody>\n",
       "</table>\n"
      ],
      "text/latex": [
       "\\begin{tabular}{r|ll}\n",
       " 계절 & 사망자수\\\\\n",
       "\\hline\n",
       "\t 가을     & 1.214029\\\\\n",
       "\t 봄       & 1.190596\\\\\n",
       "\t 여름     & 1.167513\\\\\n",
       "\t 겨울     & 1.126103\\\\\n",
       "\\end{tabular}\n"
      ],
      "text/markdown": [
       "\n",
       "| 계절 | 사망자수 |\n",
       "|---|---|\n",
       "| 가을     | 1.214029 |\n",
       "| 봄       | 1.190596 |\n",
       "| 여름     | 1.167513 |\n",
       "| 겨울     | 1.126103 |\n",
       "\n"
      ],
      "text/plain": [
       "  계절 사망자수\n",
       "1 가을 1.214029\n",
       "2 봄   1.190596\n",
       "3 여름 1.167513\n",
       "4 겨울 1.126103"
      ]
     },
     "metadata": {},
     "output_type": "display_data"
    },
    {
     "data": {
      "text/html": [
       "<table>\n",
       "<thead><tr><th scope=col>계절</th><th scope=col>변동계수</th></tr></thead>\n",
       "<tbody>\n",
       "\t<tr><td>봄       </td><td>1.0172812</td></tr>\n",
       "\t<tr><td>여름     </td><td>1.0064765</td></tr>\n",
       "\t<tr><td>가을     </td><td>0.9451786</td></tr>\n",
       "\t<tr><td>겨울     </td><td>0.9292417</td></tr>\n",
       "</tbody>\n",
       "</table>\n"
      ],
      "text/latex": [
       "\\begin{tabular}{r|ll}\n",
       " 계절 & 변동계수\\\\\n",
       "\\hline\n",
       "\t 봄        & 1.0172812\\\\\n",
       "\t 여름      & 1.0064765\\\\\n",
       "\t 가을      & 0.9451786\\\\\n",
       "\t 겨울      & 0.9292417\\\\\n",
       "\\end{tabular}\n"
      ],
      "text/markdown": [
       "\n",
       "| 계절 | 변동계수 |\n",
       "|---|---|\n",
       "| 봄        | 1.0172812 |\n",
       "| 여름      | 1.0064765 |\n",
       "| 가을      | 0.9451786 |\n",
       "| 겨울      | 0.9292417 |\n",
       "\n"
      ],
      "text/plain": [
       "  계절 변동계수 \n",
       "1 봄   1.0172812\n",
       "2 여름 1.0064765\n",
       "3 가을 0.9451786\n",
       "4 겨울 0.9292417"
      ]
     },
     "metadata": {},
     "output_type": "display_data"
    }
   ],
   "source": [
    "# 계절 별 사망자수\n",
    "library(dplyr)\n",
    "options(warn = -1)\n",
    "deathmean<-aggregate(사망자수~계절,seoulseason,mean)\n",
    "deathsd<-aggregate(사망자수~계절,seoulseason,sd)\n",
    "deathcv <- data.frame(계절=deathmean$계절,변동계수=deathsd$사망자수/deathmean$사망자수)\n",
    "\n",
    "deathmean<- arrange(deathmean,c('봄','여름','가을','겨울'))\n",
    "arrange(deathsd,desc(사망자수))\n",
    "arrange(deathcv,desc(변동계수))"
   ]
  },
  {
   "cell_type": "code",
   "execution_count": 116,
   "id": "1b7a903b",
   "metadata": {},
   "outputs": [
    {
     "data": {
      "image/png": "[encoded data removed]",
      "text/plain": [
       "Plot with title “계절별 평균 사망자수”"
      ]
     },
     "metadata": {},
     "output_type": "display_data"
    }
   ],
   "source": [
    "par(family = \"AppleGothic\")\n",
    "barplot(deathmean$사망자수,\n",
    "        main=\"계절별 평균 사망자수\",\n",
    "        xlab=\"계절\",\n",
    "        ylab=\"평균 사망자수\",\n",
    "        names=deathmean$계절,\n",
    "        cex.names=1,\n",
    "         col=c('blue','blue','red','blue'),\n",
    "        ylim=c(0,1.5),\n",
    "   \n",
    "       )"
   ]
  },
  {
   "cell_type": "code",
   "execution_count": 130,
   "id": "e905073b",
   "metadata": {},
   "outputs": [
    {
     "data": {
      "text/html": [
       "<table>\n",
       "<thead><tr><th scope=col>계절</th><th scope=col>발생건수</th></tr></thead>\n",
       "<tbody>\n",
       "\t<tr><td>봄   </td><td>91379</td></tr>\n",
       "\t<tr><td>여름 </td><td>92112</td></tr>\n",
       "\t<tr><td>가을 </td><td>94898</td></tr>\n",
       "\t<tr><td>겨울 </td><td>81504</td></tr>\n",
       "</tbody>\n",
       "</table>\n"
      ],
      "text/latex": [
       "\\begin{tabular}{r|ll}\n",
       " 계절 & 발생건수\\\\\n",
       "\\hline\n",
       "\t 봄    & 91379\\\\\n",
       "\t 여름  & 92112\\\\\n",
       "\t 가을  & 94898\\\\\n",
       "\t 겨울  & 81504\\\\\n",
       "\\end{tabular}\n"
      ],
      "text/markdown": [
       "\n",
       "| 계절 | 발생건수 |\n",
       "|---|---|\n",
       "| 봄    | 91379 |\n",
       "| 여름  | 92112 |\n",
       "| 가을  | 94898 |\n",
       "| 겨울  | 81504 |\n",
       "\n"
      ],
      "text/plain": [
       "  계절 발생건수\n",
       "1 봄   91379   \n",
       "2 여름 92112   \n",
       "3 가을 94898   \n",
       "4 겨울 81504   "
      ]
     },
     "metadata": {},
     "output_type": "display_data"
    },
    {
     "data": {
      "text/html": [
       "<table>\n",
       "<thead><tr><th scope=col>계절</th><th scope=col>사망자수</th></tr></thead>\n",
       "<tbody>\n",
       "\t<tr><td>봄  </td><td>790 </td></tr>\n",
       "\t<tr><td>여름</td><td>783 </td></tr>\n",
       "\t<tr><td>가을</td><td>867 </td></tr>\n",
       "\t<tr><td>겨울</td><td>818 </td></tr>\n",
       "</tbody>\n",
       "</table>\n"
      ],
      "text/latex": [
       "\\begin{tabular}{r|ll}\n",
       " 계절 & 사망자수\\\\\n",
       "\\hline\n",
       "\t 봄   & 790 \\\\\n",
       "\t 여름 & 783 \\\\\n",
       "\t 가을 & 867 \\\\\n",
       "\t 겨울 & 818 \\\\\n",
       "\\end{tabular}\n"
      ],
      "text/markdown": [
       "\n",
       "| 계절 | 사망자수 |\n",
       "|---|---|\n",
       "| 봄   | 790  |\n",
       "| 여름 | 783  |\n",
       "| 가을 | 867  |\n",
       "| 겨울 | 818  |\n",
       "\n"
      ],
      "text/plain": [
       "  계절 사망자수\n",
       "1 봄   790     \n",
       "2 여름 783     \n",
       "3 가을 867     \n",
       "4 겨울 818     "
      ]
     },
     "metadata": {},
     "output_type": "display_data"
    },
    {
     "data": {
      "text/html": [
       "<table>\n",
       "<thead><tr><th scope=col>계절</th><th scope=col>사망률</th></tr></thead>\n",
       "<tbody>\n",
       "\t<tr><td>가을     </td><td>0.9136125</td></tr>\n",
       "\t<tr><td>겨울     </td><td>1.0036317</td></tr>\n",
       "\t<tr><td>봄       </td><td>0.8645312</td></tr>\n",
       "\t<tr><td>여름     </td><td>0.8500521</td></tr>\n",
       "</tbody>\n",
       "</table>\n"
      ],
      "text/latex": [
       "\\begin{tabular}{r|ll}\n",
       " 계절 & 사망률\\\\\n",
       "\\hline\n",
       "\t 가을      & 0.9136125\\\\\n",
       "\t 겨울      & 1.0036317\\\\\n",
       "\t 봄        & 0.8645312\\\\\n",
       "\t 여름      & 0.8500521\\\\\n",
       "\\end{tabular}\n"
      ],
      "text/markdown": [
       "\n",
       "| 계절 | 사망률 |\n",
       "|---|---|\n",
       "| 가을      | 0.9136125 |\n",
       "| 겨울      | 1.0036317 |\n",
       "| 봄        | 0.8645312 |\n",
       "| 여름      | 0.8500521 |\n",
       "\n"
      ],
      "text/plain": [
       "  계절 사망률   \n",
       "1 가을 0.9136125\n",
       "2 겨울 1.0036317\n",
       "3 봄   0.8645312\n",
       "4 여름 0.8500521"
      ]
     },
     "metadata": {},
     "output_type": "display_data"
    },
    {
     "data": {
      "text/html": [
       "<table>\n",
       "<thead><tr><th scope=col>계절</th><th scope=col>발생건수</th><th scope=col>사망률</th></tr></thead>\n",
       "<tbody>\n",
       "\t<tr><td>봄       </td><td>91379    </td><td>0.8645312</td></tr>\n",
       "\t<tr><td>여름     </td><td>92112    </td><td>0.8500521</td></tr>\n",
       "\t<tr><td>가을     </td><td>94898    </td><td>0.9136125</td></tr>\n",
       "\t<tr><td>겨울     </td><td>81504    </td><td>1.0036317</td></tr>\n",
       "</tbody>\n",
       "</table>\n"
      ],
      "text/latex": [
       "\\begin{tabular}{r|lll}\n",
       " 계절 & 발생건수 & 사망률\\\\\n",
       "\\hline\n",
       "\t 봄        & 91379     & 0.8645312\\\\\n",
       "\t 여름      & 92112     & 0.8500521\\\\\n",
       "\t 가을      & 94898     & 0.9136125\\\\\n",
       "\t 겨울      & 81504     & 1.0036317\\\\\n",
       "\\end{tabular}\n"
      ],
      "text/markdown": [
       "\n",
       "| 계절 | 발생건수 | 사망률 |\n",
       "|---|---|---|\n",
       "| 봄        | 91379     | 0.8645312 |\n",
       "| 여름      | 92112     | 0.8500521 |\n",
       "| 가을      | 94898     | 0.9136125 |\n",
       "| 겨울      | 81504     | 1.0036317 |\n",
       "\n"
      ],
      "text/plain": [
       "  계절 발생건수 사망률   \n",
       "1 봄   91379    0.8645312\n",
       "2 여름 92112    0.8500521\n",
       "3 가을 94898    0.9136125\n",
       "4 겨울 81504    1.0036317"
      ]
     },
     "metadata": {},
     "output_type": "display_data"
    }
   ],
   "source": [
    "# 계절 별 발생건수 합계\n",
    "\n",
    "seasonsum <- arrange(aggregate(발생건수~계절,seoulseason,sum),c('봄','여름','가을','겨울'))\n",
    "\n",
    "seasondeath <- arrange(aggregate(사망자수~계절,seoulseason,sum),c('봄','여름','가을','겨울'))\n",
    "seasonsum\n",
    "seasondeath \n",
    "deathpercent <-data.frame(계절=seasondeath$계절, 사망률=seasondeath$사망자수/seasonsum$발생건수*100)\n",
    "deathpercent <-arrange(deathpercent,c('봄','여름','가을','겨울'))\n",
    "deathpercent \n",
    "\n",
    "seasontable <-merge(seasonsum,deathpercent)\n",
    "seasontable <-arrange(seasontable,c('봄','여름','가을','겨울'))\n",
    "seasontable"
   ]
  },
  {
   "cell_type": "code",
   "execution_count": 137,
   "id": "2835ecab",
   "metadata": {},
   "outputs": [
    {
     "data": {
      "image/png": "[encoded data removed]",
      "text/plain": [
       "Plot with title “계절별 발생건수와 사망률”"
      ]
     },
     "metadata": {},
     "output_type": "display_data"
    }
   ],
   "source": [
    "my_col=rainbow(2,s=0.2)\n",
    "par(family = \"AppleGothic\")\n",
    "barplot(cbind(발생건수,사망률)~계절,seasontable,beside=T,\n",
    "        main=\"계절별 발생건수와 사망률\",\n",
    "        xlab=\"계절\",\n",
    "        ylab=\"발생건수와 사망률\",\n",
    "        names=deathmean$계절,\n",
    "        cex.names=1,\n",
    "         col = my_col,\n",
    "        ylim=c(0,100000),)"
   ]
  },
  {
   "cell_type": "code",
   "execution_count": null,
   "id": "131933bb",
   "metadata": {},
   "outputs": [],
   "source": []
  }
 ],
 "metadata": {
  "kernelspec": {
   "display_name": "R",
   "language": "R",
   "name": "ir"
  },
  "language_info": {
   "codemirror_mode": "r",
   "file_extension": ".r",
   "mimetype": "text/x-r-source",
   "name": "R",
   "pygments_lexer": "r",
   "version": "3.6.1"
  }
 },
 "nbformat": 4,
 "nbformat_minor": 5
}
