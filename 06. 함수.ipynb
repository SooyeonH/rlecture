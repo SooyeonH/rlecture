{
 "cells": [
  {
   "cell_type": "markdown",
   "id": "93969399",
   "metadata": {},
   "source": [
    "# 기술 통계량을 계산하는 함수 정의"
   ]
  },
  {
   "cell_type": "code",
   "execution_count": 4,
   "id": "4e6bccd1",
   "metadata": {},
   "outputs": [
    {
     "data": {
      "text/html": [
       "<table>\n",
       "<thead><tr><th scope=col>A</th><th scope=col>B</th><th scope=col>C</th><th scope=col>D</th><th scope=col>E</th></tr></thead>\n",
       "<tbody>\n",
       "\t<tr><td>2</td><td>4</td><td>4</td><td>2</td><td>2</td></tr>\n",
       "\t<tr><td>1</td><td>2</td><td>2</td><td>2</td><td>2</td></tr>\n",
       "\t<tr><td>2</td><td>3</td><td>4</td><td>3</td><td>3</td></tr>\n",
       "\t<tr><td>3</td><td>5</td><td>5</td><td>3</td><td>3</td></tr>\n",
       "\t<tr><td>3</td><td>2</td><td>4</td><td>4</td><td>4</td></tr>\n",
       "\t<tr><td>4</td><td>3</td><td>3</td><td>4</td><td>2</td></tr>\n",
       "</tbody>\n",
       "</table>\n"
      ],
      "text/latex": [
       "\\begin{tabular}{r|lllll}\n",
       " A & B & C & D & E\\\\\n",
       "\\hline\n",
       "\t 2 & 4 & 4 & 2 & 2\\\\\n",
       "\t 1 & 2 & 2 & 2 & 2\\\\\n",
       "\t 2 & 3 & 4 & 3 & 3\\\\\n",
       "\t 3 & 5 & 5 & 3 & 3\\\\\n",
       "\t 3 & 2 & 4 & 4 & 4\\\\\n",
       "\t 4 & 3 & 3 & 4 & 2\\\\\n",
       "\\end{tabular}\n"
      ],
      "text/markdown": [
       "\n",
       "| A | B | C | D | E |\n",
       "|---|---|---|---|---|\n",
       "| 2 | 4 | 4 | 2 | 2 |\n",
       "| 1 | 2 | 2 | 2 | 2 |\n",
       "| 2 | 3 | 4 | 3 | 3 |\n",
       "| 3 | 5 | 5 | 3 | 3 |\n",
       "| 3 | 2 | 4 | 4 | 4 |\n",
       "| 4 | 3 | 3 | 4 | 2 |\n",
       "\n"
      ],
      "text/plain": [
       "  A B C D E\n",
       "1 2 4 4 2 2\n",
       "2 1 2 2 2 2\n",
       "3 2 3 4 3 3\n",
       "4 3 5 5 3 3\n",
       "5 3 2 4 4 4\n",
       "6 4 3 3 4 2"
      ]
     },
     "metadata": {},
     "output_type": "display_data"
    }
   ],
   "source": [
    "test <-read.csv(\"../Data/test.csv\")\n",
    "head(test)"
   ]
  },
  {
   "cell_type": "code",
   "execution_count": 5,
   "id": "1bf10bbb",
   "metadata": {},
   "outputs": [
    {
     "data": {
      "text/html": [
       "<table>\n",
       "<thead><tr><th></th><th scope=col>A</th><th scope=col>B</th><th scope=col>C</th><th scope=col>D</th><th scope=col>E</th></tr></thead>\n",
       "<tbody>\n",
       "\t<tr><th scope=row>397</th><td>2</td><td>3</td><td>5</td><td>2</td><td>4</td></tr>\n",
       "\t<tr><th scope=row>398</th><td>4</td><td>3</td><td>3</td><td>2</td><td>4</td></tr>\n",
       "\t<tr><th scope=row>399</th><td>2</td><td>4</td><td>4</td><td>2</td><td>3</td></tr>\n",
       "\t<tr><th scope=row>400</th><td>2</td><td>2</td><td>5</td><td>2</td><td>4</td></tr>\n",
       "\t<tr><th scope=row>401</th><td>2</td><td>3</td><td>4</td><td>2</td><td>4</td></tr>\n",
       "\t<tr><th scope=row>402</th><td>2</td><td>2</td><td>4</td><td>2</td><td>4</td></tr>\n",
       "</tbody>\n",
       "</table>\n"
      ],
      "text/latex": [
       "\\begin{tabular}{r|lllll}\n",
       "  & A & B & C & D & E\\\\\n",
       "\\hline\n",
       "\t397 & 2 & 3 & 5 & 2 & 4\\\\\n",
       "\t398 & 4 & 3 & 3 & 2 & 4\\\\\n",
       "\t399 & 2 & 4 & 4 & 2 & 3\\\\\n",
       "\t400 & 2 & 2 & 5 & 2 & 4\\\\\n",
       "\t401 & 2 & 3 & 4 & 2 & 4\\\\\n",
       "\t402 & 2 & 2 & 4 & 2 & 4\\\\\n",
       "\\end{tabular}\n"
      ],
      "text/markdown": [
       "\n",
       "| <!--/--> | A | B | C | D | E |\n",
       "|---|---|---|---|---|---|\n",
       "| 397 | 2 | 3 | 5 | 2 | 4 |\n",
       "| 398 | 4 | 3 | 3 | 2 | 4 |\n",
       "| 399 | 2 | 4 | 4 | 2 | 3 |\n",
       "| 400 | 2 | 2 | 5 | 2 | 4 |\n",
       "| 401 | 2 | 3 | 4 | 2 | 4 |\n",
       "| 402 | 2 | 2 | 4 | 2 | 4 |\n",
       "\n"
      ],
      "text/plain": [
       "    A B C D E\n",
       "397 2 3 5 2 4\n",
       "398 4 3 3 2 4\n",
       "399 2 4 4 2 3\n",
       "400 2 2 5 2 4\n",
       "401 2 3 4 2 4\n",
       "402 2 2 4 2 4"
      ]
     },
     "metadata": {},
     "output_type": "display_data"
    }
   ],
   "source": [
    "tail(test)"
   ]
  },
  {
   "cell_type": "code",
   "execution_count": 6,
   "id": "0403970a",
   "metadata": {},
   "outputs": [
    {
     "name": "stdout",
     "output_type": "stream",
     "text": [
      "'data.frame':\t402 obs. of  5 variables:\n",
      " $ A: int  2 1 2 3 3 4 3 4 4 4 ...\n",
      " $ B: int  4 2 3 5 2 3 4 2 4 2 ...\n",
      " $ C: int  4 2 4 5 4 3 4 4 5 4 ...\n",
      " $ D: int  2 2 3 3 4 4 2 4 3 2 ...\n",
      " $ E: int  2 2 3 3 4 2 2 4 4 3 ...\n"
     ]
    }
   ],
   "source": [
    "str(test)"
   ]
  },
  {
   "cell_type": "code",
   "execution_count": 7,
   "id": "222fb24b",
   "metadata": {},
   "outputs": [
    {
     "data": {
      "text/plain": [
       "       A               B               C               D              E        \n",
       " Min.   :1.000   Min.   :1.000   Min.   :1.000   Min.   :1.00   Min.   :1.000  \n",
       " 1st Qu.:2.000   1st Qu.:2.000   1st Qu.:3.000   1st Qu.:2.00   1st Qu.:3.000  \n",
       " Median :3.000   Median :3.000   Median :4.000   Median :2.00   Median :4.000  \n",
       " Mean   :2.734   Mean   :2.908   Mean   :3.622   Mean   :2.51   Mean   :3.386  \n",
       " 3rd Qu.:3.000   3rd Qu.:4.000   3rd Qu.:4.000   3rd Qu.:3.00   3rd Qu.:4.000  \n",
       " Max.   :5.000   Max.   :5.000   Max.   :5.000   Max.   :4.00   Max.   :5.000  "
      ]
     },
     "metadata": {},
     "output_type": "display_data"
    }
   ],
   "source": [
    "summary(test)"
   ]
  },
  {
   "cell_type": "code",
   "execution_count": 10,
   "id": "b0b156f9",
   "metadata": {},
   "outputs": [
    {
     "data": {
      "text/html": [
       "5"
      ],
      "text/latex": [
       "5"
      ],
      "text/markdown": [
       "5"
      ],
      "text/plain": [
       "[1] 5"
      ]
     },
     "metadata": {},
     "output_type": "display_data"
    },
    {
     "data": {
      "text/html": [
       "1"
      ],
      "text/latex": [
       "1"
      ],
      "text/markdown": [
       "1"
      ],
      "text/plain": [
       "[1] 1"
      ]
     },
     "metadata": {},
     "output_type": "display_data"
    },
    {
     "data": {
      "text/plain": [
       "\n",
       "  1   2   3   4   5 \n",
       " 30 133 156  80   3 "
      ]
     },
     "metadata": {},
     "output_type": "display_data"
    }
   ],
   "source": [
    "# A 컬럼의 최대값, 최소값, 빈도수 구하기\n",
    "\n",
    "max(test$A)\n",
    "min(test$A)\n",
    "table(test$A)"
   ]
  },
  {
   "cell_type": "code",
   "execution_count": 55,
   "id": "0550fbdb",
   "metadata": {},
   "outputs": [
    {
     "name": "stdout",
     "output_type": "stream",
     "text": [
      "A 번째 컬럼의 빈도 분석 결과\n",
      "  1   2   3   4   5 \n",
      " 30 133 156  80   3 \n",
      "-----------------------\n",
      "B 번째 컬럼의 빈도 분석 결과\n",
      "  1   2   3   4   5 \n",
      " 16 150  98 131   7 \n",
      "-----------------------\n",
      "C 번째 컬럼의 빈도 분석 결과\n",
      "  1   2   3   4   5 \n",
      "  3  74  72 176  77 \n",
      "-----------------------\n",
      "D 번째 컬럼의 빈도 분석 결과\n",
      "  1   2   3   4 \n",
      " 30 178 153  41 \n",
      "-----------------------\n",
      "E 번째 컬럼의 빈도 분석 결과\n",
      "  1   2   3   4   5 \n",
      "  8  81 107 160  46 \n",
      "-----------------------\n"
     ]
    }
   ],
   "source": [
    "# 각 컬럼의 빈도수 구하기\n",
    "\n",
    "for(i in 1:ncol(test)){\n",
    "    \n",
    " cat(colnames(test)[i],\"번째 컬럼의 빈도 분석 결과\")\n",
    "    print(table(test[,i]))\n",
    "    \n",
    "cat(\"-----------------------\\n\")\n",
    "    }"
   ]
  },
  {
   "cell_type": "code",
   "execution_count": 64,
   "id": "a82865d3",
   "metadata": {},
   "outputs": [
    {
     "name": "stdout",
     "output_type": "stream",
     "text": [
      "1 번째 컬럼의 빈도수의 최댓값과 최소값 \n",
      "최대값 : 156 , 최소값 : 3 \n",
      "-----------------------------\n",
      "2 번째 컬럼의 빈도수의 최댓값과 최소값 \n",
      "최대값 : 150 , 최소값 : 7 \n",
      "-----------------------------\n",
      "3 번째 컬럼의 빈도수의 최댓값과 최소값 \n",
      "최대값 : 176 , 최소값 : 3 \n",
      "-----------------------------\n",
      "4 번째 컬럼의 빈도수의 최댓값과 최소값 \n",
      "최대값 : 178 , 최소값 : 30 \n",
      "-----------------------------\n",
      "5 번째 컬럼의 빈도수의 최댓값과 최소값 \n",
      "최대값 : 160 , 최소값 : 8 \n",
      "-----------------------------\n"
     ]
    }
   ],
   "source": [
    "#각 컬럼 빈도수의 최댓값 최솟값 구하기\n",
    "\n",
    "for(i in 1:ncol(test)){\n",
    "    \n",
    "    cat(i,\"번째 컬럼의 빈도수의 최댓값과 최소값\",\"\\n\")\n",
    "    a <- table(test[,i])\n",
    "    cat(\"최대값 :\",max(a),\", 최소값 :\",min(a),\"\\n-----------------------------\\n\")\n",
    "    \n",
    "}"
   ]
  },
  {
   "cell_type": "code",
   "execution_count": 83,
   "id": "ef5d18ce",
   "metadata": {},
   "outputs": [],
   "source": [
    "# 각 컬럼의 빈도수 구하기와 각 컬럼의 빈도수의 최대값 최소값 구하는 함수 만들기\n",
    "\n",
    "tableMaxMin <-function(x){\n",
    "    for(i in 1:ncol(x)){\n",
    "    \n",
    "    cat(colnames(x)[i],\"번째 컬럼의 빈도 분석 결과\")\n",
    "    print(table(x[,i]))\n",
    "    \n",
    "        \n",
    "    cat(\"-----------------------\\n\") \n",
    "    cat(colnames(x)[i],\"번째 컬럼의 빈도수의 최댓값과 최소값\",\"\\n\")\n",
    "    a <- table(x[,i])\n",
    "    cat(\"최대값 :\",max(a),\", 최소값 :\",min(a),\"\\n\")\n",
    "    cat(\"============================\\n\")\n",
    "}\n",
    "}"
   ]
  },
  {
   "cell_type": "code",
   "execution_count": 84,
   "id": "8b8e65b2",
   "metadata": {},
   "outputs": [
    {
     "name": "stdout",
     "output_type": "stream",
     "text": [
      "A 번째 컬럼의 빈도 분석 결과\n",
      "  1   2   3   4   5 \n",
      " 30 133 156  80   3 \n",
      "-----------------------\n",
      "A 번째 컬럼의 빈도수의 최댓값과 최소값 \n",
      "최대값 : 156 , 최소값 : 3 \n",
      "============================\n",
      "B 번째 컬럼의 빈도 분석 결과\n",
      "  1   2   3   4   5 \n",
      " 16 150  98 131   7 \n",
      "-----------------------\n",
      "B 번째 컬럼의 빈도수의 최댓값과 최소값 \n",
      "최대값 : 150 , 최소값 : 7 \n",
      "============================\n",
      "C 번째 컬럼의 빈도 분석 결과\n",
      "  1   2   3   4   5 \n",
      "  3  74  72 176  77 \n",
      "-----------------------\n",
      "C 번째 컬럼의 빈도수의 최댓값과 최소값 \n",
      "최대값 : 176 , 최소값 : 3 \n",
      "============================\n",
      "D 번째 컬럼의 빈도 분석 결과\n",
      "  1   2   3   4 \n",
      " 30 178 153  41 \n",
      "-----------------------\n",
      "D 번째 컬럼의 빈도수의 최댓값과 최소값 \n",
      "최대값 : 178 , 최소값 : 30 \n",
      "============================\n",
      "E 번째 컬럼의 빈도 분석 결과\n",
      "  1   2   3   4   5 \n",
      "  8  81 107 160  46 \n",
      "-----------------------\n",
      "E 번째 컬럼의 빈도수의 최댓값과 최소값 \n",
      "최대값 : 160 , 최소값 : 8 \n",
      "============================\n"
     ]
    }
   ],
   "source": [
    "tableMaxMin(test)"
   ]
  },
  {
   "cell_type": "markdown",
   "id": "f28ac93b",
   "metadata": {
    "scrolled": true
   },
   "source": [
    "---\n",
    "# 결측치 (missing value) 자료 평균 계산\n",
    "\n"
   ]
  },
  {
   "cell_type": "code",
   "execution_count": 26,
   "id": "0ed729ef",
   "metadata": {},
   "outputs": [
    {
     "data": {
      "text/html": [
       "<ol class=list-inline>\n",
       "\t<li>10</li>\n",
       "\t<li>20</li>\n",
       "\t<li>5</li>\n",
       "\t<li>4</li>\n",
       "\t<li>40</li>\n",
       "\t<li>7</li>\n",
       "\t<li>&lt;NA&gt;</li>\n",
       "\t<li>6</li>\n",
       "\t<li>3</li>\n",
       "\t<li>&lt;NA&gt;</li>\n",
       "\t<li>2</li>\n",
       "\t<li>&lt;NA&gt;</li>\n",
       "</ol>\n"
      ],
      "text/latex": [
       "\\begin{enumerate*}\n",
       "\\item 10\n",
       "\\item 20\n",
       "\\item 5\n",
       "\\item 4\n",
       "\\item 40\n",
       "\\item 7\n",
       "\\item <NA>\n",
       "\\item 6\n",
       "\\item 3\n",
       "\\item <NA>\n",
       "\\item 2\n",
       "\\item <NA>\n",
       "\\end{enumerate*}\n"
      ],
      "text/markdown": [
       "1. 10\n",
       "2. 20\n",
       "3. 5\n",
       "4. 4\n",
       "5. 40\n",
       "6. 7\n",
       "7. &lt;NA&gt;\n",
       "8. 6\n",
       "9. 3\n",
       "10. &lt;NA&gt;\n",
       "11. 2\n",
       "12. &lt;NA&gt;\n",
       "\n",
       "\n"
      ],
      "text/plain": [
       " [1] 10 20  5  4 40  7 NA  6  3 NA  2 NA"
      ]
     },
     "metadata": {},
     "output_type": "display_data"
    }
   ],
   "source": [
    "data <- c(10,20,5,4,40,7,NA,6,3,NA,2,NA)\n",
    "data"
   ]
  },
  {
   "cell_type": "code",
   "execution_count": 27,
   "id": "84d7adda",
   "metadata": {},
   "outputs": [
    {
     "data": {
      "text/html": [
       "&lt;NA&gt;"
      ],
      "text/latex": [
       "<NA>"
      ],
      "text/markdown": [
       "&lt;NA&gt;"
      ],
      "text/plain": [
       "[1] NA"
      ]
     },
     "metadata": {},
     "output_type": "display_data"
    }
   ],
   "source": [
    "mean(data)"
   ]
  },
  {
   "cell_type": "code",
   "execution_count": 28,
   "id": "9bb4d38e",
   "metadata": {},
   "outputs": [
    {
     "data": {
      "text/html": [
       "3"
      ],
      "text/latex": [
       "3"
      ],
      "text/markdown": [
       "3"
      ],
      "text/plain": [
       "[1] 3"
      ]
     },
     "metadata": {},
     "output_type": "display_data"
    },
    {
     "data": {
      "text/plain": [
       "\n",
       "FALSE  TRUE \n",
       "    9     3 "
      ]
     },
     "metadata": {},
     "output_type": "display_data"
    }
   ],
   "source": [
    "# NA 갯수 구하기\n",
    "\n",
    "sum(is.na(data))\n",
    "table(is.na(data))"
   ]
  },
  {
   "cell_type": "code",
   "execution_count": 29,
   "id": "bad1d77b",
   "metadata": {},
   "outputs": [
    {
     "data": {
      "text/html": [
       "10.7777777777778"
      ],
      "text/latex": [
       "10.7777777777778"
      ],
      "text/markdown": [
       "10.7777777777778"
      ],
      "text/plain": [
       "[1] 10.77778"
      ]
     },
     "metadata": {},
     "output_type": "display_data"
    }
   ],
   "source": [
    "# NA를 제외하고 평균 구하기 (na remove)\n",
    "# 결측치를 무조건 제거하면 통계량을 얻을 수 없으며, 데이터의 손실로 문제 발생\n",
    "\n",
    "mean(data,na.rm = T)"
   ]
  },
  {
   "cell_type": "code",
   "execution_count": 33,
   "id": "da0ece32",
   "metadata": {},
   "outputs": [
    {
     "data": {
      "text/html": [
       "8.08333333333333"
      ],
      "text/latex": [
       "8.08333333333333"
      ],
      "text/markdown": [
       "8.08333333333333"
      ],
      "text/plain": [
       "[1] 8.083333"
      ]
     },
     "metadata": {},
     "output_type": "display_data"
    }
   ],
   "source": [
    "# 1) NA를 0으로 대체해서 평균구하기\n",
    "\n",
    "mean(ifelse(is.na(data),0,data))\n"
   ]
  },
  {
   "cell_type": "code",
   "execution_count": 36,
   "id": "8b39e592",
   "metadata": {},
   "outputs": [
    {
     "data": {
      "text/html": [
       "10.7777777777778"
      ],
      "text/latex": [
       "10.7777777777778"
      ],
      "text/markdown": [
       "10.7777777777778"
      ],
      "text/plain": [
       "[1] 10.77778"
      ]
     },
     "metadata": {},
     "output_type": "display_data"
    }
   ],
   "source": [
    "# 2) NA를 평균으로 대체해서 평균값 구하기\n",
    "\n",
    "mean(ifelse(is.na(data),mean(data,na.rm=T),data))"
   ]
  },
  {
   "cell_type": "code",
   "execution_count": 39,
   "id": "e0df0dd8",
   "metadata": {},
   "outputs": [
    {
     "data": {
      "text/html": [
       "6"
      ],
      "text/latex": [
       "6"
      ],
      "text/markdown": [
       "6"
      ],
      "text/plain": [
       "[1] 6"
      ]
     },
     "metadata": {},
     "output_type": "display_data"
    },
    {
     "data": {
      "text/html": [
       "9.58333333333333"
      ],
      "text/latex": [
       "9.58333333333333"
      ],
      "text/markdown": [
       "9.58333333333333"
      ],
      "text/plain": [
       "[1] 9.583333"
      ]
     },
     "metadata": {},
     "output_type": "display_data"
    }
   ],
   "source": [
    "# 3) NA를 중앙값으로 대체해서 평균값 구하기\n",
    "median(data,na.rm=T)\n",
    "mean(ifelse(is.na(data),median(data,na.rm=T),data))"
   ]
  },
  {
   "cell_type": "code",
   "execution_count": 44,
   "id": "d05651ff",
   "metadata": {},
   "outputs": [
    {
     "data": {
      "text/html": [
       "18.0833333333333"
      ],
      "text/latex": [
       "18.0833333333333"
      ],
      "text/markdown": [
       "18.0833333333333"
      ],
      "text/plain": [
       "[1] 18.08333"
      ]
     },
     "metadata": {},
     "output_type": "display_data"
    }
   ],
   "source": [
    "# 4) NA를 최대값으로 대체해서 평균값 구하기\n",
    "\n",
    "mean(ifelse(is.na(data),max(data,na.rm=T),data))"
   ]
  },
  {
   "cell_type": "code",
   "execution_count": 43,
   "id": "1251d1e8",
   "metadata": {},
   "outputs": [
    {
     "data": {
      "text/html": [
       "8.58333333333333"
      ],
      "text/latex": [
       "8.58333333333333"
      ],
      "text/markdown": [
       "8.58333333333333"
      ],
      "text/plain": [
       "[1] 8.583333"
      ]
     },
     "metadata": {},
     "output_type": "display_data"
    }
   ],
   "source": [
    "# 5) NA를 최소값으로 대체해서 평균값 구하기\n",
    "mean(ifelse(is.na(data),min(data,na.rm=T),data))"
   ]
  },
  {
   "cell_type": "code",
   "execution_count": 63,
   "id": "ced1cca5",
   "metadata": {},
   "outputs": [
    {
     "data": {
      "text/html": [
       "4"
      ],
      "text/latex": [
       "4"
      ],
      "text/markdown": [
       "4"
      ],
      "text/plain": [
       "[1] 4"
      ]
     },
     "metadata": {},
     "output_type": "display_data"
    },
    {
     "data": {
      "text/html": [
       "4"
      ],
      "text/latex": [
       "4"
      ],
      "text/markdown": [
       "4"
      ],
      "text/plain": [
       "[1] 4"
      ]
     },
     "metadata": {},
     "output_type": "display_data"
    },
    {
     "data": {
      "text/html": [
       "4"
      ],
      "text/latex": [
       "4"
      ],
      "text/markdown": [
       "4"
      ],
      "text/plain": [
       "[1] 4"
      ]
     },
     "metadata": {},
     "output_type": "display_data"
    }
   ],
   "source": [
    "mean(c(2,4,6,NA),na.rm=T)\n",
    "mean(c(2,4,6))\n",
    "mean(c(2,4,6,4))"
   ]
  },
  {
   "cell_type": "markdown",
   "id": "df4ed404",
   "metadata": {},
   "source": [
    "> 결측치를 제외한 평균 :10.7777777777778\n",
    "> 0 으로 대체한 평균 :8.08333333333333\n",
    "> 평균으로 대체 :10.7777777777778\n",
    "> 중앙값으로 대체 :9.58333333333333\n",
    "> 최대값으로 대체 :18.0833333333333\n",
    "> 최소값으로 대체 :8.58333333333333"
   ]
  },
  {
   "cell_type": "code",
   "execution_count": null,
   "id": "c2653765",
   "metadata": {},
   "outputs": [],
   "source": []
  },
  {
   "cell_type": "code",
   "execution_count": null,
   "id": "fd754a35",
   "metadata": {},
   "outputs": [],
   "source": []
  },
  {
   "cell_type": "code",
   "execution_count": null,
   "id": "4238dff2",
   "metadata": {},
   "outputs": [],
   "source": []
  },
  {
   "cell_type": "code",
   "execution_count": null,
   "id": "2c57221d",
   "metadata": {},
   "outputs": [],
   "source": []
  },
  {
   "cell_type": "code",
   "execution_count": null,
   "id": "ac51e323",
   "metadata": {},
   "outputs": [],
   "source": []
  },
  {
   "cell_type": "code",
   "execution_count": null,
   "id": "53e0c421",
   "metadata": {},
   "outputs": [],
   "source": []
  }
 ],
 "metadata": {
  "kernelspec": {
   "display_name": "R",
   "language": "R",
   "name": "ir"
  },
  "language_info": {
   "codemirror_mode": "r",
   "file_extension": ".r",
   "mimetype": "text/x-r-source",
   "name": "R",
   "pygments_lexer": "r",
   "version": "3.6.1"
  }
 },
 "nbformat": 4,
 "nbformat_minor": 5
}
