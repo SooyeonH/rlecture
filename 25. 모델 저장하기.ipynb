{
 "cells": [
  {
   "cell_type": "code",
   "execution_count": 1,
   "id": "9d651e11",
   "metadata": {},
   "outputs": [
    {
     "name": "stderr",
     "output_type": "stream",
     "text": [
      "randomForest 4.6-14\n",
      "Type rfNews() to see new features/changes/bug fixes.\n"
     ]
    }
   ],
   "source": [
    "library(randomForest)"
   ]
  },
  {
   "cell_type": "code",
   "execution_count": 2,
   "id": "b32f97fe",
   "metadata": {},
   "outputs": [],
   "source": [
    "samp <- c(sample(1:50,35),sample(51:100,35),sample(101:150,35))\n",
    "iris.tr <- iris[samp,]\n",
    "iris.test <- iris[-samp,]"
   ]
  },
  {
   "cell_type": "code",
   "execution_count": 3,
   "id": "8da75412",
   "metadata": {},
   "outputs": [],
   "source": [
    "rf <- randomForest(Species~.,data=iris.tr,ntree=100)"
   ]
  },
  {
   "cell_type": "code",
   "execution_count": 4,
   "id": "8962a996",
   "metadata": {},
   "outputs": [],
   "source": [
    "x <- subset(iris.test, select=-Species)\n",
    "y <- iris.test$Species\n"
   ]
  },
  {
   "cell_type": "code",
   "execution_count": 5,
   "id": "000f9d36",
   "metadata": {},
   "outputs": [],
   "source": [
    "pred <- predict(rf,x)"
   ]
  },
  {
   "cell_type": "code",
   "execution_count": 6,
   "id": "0bf6fb59",
   "metadata": {},
   "outputs": [
    {
     "data": {
      "text/html": [
       "0.955555555555556"
      ],
      "text/latex": [
       "0.955555555555556"
      ],
      "text/markdown": [
       "0.955555555555556"
      ],
      "text/plain": [
       "[1] 0.9555556"
      ]
     },
     "metadata": {},
     "output_type": "display_data"
    },
    {
     "data": {
      "text/plain": [
       "            y\n",
       "pred         setosa versicolor virginica\n",
       "  setosa         15          0         0\n",
       "  versicolor      0         13         0\n",
       "  virginica       0          2        15"
      ]
     },
     "metadata": {},
     "output_type": "display_data"
    }
   ],
   "source": [
    "mean(pred==y)\n",
    "table(pred,y)"
   ]
  },
  {
   "cell_type": "code",
   "execution_count": 7,
   "id": "fe289d4d",
   "metadata": {},
   "outputs": [],
   "source": [
    "# 모델 저장하기 \n",
    "\n",
    "saveRDS(rf, \"../Data/randomForest_iris.rds\")"
   ]
  },
  {
   "cell_type": "code",
   "execution_count": null,
   "id": "f7119094",
   "metadata": {},
   "outputs": [],
   "source": []
  }
 ],
 "metadata": {
  "kernelspec": {
   "display_name": "R",
   "language": "R",
   "name": "ir"
  },
  "language_info": {
   "codemirror_mode": "r",
   "file_extension": ".r",
   "mimetype": "text/x-r-source",
   "name": "R",
   "pygments_lexer": "r",
   "version": "3.6.1"
  }
 },
 "nbformat": 4,
 "nbformat_minor": 5
}
