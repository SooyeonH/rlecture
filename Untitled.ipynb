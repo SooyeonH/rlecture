{
 "cells": [
  {
   "cell_type": "markdown",
   "id": "21e706b0",
   "metadata": {},
   "source": [
    "# 1880년 부터 2014년까지의 미국의 아기 이름을 정리해논 데이터셋"
   ]
  },
  {
   "cell_type": "code",
   "execution_count": 25,
   "id": "84c34fa8",
   "metadata": {},
   "outputs": [
    {
     "data": {
      "text/html": [
       "<table>\n",
       "<thead><tr><th scope=col>Name</th><th scope=col>Gender</th><th scope=col>Count</th><th scope=col>Year</th><th scope=col>Year.Rank</th></tr></thead>\n",
       "<tbody>\n",
       "\t<tr><td>Mary                  </td><td>F                     </td><td>7065                  </td><td>01/01/1880 12:00:00 AM</td><td>1                     </td></tr>\n",
       "\t<tr><td>Anna                  </td><td>F                     </td><td>2604                  </td><td>01/01/1880 12:00:00 AM</td><td>2                     </td></tr>\n",
       "\t<tr><td>Emma                  </td><td>F                     </td><td>2003                  </td><td>01/01/1880 12:00:00 AM</td><td>3                     </td></tr>\n",
       "\t<tr><td>Elizabeth             </td><td>F                     </td><td>1939                  </td><td>01/01/1880 12:00:00 AM</td><td>4                     </td></tr>\n",
       "\t<tr><td>Minnie                </td><td>F                     </td><td>1746                  </td><td>01/01/1880 12:00:00 AM</td><td>5                     </td></tr>\n",
       "\t<tr><td>Margaret              </td><td>F                     </td><td>1578                  </td><td>01/01/1880 12:00:00 AM</td><td>6                     </td></tr>\n",
       "</tbody>\n",
       "</table>\n"
      ],
      "text/latex": [
       "\\begin{tabular}{r|lllll}\n",
       " Name & Gender & Count & Year & Year.Rank\\\\\n",
       "\\hline\n",
       "\t Mary                   & F                      & 7065                   & 01/01/1880 12:00:00 AM & 1                     \\\\\n",
       "\t Anna                   & F                      & 2604                   & 01/01/1880 12:00:00 AM & 2                     \\\\\n",
       "\t Emma                   & F                      & 2003                   & 01/01/1880 12:00:00 AM & 3                     \\\\\n",
       "\t Elizabeth              & F                      & 1939                   & 01/01/1880 12:00:00 AM & 4                     \\\\\n",
       "\t Minnie                 & F                      & 1746                   & 01/01/1880 12:00:00 AM & 5                     \\\\\n",
       "\t Margaret               & F                      & 1578                   & 01/01/1880 12:00:00 AM & 6                     \\\\\n",
       "\\end{tabular}\n"
      ],
      "text/markdown": [
       "\n",
       "| Name | Gender | Count | Year | Year.Rank |\n",
       "|---|---|---|---|---|\n",
       "| Mary                   | F                      | 7065                   | 01/01/1880 12:00:00 AM | 1                      |\n",
       "| Anna                   | F                      | 2604                   | 01/01/1880 12:00:00 AM | 2                      |\n",
       "| Emma                   | F                      | 2003                   | 01/01/1880 12:00:00 AM | 3                      |\n",
       "| Elizabeth              | F                      | 1939                   | 01/01/1880 12:00:00 AM | 4                      |\n",
       "| Minnie                 | F                      | 1746                   | 01/01/1880 12:00:00 AM | 5                      |\n",
       "| Margaret               | F                      | 1578                   | 01/01/1880 12:00:00 AM | 6                      |\n",
       "\n"
      ],
      "text/plain": [
       "  Name      Gender Count Year                   Year.Rank\n",
       "1 Mary      F      7065  01/01/1880 12:00:00 AM 1        \n",
       "2 Anna      F      2604  01/01/1880 12:00:00 AM 2        \n",
       "3 Emma      F      2003  01/01/1880 12:00:00 AM 3        \n",
       "4 Elizabeth F      1939  01/01/1880 12:00:00 AM 4        \n",
       "5 Minnie    F      1746  01/01/1880 12:00:00 AM 5        \n",
       "6 Margaret  F      1578  01/01/1880 12:00:00 AM 6        "
      ]
     },
     "metadata": {},
     "output_type": "display_data"
    }
   ],
   "source": [
    "baby <- read.csv(\"../Data//R_Baby_Names_1880-2014.csv\", stringsAsFactors = F)\n",
    "#factor를 없애줘서 데이터 줄이기 \n",
    "head(baby)"
   ]
  },
  {
   "cell_type": "code",
   "execution_count": 26,
   "id": "08b3e08f",
   "metadata": {},
   "outputs": [
    {
     "data": {
      "text/html": [
       "<table>\n",
       "<thead><tr><th></th><th scope=col>Name</th><th scope=col>Gender</th><th scope=col>Count</th><th scope=col>Year</th><th scope=col>Year.Rank</th></tr></thead>\n",
       "<tbody>\n",
       "\t<tr><th scope=row>1825383</th><td>Zyel                  </td><td>M                     </td><td>5                     </td><td>01/01/2014 12:00:00 AM</td><td>13972                 </td></tr>\n",
       "\t<tr><th scope=row>1825384</th><td>Zykeem                </td><td>M                     </td><td>5                     </td><td>01/01/2014 12:00:00 AM</td><td>13973                 </td></tr>\n",
       "\t<tr><th scope=row>1825385</th><td>Zymeer                </td><td>M                     </td><td>5                     </td><td>01/01/2014 12:00:00 AM</td><td>13974                 </td></tr>\n",
       "\t<tr><th scope=row>1825386</th><td>Zymiere               </td><td>M                     </td><td>5                     </td><td>01/01/2014 12:00:00 AM</td><td>13975                 </td></tr>\n",
       "\t<tr><th scope=row>1825387</th><td>Zyran                 </td><td>M                     </td><td>5                     </td><td>01/01/2014 12:00:00 AM</td><td>13976                 </td></tr>\n",
       "\t<tr><th scope=row>1825388</th><td>Zyrin                 </td><td>M                     </td><td>5                     </td><td>01/01/2014 12:00:00 AM</td><td>13977                 </td></tr>\n",
       "</tbody>\n",
       "</table>\n"
      ],
      "text/latex": [
       "\\begin{tabular}{r|lllll}\n",
       "  & Name & Gender & Count & Year & Year.Rank\\\\\n",
       "\\hline\n",
       "\t1825383 & Zyel                   & M                      & 5                      & 01/01/2014 12:00:00 AM & 13972                 \\\\\n",
       "\t1825384 & Zykeem                 & M                      & 5                      & 01/01/2014 12:00:00 AM & 13973                 \\\\\n",
       "\t1825385 & Zymeer                 & M                      & 5                      & 01/01/2014 12:00:00 AM & 13974                 \\\\\n",
       "\t1825386 & Zymiere                & M                      & 5                      & 01/01/2014 12:00:00 AM & 13975                 \\\\\n",
       "\t1825387 & Zyran                  & M                      & 5                      & 01/01/2014 12:00:00 AM & 13976                 \\\\\n",
       "\t1825388 & Zyrin                  & M                      & 5                      & 01/01/2014 12:00:00 AM & 13977                 \\\\\n",
       "\\end{tabular}\n"
      ],
      "text/markdown": [
       "\n",
       "| <!--/--> | Name | Gender | Count | Year | Year.Rank |\n",
       "|---|---|---|---|---|---|\n",
       "| 1825383 | Zyel                   | M                      | 5                      | 01/01/2014 12:00:00 AM | 13972                  |\n",
       "| 1825384 | Zykeem                 | M                      | 5                      | 01/01/2014 12:00:00 AM | 13973                  |\n",
       "| 1825385 | Zymeer                 | M                      | 5                      | 01/01/2014 12:00:00 AM | 13974                  |\n",
       "| 1825386 | Zymiere                | M                      | 5                      | 01/01/2014 12:00:00 AM | 13975                  |\n",
       "| 1825387 | Zyran                  | M                      | 5                      | 01/01/2014 12:00:00 AM | 13976                  |\n",
       "| 1825388 | Zyrin                  | M                      | 5                      | 01/01/2014 12:00:00 AM | 13977                  |\n",
       "\n"
      ],
      "text/plain": [
       "        Name    Gender Count Year                   Year.Rank\n",
       "1825383 Zyel    M      5     01/01/2014 12:00:00 AM 13972    \n",
       "1825384 Zykeem  M      5     01/01/2014 12:00:00 AM 13973    \n",
       "1825385 Zymeer  M      5     01/01/2014 12:00:00 AM 13974    \n",
       "1825386 Zymiere M      5     01/01/2014 12:00:00 AM 13975    \n",
       "1825387 Zyran   M      5     01/01/2014 12:00:00 AM 13976    \n",
       "1825388 Zyrin   M      5     01/01/2014 12:00:00 AM 13977    "
      ]
     },
     "metadata": {},
     "output_type": "display_data"
    }
   ],
   "source": [
    "tail(baby)"
   ]
  },
  {
   "cell_type": "code",
   "execution_count": 27,
   "id": "4f221d03",
   "metadata": {},
   "outputs": [
    {
     "name": "stdout",
     "output_type": "stream",
     "text": [
      "'data.frame':\t1825388 obs. of  5 variables:\n",
      " $ Name     : chr  \"Mary\" \"Anna\" \"Emma\" \"Elizabeth\" ...\n",
      " $ Gender   : chr  \"F\" \"F\" \"F\" \"F\" ...\n",
      " $ Count    : int  7065 2604 2003 1939 1746 1578 1472 1414 1320 1288 ...\n",
      " $ Year     : chr  \"01/01/1880 12:00:00 AM\" \"01/01/1880 12:00:00 AM\" \"01/01/1880 12:00:00 AM\" \"01/01/1880 12:00:00 AM\" ...\n",
      " $ Year.Rank: int  1 2 3 4 5 6 7 8 9 10 ...\n"
     ]
    }
   ],
   "source": [
    "str(baby)"
   ]
  },
  {
   "cell_type": "code",
   "execution_count": 28,
   "id": "4b1df141",
   "metadata": {},
   "outputs": [
    {
     "name": "stdout",
     "output_type": "stream",
     "text": [
      "'data.frame':\t1825388 obs. of  5 variables:\n",
      " $ Name     : chr  \"Mary\" \"Anna\" \"Emma\" \"Elizabeth\" ...\n",
      " $ Gender   : Factor w/ 2 levels \"F\",\"M\": 1 1 1 1 1 1 1 1 1 1 ...\n",
      " $ Count    : int  7065 2604 2003 1939 1746 1578 1472 1414 1320 1288 ...\n",
      " $ Year     : chr  \"01/01/1880 12:00:00 AM\" \"01/01/1880 12:00:00 AM\" \"01/01/1880 12:00:00 AM\" \"01/01/1880 12:00:00 AM\" ...\n",
      " $ Year.Rank: int  1 2 3 4 5 6 7 8 9 10 ...\n"
     ]
    }
   ],
   "source": [
    "#gender 만 factor로 바꿔주기!\n",
    "\n",
    "baby$Gender <-as.factor(baby$Gender)\n",
    "\n",
    "str(baby)"
   ]
  },
  {
   "cell_type": "code",
   "execution_count": 29,
   "id": "4e8a9b96",
   "metadata": {},
   "outputs": [],
   "source": [
    "# baby의 year 부분 정리하기\n",
    "baby$Year<- substring(baby$Year,7,10)\n"
   ]
  },
  {
   "cell_type": "code",
   "execution_count": 30,
   "id": "9138a672",
   "metadata": {},
   "outputs": [
    {
     "data": {
      "text/html": [
       "<table>\n",
       "<thead><tr><th scope=col>Name</th><th scope=col>Gender</th><th scope=col>Count</th><th scope=col>Year</th><th scope=col>Year.Rank</th></tr></thead>\n",
       "<tbody>\n",
       "\t<tr><td>Mary     </td><td>F        </td><td>7065     </td><td>1880     </td><td>1        </td></tr>\n",
       "\t<tr><td>Anna     </td><td>F        </td><td>2604     </td><td>1880     </td><td>2        </td></tr>\n",
       "\t<tr><td>Emma     </td><td>F        </td><td>2003     </td><td>1880     </td><td>3        </td></tr>\n",
       "\t<tr><td>Elizabeth</td><td>F        </td><td>1939     </td><td>1880     </td><td>4        </td></tr>\n",
       "\t<tr><td>Minnie   </td><td>F        </td><td>1746     </td><td>1880     </td><td>5        </td></tr>\n",
       "\t<tr><td>Margaret </td><td>F        </td><td>1578     </td><td>1880     </td><td>6        </td></tr>\n",
       "</tbody>\n",
       "</table>\n"
      ],
      "text/latex": [
       "\\begin{tabular}{r|lllll}\n",
       " Name & Gender & Count & Year & Year.Rank\\\\\n",
       "\\hline\n",
       "\t Mary      & F         & 7065      & 1880      & 1        \\\\\n",
       "\t Anna      & F         & 2604      & 1880      & 2        \\\\\n",
       "\t Emma      & F         & 2003      & 1880      & 3        \\\\\n",
       "\t Elizabeth & F         & 1939      & 1880      & 4        \\\\\n",
       "\t Minnie    & F         & 1746      & 1880      & 5        \\\\\n",
       "\t Margaret  & F         & 1578      & 1880      & 6        \\\\\n",
       "\\end{tabular}\n"
      ],
      "text/markdown": [
       "\n",
       "| Name | Gender | Count | Year | Year.Rank |\n",
       "|---|---|---|---|---|\n",
       "| Mary      | F         | 7065      | 1880      | 1         |\n",
       "| Anna      | F         | 2604      | 1880      | 2         |\n",
       "| Emma      | F         | 2003      | 1880      | 3         |\n",
       "| Elizabeth | F         | 1939      | 1880      | 4         |\n",
       "| Minnie    | F         | 1746      | 1880      | 5         |\n",
       "| Margaret  | F         | 1578      | 1880      | 6         |\n",
       "\n"
      ],
      "text/plain": [
       "  Name      Gender Count Year Year.Rank\n",
       "1 Mary      F      7065  1880 1        \n",
       "2 Anna      F      2604  1880 2        \n",
       "3 Emma      F      2003  1880 3        \n",
       "4 Elizabeth F      1939  1880 4        \n",
       "5 Minnie    F      1746  1880 5        \n",
       "6 Margaret  F      1578  1880 6        "
      ]
     },
     "metadata": {},
     "output_type": "display_data"
    },
    {
     "data": {
      "text/html": [
       "<table>\n",
       "<thead><tr><th></th><th scope=col>Name</th><th scope=col>Gender</th><th scope=col>Count</th><th scope=col>Year</th><th scope=col>Year.Rank</th></tr></thead>\n",
       "<tbody>\n",
       "\t<tr><th scope=row>1825383</th><td>Zyel   </td><td>M      </td><td>5      </td><td>2014   </td><td>13972  </td></tr>\n",
       "\t<tr><th scope=row>1825384</th><td>Zykeem </td><td>M      </td><td>5      </td><td>2014   </td><td>13973  </td></tr>\n",
       "\t<tr><th scope=row>1825385</th><td>Zymeer </td><td>M      </td><td>5      </td><td>2014   </td><td>13974  </td></tr>\n",
       "\t<tr><th scope=row>1825386</th><td>Zymiere</td><td>M      </td><td>5      </td><td>2014   </td><td>13975  </td></tr>\n",
       "\t<tr><th scope=row>1825387</th><td>Zyran  </td><td>M      </td><td>5      </td><td>2014   </td><td>13976  </td></tr>\n",
       "\t<tr><th scope=row>1825388</th><td>Zyrin  </td><td>M      </td><td>5      </td><td>2014   </td><td>13977  </td></tr>\n",
       "</tbody>\n",
       "</table>\n"
      ],
      "text/latex": [
       "\\begin{tabular}{r|lllll}\n",
       "  & Name & Gender & Count & Year & Year.Rank\\\\\n",
       "\\hline\n",
       "\t1825383 & Zyel    & M       & 5       & 2014    & 13972  \\\\\n",
       "\t1825384 & Zykeem  & M       & 5       & 2014    & 13973  \\\\\n",
       "\t1825385 & Zymeer  & M       & 5       & 2014    & 13974  \\\\\n",
       "\t1825386 & Zymiere & M       & 5       & 2014    & 13975  \\\\\n",
       "\t1825387 & Zyran   & M       & 5       & 2014    & 13976  \\\\\n",
       "\t1825388 & Zyrin   & M       & 5       & 2014    & 13977  \\\\\n",
       "\\end{tabular}\n"
      ],
      "text/markdown": [
       "\n",
       "| <!--/--> | Name | Gender | Count | Year | Year.Rank |\n",
       "|---|---|---|---|---|---|\n",
       "| 1825383 | Zyel    | M       | 5       | 2014    | 13972   |\n",
       "| 1825384 | Zykeem  | M       | 5       | 2014    | 13973   |\n",
       "| 1825385 | Zymeer  | M       | 5       | 2014    | 13974   |\n",
       "| 1825386 | Zymiere | M       | 5       | 2014    | 13975   |\n",
       "| 1825387 | Zyran   | M       | 5       | 2014    | 13976   |\n",
       "| 1825388 | Zyrin   | M       | 5       | 2014    | 13977   |\n",
       "\n"
      ],
      "text/plain": [
       "        Name    Gender Count Year Year.Rank\n",
       "1825383 Zyel    M      5     2014 13972    \n",
       "1825384 Zykeem  M      5     2014 13973    \n",
       "1825385 Zymeer  M      5     2014 13974    \n",
       "1825386 Zymiere M      5     2014 13975    \n",
       "1825387 Zyran   M      5     2014 13976    \n",
       "1825388 Zyrin   M      5     2014 13977    "
      ]
     },
     "metadata": {},
     "output_type": "display_data"
    }
   ],
   "source": [
    "head(baby)\n",
    "tail(baby)"
   ]
  },
  {
   "cell_type": "code",
   "execution_count": 32,
   "id": "bdea7369",
   "metadata": {},
   "outputs": [],
   "source": [
    "# 저장하기\n",
    "\n",
    "write.csv(baby,\"../Data/baby.csv\", row.names=F)"
   ]
  },
  {
   "cell_type": "code",
   "execution_count": 34,
   "id": "ad49f171",
   "metadata": {},
   "outputs": [
    {
     "data": {
      "text/plain": [
       "     Name           Gender          Count             Year          \n",
       " Length:1825388     F:1081660   Min.   :    5.0   Length:1825388    \n",
       " Class :character   M: 743728   1st Qu.:    7.0   Class :character  \n",
       " Mode  :character               Median :   12.0   Mode  :character  \n",
       "                                Mean   :  184.7                     \n",
       "                                3rd Qu.:   32.0                     \n",
       "                                Max.   :99680.0                     \n",
       "   Year.Rank    \n",
       " Min.   :    1  \n",
       " 1st Qu.: 1790  \n",
       " Median : 4009  \n",
       " Mean   : 5301  \n",
       " 3rd Qu.: 7820  \n",
       " Max.   :20548  "
      ]
     },
     "metadata": {},
     "output_type": "display_data"
    }
   ],
   "source": [
    "summary(baby)"
   ]
  },
  {
   "cell_type": "code",
   "execution_count": 39,
   "id": "9943b74f",
   "metadata": {},
   "outputs": [
    {
     "data": {
      "text/html": [
       "1081660"
      ],
      "text/latex": [
       "1081660"
      ],
      "text/markdown": [
       "1081660"
      ],
      "text/plain": [
       "[1] 1081660"
      ]
     },
     "metadata": {},
     "output_type": "display_data"
    }
   ],
   "source": [
    "# baby에서 여자 아이만 Female이라는 dataset를 만들고 row 수 구하기\n",
    "\n",
    "Female<-subset(baby, Gender==\"F\")\n",
    "nrow(Female)\n"
   ]
  },
  {
   "cell_type": "code",
   "execution_count": 46,
   "id": "766c50e4",
   "metadata": {},
   "outputs": [
    {
     "data": {
      "text/html": [
       "64911"
      ],
      "text/latex": [
       "64911"
      ],
      "text/markdown": [
       "64911"
      ],
      "text/plain": [
       "[1] 64911"
      ]
     },
     "metadata": {},
     "output_type": "display_data"
    }
   ],
   "source": [
    "# 여자 아이 이름중 중복 제거하고 갯수 구하기\n",
    "length(unique(Female$Name))"
   ]
  },
  {
   "cell_type": "code",
   "execution_count": 47,
   "id": "5a8d8732",
   "metadata": {},
   "outputs": [
    {
     "data": {
      "text/html": [
       "<ol class=list-inline>\n",
       "\t<li>'Mary'</li>\n",
       "\t<li>'Anna'</li>\n",
       "\t<li>'Emma'</li>\n",
       "\t<li>'Elizabeth'</li>\n",
       "\t<li>'Minnie'</li>\n",
       "\t<li>'Margaret'</li>\n",
       "\t<li>'Ida'</li>\n",
       "\t<li>'Alice'</li>\n",
       "\t<li>'Bertha'</li>\n",
       "\t<li>'Sarah'</li>\n",
       "\t<li>'Annie'</li>\n",
       "\t<li>'Clara'</li>\n",
       "\t<li>'Ella'</li>\n",
       "\t<li>'Florence'</li>\n",
       "\t<li>'Cora'</li>\n",
       "\t<li>'Martha'</li>\n",
       "\t<li>'Laura'</li>\n",
       "\t<li>'Nellie'</li>\n",
       "\t<li>'Grace'</li>\n",
       "\t<li>'Carrie'</li>\n",
       "</ol>\n"
      ],
      "text/latex": [
       "\\begin{enumerate*}\n",
       "\\item 'Mary'\n",
       "\\item 'Anna'\n",
       "\\item 'Emma'\n",
       "\\item 'Elizabeth'\n",
       "\\item 'Minnie'\n",
       "\\item 'Margaret'\n",
       "\\item 'Ida'\n",
       "\\item 'Alice'\n",
       "\\item 'Bertha'\n",
       "\\item 'Sarah'\n",
       "\\item 'Annie'\n",
       "\\item 'Clara'\n",
       "\\item 'Ella'\n",
       "\\item 'Florence'\n",
       "\\item 'Cora'\n",
       "\\item 'Martha'\n",
       "\\item 'Laura'\n",
       "\\item 'Nellie'\n",
       "\\item 'Grace'\n",
       "\\item 'Carrie'\n",
       "\\end{enumerate*}\n"
      ],
      "text/markdown": [
       "1. 'Mary'\n",
       "2. 'Anna'\n",
       "3. 'Emma'\n",
       "4. 'Elizabeth'\n",
       "5. 'Minnie'\n",
       "6. 'Margaret'\n",
       "7. 'Ida'\n",
       "8. 'Alice'\n",
       "9. 'Bertha'\n",
       "10. 'Sarah'\n",
       "11. 'Annie'\n",
       "12. 'Clara'\n",
       "13. 'Ella'\n",
       "14. 'Florence'\n",
       "15. 'Cora'\n",
       "16. 'Martha'\n",
       "17. 'Laura'\n",
       "18. 'Nellie'\n",
       "19. 'Grace'\n",
       "20. 'Carrie'\n",
       "\n",
       "\n"
      ],
      "text/plain": [
       " [1] \"Mary\"      \"Anna\"      \"Emma\"      \"Elizabeth\" \"Minnie\"    \"Margaret\" \n",
       " [7] \"Ida\"       \"Alice\"     \"Bertha\"    \"Sarah\"     \"Annie\"     \"Clara\"    \n",
       "[13] \"Ella\"      \"Florence\"  \"Cora\"      \"Martha\"    \"Laura\"     \"Nellie\"   \n",
       "[19] \"Grace\"     \"Carrie\"   "
      ]
     },
     "metadata": {},
     "output_type": "display_data"
    }
   ],
   "source": [
    "# 유일한 여자 아이 이름 20개만 출력하기\n",
    "\n",
    "head(unique(Female$Name),20)"
   ]
  },
  {
   "cell_type": "markdown",
   "id": "5cbd0aaa",
   "metadata": {},
   "source": [
    " ---\n",
    "### 가장 많이 사용된 여자 아이 이름 10개 보여주기"
   ]
  },
  {
   "cell_type": "code",
   "execution_count": 59,
   "id": "d904d768",
   "metadata": {},
   "outputs": [
    {
     "data": {
      "text/html": [
       "<table>\n",
       "<thead><tr><th scope=col>Name</th><th scope=col>Count</th></tr></thead>\n",
       "<tbody>\n",
       "\t<tr><td>Mary     </td><td>4115282  </td></tr>\n",
       "\t<tr><td>Elizabeth</td><td>1601128  </td></tr>\n",
       "\t<tr><td>Patricia </td><td>1570567  </td></tr>\n",
       "\t<tr><td>Jennifer </td><td>1462742  </td></tr>\n",
       "\t<tr><td>Linda    </td><td>1450843  </td></tr>\n",
       "\t<tr><td>Barbara  </td><td>1432944  </td></tr>\n",
       "\t<tr><td>Margaret </td><td>1240006  </td></tr>\n",
       "\t<tr><td>Susan    </td><td>1120469  </td></tr>\n",
       "\t<tr><td>Dorothy  </td><td>1105680  </td></tr>\n",
       "\t<tr><td>Sarah    </td><td>1060643  </td></tr>\n",
       "</tbody>\n",
       "</table>\n"
      ],
      "text/latex": [
       "\\begin{tabular}{r|ll}\n",
       " Name & Count\\\\\n",
       "\\hline\n",
       "\t Mary      & 4115282  \\\\\n",
       "\t Elizabeth & 1601128  \\\\\n",
       "\t Patricia  & 1570567  \\\\\n",
       "\t Jennifer  & 1462742  \\\\\n",
       "\t Linda     & 1450843  \\\\\n",
       "\t Barbara   & 1432944  \\\\\n",
       "\t Margaret  & 1240006  \\\\\n",
       "\t Susan     & 1120469  \\\\\n",
       "\t Dorothy   & 1105680  \\\\\n",
       "\t Sarah     & 1060643  \\\\\n",
       "\\end{tabular}\n"
      ],
      "text/markdown": [
       "\n",
       "| Name | Count |\n",
       "|---|---|\n",
       "| Mary      | 4115282   |\n",
       "| Elizabeth | 1601128   |\n",
       "| Patricia  | 1570567   |\n",
       "| Jennifer  | 1462742   |\n",
       "| Linda     | 1450843   |\n",
       "| Barbara   | 1432944   |\n",
       "| Margaret  | 1240006   |\n",
       "| Susan     | 1120469   |\n",
       "| Dorothy   | 1105680   |\n",
       "| Sarah     | 1060643   |\n",
       "\n"
      ],
      "text/plain": [
       "   Name      Count  \n",
       "1  Mary      4115282\n",
       "2  Elizabeth 1601128\n",
       "3  Patricia  1570567\n",
       "4  Jennifer  1462742\n",
       "5  Linda     1450843\n",
       "6  Barbara   1432944\n",
       "7  Margaret  1240006\n",
       "8  Susan     1120469\n",
       "9  Dorothy   1105680\n",
       "10 Sarah     1060643"
      ]
     },
     "metadata": {},
     "output_type": "display_data"
    }
   ],
   "source": [
    "library(dplyr)\n",
    "\n",
    "head(arrange(aggregate(Count~Name,Female,sum),desc(Count)),10)"
   ]
  },
  {
   "cell_type": "code",
   "execution_count": 92,
   "id": "28050b6d",
   "metadata": {},
   "outputs": [
    {
     "data": {
      "text/html": [
       "743728"
      ],
      "text/latex": [
       "743728"
      ],
      "text/markdown": [
       "743728"
      ],
      "text/plain": [
       "[1] 743728"
      ]
     },
     "metadata": {},
     "output_type": "display_data"
    }
   ],
   "source": [
    "# baby 에서 남자 아이만 Male 이라는 데이터셋 만들고 row 수 구하기 \n",
    "Male <-subset(baby, Gender==\"M\")\n",
    "nrow(Male)"
   ]
  },
  {
   "cell_type": "code",
   "execution_count": 103,
   "id": "864f9c12",
   "metadata": {},
   "outputs": [
    {
     "data": {
      "text/html": [
       "<table>\n",
       "<thead><tr><th scope=col>Year</th><th scope=col>Count</th></tr></thead>\n",
       "<tbody>\n",
       "\t<tr><td>1880  </td><td> 90993</td></tr>\n",
       "\t<tr><td>1881  </td><td> 91954</td></tr>\n",
       "\t<tr><td>1882  </td><td>107850</td></tr>\n",
       "\t<tr><td>1883  </td><td>112321</td></tr>\n",
       "\t<tr><td>1884  </td><td>129022</td></tr>\n",
       "\t<tr><td>1885  </td><td>133055</td></tr>\n",
       "</tbody>\n",
       "</table>\n"
      ],
      "text/latex": [
       "\\begin{tabular}{r|ll}\n",
       " Year & Count\\\\\n",
       "\\hline\n",
       "\t 1880   &  90993\\\\\n",
       "\t 1881   &  91954\\\\\n",
       "\t 1882   & 107850\\\\\n",
       "\t 1883   & 112321\\\\\n",
       "\t 1884   & 129022\\\\\n",
       "\t 1885   & 133055\\\\\n",
       "\\end{tabular}\n"
      ],
      "text/markdown": [
       "\n",
       "| Year | Count |\n",
       "|---|---|\n",
       "| 1880   |  90993 |\n",
       "| 1881   |  91954 |\n",
       "| 1882   | 107850 |\n",
       "| 1883   | 112321 |\n",
       "| 1884   | 129022 |\n",
       "| 1885   | 133055 |\n",
       "\n"
      ],
      "text/plain": [
       "  Year Count \n",
       "1 1880  90993\n",
       "2 1881  91954\n",
       "3 1882 107850\n",
       "4 1883 112321\n",
       "5 1884 129022\n",
       "6 1885 133055"
      ]
     },
     "metadata": {},
     "output_type": "display_data"
    },
    {
     "name": "stdout",
     "output_type": "stream",
     "text": [
      "'data.frame':\t135 obs. of  2 variables:\n",
      " $ Year : chr  \"1880\" \"1881\" \"1882\" \"1883\" ...\n",
      " $ Count: int  90993 91954 107850 112321 129022 133055 144535 145982 178627 178366 ...\n"
     ]
    }
   ],
   "source": [
    "# Female 년도 별 합계 구하기\n",
    "\n",
    "Female_year<- aggregate(Count~Year,Female,sum)\n",
    "head(Female_year)\n",
    "str(Female_year)\n",
    "#Male 년도 별 합계 구하기\n",
    "Male_year<- aggregate(Count~Year,Male,sum)\n"
   ]
  },
  {
   "cell_type": "code",
   "execution_count": 104,
   "id": "96fc4cb6",
   "metadata": {},
   "outputs": [
    {
     "data": {
      "image/png": "[encoded data removed]",
      "text/plain": [
       "Plot with title “1880~2014년 인구분포현황”"
      ]
     },
     "metadata": {},
     "output_type": "display_data"
    }
   ],
   "source": [
    "par(family =\"AppleGothic\", bg='white')\n",
    "options(warn = -1)\n",
    "plot(Female_year,\n",
    "    type='l',\n",
    "     ylim=c(0,2500000),\n",
    "     col='orange',\n",
    "     lty = 1,\n",
    "\n",
    "    )\n",
    "lines(Male_year,\n",
    "      type='l',\n",
    "       pch=18,\n",
    "      lty=1,\n",
    "     col=\"blue\")\n",
    "\n",
    "# x축과 x축의 라벨을 설정\n",
    "axis(1, at=1:135, lab=Female_year$Year,cex.axis=0.3)\n",
    "\n",
    "# main title 지정\n",
    "title(main=\"1880~2014년 인구분포현황\",col.main=\"black\")\n",
    "\n",
    "\n",
    "# 범례\n",
    "legend(1980,1000000, #x,y 좌표값 (왼쪽위에 해당하는점)\n",
    "      c(\"Female\",\"Male\"),\n",
    "      col=c(\"orange\",\"blue\"),\n",
    "      lty=c(1,1),\n",
    "      cex=0.8  #기본 값이 1 \n",
    "       \n",
    "      )"
   ]
  },
  {
   "cell_type": "code",
   "execution_count": null,
   "id": "cfac12e8",
   "metadata": {},
   "outputs": [],
   "source": []
  }
 ],
 "metadata": {
  "kernelspec": {
   "display_name": "R",
   "language": "R",
   "name": "ir"
  },
  "language_info": {
   "codemirror_mode": "r",
   "file_extension": ".r",
   "mimetype": "text/x-r-source",
   "name": "R",
   "pygments_lexer": "r",
   "version": "3.6.1"
  }
 },
 "nbformat": 4,
 "nbformat_minor": 5
}
