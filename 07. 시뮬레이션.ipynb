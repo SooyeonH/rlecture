{
 "cells": [
  {
   "cell_type": "markdown",
   "id": "136ad635",
   "metadata": {},
   "source": [
    "# 몬테카를로 시뮬레이션\n"
   ]
  },
  {
   "cell_type": "markdown",
   "id": "013d65c2",
   "metadata": {},
   "source": [
    "### 동전의 앞면과 뒷면 시뮬레이션\n"
   ]
  },
  {
   "cell_type": "code",
   "execution_count": 20,
   "id": "55ba3dbc",
   "metadata": {},
   "outputs": [
    {
     "name": "stdout",
     "output_type": "stream",
     "text": [
      "[1] 0\n"
     ]
    }
   ],
   "source": [
    "x <- runif(1)\n",
    "if(x<= 1/2){\n",
    "    result=0 #앞면\n",
    "}else{\n",
    "    result=1 #뒷면\n",
    "    \n",
    "}\n",
    "print(result)"
   ]
  },
  {
   "cell_type": "code",
   "execution_count": 1,
   "id": "88dc8467",
   "metadata": {},
   "outputs": [],
   "source": [
    "coin <- function(n){\n",
    "  count1 = 0 # 앞면\n",
    "  count2 = 0 # 뒷면\n",
    "  for(i in 1:n){\n",
    "if(runif(1)<= 1/2){\n",
    "    count1 = count1+1 #앞면\n",
    "}else{\n",
    "    count2 = count2+1 #뒷면\n",
    "}\n",
    "  }  \n",
    "    cat(\"앞면 :\",count1, \"\\n\")  \n",
    "    cat(\"뒷면 :\",count2, \"\\n\")\n",
    "    cat(\"--------------\\n\")\n",
    "}"
   ]
  },
  {
   "cell_type": "code",
   "execution_count": 2,
   "id": "f22e219e",
   "metadata": {},
   "outputs": [
    {
     "name": "stdout",
     "output_type": "stream",
     "text": [
      "앞면 : 4 \n",
      "뒷면 : 6 \n",
      "--------------\n",
      "앞면 : 54 \n",
      "뒷면 : 46 \n",
      "--------------\n",
      "앞면 : 495 \n",
      "뒷면 : 505 \n",
      "--------------\n",
      "앞면 : 5058 \n",
      "뒷면 : 4942 \n",
      "--------------\n",
      "앞면 : 50017 \n",
      "뒷면 : 49983 \n",
      "--------------\n",
      "앞면 : 500245 \n",
      "뒷면 : 499755 \n",
      "--------------\n"
     ]
    }
   ],
   "source": [
    "coin(10)\n",
    "coin(100)\n",
    "coin(1000)\n",
    "coin(10000)\n",
    "coin(100000)\n",
    "coin(1000000)"
   ]
  },
  {
   "cell_type": "markdown",
   "id": "84fc378d",
   "metadata": {},
   "source": [
    "### 가위, 바위, 보 시뮬레이션\n"
   ]
  },
  {
   "cell_type": "code",
   "execution_count": 72,
   "id": "394a50c8",
   "metadata": {},
   "outputs": [
    {
     "data": {
      "text/html": [
       "0.708951573586091"
      ],
      "text/latex": [
       "0.708951573586091"
      ],
      "text/markdown": [
       "0.708951573586091"
      ],
      "text/plain": [
       "[1] 0.7089516"
      ]
     },
     "metadata": {},
     "output_type": "display_data"
    },
    {
     "data": {
      "text/html": [
       "2"
      ],
      "text/latex": [
       "2"
      ],
      "text/markdown": [
       "2"
      ],
      "text/plain": [
       "[1] 2"
      ]
     },
     "metadata": {},
     "output_type": "display_data"
    }
   ],
   "source": [
    "x <- runif(1)\n",
    "x\n",
    "if(x<=1/3){\n",
    "    result=0 #가위\n",
    " }else if(x<=2/3){\n",
    "    result=1 #바위\n",
    "}else{\n",
    "    result=2 #보\n",
    "}\n",
    "    result"
   ]
  },
  {
   "cell_type": "code",
   "execution_count": 77,
   "id": "75ede400",
   "metadata": {},
   "outputs": [],
   "source": [
    "rock <- function(n){\n",
    "    scissor =0 #가위\n",
    "       rock =0 #바위\n",
    "    paper =0 #보\n",
    "    \n",
    "  for(i in 1:n){\n",
    "        x<-runif(1)\n",
    "        if(x <= 1/3){\n",
    "    scissor =scissor+1 #가위\n",
    " }else if(x <= 2/3){\n",
    "    rock=rock+1 #바위\n",
    "}else{\n",
    "    paper=paper+1 #보\n",
    "}\n",
    "    }\n",
    "     cat(\"가위 :\",scissor,\"\\n\")\n",
    "     cat(\"바위 :\",rock,\"\\n\")\n",
    "     cat(\"보 :\",paper,\"\\n\")\n",
    "     cat(\"-----------\\n\")\n",
    "}"
   ]
  },
  {
   "cell_type": "code",
   "execution_count": 78,
   "id": "1768924f",
   "metadata": {},
   "outputs": [
    {
     "name": "stdout",
     "output_type": "stream",
     "text": [
      "가위 : 6 \n",
      "바위 : 4 \n",
      "보 : 0 \n",
      "-----------\n",
      "가위 : 23 \n",
      "바위 : 41 \n",
      "보 : 36 \n",
      "-----------\n",
      "가위 : 328 \n",
      "바위 : 345 \n",
      "보 : 327 \n",
      "-----------\n",
      "가위 : 3357 \n",
      "바위 : 3314 \n",
      "보 : 3329 \n",
      "-----------\n",
      "가위 : 33554 \n",
      "바위 : 33186 \n",
      "보 : 33260 \n",
      "-----------\n",
      "가위 : 334195 \n",
      "바위 : 332140 \n",
      "보 : 333665 \n",
      "-----------\n"
     ]
    }
   ],
   "source": [
    "rock(10)\n",
    "rock(100)\n",
    "rock(1000)\n",
    "rock(10000)\n",
    "rock(100000)\n",
    "rock(1000000)"
   ]
  },
  {
   "cell_type": "code",
   "execution_count": 83,
   "id": "6bc22278",
   "metadata": {},
   "outputs": [
    {
     "data": {
      "text/html": [
       "3"
      ],
      "text/latex": [
       "3"
      ],
      "text/markdown": [
       "3"
      ],
      "text/plain": [
       "[1] 3"
      ]
     },
     "metadata": {},
     "output_type": "display_data"
    }
   ],
   "source": [
    "trunc(runif(1)*3)+1 #이걸 1,2,3 으로 구분해서 할수도 있음"
   ]
  },
  {
   "cell_type": "markdown",
   "id": "16526b66",
   "metadata": {},
   "source": [
    "### 주사위 시뮬레이션"
   ]
  },
  {
   "cell_type": "code",
   "execution_count": 112,
   "id": "c6127450",
   "metadata": {},
   "outputs": [],
   "source": [
    "#지수 표기 없애는 방법 (실행할 것 위에서 한번이거 실행해주기!)\n",
    "options(scipen=100) "
   ]
  },
  {
   "cell_type": "code",
   "execution_count": 113,
   "id": "06c6bf60",
   "metadata": {},
   "outputs": [],
   "source": [
    "dice <- function(n){\n",
    "    result <- c(0,0,0,0,0,0) #rep(0,6)해도됨\n",
    "    \n",
    "    for(i in 1:n){\n",
    "        x <- trunc(runif(1)*6)+1\n",
    "       result[x]= result[x]+1\n",
    "    }\n",
    "        cat(\"Throw :\",n,\"\\n\")\n",
    "        for(i in 1:6){\n",
    "        cat(\"No \",i,\"=>\" ,result[i],\"\\n\")\n",
    "       }\n",
    "        cat(\"------------------\\n\")\n",
    "}"
   ]
  },
  {
   "cell_type": "code",
   "execution_count": 114,
   "id": "bd93b5f2",
   "metadata": {},
   "outputs": [
    {
     "name": "stdout",
     "output_type": "stream",
     "text": [
      "Throw : 10 \n",
      "No  1 => 2 \n",
      "No  2 => 1 \n",
      "No  3 => 1 \n",
      "No  4 => 3 \n",
      "No  5 => 1 \n",
      "No  6 => 2 \n",
      "------------------\n",
      "Throw : 100 \n",
      "No  1 => 18 \n",
      "No  2 => 14 \n",
      "No  3 => 26 \n",
      "No  4 => 12 \n",
      "No  5 => 14 \n",
      "No  6 => 16 \n",
      "------------------\n",
      "Throw : 1000 \n",
      "No  1 => 183 \n",
      "No  2 => 177 \n",
      "No  3 => 169 \n",
      "No  4 => 164 \n",
      "No  5 => 147 \n",
      "No  6 => 160 \n",
      "------------------\n",
      "Throw : 10000 \n",
      "No  1 => 1687 \n",
      "No  2 => 1585 \n",
      "No  3 => 1660 \n",
      "No  4 => 1600 \n",
      "No  5 => 1716 \n",
      "No  6 => 1752 \n",
      "------------------\n",
      "Throw : 100000 \n",
      "No  1 => 16418 \n",
      "No  2 => 16621 \n",
      "No  3 => 16867 \n",
      "No  4 => 16691 \n",
      "No  5 => 16684 \n",
      "No  6 => 16719 \n",
      "------------------\n",
      "Throw : 1000000 \n",
      "No  1 => 166200 \n",
      "No  2 => 166679 \n",
      "No  3 => 167398 \n",
      "No  4 => 166628 \n",
      "No  5 => 166696 \n",
      "No  6 => 166399 \n",
      "------------------\n"
     ]
    }
   ],
   "source": [
    "dice(10)\n",
    "dice(100)\n",
    "dice(1000)\n",
    "dice(10000)\n",
    "dice(100000)\n",
    "dice(1000000)"
   ]
  }
 ],
 "metadata": {
  "kernelspec": {
   "display_name": "R",
   "language": "R",
   "name": "ir"
  },
  "language_info": {
   "codemirror_mode": "r",
   "file_extension": ".r",
   "mimetype": "text/x-r-source",
   "name": "R",
   "pygments_lexer": "r",
   "version": "3.6.1"
  }
 },
 "nbformat": 4,
 "nbformat_minor": 5
}
