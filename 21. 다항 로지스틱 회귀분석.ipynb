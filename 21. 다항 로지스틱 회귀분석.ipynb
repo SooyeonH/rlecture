{
 "cells": [
  {
   "cell_type": "code",
   "execution_count": 24,
   "id": "bff995d3",
   "metadata": {},
   "outputs": [
    {
     "data": {
      "text/html": [
       "<table>\n",
       "<thead><tr><th scope=col>Sepal.Length</th><th scope=col>Sepal.Width</th><th scope=col>Petal.Length</th><th scope=col>Petal.Width</th><th scope=col>Species</th></tr></thead>\n",
       "<tbody>\n",
       "\t<tr><td>5.1   </td><td>3.5   </td><td>1.4   </td><td>0.2   </td><td>setosa</td></tr>\n",
       "\t<tr><td>4.9   </td><td>3.0   </td><td>1.4   </td><td>0.2   </td><td>setosa</td></tr>\n",
       "\t<tr><td>4.7   </td><td>3.2   </td><td>1.3   </td><td>0.2   </td><td>setosa</td></tr>\n",
       "\t<tr><td>4.6   </td><td>3.1   </td><td>1.5   </td><td>0.2   </td><td>setosa</td></tr>\n",
       "\t<tr><td>5.0   </td><td>3.6   </td><td>1.4   </td><td>0.2   </td><td>setosa</td></tr>\n",
       "\t<tr><td>5.4   </td><td>3.9   </td><td>1.7   </td><td>0.4   </td><td>setosa</td></tr>\n",
       "</tbody>\n",
       "</table>\n"
      ],
      "text/latex": [
       "\\begin{tabular}{r|lllll}\n",
       " Sepal.Length & Sepal.Width & Petal.Length & Petal.Width & Species\\\\\n",
       "\\hline\n",
       "\t 5.1    & 3.5    & 1.4    & 0.2    & setosa\\\\\n",
       "\t 4.9    & 3.0    & 1.4    & 0.2    & setosa\\\\\n",
       "\t 4.7    & 3.2    & 1.3    & 0.2    & setosa\\\\\n",
       "\t 4.6    & 3.1    & 1.5    & 0.2    & setosa\\\\\n",
       "\t 5.0    & 3.6    & 1.4    & 0.2    & setosa\\\\\n",
       "\t 5.4    & 3.9    & 1.7    & 0.4    & setosa\\\\\n",
       "\\end{tabular}\n"
      ],
      "text/markdown": [
       "\n",
       "| Sepal.Length | Sepal.Width | Petal.Length | Petal.Width | Species |\n",
       "|---|---|---|---|---|\n",
       "| 5.1    | 3.5    | 1.4    | 0.2    | setosa |\n",
       "| 4.9    | 3.0    | 1.4    | 0.2    | setosa |\n",
       "| 4.7    | 3.2    | 1.3    | 0.2    | setosa |\n",
       "| 4.6    | 3.1    | 1.5    | 0.2    | setosa |\n",
       "| 5.0    | 3.6    | 1.4    | 0.2    | setosa |\n",
       "| 5.4    | 3.9    | 1.7    | 0.4    | setosa |\n",
       "\n"
      ],
      "text/plain": [
       "  Sepal.Length Sepal.Width Petal.Length Petal.Width Species\n",
       "1 5.1          3.5         1.4          0.2         setosa \n",
       "2 4.9          3.0         1.4          0.2         setosa \n",
       "3 4.7          3.2         1.3          0.2         setosa \n",
       "4 4.6          3.1         1.5          0.2         setosa \n",
       "5 5.0          3.6         1.4          0.2         setosa \n",
       "6 5.4          3.9         1.7          0.4         setosa "
      ]
     },
     "metadata": {},
     "output_type": "display_data"
    }
   ],
   "source": [
    "library(nnet)\n",
    "library(e1071)\n",
    "library(caret)\n",
    "head(iris)"
   ]
  },
  {
   "cell_type": "code",
   "execution_count": 25,
   "id": "91acb506",
   "metadata": {},
   "outputs": [],
   "source": [
    "#sampling, 학습용, 검증용 만들기\n",
    "#iris$Sepal.Length<- scale(iris$Sepal.Length)\n",
    "#iris$Sepal.Width<- scale(iris$Sepal.Width)\n",
    "#iris$Petal.Length<- scale(iris$Petal.Length)\n",
    "#iris$Petal.Width<- scale(iris$Petal.Width)\n",
    "\n",
    "# sampling (데이터가 많으면 p=0.8 써주면 좋음 대부분 0.7 0.75 0.8 많이 씀)\n",
    "# 검증\n",
    "\n",
    "samp <- createDataPartition(iris$Species, p=0.7, list=F)\n",
    "\n",
    "#학습용 데이터 만들기\n",
    "data.tr <-iris[samp,]\n",
    "\n",
    "# 검증용 데이터 만들기\n",
    "data.test <-iris[-samp,]"
   ]
  },
  {
   "cell_type": "code",
   "execution_count": 26,
   "id": "25c83b01",
   "metadata": {},
   "outputs": [],
   "source": [
    "# 문제 및 정답 만들기 (x가 문제 y가 정답 )\n",
    "x <- subset(data.test,select=-Species)\n",
    "\n",
    "y <- data.test$Species"
   ]
  },
  {
   "cell_type": "code",
   "execution_count": 27,
   "id": "ca8224a8",
   "metadata": {},
   "outputs": [
    {
     "name": "stdout",
     "output_type": "stream",
     "text": [
      "# weights:  18 (10 variable)\n",
      "initial  value 115.354290 \n",
      "iter  10 value 11.930246\n",
      "iter  20 value 4.953356\n",
      "iter  30 value 4.849072\n",
      "iter  40 value 4.799735\n",
      "iter  50 value 4.786160\n",
      "iter  60 value 4.783872\n",
      "iter  70 value 4.782523\n",
      "iter  80 value 4.782455\n",
      "iter  90 value 4.782380\n",
      "iter 100 value 4.782358\n",
      "final  value 4.782358 \n",
      "stopped after 100 iterations\n"
     ]
    }
   ],
   "source": [
    "model <- multinom(Species ~., data=data.tr)"
   ]
  },
  {
   "cell_type": "code",
   "execution_count": 28,
   "id": "46f64c6b",
   "metadata": {},
   "outputs": [
    {
     "data": {
      "text/html": [
       "<ol class=list-inline>\n",
       "\t<li>setosa</li>\n",
       "\t<li>setosa</li>\n",
       "\t<li>setosa</li>\n",
       "\t<li>setosa</li>\n",
       "\t<li>setosa</li>\n",
       "\t<li>setosa</li>\n",
       "</ol>\n",
       "\n",
       "<details>\n",
       "\t<summary style=display:list-item;cursor:pointer>\n",
       "\t\t<strong>Levels</strong>:\n",
       "\t</summary>\n",
       "\t<ol class=list-inline>\n",
       "\t\t<li>'setosa'</li>\n",
       "\t\t<li>'versicolor'</li>\n",
       "\t\t<li>'virginica'</li>\n",
       "\t</ol>\n",
       "</details>"
      ],
      "text/latex": [
       "\\begin{enumerate*}\n",
       "\\item setosa\n",
       "\\item setosa\n",
       "\\item setosa\n",
       "\\item setosa\n",
       "\\item setosa\n",
       "\\item setosa\n",
       "\\end{enumerate*}\n",
       "\n",
       "\\emph{Levels}: \\begin{enumerate*}\n",
       "\\item 'setosa'\n",
       "\\item 'versicolor'\n",
       "\\item 'virginica'\n",
       "\\end{enumerate*}\n"
      ],
      "text/markdown": [
       "1. setosa\n",
       "2. setosa\n",
       "3. setosa\n",
       "4. setosa\n",
       "5. setosa\n",
       "6. setosa\n",
       "\n",
       "\n",
       "\n",
       "**Levels**: 1. 'setosa'\n",
       "2. 'versicolor'\n",
       "3. 'virginica'\n",
       "\n",
       "\n"
      ],
      "text/plain": [
       "[1] setosa setosa setosa setosa setosa setosa\n",
       "Levels: setosa versicolor virginica"
      ]
     },
     "metadata": {},
     "output_type": "display_data"
    }
   ],
   "source": [
    "# 검증\n",
    "pred <- predict(model,x, type=\"class\") # class : 분류된것(객관식) , raw: 주관식\n",
    "head(pred)"
   ]
  },
  {
   "cell_type": "code",
   "execution_count": 29,
   "id": "d0be277b",
   "metadata": {},
   "outputs": [
    {
     "data": {
      "text/html": [
       "0.977777777777778"
      ],
      "text/latex": [
       "0.977777777777778"
      ],
      "text/markdown": [
       "0.977777777777778"
      ],
      "text/plain": [
       "[1] 0.9777778"
      ]
     },
     "metadata": {},
     "output_type": "display_data"
    },
    {
     "data": {
      "text/plain": [
       "            y\n",
       "pred         setosa versicolor virginica\n",
       "  setosa         15          0         0\n",
       "  versicolor      0         14         0\n",
       "  virginica       0          1        15"
      ]
     },
     "metadata": {},
     "output_type": "display_data"
    }
   ],
   "source": [
    "# 예측율 및 오분류표\n",
    "mean(pred==y)\n",
    "table(pred,y)"
   ]
  },
  {
   "cell_type": "code",
   "execution_count": null,
   "id": "39edac50",
   "metadata": {},
   "outputs": [],
   "source": []
  }
 ],
 "metadata": {
  "kernelspec": {
   "display_name": "R",
   "language": "R",
   "name": "ir"
  },
  "language_info": {
   "codemirror_mode": "r",
   "file_extension": ".r",
   "mimetype": "text/x-r-source",
   "name": "R",
   "pygments_lexer": "r",
   "version": "3.6.1"
  }
 },
 "nbformat": 4,
 "nbformat_minor": 5
}
